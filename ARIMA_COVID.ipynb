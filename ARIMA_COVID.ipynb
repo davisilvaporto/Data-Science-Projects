{
  "nbformat": 4,
  "nbformat_minor": 0,
  "metadata": {
    "colab": {
      "name": "ARIMA_COVID.ipynb",
      "private_outputs": true,
      "provenance": [],
      "collapsed_sections": []
    },
    "kernelspec": {
      "name": "python3",
      "display_name": "Python 3"
    },
    "language_info": {
      "name": "python"
    }
  },
  "cells": [
    {
      "cell_type": "code",
      "metadata": {
        "id": "CMMBaXPwZr3M"
      },
      "source": [
        "import pandas as pd\n",
        "import numpy as np\n",
        "import matplotlib.pyplot as plt\n",
        "import seaborn as sns\n",
        "from datetime import date\n",
        "import warnings\n",
        "warnings.filterwarnings('ignore')"
      ],
      "execution_count": null,
      "outputs": []
    },
    {
      "cell_type": "code",
      "metadata": {
        "id": "PXSENTUfZ4YY"
      },
      "source": [
        "df = pd.read_csv('cases-brazil-states.csv')\n",
        "df.head()"
      ],
      "execution_count": null,
      "outputs": []
    },
    {
      "cell_type": "code",
      "metadata": {
        "id": "1caC9wQGaF3u"
      },
      "source": [
        "df = df[df['estado'] != 'TOTAL']\n",
        "df['data'] = pd.to_datetime(df['data']).dt.date \n",
        "df.head()"
      ],
      "execution_count": null,
      "outputs": []
    },
    {
      "cell_type": "code",
      "metadata": {
        "id": "FYzLejm0adqu"
      },
      "source": [
        "df_sp = df[df['estado']=='SP']\n",
        "df_sp.head()"
      ],
      "execution_count": null,
      "outputs": []
    },
    {
      "cell_type": "code",
      "metadata": {
        "id": "D2s0vjOqawJG"
      },
      "source": [
        "from statsmodels.tsa.seasonal import seasonal_decompose"
      ],
      "execution_count": null,
      "outputs": []
    },
    {
      "cell_type": "code",
      "metadata": {
        "id": "UDiu79WhbFJV"
      },
      "source": [
        "from statsmodels.tsa.seasonal import *"
      ],
      "execution_count": null,
      "outputs": []
    },
    {
      "cell_type": "code",
      "metadata": {
        "id": "17CjRgo1b4A9"
      },
      "source": [
        "resultados = seasonal_decompose(df_sp.novosObitos, freq= 7)"
      ],
      "execution_count": null,
      "outputs": []
    },
    {
      "cell_type": "code",
      "metadata": {
        "id": "Qr_lsB8WbOHm"
      },
      "source": [
        "resultados"
      ],
      "execution_count": null,
      "outputs": []
    },
    {
      "cell_type": "code",
      "metadata": {
        "id": "MNVP9zkvcVFN"
      },
      "source": [
        "df_sp.index = pd.to_datetime(df_sp.data)"
      ],
      "execution_count": null,
      "outputs": []
    },
    {
      "cell_type": "code",
      "metadata": {
        "id": "QNJmNvqxcgUl"
      },
      "source": [
        "def plotar(y1,y2,y3,cor1,cor2,cor3,label1,label2,label3):\n",
        "  plt.figure(figsize=(20,7))\n",
        "  plt.plot(y1,color= cor1, label=label1)\n",
        "  plt.plot(y2,color= cor2, label=label2)\n",
        "  plt.plot(y3,color= cor3, label=label3)\n",
        "  plt.legend(fontsize=18)"
      ],
      "execution_count": null,
      "outputs": []
    },
    {
      "cell_type": "code",
      "metadata": {
        "id": "3pp232yAdedy"
      },
      "source": [
        "plotar(resultados.observed, resultados.trend,resultados.seasonal, 'red', 'blue','green', 'Observado', 'Tendencia', 'Sazonalidade' )"
      ],
      "execution_count": null,
      "outputs": []
    },
    {
      "cell_type": "code",
      "metadata": {
        "id": "tXD73lrSeCS9"
      },
      "source": [
        "df_mg = df[df['estado']=='MG']\n",
        "df_rj = df[df['estado']=='RJ']\n",
        "df_mg.index = pd.to_datetime(df_mg.data)\n",
        "df_rj.index = pd.to_datetime(df_rj.data)\n"
      ],
      "execution_count": null,
      "outputs": []
    },
    {
      "cell_type": "code",
      "metadata": {
        "id": "x-TeIdW-e2Rb"
      },
      "source": [
        "resultados_mg = seasonal_decompose(df_mg.novosObitos, freq= 7)\n",
        "resultados_rj = seasonal_decompose(df_rj.novosObitos, freq= 7)"
      ],
      "execution_count": null,
      "outputs": []
    },
    {
      "cell_type": "code",
      "metadata": {
        "id": "uZ6fuNh_fDb2"
      },
      "source": [
        "plotar(resultados.trend, resultados_rj.trend, resultados_mg.trend, 'red', 'blue','green', 'SP', 'RJ', 'MG' )"
      ],
      "execution_count": null,
      "outputs": []
    },
    {
      "cell_type": "code",
      "metadata": {
        "id": "icfjqk52f0KN"
      },
      "source": [
        "plotar(resultados.seasonal, resultados_rj.seasonal, resultados_mg.seasonal, 'red', 'blue','green', 'SP', 'RJ', 'MG' )"
      ],
      "execution_count": null,
      "outputs": []
    },
    {
      "cell_type": "code",
      "metadata": {
        "id": "qpZ1GGNDgcpt"
      },
      "source": [
        "resultados = seasonal_decompose(df_sp.obitos_por_casos, freq=7)\n",
        "resultados_rj = seasonal_decompose(df_rj.obitos_por_casos, freq=7)\n",
        "resultados_mg = seasonal_decompose(df_mg.obitos_por_casos, freq=7)\n",
        "\n",
        "plotar(resultados.trend,resultados_rj.trend,resultados_mg.trend,'red','blue','green','SP','RJ','MG')"
      ],
      "execution_count": null,
      "outputs": []
    },
    {
      "cell_type": "code",
      "metadata": {
        "id": "XGXnQFgFhv9k"
      },
      "source": [
        "y = df_sp['Casos']\n",
        "y.head()"
      ],
      "execution_count": null,
      "outputs": []
    },
    {
      "cell_type": "code",
      "metadata": {
        "id": "Bfg0xZ5GoL4w"
      },
      "source": [
        "from statsmodels.tsa.stattools import adfuller\n",
        "adfuller(y.dropna())"
      ],
      "execution_count": null,
      "outputs": []
    },
    {
      "cell_type": "code",
      "metadata": {
        "id": "enX3J_PFokv2"
      },
      "source": [
        "print('p-value:', adfuller(y.dropna())[1])"
      ],
      "execution_count": null,
      "outputs": []
    },
    {
      "cell_type": "code",
      "metadata": {
        "id": "k3LbPYi0o2Zu"
      },
      "source": [
        "result = seasonal_decompose(df_sp.Casos, freq= 7)\n",
        "result\n"
      ],
      "execution_count": null,
      "outputs": []
    },
    {
      "cell_type": "code",
      "metadata": {
        "id": "hUSCDMDephjm"
      },
      "source": [
        "plotar(result.observed, result.trend,result.seasonal, 'red', 'blue','green', 'Observado', 'Tendencia', 'Sazonalidade' )"
      ],
      "execution_count": null,
      "outputs": []
    },
    {
      "cell_type": "code",
      "metadata": {
        "id": "GOrtX6qhpyMW"
      },
      "source": [
        "from statsmodels.graphics.tsaplots import plot_acf, plot_pacf"
      ],
      "execution_count": null,
      "outputs": []
    },
    {
      "cell_type": "code",
      "metadata": {
        "id": "8tXNj34AqJK2"
      },
      "source": [
        "def plotarACF(y1,y2,y3):\n",
        "  fig = plt.figure(figsize=(10,10))\n",
        "  ax1 = fig.add_subplot(311)\n",
        "  fig = plot_acf(y1, ax=ax1, title ='Original')\n",
        "  ax2 = fig.add_subplot(312)\n",
        "  fig = plot_acf(y2, ax=ax2, title ='1ª Diferenciação')\n",
        "  ax3 = fig.add_subplot(313)\n",
        "  fig = plot_acf(y3, ax=ax3, title ='2ª Diferenciação')\n"
      ],
      "execution_count": null,
      "outputs": []
    },
    {
      "cell_type": "code",
      "metadata": {
        "id": "q23zceM0r21O"
      },
      "source": [
        "plotarACF(y,y.diff().dropna(),y.diff().diff().dropna())"
      ],
      "execution_count": null,
      "outputs": []
    },
    {
      "cell_type": "code",
      "metadata": {
        "id": "R-l3nvnrsOrO"
      },
      "source": [
        "  plotar(y,y.diff(),y.diff().diff(), 'red', 'blue', 'green', 'Original', '1', '2')"
      ],
      "execution_count": null,
      "outputs": []
    },
    {
      "cell_type": "code",
      "metadata": {
        "id": "QYNE_tlYDZOJ"
      },
      "source": [
        "plot_pacf(y.diff().dropna(),lags=40);"
      ],
      "execution_count": null,
      "outputs": []
    },
    {
      "cell_type": "code",
      "metadata": {
        "id": "bgTUAA-6EGdV"
      },
      "source": [
        "plot_pacf(y.diff().diff().dropna(),lags=40);"
      ],
      "execution_count": null,
      "outputs": []
    },
    {
      "cell_type": "code",
      "metadata": {
        "id": "KXxjutH9vpgj"
      },
      "source": [
        "plot_pacf(y.diff().dropna(),lags=20);"
      ],
      "execution_count": null,
      "outputs": []
    },
    {
      "cell_type": "markdown",
      "metadata": {
        "id": "Xp3MQbV7ws_t"
      },
      "source": [
        "## ARIMA ( p,d =1,q =1) "
      ]
    },
    {
      "cell_type": "code",
      "metadata": {
        "id": "v2N4Zi0cwaoy"
      },
      "source": [
        "plot_acf(y.diff().dropna());"
      ],
      "execution_count": null,
      "outputs": []
    },
    {
      "cell_type": "code",
      "metadata": {
        "id": "JGzasPYSxEfa"
      },
      "source": [
        "plot_acf(y.diff().dropna());"
      ],
      "execution_count": null,
      "outputs": []
    },
    {
      "cell_type": "code",
      "metadata": {
        "id": "58fNkLVrxarC"
      },
      "source": [
        "from statsmodels.tsa.arima_model import ARIMA"
      ],
      "execution_count": null,
      "outputs": []
    },
    {
      "cell_type": "code",
      "metadata": {
        "id": "6ppZKpFNxuhK"
      },
      "source": [
        "modelo = ARIMA(y,order=(1,1,1))\n",
        "modelo_fit = modelo.fit(disp=0)\n",
        "print(modelo_fit.summary())"
      ],
      "execution_count": null,
      "outputs": []
    },
    {
      "cell_type": "code",
      "metadata": {
        "id": "ZRupVqcnyVTS"
      },
      "source": [
        "import itertools\n",
        "p= d =q = range(0,2)\n",
        "pdq =list(itertools.product(p,d,q))\n"
      ],
      "execution_count": null,
      "outputs": []
    },
    {
      "cell_type": "code",
      "metadata": {
        "id": "KNNEGfRT8tTD"
      },
      "source": [
        "pdq"
      ],
      "execution_count": null,
      "outputs": []
    },
    {
      "cell_type": "code",
      "metadata": {
        "id": "rhpXIks382Oq"
      },
      "source": [
        "seasonal_pdq = [(x[0], x[1], x[2], 7) for x in list(itertools.product(p,d,q))]"
      ],
      "execution_count": null,
      "outputs": []
    },
    {
      "cell_type": "code",
      "metadata": {
        "id": "xVbVPNVA9L8I"
      },
      "source": [
        "print('Exemplo de  combinação de parametros pára ARIMA Sazonal')\n",
        "print('SARIMAX: {} X {}'.format(pdq[0],seasonal_pdq[0]))\n",
        "print('SARIMAX: {} X {}'.format(pdq[0],seasonal_pdq[1]))\n",
        "print('SARIMAX: {} X {}'.format(pdq[0],seasonal_pdq[2]))"
      ],
      "execution_count": null,
      "outputs": []
    },
    {
      "cell_type": "code",
      "metadata": {
        "id": "NCMlDbbL946L"
      },
      "source": [
        " y= df_sp['Casos']\n",
        " y"
      ],
      "execution_count": null,
      "outputs": []
    },
    {
      "cell_type": "code",
      "metadata": {
        "id": "vVpG6u-N-Y_o"
      },
      "source": [
        "import statsmodels.api as sm\n",
        "aic_lista = []\n",
        "for param in pdq:\n",
        "    for param_seasonal in seasonal_pdq:\n",
        "      mod =sm.tsa.statespace.SARIMAX(y,order = param,seasonal_order=param_seasonal)\n",
        "      results = mod.fit()\n",
        "      aic_lista.append('ARIMA{} X {} - AIC{} '.format(param, param_seasonal,results.aic))"
      ],
      "execution_count": null,
      "outputs": []
    },
    {
      "cell_type": "code",
      "metadata": {
        "id": "Ve2Wn8ns-geo"
      },
      "source": [
        "aic_lista"
      ],
      "execution_count": null,
      "outputs": []
    },
    {
      "cell_type": "code",
      "metadata": {
        "id": "Wl2-nOzMAKUB"
      },
      "source": [
        "mod = sm.tsa.statespace.SARIMAX(y, order = (1,1,1), seasonal_order=(1,1,1,7))\n",
        "results = mod.fit()"
      ],
      "execution_count": null,
      "outputs": []
    },
    {
      "cell_type": "code",
      "metadata": {
        "id": "p3jaGN68A-hn"
      },
      "source": [
        "results.plot_diagnostics(figsize = (16,8))\n",
        "plt.show()"
      ],
      "execution_count": null,
      "outputs": []
    },
    {
      "cell_type": "code",
      "metadata": {
        "id": "4b6KuqU-BK9I"
      },
      "source": [
        "pred = results.get_prediction(start= pd.to_datetime('2020-07-01'), dynamic=False)\n",
        "pred_ic = pred.conf_int()\n",
        "pred_ic"
      ],
      "execution_count": null,
      "outputs": []
    },
    {
      "cell_type": "code",
      "metadata": {
        "id": "WDkHtbYE0VYE"
      },
      "source": [
        "ax = y['2020':].plot(label='Observado')\n",
        "pred.predicted_mean.plot(ax=ax, label = 'Previsao', color ='r', alpha = 0.7,figsize=(14,7))\n",
        "ax.fill_between(pred_ic.index,pred_ic.iloc[:,0] , pred_ic.iloc[:,1], color='k', alpha = 0.1 )\n",
        "ax.set_xlabel('Data')\n",
        "ax.set_ylabel('Casos de COVID-19')\n",
        "plt.legend()\n",
        "plt.show()"
      ],
      "execution_count": null,
      "outputs": []
    },
    {
      "cell_type": "code",
      "metadata": {
        "id": "ODDWKFjj1fZN"
      },
      "source": [
        "pred_uc = results.get_prediction(steps = 150 )\n",
        "pred_ic = pred_uc.conf_int()\n",
        "ax = y.plot(label='Observado', figsize=(14,7))\n",
        "pred_uc.predicted_mean.plot(ax=ax, label = 'Previsto')\n",
        "ax.fill_between(pred_ic.index,pred_ic.iloc[:,0] , pred_ic.iloc[:,1], color='k', alpha = 0.25 )\n",
        "ax.set_xlabel('Data')\n",
        "ax.set_ylabel('Casos de COVID-19')\n",
        "plt.show()"
      ],
      "execution_count": null,
      "outputs": []
    },
    {
      "cell_type": "code",
      "metadata": {
        "id": "XOvPz-N34Qeg"
      },
      "source": [
        "df_att = pd.read_csv('cases-brazil-states-att.csv')\n",
        "df_att = df_att[df_att['state'] == 'SP' ]\n",
        "df_att = df_att.rename(columns = {'date': 'data'})\n",
        "df_att.head()\n"
      ],
      "execution_count": null,
      "outputs": []
    },
    {
      "cell_type": "code",
      "metadata": {
        "id": "8tvyR9zr5pJw"
      },
      "source": [
        "df_att['data'] = pd.to_datetime(df_att['data']).dt.date\n",
        "df_att.index = df_att['data']\n",
        "df_att.head()"
      ],
      "execution_count": null,
      "outputs": []
    },
    {
      "cell_type": "code",
      "metadata": {
        "id": "Qf3_5TWu6E-k"
      },
      "source": [
        "x = df_att['totalCases']\n",
        "plt.figure(figsize = (20,7))\n",
        "fig = plt.plot(x,label = 'Correto')\n",
        "ax = y.plot(label = 'Observado')\n",
        "pred_uc.predicted_mean.plot(ax=ax, label = 'Previsto')\n",
        "ax.fill_between(pred_ic.index, pred_ic.iloc[:0], pred_ic.iloc[:,1], color = 'k', alpha = 0.25)"
      ],
      "execution_count": null,
      "outputs": []
    },
    {
      "cell_type": "code",
      "metadata": {
        "id": "mz8lu-zJ7aeF"
      },
      "source": [
        ""
      ],
      "execution_count": null,
      "outputs": []
    },
    {
      "cell_type": "code",
      "metadata": {
        "id": "z_VyNGLD6bqp"
      },
      "source": [
        ""
      ],
      "execution_count": null,
      "outputs": []
    }
  ]
}