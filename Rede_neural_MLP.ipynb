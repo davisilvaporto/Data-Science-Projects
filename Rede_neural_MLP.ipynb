{
  "nbformat": 4,
  "nbformat_minor": 0,
  "metadata": {
    "colab": {
      "name": "Rede_neural_MLP.ipynb",
      "provenance": [],
      "collapsed_sections": []
    },
    "kernelspec": {
      "name": "python3",
      "display_name": "Python 3"
    },
    "language_info": {
      "name": "python"
    }
  },
  "cells": [
    {
      "cell_type": "code",
      "metadata": {
        "colab": {
          "base_uri": "https://localhost:8080/"
        },
        "id": "Q5NFLM_jlMG8",
        "outputId": "addedcf5-0820-46f3-e2d3-8d7c0d1910bb"
      },
      "source": [
        "!wget https://archive.ics.uci.edu/ml/machine-learning-databases/00422/wifi_localization.txt"
      ],
      "execution_count": 1,
      "outputs": [
        {
          "output_type": "stream",
          "text": [
            "--2021-08-11 00:21:07--  https://archive.ics.uci.edu/ml/machine-learning-databases/00422/wifi_localization.txt\n",
            "Resolving archive.ics.uci.edu (archive.ics.uci.edu)... 128.195.10.252\n",
            "Connecting to archive.ics.uci.edu (archive.ics.uci.edu)|128.195.10.252|:443... connected.\n",
            "HTTP request sent, awaiting response... 200 OK\n",
            "Length: 62000 (61K) [application/x-httpd-php]\n",
            "Saving to: ‘wifi_localization.txt’\n",
            "\n",
            "wifi_localization.t 100%[===================>]  60.55K  --.-KB/s    in 0.1s    \n",
            "\n",
            "2021-08-11 00:21:07 (467 KB/s) - ‘wifi_localization.txt’ saved [62000/62000]\n",
            "\n"
          ],
          "name": "stdout"
        }
      ]
    },
    {
      "cell_type": "code",
      "metadata": {
        "colab": {
          "base_uri": "https://localhost:8080/"
        },
        "id": "xYW0lPSylY-a",
        "outputId": "4abba1e9-3fdc-48d4-c97a-e3c1019a7e0f"
      },
      "source": [
        "!ls"
      ],
      "execution_count": 2,
      "outputs": [
        {
          "output_type": "stream",
          "text": [
            "sample_data  wifi_localization.txt\n"
          ],
          "name": "stdout"
        }
      ]
    },
    {
      "cell_type": "code",
      "metadata": {
        "colab": {
          "base_uri": "https://localhost:8080/"
        },
        "id": "FjZbXFOYlbDo",
        "outputId": "e01701d7-bdde-4788-a205-b0a159edcdb1"
      },
      "source": [
        "!head wifi_localization.txt"
      ],
      "execution_count": 3,
      "outputs": [
        {
          "output_type": "stream",
          "text": [
            "-64\t-56\t-61\t-66\t-71\t-82\t-81\t1\r\n",
            "-68\t-57\t-61\t-65\t-71\t-85\t-85\t1\r\n",
            "-63\t-60\t-60\t-67\t-76\t-85\t-84\t1\r\n",
            "-61\t-60\t-68\t-62\t-77\t-90\t-80\t1\r\n",
            "-63\t-65\t-60\t-63\t-77\t-81\t-87\t1\r\n",
            "-64\t-55\t-63\t-66\t-76\t-88\t-83\t1\r\n",
            "-65\t-61\t-65\t-67\t-69\t-87\t-84\t1\r\n",
            "-61\t-63\t-58\t-66\t-74\t-87\t-82\t1\r\n",
            "-65\t-60\t-59\t-63\t-76\t-86\t-82\t1\r\n",
            "-62\t-60\t-66\t-68\t-80\t-86\t-91\t1\r\n"
          ],
          "name": "stdout"
        }
      ]
    },
    {
      "cell_type": "code",
      "metadata": {
        "id": "mxT5EYeHlhdA"
      },
      "source": [
        "import pandas as pd\n",
        "import numpy as np"
      ],
      "execution_count": 4,
      "outputs": []
    },
    {
      "cell_type": "code",
      "metadata": {
        "id": "8hKlObk3lo5p"
      },
      "source": [
        "data = np.loadtxt('wifi_localization.txt')"
      ],
      "execution_count": 5,
      "outputs": []
    },
    {
      "cell_type": "code",
      "metadata": {
        "colab": {
          "base_uri": "https://localhost:8080/"
        },
        "id": "i5aEMw49lw0o",
        "outputId": "dd8c103c-0a85-4f43-acbc-9da5c8c08630"
      },
      "source": [
        "data"
      ],
      "execution_count": 6,
      "outputs": [
        {
          "output_type": "execute_result",
          "data": {
            "text/plain": [
              "array([[-64., -56., -61., ..., -82., -81.,   1.],\n",
              "       [-68., -57., -61., ..., -85., -85.,   1.],\n",
              "       [-63., -60., -60., ..., -85., -84.,   1.],\n",
              "       ...,\n",
              "       [-62., -59., -46., ..., -87., -88.,   4.],\n",
              "       [-62., -58., -52., ..., -90., -85.,   4.],\n",
              "       [-59., -50., -45., ..., -88., -87.,   4.]])"
            ]
          },
          "metadata": {
            "tags": []
          },
          "execution_count": 6
        }
      ]
    },
    {
      "cell_type": "code",
      "metadata": {
        "colab": {
          "base_uri": "https://localhost:8080/"
        },
        "id": "TAFwmFgblyLY",
        "outputId": "18df1c22-7478-490d-f555-1a78c5696e5f"
      },
      "source": [
        "cols_wifi_nomes = [f'wifi_{i+1}' for i in range(7)]\n",
        "cols_wifi_nomes"
      ],
      "execution_count": 7,
      "outputs": [
        {
          "output_type": "execute_result",
          "data": {
            "text/plain": [
              "['wifi_1', 'wifi_2', 'wifi_3', 'wifi_4', 'wifi_5', 'wifi_6', 'wifi_7']"
            ]
          },
          "metadata": {
            "tags": []
          },
          "execution_count": 7
        }
      ]
    },
    {
      "cell_type": "code",
      "metadata": {
        "id": "8bO204X5mQhB"
      },
      "source": [
        "data_df = pd.DataFrame(data, columns= cols_wifi_nomes+['sala'])"
      ],
      "execution_count": 9,
      "outputs": []
    },
    {
      "cell_type": "code",
      "metadata": {
        "colab": {
          "base_uri": "https://localhost:8080/",
          "height": 419
        },
        "id": "zZnfrJ5sma2n",
        "outputId": "d47dedb5-b1ca-4488-c749-d246724039e9"
      },
      "source": [
        "data_df"
      ],
      "execution_count": 10,
      "outputs": [
        {
          "output_type": "execute_result",
          "data": {
            "text/html": [
              "<div>\n",
              "<style scoped>\n",
              "    .dataframe tbody tr th:only-of-type {\n",
              "        vertical-align: middle;\n",
              "    }\n",
              "\n",
              "    .dataframe tbody tr th {\n",
              "        vertical-align: top;\n",
              "    }\n",
              "\n",
              "    .dataframe thead th {\n",
              "        text-align: right;\n",
              "    }\n",
              "</style>\n",
              "<table border=\"1\" class=\"dataframe\">\n",
              "  <thead>\n",
              "    <tr style=\"text-align: right;\">\n",
              "      <th></th>\n",
              "      <th>wifi_1</th>\n",
              "      <th>wifi_2</th>\n",
              "      <th>wifi_3</th>\n",
              "      <th>wifi_4</th>\n",
              "      <th>wifi_5</th>\n",
              "      <th>wifi_6</th>\n",
              "      <th>wifi_7</th>\n",
              "      <th>sala</th>\n",
              "    </tr>\n",
              "  </thead>\n",
              "  <tbody>\n",
              "    <tr>\n",
              "      <th>0</th>\n",
              "      <td>-64.0</td>\n",
              "      <td>-56.0</td>\n",
              "      <td>-61.0</td>\n",
              "      <td>-66.0</td>\n",
              "      <td>-71.0</td>\n",
              "      <td>-82.0</td>\n",
              "      <td>-81.0</td>\n",
              "      <td>1.0</td>\n",
              "    </tr>\n",
              "    <tr>\n",
              "      <th>1</th>\n",
              "      <td>-68.0</td>\n",
              "      <td>-57.0</td>\n",
              "      <td>-61.0</td>\n",
              "      <td>-65.0</td>\n",
              "      <td>-71.0</td>\n",
              "      <td>-85.0</td>\n",
              "      <td>-85.0</td>\n",
              "      <td>1.0</td>\n",
              "    </tr>\n",
              "    <tr>\n",
              "      <th>2</th>\n",
              "      <td>-63.0</td>\n",
              "      <td>-60.0</td>\n",
              "      <td>-60.0</td>\n",
              "      <td>-67.0</td>\n",
              "      <td>-76.0</td>\n",
              "      <td>-85.0</td>\n",
              "      <td>-84.0</td>\n",
              "      <td>1.0</td>\n",
              "    </tr>\n",
              "    <tr>\n",
              "      <th>3</th>\n",
              "      <td>-61.0</td>\n",
              "      <td>-60.0</td>\n",
              "      <td>-68.0</td>\n",
              "      <td>-62.0</td>\n",
              "      <td>-77.0</td>\n",
              "      <td>-90.0</td>\n",
              "      <td>-80.0</td>\n",
              "      <td>1.0</td>\n",
              "    </tr>\n",
              "    <tr>\n",
              "      <th>4</th>\n",
              "      <td>-63.0</td>\n",
              "      <td>-65.0</td>\n",
              "      <td>-60.0</td>\n",
              "      <td>-63.0</td>\n",
              "      <td>-77.0</td>\n",
              "      <td>-81.0</td>\n",
              "      <td>-87.0</td>\n",
              "      <td>1.0</td>\n",
              "    </tr>\n",
              "    <tr>\n",
              "      <th>...</th>\n",
              "      <td>...</td>\n",
              "      <td>...</td>\n",
              "      <td>...</td>\n",
              "      <td>...</td>\n",
              "      <td>...</td>\n",
              "      <td>...</td>\n",
              "      <td>...</td>\n",
              "      <td>...</td>\n",
              "    </tr>\n",
              "    <tr>\n",
              "      <th>1995</th>\n",
              "      <td>-59.0</td>\n",
              "      <td>-59.0</td>\n",
              "      <td>-48.0</td>\n",
              "      <td>-66.0</td>\n",
              "      <td>-50.0</td>\n",
              "      <td>-86.0</td>\n",
              "      <td>-94.0</td>\n",
              "      <td>4.0</td>\n",
              "    </tr>\n",
              "    <tr>\n",
              "      <th>1996</th>\n",
              "      <td>-59.0</td>\n",
              "      <td>-56.0</td>\n",
              "      <td>-50.0</td>\n",
              "      <td>-62.0</td>\n",
              "      <td>-47.0</td>\n",
              "      <td>-87.0</td>\n",
              "      <td>-90.0</td>\n",
              "      <td>4.0</td>\n",
              "    </tr>\n",
              "    <tr>\n",
              "      <th>1997</th>\n",
              "      <td>-62.0</td>\n",
              "      <td>-59.0</td>\n",
              "      <td>-46.0</td>\n",
              "      <td>-65.0</td>\n",
              "      <td>-45.0</td>\n",
              "      <td>-87.0</td>\n",
              "      <td>-88.0</td>\n",
              "      <td>4.0</td>\n",
              "    </tr>\n",
              "    <tr>\n",
              "      <th>1998</th>\n",
              "      <td>-62.0</td>\n",
              "      <td>-58.0</td>\n",
              "      <td>-52.0</td>\n",
              "      <td>-61.0</td>\n",
              "      <td>-41.0</td>\n",
              "      <td>-90.0</td>\n",
              "      <td>-85.0</td>\n",
              "      <td>4.0</td>\n",
              "    </tr>\n",
              "    <tr>\n",
              "      <th>1999</th>\n",
              "      <td>-59.0</td>\n",
              "      <td>-50.0</td>\n",
              "      <td>-45.0</td>\n",
              "      <td>-60.0</td>\n",
              "      <td>-45.0</td>\n",
              "      <td>-88.0</td>\n",
              "      <td>-87.0</td>\n",
              "      <td>4.0</td>\n",
              "    </tr>\n",
              "  </tbody>\n",
              "</table>\n",
              "<p>2000 rows × 8 columns</p>\n",
              "</div>"
            ],
            "text/plain": [
              "      wifi_1  wifi_2  wifi_3  wifi_4  wifi_5  wifi_6  wifi_7  sala\n",
              "0      -64.0   -56.0   -61.0   -66.0   -71.0   -82.0   -81.0   1.0\n",
              "1      -68.0   -57.0   -61.0   -65.0   -71.0   -85.0   -85.0   1.0\n",
              "2      -63.0   -60.0   -60.0   -67.0   -76.0   -85.0   -84.0   1.0\n",
              "3      -61.0   -60.0   -68.0   -62.0   -77.0   -90.0   -80.0   1.0\n",
              "4      -63.0   -65.0   -60.0   -63.0   -77.0   -81.0   -87.0   1.0\n",
              "...      ...     ...     ...     ...     ...     ...     ...   ...\n",
              "1995   -59.0   -59.0   -48.0   -66.0   -50.0   -86.0   -94.0   4.0\n",
              "1996   -59.0   -56.0   -50.0   -62.0   -47.0   -87.0   -90.0   4.0\n",
              "1997   -62.0   -59.0   -46.0   -65.0   -45.0   -87.0   -88.0   4.0\n",
              "1998   -62.0   -58.0   -52.0   -61.0   -41.0   -90.0   -85.0   4.0\n",
              "1999   -59.0   -50.0   -45.0   -60.0   -45.0   -88.0   -87.0   4.0\n",
              "\n",
              "[2000 rows x 8 columns]"
            ]
          },
          "metadata": {
            "tags": []
          },
          "execution_count": 10
        }
      ]
    },
    {
      "cell_type": "code",
      "metadata": {
        "id": "UHh-8zL4mf0k"
      },
      "source": [
        "data_df['sala'] = data_df['sala'].astype('object')"
      ],
      "execution_count": 11,
      "outputs": []
    },
    {
      "cell_type": "code",
      "metadata": {
        "colab": {
          "base_uri": "https://localhost:8080/"
        },
        "id": "OcynA46Omqan",
        "outputId": "cd32d755-7f54-47bd-ceeb-25771e34da63"
      },
      "source": [
        "data_df.dtypes"
      ],
      "execution_count": 12,
      "outputs": [
        {
          "output_type": "execute_result",
          "data": {
            "text/plain": [
              "wifi_1    float64\n",
              "wifi_2    float64\n",
              "wifi_3    float64\n",
              "wifi_4    float64\n",
              "wifi_5    float64\n",
              "wifi_6    float64\n",
              "wifi_7    float64\n",
              "sala       object\n",
              "dtype: object"
            ]
          },
          "metadata": {
            "tags": []
          },
          "execution_count": 12
        }
      ]
    },
    {
      "cell_type": "code",
      "metadata": {
        "colab": {
          "base_uri": "https://localhost:8080/",
          "height": 419
        },
        "id": "HVyEYG_Rmu5w",
        "outputId": "dda22752-9d78-47e0-843f-37547af7ed10"
      },
      "source": [
        "data_df"
      ],
      "execution_count": 13,
      "outputs": [
        {
          "output_type": "execute_result",
          "data": {
            "text/html": [
              "<div>\n",
              "<style scoped>\n",
              "    .dataframe tbody tr th:only-of-type {\n",
              "        vertical-align: middle;\n",
              "    }\n",
              "\n",
              "    .dataframe tbody tr th {\n",
              "        vertical-align: top;\n",
              "    }\n",
              "\n",
              "    .dataframe thead th {\n",
              "        text-align: right;\n",
              "    }\n",
              "</style>\n",
              "<table border=\"1\" class=\"dataframe\">\n",
              "  <thead>\n",
              "    <tr style=\"text-align: right;\">\n",
              "      <th></th>\n",
              "      <th>wifi_1</th>\n",
              "      <th>wifi_2</th>\n",
              "      <th>wifi_3</th>\n",
              "      <th>wifi_4</th>\n",
              "      <th>wifi_5</th>\n",
              "      <th>wifi_6</th>\n",
              "      <th>wifi_7</th>\n",
              "      <th>sala</th>\n",
              "    </tr>\n",
              "  </thead>\n",
              "  <tbody>\n",
              "    <tr>\n",
              "      <th>0</th>\n",
              "      <td>-64.0</td>\n",
              "      <td>-56.0</td>\n",
              "      <td>-61.0</td>\n",
              "      <td>-66.0</td>\n",
              "      <td>-71.0</td>\n",
              "      <td>-82.0</td>\n",
              "      <td>-81.0</td>\n",
              "      <td>1</td>\n",
              "    </tr>\n",
              "    <tr>\n",
              "      <th>1</th>\n",
              "      <td>-68.0</td>\n",
              "      <td>-57.0</td>\n",
              "      <td>-61.0</td>\n",
              "      <td>-65.0</td>\n",
              "      <td>-71.0</td>\n",
              "      <td>-85.0</td>\n",
              "      <td>-85.0</td>\n",
              "      <td>1</td>\n",
              "    </tr>\n",
              "    <tr>\n",
              "      <th>2</th>\n",
              "      <td>-63.0</td>\n",
              "      <td>-60.0</td>\n",
              "      <td>-60.0</td>\n",
              "      <td>-67.0</td>\n",
              "      <td>-76.0</td>\n",
              "      <td>-85.0</td>\n",
              "      <td>-84.0</td>\n",
              "      <td>1</td>\n",
              "    </tr>\n",
              "    <tr>\n",
              "      <th>3</th>\n",
              "      <td>-61.0</td>\n",
              "      <td>-60.0</td>\n",
              "      <td>-68.0</td>\n",
              "      <td>-62.0</td>\n",
              "      <td>-77.0</td>\n",
              "      <td>-90.0</td>\n",
              "      <td>-80.0</td>\n",
              "      <td>1</td>\n",
              "    </tr>\n",
              "    <tr>\n",
              "      <th>4</th>\n",
              "      <td>-63.0</td>\n",
              "      <td>-65.0</td>\n",
              "      <td>-60.0</td>\n",
              "      <td>-63.0</td>\n",
              "      <td>-77.0</td>\n",
              "      <td>-81.0</td>\n",
              "      <td>-87.0</td>\n",
              "      <td>1</td>\n",
              "    </tr>\n",
              "    <tr>\n",
              "      <th>...</th>\n",
              "      <td>...</td>\n",
              "      <td>...</td>\n",
              "      <td>...</td>\n",
              "      <td>...</td>\n",
              "      <td>...</td>\n",
              "      <td>...</td>\n",
              "      <td>...</td>\n",
              "      <td>...</td>\n",
              "    </tr>\n",
              "    <tr>\n",
              "      <th>1995</th>\n",
              "      <td>-59.0</td>\n",
              "      <td>-59.0</td>\n",
              "      <td>-48.0</td>\n",
              "      <td>-66.0</td>\n",
              "      <td>-50.0</td>\n",
              "      <td>-86.0</td>\n",
              "      <td>-94.0</td>\n",
              "      <td>4</td>\n",
              "    </tr>\n",
              "    <tr>\n",
              "      <th>1996</th>\n",
              "      <td>-59.0</td>\n",
              "      <td>-56.0</td>\n",
              "      <td>-50.0</td>\n",
              "      <td>-62.0</td>\n",
              "      <td>-47.0</td>\n",
              "      <td>-87.0</td>\n",
              "      <td>-90.0</td>\n",
              "      <td>4</td>\n",
              "    </tr>\n",
              "    <tr>\n",
              "      <th>1997</th>\n",
              "      <td>-62.0</td>\n",
              "      <td>-59.0</td>\n",
              "      <td>-46.0</td>\n",
              "      <td>-65.0</td>\n",
              "      <td>-45.0</td>\n",
              "      <td>-87.0</td>\n",
              "      <td>-88.0</td>\n",
              "      <td>4</td>\n",
              "    </tr>\n",
              "    <tr>\n",
              "      <th>1998</th>\n",
              "      <td>-62.0</td>\n",
              "      <td>-58.0</td>\n",
              "      <td>-52.0</td>\n",
              "      <td>-61.0</td>\n",
              "      <td>-41.0</td>\n",
              "      <td>-90.0</td>\n",
              "      <td>-85.0</td>\n",
              "      <td>4</td>\n",
              "    </tr>\n",
              "    <tr>\n",
              "      <th>1999</th>\n",
              "      <td>-59.0</td>\n",
              "      <td>-50.0</td>\n",
              "      <td>-45.0</td>\n",
              "      <td>-60.0</td>\n",
              "      <td>-45.0</td>\n",
              "      <td>-88.0</td>\n",
              "      <td>-87.0</td>\n",
              "      <td>4</td>\n",
              "    </tr>\n",
              "  </tbody>\n",
              "</table>\n",
              "<p>2000 rows × 8 columns</p>\n",
              "</div>"
            ],
            "text/plain": [
              "      wifi_1  wifi_2  wifi_3  wifi_4  wifi_5  wifi_6  wifi_7 sala\n",
              "0      -64.0   -56.0   -61.0   -66.0   -71.0   -82.0   -81.0    1\n",
              "1      -68.0   -57.0   -61.0   -65.0   -71.0   -85.0   -85.0    1\n",
              "2      -63.0   -60.0   -60.0   -67.0   -76.0   -85.0   -84.0    1\n",
              "3      -61.0   -60.0   -68.0   -62.0   -77.0   -90.0   -80.0    1\n",
              "4      -63.0   -65.0   -60.0   -63.0   -77.0   -81.0   -87.0    1\n",
              "...      ...     ...     ...     ...     ...     ...     ...  ...\n",
              "1995   -59.0   -59.0   -48.0   -66.0   -50.0   -86.0   -94.0    4\n",
              "1996   -59.0   -56.0   -50.0   -62.0   -47.0   -87.0   -90.0    4\n",
              "1997   -62.0   -59.0   -46.0   -65.0   -45.0   -87.0   -88.0    4\n",
              "1998   -62.0   -58.0   -52.0   -61.0   -41.0   -90.0   -85.0    4\n",
              "1999   -59.0   -50.0   -45.0   -60.0   -45.0   -88.0   -87.0    4\n",
              "\n",
              "[2000 rows x 8 columns]"
            ]
          },
          "metadata": {
            "tags": []
          },
          "execution_count": 13
        }
      ]
    },
    {
      "cell_type": "code",
      "metadata": {
        "colab": {
          "base_uri": "https://localhost:8080/",
          "height": 297
        },
        "id": "N5pZq2t1mxeg",
        "outputId": "fadf2f88-905a-4e0d-ae69-6f64ba7b8a6a"
      },
      "source": [
        "data_df.describe()"
      ],
      "execution_count": 14,
      "outputs": [
        {
          "output_type": "execute_result",
          "data": {
            "text/html": [
              "<div>\n",
              "<style scoped>\n",
              "    .dataframe tbody tr th:only-of-type {\n",
              "        vertical-align: middle;\n",
              "    }\n",
              "\n",
              "    .dataframe tbody tr th {\n",
              "        vertical-align: top;\n",
              "    }\n",
              "\n",
              "    .dataframe thead th {\n",
              "        text-align: right;\n",
              "    }\n",
              "</style>\n",
              "<table border=\"1\" class=\"dataframe\">\n",
              "  <thead>\n",
              "    <tr style=\"text-align: right;\">\n",
              "      <th></th>\n",
              "      <th>wifi_1</th>\n",
              "      <th>wifi_2</th>\n",
              "      <th>wifi_3</th>\n",
              "      <th>wifi_4</th>\n",
              "      <th>wifi_5</th>\n",
              "      <th>wifi_6</th>\n",
              "      <th>wifi_7</th>\n",
              "    </tr>\n",
              "  </thead>\n",
              "  <tbody>\n",
              "    <tr>\n",
              "      <th>count</th>\n",
              "      <td>2000.000000</td>\n",
              "      <td>2000.000000</td>\n",
              "      <td>2000.000000</td>\n",
              "      <td>2000.000000</td>\n",
              "      <td>2000.000000</td>\n",
              "      <td>2000.000000</td>\n",
              "      <td>2000.000000</td>\n",
              "    </tr>\n",
              "    <tr>\n",
              "      <th>mean</th>\n",
              "      <td>-52.330500</td>\n",
              "      <td>-55.623500</td>\n",
              "      <td>-54.964000</td>\n",
              "      <td>-53.566500</td>\n",
              "      <td>-62.640500</td>\n",
              "      <td>-80.985000</td>\n",
              "      <td>-81.726500</td>\n",
              "    </tr>\n",
              "    <tr>\n",
              "      <th>std</th>\n",
              "      <td>11.321677</td>\n",
              "      <td>3.417688</td>\n",
              "      <td>5.316186</td>\n",
              "      <td>11.471982</td>\n",
              "      <td>9.105093</td>\n",
              "      <td>6.516672</td>\n",
              "      <td>6.519812</td>\n",
              "    </tr>\n",
              "    <tr>\n",
              "      <th>min</th>\n",
              "      <td>-74.000000</td>\n",
              "      <td>-74.000000</td>\n",
              "      <td>-73.000000</td>\n",
              "      <td>-77.000000</td>\n",
              "      <td>-89.000000</td>\n",
              "      <td>-97.000000</td>\n",
              "      <td>-98.000000</td>\n",
              "    </tr>\n",
              "    <tr>\n",
              "      <th>25%</th>\n",
              "      <td>-61.000000</td>\n",
              "      <td>-58.000000</td>\n",
              "      <td>-58.000000</td>\n",
              "      <td>-63.000000</td>\n",
              "      <td>-69.000000</td>\n",
              "      <td>-86.000000</td>\n",
              "      <td>-87.000000</td>\n",
              "    </tr>\n",
              "    <tr>\n",
              "      <th>50%</th>\n",
              "      <td>-55.000000</td>\n",
              "      <td>-56.000000</td>\n",
              "      <td>-55.000000</td>\n",
              "      <td>-56.000000</td>\n",
              "      <td>-64.000000</td>\n",
              "      <td>-82.000000</td>\n",
              "      <td>-83.000000</td>\n",
              "    </tr>\n",
              "    <tr>\n",
              "      <th>75%</th>\n",
              "      <td>-46.000000</td>\n",
              "      <td>-53.000000</td>\n",
              "      <td>-51.000000</td>\n",
              "      <td>-46.000000</td>\n",
              "      <td>-56.000000</td>\n",
              "      <td>-77.000000</td>\n",
              "      <td>-78.000000</td>\n",
              "    </tr>\n",
              "    <tr>\n",
              "      <th>max</th>\n",
              "      <td>-10.000000</td>\n",
              "      <td>-45.000000</td>\n",
              "      <td>-40.000000</td>\n",
              "      <td>-11.000000</td>\n",
              "      <td>-36.000000</td>\n",
              "      <td>-61.000000</td>\n",
              "      <td>-63.000000</td>\n",
              "    </tr>\n",
              "  </tbody>\n",
              "</table>\n",
              "</div>"
            ],
            "text/plain": [
              "            wifi_1       wifi_2  ...       wifi_6       wifi_7\n",
              "count  2000.000000  2000.000000  ...  2000.000000  2000.000000\n",
              "mean    -52.330500   -55.623500  ...   -80.985000   -81.726500\n",
              "std      11.321677     3.417688  ...     6.516672     6.519812\n",
              "min     -74.000000   -74.000000  ...   -97.000000   -98.000000\n",
              "25%     -61.000000   -58.000000  ...   -86.000000   -87.000000\n",
              "50%     -55.000000   -56.000000  ...   -82.000000   -83.000000\n",
              "75%     -46.000000   -53.000000  ...   -77.000000   -78.000000\n",
              "max     -10.000000   -45.000000  ...   -61.000000   -63.000000\n",
              "\n",
              "[8 rows x 7 columns]"
            ]
          },
          "metadata": {
            "tags": []
          },
          "execution_count": 14
        }
      ]
    },
    {
      "cell_type": "code",
      "metadata": {
        "colab": {
          "base_uri": "https://localhost:8080/"
        },
        "id": "nEZjQEP1m1B4",
        "outputId": "8d7a481c-bc7d-4a8e-8511-84d128b647b4"
      },
      "source": [
        "data_df.sala.value_counts()"
      ],
      "execution_count": 15,
      "outputs": [
        {
          "output_type": "execute_result",
          "data": {
            "text/plain": [
              "4.0    500\n",
              "3.0    500\n",
              "2.0    500\n",
              "1.0    500\n",
              "Name: sala, dtype: int64"
            ]
          },
          "metadata": {
            "tags": []
          },
          "execution_count": 15
        }
      ]
    },
    {
      "cell_type": "code",
      "metadata": {
        "colab": {
          "base_uri": "https://localhost:8080/"
        },
        "id": "LmaQ0djOm_Nb",
        "outputId": "f184f721-f0dd-43d9-c8b7-ad7c3ede6ea4"
      },
      "source": [
        "X = data[:,:-1]\n",
        "print(X.shape)\n",
        "print(X)"
      ],
      "execution_count": 16,
      "outputs": [
        {
          "output_type": "stream",
          "text": [
            "(2000, 7)\n",
            "[[-64. -56. -61. ... -71. -82. -81.]\n",
            " [-68. -57. -61. ... -71. -85. -85.]\n",
            " [-63. -60. -60. ... -76. -85. -84.]\n",
            " ...\n",
            " [-62. -59. -46. ... -45. -87. -88.]\n",
            " [-62. -58. -52. ... -41. -90. -85.]\n",
            " [-59. -50. -45. ... -45. -88. -87.]]\n"
          ],
          "name": "stdout"
        }
      ]
    },
    {
      "cell_type": "code",
      "metadata": {
        "colab": {
          "base_uri": "https://localhost:8080/"
        },
        "id": "XjBTahkqnMFf",
        "outputId": "dc4bafb8-a90b-4fd7-d64b-c9e27e58d7f4"
      },
      "source": [
        "y = data[:,-1]\n",
        "y = y.astype('int8')\n",
        "print(y.shape)\n",
        "print(y.dtype)\n",
        "print(y)\n"
      ],
      "execution_count": 17,
      "outputs": [
        {
          "output_type": "stream",
          "text": [
            "(2000,)\n",
            "int8\n",
            "[1 1 1 ... 4 4 4]\n"
          ],
          "name": "stdout"
        }
      ]
    },
    {
      "cell_type": "code",
      "metadata": {
        "id": "W2erL4Rgnmn_"
      },
      "source": [
        "from sklearn.model_selection import train_test_split"
      ],
      "execution_count": 66,
      "outputs": []
    },
    {
      "cell_type": "code",
      "metadata": {
        "id": "NtaXReC1nx6f"
      },
      "source": [
        "X_train, X_test, y_train, y_test = train_test_split(X, y, test_size=0.2, random_state=27)"
      ],
      "execution_count": 67,
      "outputs": []
    },
    {
      "cell_type": "code",
      "metadata": {
        "colab": {
          "base_uri": "https://localhost:8080/"
        },
        "id": "tWCEJ4RioJmI",
        "outputId": "6307a820-598a-420c-8811-7134773e2def"
      },
      "source": [
        "print(X_train.shape)\n",
        "print(X_test.shape)\n",
        "print(y_train.shape)\n",
        "print(y_test.shape)"
      ],
      "execution_count": 68,
      "outputs": [
        {
          "output_type": "stream",
          "text": [
            "(1600, 7)\n",
            "(400, 7)\n",
            "(1600,)\n",
            "(400,)\n"
          ],
          "name": "stdout"
        }
      ]
    },
    {
      "cell_type": "code",
      "metadata": {
        "colab": {
          "base_uri": "https://localhost:8080/",
          "height": 297
        },
        "id": "-elpagItomD-",
        "outputId": "c6aa0dd0-5bd5-47d3-ad2e-e2eba9adf23f"
      },
      "source": [
        "pd.DataFrame(X_train, columns= cols_wifi_nomes).describe()"
      ],
      "execution_count": 69,
      "outputs": [
        {
          "output_type": "execute_result",
          "data": {
            "text/html": [
              "<div>\n",
              "<style scoped>\n",
              "    .dataframe tbody tr th:only-of-type {\n",
              "        vertical-align: middle;\n",
              "    }\n",
              "\n",
              "    .dataframe tbody tr th {\n",
              "        vertical-align: top;\n",
              "    }\n",
              "\n",
              "    .dataframe thead th {\n",
              "        text-align: right;\n",
              "    }\n",
              "</style>\n",
              "<table border=\"1\" class=\"dataframe\">\n",
              "  <thead>\n",
              "    <tr style=\"text-align: right;\">\n",
              "      <th></th>\n",
              "      <th>wifi_1</th>\n",
              "      <th>wifi_2</th>\n",
              "      <th>wifi_3</th>\n",
              "      <th>wifi_4</th>\n",
              "      <th>wifi_5</th>\n",
              "      <th>wifi_6</th>\n",
              "      <th>wifi_7</th>\n",
              "    </tr>\n",
              "  </thead>\n",
              "  <tbody>\n",
              "    <tr>\n",
              "      <th>count</th>\n",
              "      <td>1600.000000</td>\n",
              "      <td>1600.000000</td>\n",
              "      <td>1600.000000</td>\n",
              "      <td>1600.000000</td>\n",
              "      <td>1600.000000</td>\n",
              "      <td>1600.000000</td>\n",
              "      <td>1600.000000</td>\n",
              "    </tr>\n",
              "    <tr>\n",
              "      <th>mean</th>\n",
              "      <td>-52.087500</td>\n",
              "      <td>-55.640625</td>\n",
              "      <td>-54.865625</td>\n",
              "      <td>-53.274375</td>\n",
              "      <td>-62.476250</td>\n",
              "      <td>-80.982500</td>\n",
              "      <td>-81.711875</td>\n",
              "    </tr>\n",
              "    <tr>\n",
              "      <th>std</th>\n",
              "      <td>11.335294</td>\n",
              "      <td>3.444218</td>\n",
              "      <td>5.342088</td>\n",
              "      <td>11.512197</td>\n",
              "      <td>9.192851</td>\n",
              "      <td>6.550211</td>\n",
              "      <td>6.583859</td>\n",
              "    </tr>\n",
              "    <tr>\n",
              "      <th>min</th>\n",
              "      <td>-73.000000</td>\n",
              "      <td>-74.000000</td>\n",
              "      <td>-73.000000</td>\n",
              "      <td>-77.000000</td>\n",
              "      <td>-86.000000</td>\n",
              "      <td>-97.000000</td>\n",
              "      <td>-98.000000</td>\n",
              "    </tr>\n",
              "    <tr>\n",
              "      <th>25%</th>\n",
              "      <td>-61.000000</td>\n",
              "      <td>-58.000000</td>\n",
              "      <td>-58.000000</td>\n",
              "      <td>-62.000000</td>\n",
              "      <td>-69.000000</td>\n",
              "      <td>-86.000000</td>\n",
              "      <td>-87.000000</td>\n",
              "    </tr>\n",
              "    <tr>\n",
              "      <th>50%</th>\n",
              "      <td>-53.000000</td>\n",
              "      <td>-56.000000</td>\n",
              "      <td>-55.000000</td>\n",
              "      <td>-55.000000</td>\n",
              "      <td>-64.000000</td>\n",
              "      <td>-82.000000</td>\n",
              "      <td>-83.000000</td>\n",
              "    </tr>\n",
              "    <tr>\n",
              "      <th>75%</th>\n",
              "      <td>-45.750000</td>\n",
              "      <td>-53.000000</td>\n",
              "      <td>-51.000000</td>\n",
              "      <td>-45.000000</td>\n",
              "      <td>-55.750000</td>\n",
              "      <td>-77.000000</td>\n",
              "      <td>-78.000000</td>\n",
              "    </tr>\n",
              "    <tr>\n",
              "      <th>max</th>\n",
              "      <td>-10.000000</td>\n",
              "      <td>-45.000000</td>\n",
              "      <td>-40.000000</td>\n",
              "      <td>-11.000000</td>\n",
              "      <td>-36.000000</td>\n",
              "      <td>-62.000000</td>\n",
              "      <td>-63.000000</td>\n",
              "    </tr>\n",
              "  </tbody>\n",
              "</table>\n",
              "</div>"
            ],
            "text/plain": [
              "            wifi_1       wifi_2  ...       wifi_6       wifi_7\n",
              "count  1600.000000  1600.000000  ...  1600.000000  1600.000000\n",
              "mean    -52.087500   -55.640625  ...   -80.982500   -81.711875\n",
              "std      11.335294     3.444218  ...     6.550211     6.583859\n",
              "min     -73.000000   -74.000000  ...   -97.000000   -98.000000\n",
              "25%     -61.000000   -58.000000  ...   -86.000000   -87.000000\n",
              "50%     -53.000000   -56.000000  ...   -82.000000   -83.000000\n",
              "75%     -45.750000   -53.000000  ...   -77.000000   -78.000000\n",
              "max     -10.000000   -45.000000  ...   -62.000000   -63.000000\n",
              "\n",
              "[8 rows x 7 columns]"
            ]
          },
          "metadata": {
            "tags": []
          },
          "execution_count": 69
        }
      ]
    },
    {
      "cell_type": "code",
      "metadata": {
        "colab": {
          "base_uri": "https://localhost:8080/"
        },
        "id": "uHnN2qI7oxJH",
        "outputId": "aba6968a-1e55-41ab-b4da-86263f2cbfd3"
      },
      "source": [
        "pd.DataFrame(y_test, columns=['y'])['y'].value_counts()"
      ],
      "execution_count": 70,
      "outputs": [
        {
          "output_type": "execute_result",
          "data": {
            "text/plain": [
              "1    128\n",
              "2     92\n",
              "4     91\n",
              "3     89\n",
              "Name: y, dtype: int64"
            ]
          },
          "metadata": {
            "tags": []
          },
          "execution_count": 70
        }
      ]
    },
    {
      "cell_type": "code",
      "metadata": {
        "id": "hagLAk20pCB7"
      },
      "source": [
        "from sklearn.preprocessing import MinMaxScaler"
      ],
      "execution_count": 71,
      "outputs": []
    },
    {
      "cell_type": "code",
      "metadata": {
        "id": "h9IKL4dcpRWQ"
      },
      "source": [
        "X_train = MinMaxScaler().fit_transform(X_train)\n",
        "X_test = MinMaxScaler().fit_transform(X_test)"
      ],
      "execution_count": 72,
      "outputs": []
    },
    {
      "cell_type": "code",
      "metadata": {
        "colab": {
          "base_uri": "https://localhost:8080/",
          "height": 297
        },
        "id": "YdTnVXoCpqj4",
        "outputId": "27ea6ab2-6869-4896-e057-c3b58f574a32"
      },
      "source": [
        "pd.DataFrame(X_train, columns= cols_wifi_nomes).describe()"
      ],
      "execution_count": 73,
      "outputs": [
        {
          "output_type": "execute_result",
          "data": {
            "text/html": [
              "<div>\n",
              "<style scoped>\n",
              "    .dataframe tbody tr th:only-of-type {\n",
              "        vertical-align: middle;\n",
              "    }\n",
              "\n",
              "    .dataframe tbody tr th {\n",
              "        vertical-align: top;\n",
              "    }\n",
              "\n",
              "    .dataframe thead th {\n",
              "        text-align: right;\n",
              "    }\n",
              "</style>\n",
              "<table border=\"1\" class=\"dataframe\">\n",
              "  <thead>\n",
              "    <tr style=\"text-align: right;\">\n",
              "      <th></th>\n",
              "      <th>wifi_1</th>\n",
              "      <th>wifi_2</th>\n",
              "      <th>wifi_3</th>\n",
              "      <th>wifi_4</th>\n",
              "      <th>wifi_5</th>\n",
              "      <th>wifi_6</th>\n",
              "      <th>wifi_7</th>\n",
              "    </tr>\n",
              "  </thead>\n",
              "  <tbody>\n",
              "    <tr>\n",
              "      <th>count</th>\n",
              "      <td>1600.000000</td>\n",
              "      <td>1600.000000</td>\n",
              "      <td>1600.000000</td>\n",
              "      <td>1600.000000</td>\n",
              "      <td>1600.000000</td>\n",
              "      <td>1600.000000</td>\n",
              "      <td>1600.000000</td>\n",
              "    </tr>\n",
              "    <tr>\n",
              "      <th>mean</th>\n",
              "      <td>0.331944</td>\n",
              "      <td>0.633082</td>\n",
              "      <td>0.549527</td>\n",
              "      <td>0.359479</td>\n",
              "      <td>0.470475</td>\n",
              "      <td>0.457643</td>\n",
              "      <td>0.465375</td>\n",
              "    </tr>\n",
              "    <tr>\n",
              "      <th>std</th>\n",
              "      <td>0.179925</td>\n",
              "      <td>0.118766</td>\n",
              "      <td>0.161881</td>\n",
              "      <td>0.174427</td>\n",
              "      <td>0.183857</td>\n",
              "      <td>0.187149</td>\n",
              "      <td>0.188110</td>\n",
              "    </tr>\n",
              "    <tr>\n",
              "      <th>min</th>\n",
              "      <td>0.000000</td>\n",
              "      <td>0.000000</td>\n",
              "      <td>0.000000</td>\n",
              "      <td>0.000000</td>\n",
              "      <td>0.000000</td>\n",
              "      <td>0.000000</td>\n",
              "      <td>0.000000</td>\n",
              "    </tr>\n",
              "    <tr>\n",
              "      <th>25%</th>\n",
              "      <td>0.190476</td>\n",
              "      <td>0.551724</td>\n",
              "      <td>0.454545</td>\n",
              "      <td>0.227273</td>\n",
              "      <td>0.340000</td>\n",
              "      <td>0.314286</td>\n",
              "      <td>0.314286</td>\n",
              "    </tr>\n",
              "    <tr>\n",
              "      <th>50%</th>\n",
              "      <td>0.317460</td>\n",
              "      <td>0.620690</td>\n",
              "      <td>0.545455</td>\n",
              "      <td>0.333333</td>\n",
              "      <td>0.440000</td>\n",
              "      <td>0.428571</td>\n",
              "      <td>0.428571</td>\n",
              "    </tr>\n",
              "    <tr>\n",
              "      <th>75%</th>\n",
              "      <td>0.432540</td>\n",
              "      <td>0.724138</td>\n",
              "      <td>0.666667</td>\n",
              "      <td>0.484848</td>\n",
              "      <td>0.605000</td>\n",
              "      <td>0.571429</td>\n",
              "      <td>0.571429</td>\n",
              "    </tr>\n",
              "    <tr>\n",
              "      <th>max</th>\n",
              "      <td>1.000000</td>\n",
              "      <td>1.000000</td>\n",
              "      <td>1.000000</td>\n",
              "      <td>1.000000</td>\n",
              "      <td>1.000000</td>\n",
              "      <td>1.000000</td>\n",
              "      <td>1.000000</td>\n",
              "    </tr>\n",
              "  </tbody>\n",
              "</table>\n",
              "</div>"
            ],
            "text/plain": [
              "            wifi_1       wifi_2  ...       wifi_6       wifi_7\n",
              "count  1600.000000  1600.000000  ...  1600.000000  1600.000000\n",
              "mean      0.331944     0.633082  ...     0.457643     0.465375\n",
              "std       0.179925     0.118766  ...     0.187149     0.188110\n",
              "min       0.000000     0.000000  ...     0.000000     0.000000\n",
              "25%       0.190476     0.551724  ...     0.314286     0.314286\n",
              "50%       0.317460     0.620690  ...     0.428571     0.428571\n",
              "75%       0.432540     0.724138  ...     0.571429     0.571429\n",
              "max       1.000000     1.000000  ...     1.000000     1.000000\n",
              "\n",
              "[8 rows x 7 columns]"
            ]
          },
          "metadata": {
            "tags": []
          },
          "execution_count": 73
        }
      ]
    },
    {
      "cell_type": "code",
      "metadata": {
        "id": "EZ_TlvrNpyTH"
      },
      "source": [
        "import tensorflow as tf\n",
        "from tensorflow.keras.utils import to_categorical"
      ],
      "execution_count": 64,
      "outputs": []
    },
    {
      "cell_type": "code",
      "metadata": {
        "colab": {
          "base_uri": "https://localhost:8080/"
        },
        "id": "xrDVFZfiy336",
        "outputId": "4f81408b-9015-4015-b40a-8f3045bc8e27"
      },
      "source": [
        "y_train"
      ],
      "execution_count": 74,
      "outputs": [
        {
          "output_type": "execute_result",
          "data": {
            "text/plain": [
              "array([1, 2, 2, ..., 4, 4, 3], dtype=int8)"
            ]
          },
          "metadata": {
            "tags": []
          },
          "execution_count": 74
        }
      ]
    },
    {
      "cell_type": "code",
      "metadata": {
        "colab": {
          "base_uri": "https://localhost:8080/"
        },
        "id": "AQm_pomYy9Z1",
        "outputId": "92020eb9-cf40-400a-a0f1-7c68e6473297"
      },
      "source": [
        "y_train.shape"
      ],
      "execution_count": 75,
      "outputs": [
        {
          "output_type": "execute_result",
          "data": {
            "text/plain": [
              "(1600,)"
            ]
          },
          "metadata": {
            "tags": []
          },
          "execution_count": 75
        }
      ]
    },
    {
      "cell_type": "code",
      "metadata": {
        "colab": {
          "base_uri": "https://localhost:8080/"
        },
        "id": "DVNt12nlqPJ_",
        "outputId": "8cf1fbbb-ef35-4f64-961b-76636e0a8458"
      },
      "source": [
        "to_categorical(y_train)"
      ],
      "execution_count": 76,
      "outputs": [
        {
          "output_type": "execute_result",
          "data": {
            "text/plain": [
              "array([[0., 1., 0., 0., 0.],\n",
              "       [0., 0., 1., 0., 0.],\n",
              "       [0., 0., 1., 0., 0.],\n",
              "       ...,\n",
              "       [0., 0., 0., 0., 1.],\n",
              "       [0., 0., 0., 0., 1.],\n",
              "       [0., 0., 0., 1., 0.]], dtype=float32)"
            ]
          },
          "metadata": {
            "tags": []
          },
          "execution_count": 76
        }
      ]
    },
    {
      "cell_type": "code",
      "metadata": {
        "colab": {
          "base_uri": "https://localhost:8080/"
        },
        "id": "9A1e9_SPqYsP",
        "outputId": "8ca3a586-75b9-48e2-fb47-3f9b25e57f36"
      },
      "source": [
        "to_categorical(y_train)[:,0].sum()"
      ],
      "execution_count": 77,
      "outputs": [
        {
          "output_type": "execute_result",
          "data": {
            "text/plain": [
              "0.0"
            ]
          },
          "metadata": {
            "tags": []
          },
          "execution_count": 77
        }
      ]
    },
    {
      "cell_type": "code",
      "metadata": {
        "colab": {
          "base_uri": "https://localhost:8080/"
        },
        "id": "pW3wr-pxqjvP",
        "outputId": "61e07e59-cec3-4679-edd3-f8111c51c975"
      },
      "source": [
        "to_categorical(y_train)[:,1:]"
      ],
      "execution_count": 78,
      "outputs": [
        {
          "output_type": "execute_result",
          "data": {
            "text/plain": [
              "array([[1., 0., 0., 0.],\n",
              "       [0., 1., 0., 0.],\n",
              "       [0., 1., 0., 0.],\n",
              "       ...,\n",
              "       [0., 0., 0., 1.],\n",
              "       [0., 0., 0., 1.],\n",
              "       [0., 0., 1., 0.]], dtype=float32)"
            ]
          },
          "metadata": {
            "tags": []
          },
          "execution_count": 78
        }
      ]
    },
    {
      "cell_type": "code",
      "metadata": {
        "id": "1mXMq8-rqt6_"
      },
      "source": [
        "y_train = to_categorical(y_train)[:,1:]\n",
        "y_test = to_categorical(y_test)[:,1:]"
      ],
      "execution_count": 79,
      "outputs": []
    },
    {
      "cell_type": "code",
      "metadata": {
        "colab": {
          "base_uri": "https://localhost:8080/"
        },
        "id": "_V1yETL8q_2f",
        "outputId": "a17859c7-dcb2-4504-adfe-2b88e8f3fa28"
      },
      "source": [
        "print(y_train.shape)\n",
        "print(y_test.shape)"
      ],
      "execution_count": 80,
      "outputs": [
        {
          "output_type": "stream",
          "text": [
            "(1600, 4)\n",
            "(400, 4)\n"
          ],
          "name": "stdout"
        }
      ]
    },
    {
      "cell_type": "code",
      "metadata": {
        "id": "F9mYMRfFrGt2"
      },
      "source": [
        "from tensorflow import keras\n",
        "from tensorflow.keras import layers"
      ],
      "execution_count": 81,
      "outputs": []
    },
    {
      "cell_type": "code",
      "metadata": {
        "colab": {
          "base_uri": "https://localhost:8080/"
        },
        "id": "IHoIzDtGrpHn",
        "outputId": "8948c343-b609-4940-feaa-c45f38577898"
      },
      "source": [
        "model = keras.Sequential(name = \"PrimeiraMLP\")\n",
        "model.add(keras.Input(shape=(7,)))\n",
        "model.add(layers.Dense(10, activation = \"sigmoid\"))\n",
        "model.add(layers.Dense(4, activation= \"softmax\"))\n"
      ],
      "execution_count": 82,
      "outputs": [
        {
          "output_type": "stream",
          "text": [
            "WARNING:tensorflow:Please add `keras.layers.InputLayer` instead of `keras.Input` to Sequential model. `keras.Input` is intended to be used by Functional model.\n"
          ],
          "name": "stdout"
        }
      ]
    },
    {
      "cell_type": "code",
      "metadata": {
        "colab": {
          "base_uri": "https://localhost:8080/"
        },
        "id": "D4TYz7zeumlq",
        "outputId": "48204aef-5a8e-43c3-9d33-bbcf20efdd04"
      },
      "source": [
        "model.layers"
      ],
      "execution_count": 83,
      "outputs": [
        {
          "output_type": "execute_result",
          "data": {
            "text/plain": [
              "[<tensorflow.python.keras.layers.core.Dense at 0x7f1a10cd8690>,\n",
              " <tensorflow.python.keras.layers.core.Dense at 0x7f1a0ed3d290>]"
            ]
          },
          "metadata": {
            "tags": []
          },
          "execution_count": 83
        }
      ]
    },
    {
      "cell_type": "code",
      "metadata": {
        "colab": {
          "base_uri": "https://localhost:8080/"
        },
        "id": "FhteKCP1uqLm",
        "outputId": "1d71b715-d588-4ce3-af8a-9f01199a2e7c"
      },
      "source": [
        "model.layers[0].weights"
      ],
      "execution_count": 84,
      "outputs": [
        {
          "output_type": "execute_result",
          "data": {
            "text/plain": [
              "[<tf.Variable 'dense_2/kernel:0' shape=(7, 10) dtype=float32, numpy=\n",
              " array([[-0.0477888 ,  0.40189743, -0.04536164, -0.53507525, -0.25366268,\n",
              "         -0.37898415,  0.23621339,  0.10588896,  0.56349623,  0.08190531],\n",
              "        [ 0.5590185 ,  0.23171681, -0.5783816 ,  0.27121478, -0.39861697,\n",
              "         -0.3322672 ,  0.46141005, -0.5781517 , -0.29224178, -0.08385742],\n",
              "        [ 0.3149699 , -0.13487184, -0.37783262, -0.5033398 , -0.46192163,\n",
              "          0.01311022, -0.35239816, -0.18717602, -0.45204866,  0.2511974 ],\n",
              "        [-0.26039815,  0.3669231 , -0.10771984,  0.02246821, -0.35403582,\n",
              "         -0.11393237, -0.43593195,  0.37421   , -0.3392531 ,  0.1743406 ],\n",
              "        [-0.58700305, -0.49824524,  0.18115836, -0.30245045, -0.21456176,\n",
              "         -0.31737354,  0.17284727, -0.30777773, -0.10100177,  0.14178663],\n",
              "        [-0.4825077 , -0.43196356,  0.07420582, -0.43861222,  0.35384405,\n",
              "          0.44821692,  0.1468479 , -0.275917  , -0.57078254,  0.45739603],\n",
              "        [ 0.26314646, -0.01118094, -0.43607613, -0.4854492 , -0.5198714 ,\n",
              "          0.45704615, -0.09186047,  0.58071244,  0.16805422, -0.19832212]],\n",
              "       dtype=float32)>,\n",
              " <tf.Variable 'dense_2/bias:0' shape=(10,) dtype=float32, numpy=array([0., 0., 0., 0., 0., 0., 0., 0., 0., 0.], dtype=float32)>]"
            ]
          },
          "metadata": {
            "tags": []
          },
          "execution_count": 84
        }
      ]
    },
    {
      "cell_type": "code",
      "metadata": {
        "colab": {
          "base_uri": "https://localhost:8080/"
        },
        "id": "NYPLritzvBfO",
        "outputId": "a87fc42a-2e58-449d-800b-bc758cb70cbb"
      },
      "source": [
        "model.summary()"
      ],
      "execution_count": 85,
      "outputs": [
        {
          "output_type": "stream",
          "text": [
            "Model: \"PrimeiraMLP\"\n",
            "_________________________________________________________________\n",
            "Layer (type)                 Output Shape              Param #   \n",
            "=================================================================\n",
            "dense_2 (Dense)              (None, 10)                80        \n",
            "_________________________________________________________________\n",
            "dense_3 (Dense)              (None, 4)                 44        \n",
            "=================================================================\n",
            "Total params: 124\n",
            "Trainable params: 124\n",
            "Non-trainable params: 0\n",
            "_________________________________________________________________\n"
          ],
          "name": "stdout"
        }
      ]
    },
    {
      "cell_type": "code",
      "metadata": {
        "id": "S3j-mcCnvU1u"
      },
      "source": [
        "model.compile(loss='categorical_crossentropy', optimizer='sgd', metrics=['accuracy'])"
      ],
      "execution_count": 86,
      "outputs": []
    },
    {
      "cell_type": "code",
      "metadata": {
        "colab": {
          "base_uri": "https://localhost:8080/"
        },
        "id": "Sqe69wFKvFjW",
        "outputId": "caab9e3d-7bd5-4be1-ec3b-7505058f9ba6"
      },
      "source": [
        "model.fit(X_train, y_train, epochs=20, batch_size=8)"
      ],
      "execution_count": 87,
      "outputs": [
        {
          "output_type": "stream",
          "text": [
            "Epoch 1/20\n",
            "200/200 [==============================] - 1s 1ms/step - loss: 1.4131 - accuracy: 0.2556\n",
            "Epoch 2/20\n",
            "200/200 [==============================] - 0s 1ms/step - loss: 1.3866 - accuracy: 0.2581\n",
            "Epoch 3/20\n",
            "200/200 [==============================] - 0s 1ms/step - loss: 1.3789 - accuracy: 0.2781\n",
            "Epoch 4/20\n",
            "200/200 [==============================] - 0s 1ms/step - loss: 1.3730 - accuracy: 0.2206\n",
            "Epoch 5/20\n",
            "200/200 [==============================] - 0s 1ms/step - loss: 1.3666 - accuracy: 0.3762\n",
            "Epoch 6/20\n",
            "200/200 [==============================] - 0s 1ms/step - loss: 1.3604 - accuracy: 0.3875\n",
            "Epoch 7/20\n",
            "200/200 [==============================] - 0s 1ms/step - loss: 1.3536 - accuracy: 0.4100\n",
            "Epoch 8/20\n",
            "200/200 [==============================] - 0s 1ms/step - loss: 1.3464 - accuracy: 0.4837\n",
            "Epoch 9/20\n",
            "200/200 [==============================] - 0s 1ms/step - loss: 1.3391 - accuracy: 0.4988\n",
            "Epoch 10/20\n",
            "200/200 [==============================] - 0s 1ms/step - loss: 1.3308 - accuracy: 0.5644\n",
            "Epoch 11/20\n",
            "200/200 [==============================] - 0s 1ms/step - loss: 1.3222 - accuracy: 0.6106\n",
            "Epoch 12/20\n",
            "200/200 [==============================] - 0s 1ms/step - loss: 1.3128 - accuracy: 0.6506\n",
            "Epoch 13/20\n",
            "200/200 [==============================] - 0s 1ms/step - loss: 1.3026 - accuracy: 0.6100\n",
            "Epoch 14/20\n",
            "200/200 [==============================] - 0s 1ms/step - loss: 1.2920 - accuracy: 0.7225\n",
            "Epoch 15/20\n",
            "200/200 [==============================] - 0s 1ms/step - loss: 1.2802 - accuracy: 0.7231\n",
            "Epoch 16/20\n",
            "200/200 [==============================] - 0s 1ms/step - loss: 1.2676 - accuracy: 0.7206\n",
            "Epoch 17/20\n",
            "200/200 [==============================] - 0s 1ms/step - loss: 1.2541 - accuracy: 0.6481\n",
            "Epoch 18/20\n",
            "200/200 [==============================] - 0s 1ms/step - loss: 1.2396 - accuracy: 0.7531\n",
            "Epoch 19/20\n",
            "200/200 [==============================] - 0s 1ms/step - loss: 1.2239 - accuracy: 0.7788\n",
            "Epoch 20/20\n",
            "200/200 [==============================] - 0s 1ms/step - loss: 1.2078 - accuracy: 0.6869\n"
          ],
          "name": "stdout"
        },
        {
          "output_type": "execute_result",
          "data": {
            "text/plain": [
              "<tensorflow.python.keras.callbacks.History at 0x7f1a10cd8fd0>"
            ]
          },
          "metadata": {
            "tags": []
          },
          "execution_count": 87
        }
      ]
    },
    {
      "cell_type": "code",
      "metadata": {
        "colab": {
          "base_uri": "https://localhost:8080/"
        },
        "id": "kFg-Q2qXvPa2",
        "outputId": "8a5cd18c-f068-4d1d-9673-4f9737d559de"
      },
      "source": [
        "_, accuracy = model.evaluate(X_test, y_test, batch_size=32)\n",
        "print('Accuracy: %.2f' % (accuracy*100))\n"
      ],
      "execution_count": 88,
      "outputs": [
        {
          "output_type": "stream",
          "text": [
            "13/13 [==============================] - 0s 1ms/step - loss: 1.2040 - accuracy: 0.7550\n",
            "Accuracy: 75.50\n"
          ],
          "name": "stdout"
        }
      ]
    },
    {
      "cell_type": "code",
      "metadata": {
        "colab": {
          "base_uri": "https://localhost:8080/"
        },
        "id": "3HsOFQFHv1sz",
        "outputId": "f623029a-0536-4f94-d270-8335d903ccb3"
      },
      "source": [
        "model.layers[0].weights"
      ],
      "execution_count": 89,
      "outputs": [
        {
          "output_type": "execute_result",
          "data": {
            "text/plain": [
              "[<tf.Variable 'dense_2/kernel:0' shape=(7, 10) dtype=float32, numpy=\n",
              " array([[-0.42193645,  0.10383124, -0.3687321 , -0.7874641 , -0.3466941 ,\n",
              "         -0.19543673,  0.7042785 ,  0.34805518,  0.55992293,  0.0468915 ],\n",
              "        [ 0.6056273 ,  0.19903892, -0.51338583,  0.38966635, -0.36535752,\n",
              "         -0.36378735,  0.4420325 , -0.5421173 , -0.32391718, -0.04996553],\n",
              "        [ 0.55800587, -0.44407612, -0.53793854, -0.50558037, -0.3111927 ,\n",
              "          0.10073867, -0.34386647, -0.3072414 , -0.4436642 ,  0.39566222],\n",
              "        [-0.61665845,  0.066586  , -0.42536807, -0.22115694, -0.43977383,\n",
              "          0.06560288,  0.02113261,  0.6084959 , -0.34499088,  0.14618841],\n",
              "        [-0.04000153, -0.77272946,  0.10944545, -0.19704348,  0.03999419,\n",
              "         -0.13924652, -0.12460164, -0.7079301 ,  0.07775851,  0.25739408],\n",
              "        [-0.9054111 , -0.5323636 , -0.06047218, -0.56219864,  0.21048735,\n",
              "          0.5771254 ,  0.5080194 , -0.00142086, -0.5529609 ,  0.33556908],\n",
              "        [-0.12293671, -0.13386282, -0.58024865, -0.60761684, -0.64495265,\n",
              "          0.60717714,  0.24869223,  0.81910914,  0.20562488, -0.31603986]],\n",
              "       dtype=float32)>,\n",
              " <tf.Variable 'dense_2/bias:0' shape=(10,) dtype=float32, numpy=\n",
              " array([ 0.04120393,  0.01153453,  0.15104617,  0.21377619,  0.02596661,\n",
              "        -0.02667233, -0.06109034,  0.05318677, -0.00581962, -0.00457287],\n",
              "       dtype=float32)>]"
            ]
          },
          "metadata": {
            "tags": []
          },
          "execution_count": 89
        }
      ]
    },
    {
      "cell_type": "code",
      "metadata": {
        "id": "vkfaszlSxT7x"
      },
      "source": [
        ""
      ],
      "execution_count": null,
      "outputs": []
    }
  ]
}