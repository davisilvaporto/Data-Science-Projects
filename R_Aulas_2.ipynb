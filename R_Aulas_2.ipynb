{
  "nbformat": 4,
  "nbformat_minor": 0,
  "metadata": {
    "colab": {
      "name": "R- Aulas_2.ipynb",
      "provenance": [],
      "collapsed_sections": []
    },
    "kernelspec": {
      "name": "ir",
      "display_name": "R"
    },
    "language_info": {
      "name": "R"
    }
  },
  "cells": [
    {
      "cell_type": "code",
      "metadata": {
        "id": "Sqtb9hDou9J2",
        "colab": {
          "base_uri": "https://localhost:8080/",
          "height": 252
        },
        "outputId": "c6a888a5-e99a-420d-98a3-7e2a83203936"
      },
      "source": [
        "setor = c ('RH', 'Finanças', 'Serviços', 'Dados', 'Outras')\n",
        "total_funcionarios = c(6,12,20,7,6)\n",
        "funcionarios_por_setor = data.frame(setor, total_funcionarios)\n",
        "head(funcionarios_por_setor)"
      ],
      "execution_count": null,
      "outputs": [
        {
          "output_type": "display_data",
          "data": {
            "text/plain": [
              "  setor    total_funcionarios\n",
              "1 RH        6                \n",
              "2 Finanças 12                \n",
              "3 Serviços 20                \n",
              "4 Dados     7                \n",
              "5 Outras    6                "
            ],
            "text/latex": "A data.frame: 5 × 2\n\\begin{tabular}{r|ll}\n  & setor & total\\_funcionarios\\\\\n  & <chr> & <dbl>\\\\\n\\hline\n\t1 & RH       &  6\\\\\n\t2 & Finanças & 12\\\\\n\t3 & Serviços & 20\\\\\n\t4 & Dados    &  7\\\\\n\t5 & Outras   &  6\\\\\n\\end{tabular}\n",
            "text/markdown": "\nA data.frame: 5 × 2\n\n| <!--/--> | setor &lt;chr&gt; | total_funcionarios &lt;dbl&gt; |\n|---|---|---|\n| 1 | RH       |  6 |\n| 2 | Finanças | 12 |\n| 3 | Serviços | 20 |\n| 4 | Dados    |  7 |\n| 5 | Outras   |  6 |\n\n",
            "text/html": [
              "<table class=\"dataframe\">\n",
              "<caption>A data.frame: 5 × 2</caption>\n",
              "<thead>\n",
              "\t<tr><th></th><th scope=col>setor</th><th scope=col>total_funcionarios</th></tr>\n",
              "\t<tr><th></th><th scope=col>&lt;chr&gt;</th><th scope=col>&lt;dbl&gt;</th></tr>\n",
              "</thead>\n",
              "<tbody>\n",
              "\t<tr><th scope=row>1</th><td>RH      </td><td> 6</td></tr>\n",
              "\t<tr><th scope=row>2</th><td>Finanças</td><td>12</td></tr>\n",
              "\t<tr><th scope=row>3</th><td>Serviços</td><td>20</td></tr>\n",
              "\t<tr><th scope=row>4</th><td>Dados   </td><td> 7</td></tr>\n",
              "\t<tr><th scope=row>5</th><td>Outras  </td><td> 6</td></tr>\n",
              "</tbody>\n",
              "</table>\n"
            ]
          },
          "metadata": {}
        }
      ]
    },
    {
      "cell_type": "code",
      "metadata": {
        "colab": {
          "base_uri": "https://localhost:8080/",
          "height": 437
        },
        "id": "yLo-8b79vF1r",
        "outputId": "77ac3fff-8a45-4942-de13-8570bcea27e1"
      },
      "source": [
        "barplot(funcionarios_por_setor$total_funcionarios, main = \"Numero de Funcionários por setor\", ylab = \"Frequencia\", names.arg = funcionarios_por_setor$setor, cex.axis = 0.6, cex.names = 0.7,cex.main= 0.7,cex.lab = 0.8, las=2)"
      ],
      "execution_count": null,
      "outputs": [
        {
          "output_type": "display_data",
          "data": {
            "image/png": "[encoded data removed]",
            "text/plain": [
              "Plot with title “Numero de Funcionários por setor”"
            ]
          },
          "metadata": {
            "image/png": {
              "width": 420,
              "height": 420
            }
          }
        }
      ]
    },
    {
      "cell_type": "code",
      "metadata": {
        "id": "0vAHW-VX0kd0"
      },
      "source": [
        "preco = c (5.1,7.8,8.1,6.0,8.1,8.0,8.0,9.0,7.1,9.0)\n",
        "prazo = c(8.0,8.0,7.1,9.0,6.0,6.0,9.0,6.0,6.0,8.1)\n",
        "atendimento = c (8.1,8.1,5.0,7.1,6.1,9.1,7.1,8.0,9.0,7.0)\n",
        "entrega = c (5.1,8.0,5.0,5.1,7.0,7.1,8.1,8.0,8.0,7.0)\n",
        "pos_venda = c (8.0,6.1,6.1,6.1,6.1,6.0,8.0,7.0,5.0,5.1)\n",
        "pesquisa = data.frame(preco, prazo,atendimento, entrega,pos_venda)\n"
      ],
      "execution_count": null,
      "outputs": []
    },
    {
      "cell_type": "code",
      "metadata": {
        "colab": {
          "base_uri": "https://localhost:8080/",
          "height": 283
        },
        "id": "noKTUceA4lCY",
        "outputId": "3c1980c6-9a86-4fac-cfe4-4628c193fa9e"
      },
      "source": [
        "head(pesquisa)"
      ],
      "execution_count": null,
      "outputs": [
        {
          "output_type": "display_data",
          "data": {
            "text/plain": [
              "  preco prazo atendimento entrega pos_venda\n",
              "1 5.1   8.0   8.1         5.1     8.0      \n",
              "2 7.8   8.0   8.1         8.0     6.1      \n",
              "3 8.1   7.1   5.0         5.0     6.1      \n",
              "4 6.0   9.0   7.1         5.1     6.1      \n",
              "5 8.1   6.0   6.1         7.0     6.1      \n",
              "6 8.0   6.0   9.1         7.1     6.0      "
            ],
            "text/latex": "A data.frame: 6 × 5\n\\begin{tabular}{r|lllll}\n  & preco & prazo & atendimento & entrega & pos\\_venda\\\\\n  & <dbl> & <dbl> & <dbl> & <dbl> & <dbl>\\\\\n\\hline\n\t1 & 5.1 & 8.0 & 8.1 & 5.1 & 8.0\\\\\n\t2 & 7.8 & 8.0 & 8.1 & 8.0 & 6.1\\\\\n\t3 & 8.1 & 7.1 & 5.0 & 5.0 & 6.1\\\\\n\t4 & 6.0 & 9.0 & 7.1 & 5.1 & 6.1\\\\\n\t5 & 8.1 & 6.0 & 6.1 & 7.0 & 6.1\\\\\n\t6 & 8.0 & 6.0 & 9.1 & 7.1 & 6.0\\\\\n\\end{tabular}\n",
            "text/markdown": "\nA data.frame: 6 × 5\n\n| <!--/--> | preco &lt;dbl&gt; | prazo &lt;dbl&gt; | atendimento &lt;dbl&gt; | entrega &lt;dbl&gt; | pos_venda &lt;dbl&gt; |\n|---|---|---|---|---|---|\n| 1 | 5.1 | 8.0 | 8.1 | 5.1 | 8.0 |\n| 2 | 7.8 | 8.0 | 8.1 | 8.0 | 6.1 |\n| 3 | 8.1 | 7.1 | 5.0 | 5.0 | 6.1 |\n| 4 | 6.0 | 9.0 | 7.1 | 5.1 | 6.1 |\n| 5 | 8.1 | 6.0 | 6.1 | 7.0 | 6.1 |\n| 6 | 8.0 | 6.0 | 9.1 | 7.1 | 6.0 |\n\n",
            "text/html": [
              "<table class=\"dataframe\">\n",
              "<caption>A data.frame: 6 × 5</caption>\n",
              "<thead>\n",
              "\t<tr><th></th><th scope=col>preco</th><th scope=col>prazo</th><th scope=col>atendimento</th><th scope=col>entrega</th><th scope=col>pos_venda</th></tr>\n",
              "\t<tr><th></th><th scope=col>&lt;dbl&gt;</th><th scope=col>&lt;dbl&gt;</th><th scope=col>&lt;dbl&gt;</th><th scope=col>&lt;dbl&gt;</th><th scope=col>&lt;dbl&gt;</th></tr>\n",
              "</thead>\n",
              "<tbody>\n",
              "\t<tr><th scope=row>1</th><td>5.1</td><td>8.0</td><td>8.1</td><td>5.1</td><td>8.0</td></tr>\n",
              "\t<tr><th scope=row>2</th><td>7.8</td><td>8.0</td><td>8.1</td><td>8.0</td><td>6.1</td></tr>\n",
              "\t<tr><th scope=row>3</th><td>8.1</td><td>7.1</td><td>5.0</td><td>5.0</td><td>6.1</td></tr>\n",
              "\t<tr><th scope=row>4</th><td>6.0</td><td>9.0</td><td>7.1</td><td>5.1</td><td>6.1</td></tr>\n",
              "\t<tr><th scope=row>5</th><td>8.1</td><td>6.0</td><td>6.1</td><td>7.0</td><td>6.1</td></tr>\n",
              "\t<tr><th scope=row>6</th><td>8.0</td><td>6.0</td><td>9.1</td><td>7.1</td><td>6.0</td></tr>\n",
              "</tbody>\n",
              "</table>\n"
            ]
          },
          "metadata": {}
        }
      ]
    },
    {
      "cell_type": "code",
      "metadata": {
        "colab": {
          "base_uri": "https://localhost:8080/",
          "height": 189
        },
        "id": "DlsyNcKv4mkP",
        "outputId": "e003158f-d8fe-4f2b-d4da-8d29cca28d07"
      },
      "source": [
        "amp_preco = max(preco) - min(preco)\n",
        "amp_prazo =max(prazo) - min(prazo)\n",
        "amp_atendimento= max(atendimento) - min(atendimento)\n",
        "amp_entrega =max(entrega) - min(entrega)\n",
        "amp_pos_venda = max(pos_venda) - min(pos_venda)\n",
        "rbind(amp_preco,amp_prazo, amp_entrega, amp_atendimento, amp_pos_venda)"
      ],
      "execution_count": null,
      "outputs": [
        {
          "output_type": "display_data",
          "data": {
            "text/plain": [
              "                [,1]\n",
              "amp_preco       3.9 \n",
              "amp_prazo       3.0 \n",
              "amp_entrega     3.1 \n",
              "amp_atendimento 4.1 \n",
              "amp_pos_venda   3.0 "
            ],
            "text/latex": "A matrix: 5 × 1 of type dbl\n\\begin{tabular}{r|l}\n\tamp\\_preco & 3.9\\\\\n\tamp\\_prazo & 3.0\\\\\n\tamp\\_entrega & 3.1\\\\\n\tamp\\_atendimento & 4.1\\\\\n\tamp\\_pos\\_venda & 3.0\\\\\n\\end{tabular}\n",
            "text/markdown": "\nA matrix: 5 × 1 of type dbl\n\n| amp_preco | 3.9 |\n| amp_prazo | 3.0 |\n| amp_entrega | 3.1 |\n| amp_atendimento | 4.1 |\n| amp_pos_venda | 3.0 |\n\n",
            "text/html": [
              "<table class=\"dataframe\">\n",
              "<caption>A matrix: 5 × 1 of type dbl</caption>\n",
              "<tbody>\n",
              "\t<tr><th scope=row>amp_preco</th><td>3.9</td></tr>\n",
              "\t<tr><th scope=row>amp_prazo</th><td>3.0</td></tr>\n",
              "\t<tr><th scope=row>amp_entrega</th><td>3.1</td></tr>\n",
              "\t<tr><th scope=row>amp_atendimento</th><td>4.1</td></tr>\n",
              "\t<tr><th scope=row>amp_pos_venda</th><td>3.0</td></tr>\n",
              "</tbody>\n",
              "</table>\n"
            ]
          },
          "metadata": {}
        }
      ]
    },
    {
      "cell_type": "code",
      "metadata": {
        "colab": {
          "base_uri": "https://localhost:8080/",
          "height": 255
        },
        "id": "HlkxHGJX6Dw7",
        "outputId": "bbe15bf7-fbc7-4f40-c82f-44ea58f49228"
      },
      "source": [
        "summary(pesquisa)"
      ],
      "execution_count": null,
      "outputs": [
        {
          "output_type": "display_data",
          "data": {
            "text/plain": [
              "     preco           prazo        atendimento       entrega     \n",
              " Min.   :5.100   Min.   :6.000   Min.   :5.000   Min.   :5.000  \n",
              " 1st Qu.:7.275   1st Qu.:6.000   1st Qu.:7.025   1st Qu.:5.575  \n",
              " Median :8.000   Median :7.550   Median :7.550   Median :7.050  \n",
              " Mean   :7.620   Mean   :7.320   Mean   :7.460   Mean   :6.840  \n",
              " 3rd Qu.:8.100   3rd Qu.:8.075   3rd Qu.:8.100   3rd Qu.:8.000  \n",
              " Max.   :9.000   Max.   :9.000   Max.   :9.100   Max.   :8.100  \n",
              "   pos_venda    \n",
              " Min.   :5.000  \n",
              " 1st Qu.:6.025  \n",
              " Median :6.100  \n",
              " Mean   :6.350  \n",
              " 3rd Qu.:6.775  \n",
              " Max.   :8.000  "
            ]
          },
          "metadata": {}
        }
      ]
    },
    {
      "cell_type": "code",
      "metadata": {
        "colab": {
          "base_uri": "https://localhost:8080/",
          "height": 189
        },
        "id": "Wb83XKHp6If8",
        "outputId": "c1699177-1731-4a88-f7f1-2fc492d4322a"
      },
      "source": [
        "desv_medio_preco = sum(abs(pesquisa$preco-mean(pesquisa$preco)))/ length(pesquisa$preco)\n",
        "desv_medio_prazo = sum(abs(pesquisa$prazo-mean(pesquisa$prazo)))/ length(pesquisa$prazo)\n",
        "desv_medio_atendimento = sum(abs(pesquisa$atendimento-mean(pesquisa$atendimento)))/ length(pesquisa$atendimento)\n",
        "desv_medio_entrega = sum(abs(pesquisa$entrega-mean(pesquisa$entrega)))/ length(pesquisa$entrega)\n",
        "desv_medio_pos = sum(abs(pesquisa$pos_venda-mean(pesquisa$pos_venda)))/ length(pesquisa$pos_venda)\n",
        "rbind(desv_medio_preco, desv_medio_prazo, desv_medio_atendimento, desv_medio_entrega,desv_medio_pos)"
      ],
      "execution_count": null,
      "outputs": [
        {
          "output_type": "display_data",
          "data": {
            "text/plain": [
              "                       [,1] \n",
              "desv_medio_preco       0.932\n",
              "desv_medio_prazo       1.100\n",
              "desv_medio_atendimento 1.000\n",
              "desv_medio_entrega     1.064\n",
              "desv_medio_pos         0.790"
            ],
            "text/latex": "A matrix: 5 × 1 of type dbl\n\\begin{tabular}{r|l}\n\tdesv\\_medio\\_preco & 0.932\\\\\n\tdesv\\_medio\\_prazo & 1.100\\\\\n\tdesv\\_medio\\_atendimento & 1.000\\\\\n\tdesv\\_medio\\_entrega & 1.064\\\\\n\tdesv\\_medio\\_pos & 0.790\\\\\n\\end{tabular}\n",
            "text/markdown": "\nA matrix: 5 × 1 of type dbl\n\n| desv_medio_preco | 0.932 |\n| desv_medio_prazo | 1.100 |\n| desv_medio_atendimento | 1.000 |\n| desv_medio_entrega | 1.064 |\n| desv_medio_pos | 0.790 |\n\n",
            "text/html": [
              "<table class=\"dataframe\">\n",
              "<caption>A matrix: 5 × 1 of type dbl</caption>\n",
              "<tbody>\n",
              "\t<tr><th scope=row>desv_medio_preco</th><td>0.932</td></tr>\n",
              "\t<tr><th scope=row>desv_medio_prazo</th><td>1.100</td></tr>\n",
              "\t<tr><th scope=row>desv_medio_atendimento</th><td>1.000</td></tr>\n",
              "\t<tr><th scope=row>desv_medio_entrega</th><td>1.064</td></tr>\n",
              "\t<tr><th scope=row>desv_medio_pos</th><td>0.790</td></tr>\n",
              "</tbody>\n",
              "</table>\n"
            ]
          },
          "metadata": {}
        }
      ]
    },
    {
      "cell_type": "code",
      "metadata": {
        "id": "LMS5qpcA6iS4"
      },
      "source": [
        "A =c(2,3,4,5,7,9)\n",
        "B = c(1,3,5,7,9,11)"
      ],
      "execution_count": null,
      "outputs": []
    },
    {
      "cell_type": "code",
      "metadata": {
        "colab": {
          "base_uri": "https://localhost:8080/",
          "height": 283
        },
        "id": "Qd3ZbV_k9JJS",
        "outputId": "bda24bbe-0be0-41f4-f86d-2207391f8817"
      },
      "source": [
        "dados = data.frame(A,B)\n",
        "head(dados)"
      ],
      "execution_count": null,
      "outputs": [
        {
          "output_type": "display_data",
          "data": {
            "text/plain": [
              "  A B \n",
              "1 2  1\n",
              "2 3  3\n",
              "3 4  5\n",
              "4 5  7\n",
              "5 7  9\n",
              "6 9 11"
            ],
            "text/latex": "A data.frame: 6 × 2\n\\begin{tabular}{r|ll}\n  & A & B\\\\\n  & <dbl> & <dbl>\\\\\n\\hline\n\t1 & 2 &  1\\\\\n\t2 & 3 &  3\\\\\n\t3 & 4 &  5\\\\\n\t4 & 5 &  7\\\\\n\t5 & 7 &  9\\\\\n\t6 & 9 & 11\\\\\n\\end{tabular}\n",
            "text/markdown": "\nA data.frame: 6 × 2\n\n| <!--/--> | A &lt;dbl&gt; | B &lt;dbl&gt; |\n|---|---|---|\n| 1 | 2 |  1 |\n| 2 | 3 |  3 |\n| 3 | 4 |  5 |\n| 4 | 5 |  7 |\n| 5 | 7 |  9 |\n| 6 | 9 | 11 |\n\n",
            "text/html": [
              "<table class=\"dataframe\">\n",
              "<caption>A data.frame: 6 × 2</caption>\n",
              "<thead>\n",
              "\t<tr><th></th><th scope=col>A</th><th scope=col>B</th></tr>\n",
              "\t<tr><th></th><th scope=col>&lt;dbl&gt;</th><th scope=col>&lt;dbl&gt;</th></tr>\n",
              "</thead>\n",
              "<tbody>\n",
              "\t<tr><th scope=row>1</th><td>2</td><td> 1</td></tr>\n",
              "\t<tr><th scope=row>2</th><td>3</td><td> 3</td></tr>\n",
              "\t<tr><th scope=row>3</th><td>4</td><td> 5</td></tr>\n",
              "\t<tr><th scope=row>4</th><td>5</td><td> 7</td></tr>\n",
              "\t<tr><th scope=row>5</th><td>7</td><td> 9</td></tr>\n",
              "\t<tr><th scope=row>6</th><td>9</td><td>11</td></tr>\n",
              "</tbody>\n",
              "</table>\n"
            ]
          },
          "metadata": {}
        }
      ]
    },
    {
      "cell_type": "code",
      "metadata": {
        "colab": {
          "base_uri": "https://localhost:8080/",
          "height": 136
        },
        "id": "agl2JqFS9TEe",
        "outputId": "b044fb66-3ee3-4701-9f21-5a4c8f1f290d"
      },
      "source": [
        "summary(dados)"
      ],
      "execution_count": null,
      "outputs": [
        {
          "output_type": "display_data",
          "data": {
            "text/plain": [
              "       A              B       \n",
              " Min.   :2.00   Min.   : 1.0  \n",
              " 1st Qu.:3.25   1st Qu.: 3.5  \n",
              " Median :4.50   Median : 6.0  \n",
              " Mean   :5.00   Mean   : 6.0  \n",
              " 3rd Qu.:6.50   3rd Qu.: 8.5  \n",
              " Max.   :9.00   Max.   :11.0  "
            ]
          },
          "metadata": {}
        }
      ]
    },
    {
      "cell_type": "code",
      "metadata": {
        "id": "xRs5_Lhn-Pvs"
      },
      "source": [
        "sp = c (49899,47101,44777,25721,42555,29781,42641,35982,34953,26302,46122,48999)\n",
        "rj = c(34444,26223,41194,41846,22262,14354,30757,39891,33098,NA,NA,NA)\n",
        "mg = c(16357,13303,15715,16569,20199,18904,16428,20444,27301,24687,27493,NA) "
      ],
      "execution_count": null,
      "outputs": []
    },
    {
      "cell_type": "code",
      "metadata": {
        "id": "7bp0ZzydZuwT"
      },
      "source": [
        "faturamento = data.frame(sp,rj,mg)"
      ],
      "execution_count": null,
      "outputs": []
    },
    {
      "cell_type": "code",
      "metadata": {
        "colab": {
          "base_uri": "https://localhost:8080/",
          "height": 283
        },
        "id": "lD0qpSkqZ1Dq",
        "outputId": "b4d9eac5-96b1-44f6-89fe-dbe8f9d3a0bf"
      },
      "source": [
        "head(faturamento)"
      ],
      "execution_count": null,
      "outputs": [
        {
          "output_type": "display_data",
          "data": {
            "text/plain": [
              "  sp    rj    mg   \n",
              "1 49899 34444 16357\n",
              "2 47101 26223 13303\n",
              "3 44777 41194 15715\n",
              "4 25721 41846 16569\n",
              "5 42555 22262 20199\n",
              "6 29781 14354 18904"
            ],
            "text/latex": "A data.frame: 6 × 3\n\\begin{tabular}{r|lll}\n  & sp & rj & mg\\\\\n  & <dbl> & <dbl> & <dbl>\\\\\n\\hline\n\t1 & 49899 & 34444 & 16357\\\\\n\t2 & 47101 & 26223 & 13303\\\\\n\t3 & 44777 & 41194 & 15715\\\\\n\t4 & 25721 & 41846 & 16569\\\\\n\t5 & 42555 & 22262 & 20199\\\\\n\t6 & 29781 & 14354 & 18904\\\\\n\\end{tabular}\n",
            "text/markdown": "\nA data.frame: 6 × 3\n\n| <!--/--> | sp &lt;dbl&gt; | rj &lt;dbl&gt; | mg &lt;dbl&gt; |\n|---|---|---|---|\n| 1 | 49899 | 34444 | 16357 |\n| 2 | 47101 | 26223 | 13303 |\n| 3 | 44777 | 41194 | 15715 |\n| 4 | 25721 | 41846 | 16569 |\n| 5 | 42555 | 22262 | 20199 |\n| 6 | 29781 | 14354 | 18904 |\n\n",
            "text/html": [
              "<table class=\"dataframe\">\n",
              "<caption>A data.frame: 6 × 3</caption>\n",
              "<thead>\n",
              "\t<tr><th></th><th scope=col>sp</th><th scope=col>rj</th><th scope=col>mg</th></tr>\n",
              "\t<tr><th></th><th scope=col>&lt;dbl&gt;</th><th scope=col>&lt;dbl&gt;</th><th scope=col>&lt;dbl&gt;</th></tr>\n",
              "</thead>\n",
              "<tbody>\n",
              "\t<tr><th scope=row>1</th><td>49899</td><td>34444</td><td>16357</td></tr>\n",
              "\t<tr><th scope=row>2</th><td>47101</td><td>26223</td><td>13303</td></tr>\n",
              "\t<tr><th scope=row>3</th><td>44777</td><td>41194</td><td>15715</td></tr>\n",
              "\t<tr><th scope=row>4</th><td>25721</td><td>41846</td><td>16569</td></tr>\n",
              "\t<tr><th scope=row>5</th><td>42555</td><td>22262</td><td>20199</td></tr>\n",
              "\t<tr><th scope=row>6</th><td>29781</td><td>14354</td><td>18904</td></tr>\n",
              "</tbody>\n",
              "</table>\n"
            ]
          },
          "metadata": {}
        }
      ]
    },
    {
      "cell_type": "code",
      "metadata": {
        "colab": {
          "base_uri": "https://localhost:8080/",
          "height": 437
        },
        "id": "UxMe0twjaVgA",
        "outputId": "423f1235-e247-4543-bb19-2f7e551897ad"
      },
      "source": [
        "boxplot(faturamento, main= 'Faturamento SP, MG,RJ')"
      ],
      "execution_count": null,
      "outputs": [
        {
          "output_type": "display_data",
          "data": {
            "image/png": "[encoded data removed]",
            "text/plain": [
              "Plot with title “Faturamento SP, MG,RJ”"
            ]
          },
          "metadata": {
            "image/png": {
              "width": 420,
              "height": 420
            }
          }
        }
      ]
    },
    {
      "cell_type": "code",
      "metadata": {
        "colab": {
          "base_uri": "https://localhost:8080/",
          "height": 153
        },
        "id": "UhO5qKiBaw4O",
        "outputId": "39ff32d1-0643-483f-a09c-a80f8a706c9c"
      },
      "source": [
        "summary(faturamento)"
      ],
      "execution_count": null,
      "outputs": [
        {
          "output_type": "display_data",
          "data": {
            "text/plain": [
              "       sp              rj              mg       \n",
              " Min.   :25721   Min.   :14354   Min.   :13303  \n",
              " 1st Qu.:33660   1st Qu.:26223   1st Qu.:16392  \n",
              " Median :42598   Median :33098   Median :18904  \n",
              " Mean   :39569   Mean   :31563   Mean   :19764  \n",
              " 3rd Qu.:46367   3rd Qu.:39891   3rd Qu.:22566  \n",
              " Max.   :49899   Max.   :41846   Max.   :27493  \n",
              "                 NA's   :3       NA's   :1      "
            ]
          },
          "metadata": {}
        }
      ]
    },
    {
      "cell_type": "code",
      "metadata": {
        "id": "_fbM5etVbpBG",
        "colab": {
          "base_uri": "https://localhost:8080/",
          "height": 437
        },
        "outputId": "eb32ee43-1045-4f14-c991-ece43b3c76e9"
      },
      "source": [
        "#distribuição uniforme\n",
        "set.seed(42)\n",
        "random.unif<- runif(10000, min =1, max =3)\n",
        "hist(random.unif, freq = FALSE, xlab = 'x',density = 50, main= 'Uniforme', ylab = 'Densidade')"
      ],
      "execution_count": null,
      "outputs": [
        {
          "output_type": "display_data",
          "data": {
            "image/png": "[encoded data removed]",
            "text/plain": [
              "Plot with title “Uniforme”"
            ]
          },
          "metadata": {
            "image/png": {
              "width": 420,
              "height": 420
            }
          }
        }
      ]
    },
    {
      "cell_type": "code",
      "metadata": {
        "colab": {
          "base_uri": "https://localhost:8080/",
          "height": 437
        },
        "id": "84fX48egfSby",
        "outputId": "e84c3a1d-c107-4ec6-8835-c00e7b226528"
      },
      "source": [
        "#Distribuição Exponencial\n",
        "random.exp = rexp(10000,0.5)\n",
        "hist(random.exp, freq = FALSE, xlab = 'x',density = 50, main= 'Exponencial', ylab = 'Densidade')"
      ],
      "execution_count": null,
      "outputs": [
        {
          "output_type": "display_data",
          "data": {
            "image/png": "[encoded data removed]",
            "text/plain": [
              "Plot with title “Exponencial”"
            ]
          },
          "metadata": {
            "image/png": {
              "width": 420,
              "height": 420
            }
          }
        }
      ]
    },
    {
      "cell_type": "code",
      "metadata": {
        "colab": {
          "base_uri": "https://localhost:8080/",
          "height": 437
        },
        "id": "EOn-Z-BHftPp",
        "outputId": "b1e327da-03b0-492a-9c36-aafa155c481a"
      },
      "source": [
        "#Distribuição Normal\n",
        "random.normal = rnorm(10000,0.5)\n",
        "hist(random.normal, freq = FALSE, xlab = 'x',density = 50, main= 'Normal', ylab = 'Densidade')"
      ],
      "execution_count": null,
      "outputs": [
        {
          "output_type": "display_data",
          "data": {
            "image/png": "[encoded data removed]",
            "text/plain": [
              "Plot with title “Normal”"
            ]
          },
          "metadata": {
            "image/png": {
              "width": 420,
              "height": 420
            }
          }
        }
      ]
    },
    {
      "cell_type": "code",
      "metadata": {
        "id": "wBv2-feMX9H0"
      },
      "source": [
        "library (modeest)"
      ],
      "execution_count": null,
      "outputs": []
    },
    {
      "cell_type": "code",
      "metadata": {
        "id": "UR9oHPimWKA6"
      },
      "source": [
        "qtd = c(12,23,21,4,3,1,3,8,9,19)"
      ],
      "execution_count": null,
      "outputs": []
    },
    {
      "cell_type": "code",
      "metadata": {
        "colab": {
          "base_uri": "https://localhost:8080/",
          "height": 51
        },
        "id": "daOG9ZOZWdDV",
        "outputId": "e2d53107-18bb-42a8-e051-1559e705aecc"
      },
      "source": [
        "summary(qtd)"
      ],
      "execution_count": null,
      "outputs": [
        {
          "output_type": "display_data",
          "data": {
            "text/plain": [
              "   Min. 1st Qu.  Median    Mean 3rd Qu.    Max. \n",
              "   1.00    3.25    8.50   10.30   17.25   23.00 "
            ]
          },
          "metadata": {}
        }
      ]
    },
    {
      "cell_type": "code",
      "metadata": {
        "colab": {
          "base_uri": "https://localhost:8080/"
        },
        "id": "VaZnJrs6W9ss",
        "outputId": "d795af8a-a517-4068-9941-005ceb036898"
      },
      "source": [
        "print(mean(qtd))\n",
        "print(median(qtd))\n",
        "print(mfv(qtd))"
      ],
      "execution_count": null,
      "outputs": [
        {
          "output_type": "stream",
          "name": "stdout",
          "text": [
            "[1] 10.3\n",
            "[1] 8.5\n",
            "[1] 3\n"
          ]
        }
      ]
    },
    {
      "cell_type": "code",
      "metadata": {
        "colab": {
          "base_uri": "https://localhost:8080/"
        },
        "id": "H_sp8l28w3wo",
        "outputId": "25d8e100-d8fc-4982-b1de-4f71e01a2e63"
      },
      "source": [
        "install.packages(\"modeest\")"
      ],
      "execution_count": null,
      "outputs": [
        {
          "output_type": "stream",
          "name": "stderr",
          "text": [
            "Installing package into ‘/usr/local/lib/R/site-library’\n",
            "(as ‘lib’ is unspecified)\n",
            "\n",
            "also installing the dependency ‘fBasics’\n",
            "\n",
            "\n"
          ]
        }
      ]
    },
    {
      "cell_type": "code",
      "metadata": {
        "colab": {
          "base_uri": "https://localhost:8080/",
          "height": 34
        },
        "id": "ZeGOc8ihY7ws",
        "outputId": "4a49cdb4-6a1d-4ea3-a634-522d087c9438"
      },
      "source": [
        "sqrt(1600)"
      ],
      "execution_count": null,
      "outputs": [
        {
          "output_type": "display_data",
          "data": {
            "text/plain": [
              "[1] 40"
            ],
            "text/latex": "40",
            "text/markdown": "40",
            "text/html": [
              "40"
            ]
          },
          "metadata": {}
        }
      ]
    },
    {
      "cell_type": "code",
      "metadata": {
        "id": "XAaecjG3bJA7"
      },
      "source": [
        "e = (0.3 ^2)\n",
        "p =0.5\n",
        "z2= (1.96 ^ 2)\n",
        "\n"
      ],
      "execution_count": null,
      "outputs": []
    },
    {
      "cell_type": "code",
      "metadata": {
        "id": "l4zSksBBbi9V"
      },
      "source": [
        "n = p * (1-p) * z2/e"
      ],
      "execution_count": null,
      "outputs": []
    },
    {
      "cell_type": "code",
      "metadata": {
        "colab": {
          "base_uri": "https://localhost:8080/"
        },
        "id": "ksQUoZQsbpRc",
        "outputId": "8a4804fa-1cd5-4747-a1f3-970ed4bbcc2b"
      },
      "source": [
        "print(n)"
      ],
      "execution_count": null,
      "outputs": [
        {
          "output_type": "stream",
          "name": "stdout",
          "text": [
            "[1] 10.67111\n"
          ]
        }
      ]
    },
    {
      "cell_type": "code",
      "metadata": {
        "id": "yn93x69xbq9T"
      },
      "source": [
        "N = 18000\n",
        "err = (0.1 ^2)\n",
        "p = 0.5\n",
        "Z= (1.96 ^2)\n"
      ],
      "execution_count": null,
      "outputs": []
    },
    {
      "cell_type": "code",
      "metadata": {
        "id": "s2DoWVydeQYI"
      },
      "source": [
        "nzinho = (N * p) * ((1-p) * Z)/ ((N-1) * err) + ((p *(1-p))*Z)"
      ],
      "execution_count": null,
      "outputs": []
    },
    {
      "cell_type": "code",
      "metadata": {
        "id": "kaiKxYyLflXn",
        "colab": {
          "base_uri": "https://localhost:8080/",
          "height": 34
        },
        "outputId": "8af9ea15-37a2-4a85-c9ec-5dcd996d255c"
      },
      "source": [
        "nzinho"
      ],
      "execution_count": null,
      "outputs": [
        {
          "output_type": "display_data",
          "data": {
            "text/plain": [
              "[1] 97.00574"
            ],
            "text/latex": "97.0057358519917",
            "text/markdown": "97.0057358519917",
            "text/html": [
              "97.0057358519917"
            ]
          },
          "metadata": {}
        }
      ]
    },
    {
      "cell_type": "code",
      "metadata": {
        "id": "WH0pNolfoBH7"
      },
      "source": [
        "percent_A = c(0.3,0.35,0.36,0.36,0.34,0.34,0.32,0.32,0.33,0.34,0.35,0.29,0.33,0.34,0.33)\n",
        "fat_A = c(16930,13333,10281,16550,13258,11222,15250,12488,8140,11194,10131,11292,13127,13432,12245)\n",
        "percent_B = c(0.43,0.32,0.43,0.36,0.41,0.33,0.32,0.36,0.42,0.43,0.42,0.43,0.38,0.43,0.42)\n",
        "fat_B = c(28303,22888,25935,23650,26185,28135,19250,21058,26857,23750,21384,25604,22350,23450,25086)\n",
        "visitas_A = c(1200,1300,1100,1300,1200,1300,1500,1400,1300,1400,1200,1500,1200,1100,1300)\n",
        "visitas_B = c(1400,1100,1300,1100,1200,1300,1000,1100,1400,1300,1200,1500,1600,1100,1300)"
      ],
      "execution_count": null,
      "outputs": []
    },
    {
      "cell_type": "code",
      "metadata": {
        "colab": {
          "base_uri": "https://localhost:8080/",
          "height": 136
        },
        "id": "sF883jtgp3MF",
        "outputId": "e5a67f2e-05f9-4a00-cece-ccd21022e2ed"
      },
      "source": [
        "summary(data.frame(percent_A,percent_B,fat_A,fat_B))"
      ],
      "execution_count": null,
      "outputs": [
        {
          "output_type": "display_data",
          "data": {
            "text/plain": [
              "   percent_A        percent_B          fat_A           fat_B      \n",
              " Min.   :0.2900   Min.   :0.3200   Min.   : 8140   Min.   :19250  \n",
              " 1st Qu.:0.3250   1st Qu.:0.3600   1st Qu.:11208   1st Qu.:22619  \n",
              " Median :0.3400   Median :0.4200   Median :12488   Median :23750  \n",
              " Mean   :0.3333   Mean   :0.3927   Mean   :12592   Mean   :24259  \n",
              " 3rd Qu.:0.3450   3rd Qu.:0.4300   3rd Qu.:13382   3rd Qu.:26060  \n",
              " Max.   :0.3600   Max.   :0.4300   Max.   :16930   Max.   :28303  "
            ]
          },
          "metadata": {}
        }
      ]
    },
    {
      "cell_type": "code",
      "metadata": {
        "id": "QMS7E23rsqc4"
      },
      "source": [
        "total_compras_a = sum(percent_A * visitas_A)\n",
        "total_visitas_a = sum(visitas_A)\n",
        "total_compras_b = sum(percent_B * visitas_B)\n",
        "total_visitas_b = sum(visitas_B)\n",
        "prop_A = total_compras_a/total_visitas_a\n",
        "prop_B = total_compras_b/total_visitas_b\n",
        "prop_geral = (total_visitas_a * prop_A+total_visitas_b * prop_B)/(total_visitas_a + total_visitas_b)\n",
        "alpha = 0.05\n",
        "z_calc = (prop_A-prop_B)/(sqrt((prop_geral *(1-prop_geral)/sum(visitas_A))+ prop_geral *(1-prop_geral)/sum(visitas_B)))\n"
      ],
      "execution_count": null,
      "outputs": []
    },
    {
      "cell_type": "code",
      "metadata": {
        "colab": {
          "base_uri": "https://localhost:8080/"
        },
        "id": "3lHPEuh7vQGI",
        "outputId": "0779db29-b043-4c86-93b0-f034e8e25060"
      },
      "source": [
        "print(z_calc)"
      ],
      "execution_count": null,
      "outputs": [
        {
          "output_type": "stream",
          "name": "stdout",
          "text": [
            "[1] -12.74807\n"
          ]
        }
      ]
    },
    {
      "cell_type": "code",
      "metadata": {
        "colab": {
          "base_uri": "https://localhost:8080/"
        },
        "id": "FweD-G33vZQ2",
        "outputId": "415b01a1-6217-4814-bf09-296693c4c0fb"
      },
      "source": [
        "if (abs(z_calc) > abs(qnorm(p=alpha/2))) {\n",
        " cat(\"Com um nível de significância alpha =\", alpha,\", há evidências para se rejeitar a hipótese nula e, portanto, dizer que existe diferença entre as duas proporções.\")\n",
        " } else {\n",
        " cat(\"Com um nível de significância alpha =\", alpha,\", não há evidências para se rejeitar a hipótese nula e, portanto, dizer que existe diferença entre as duas proporções.\")\n",
        " }"
      ],
      "execution_count": null,
      "outputs": [
        {
          "output_type": "stream",
          "name": "stdout",
          "text": [
            "Com um nível de significância alpha = 0.05 , há evidências para se rejeitar a hipótese nula e, portanto, dizer que existe diferença entre as duas proporções."
          ]
        }
      ]
    },
    {
      "cell_type": "code",
      "metadata": {
        "colab": {
          "base_uri": "https://localhost:8080/",
          "height": 221
        },
        "id": "dDxh4rCDqDLs",
        "outputId": "3773f6d5-a829-42ed-9710-36c80f14e61d"
      },
      "source": [
        "teste_ab_prop = prop.test(c(total_compras_a,total_compras_b),c(total_visitas_a,total_visitas_b),\n",
        "             alternative = \"two.sided\",correct = FALSE)\n",
        "teste_ab_prop"
      ],
      "execution_count": null,
      "outputs": [
        {
          "output_type": "display_data",
          "data": {
            "text/plain": [
              "\n",
              "\t2-sample test for equality of proportions without continuity\n",
              "\tcorrection\n",
              "\n",
              "data:  c(total_compras_a, total_compras_b) out of c(total_visitas_a, total_visitas_b)\n",
              "X-squared = 162.51, df = 1, p-value < 2.2e-16\n",
              "alternative hypothesis: two.sided\n",
              "95 percent confidence interval:\n",
              " -0.07238069 -0.05311921\n",
              "sample estimates:\n",
              "   prop 1    prop 2 \n",
              "0.3324352 0.3951852 \n"
            ]
          },
          "metadata": {}
        }
      ]
    },
    {
      "cell_type": "code",
      "metadata": {
        "colab": {
          "base_uri": "https://localhost:8080/",
          "height": 34
        },
        "id": "t2Z8nfwCqPB5",
        "outputId": "dc0f0631-35c2-4168-f60c-750a44c0b662"
      },
      "source": [
        "teste_ab_prop$p.value "
      ],
      "execution_count": null,
      "outputs": [
        {
          "output_type": "display_data",
          "data": {
            "text/plain": [
              "[1] 3.195447e-37"
            ],
            "text/latex": "3.19544741569129e-37",
            "text/markdown": "3.19544741569129e-37",
            "text/html": [
              "3.19544741569129e-37"
            ]
          },
          "metadata": {}
        }
      ]
    },
    {
      "cell_type": "code",
      "metadata": {
        "colab": {
          "base_uri": "https://localhost:8080/",
          "height": 34
        },
        "id": "f2s5ngMXqTry",
        "outputId": "7317e2e6-c3c6-4474-a1cf-642c8749ba21"
      },
      "source": [
        "teste_ab_prop$p.value < alpha "
      ],
      "execution_count": null,
      "outputs": [
        {
          "output_type": "display_data",
          "data": {
            "text/plain": [
              "[1] TRUE"
            ],
            "text/latex": "TRUE",
            "text/markdown": "TRUE",
            "text/html": [
              "TRUE"
            ]
          },
          "metadata": {}
        }
      ]
    },
    {
      "cell_type": "code",
      "metadata": {
        "colab": {
          "base_uri": "https://localhost:8080/",
          "height": 283
        },
        "id": "7hYFrDbRqsTy",
        "outputId": "fbe70275-b2ec-429b-903c-b35b87142513"
      },
      "source": [
        "dados = data.frame(site = cbind(c(rep(\"A\",15), rep(\"B\",15))), faturamento = cbind(c(fat_A, fat_B)))\n",
        "head(dados)"
      ],
      "execution_count": null,
      "outputs": [
        {
          "output_type": "display_data",
          "data": {
            "text/plain": [
              "  site faturamento\n",
              "1 A    16930      \n",
              "2 A    13333      \n",
              "3 A    10281      \n",
              "4 A    16550      \n",
              "5 A    13258      \n",
              "6 A    11222      "
            ],
            "text/latex": "A data.frame: 6 × 2\n\\begin{tabular}{r|ll}\n  & site & faturamento\\\\\n  & <chr> & <dbl>\\\\\n\\hline\n\t1 & A & 16930\\\\\n\t2 & A & 13333\\\\\n\t3 & A & 10281\\\\\n\t4 & A & 16550\\\\\n\t5 & A & 13258\\\\\n\t6 & A & 11222\\\\\n\\end{tabular}\n",
            "text/markdown": "\nA data.frame: 6 × 2\n\n| <!--/--> | site &lt;chr&gt; | faturamento &lt;dbl&gt; |\n|---|---|---|\n| 1 | A | 16930 |\n| 2 | A | 13333 |\n| 3 | A | 10281 |\n| 4 | A | 16550 |\n| 5 | A | 13258 |\n| 6 | A | 11222 |\n\n",
            "text/html": [
              "<table class=\"dataframe\">\n",
              "<caption>A data.frame: 6 × 2</caption>\n",
              "<thead>\n",
              "\t<tr><th></th><th scope=col>site</th><th scope=col>faturamento</th></tr>\n",
              "\t<tr><th></th><th scope=col>&lt;chr&gt;</th><th scope=col>&lt;dbl&gt;</th></tr>\n",
              "</thead>\n",
              "<tbody>\n",
              "\t<tr><th scope=row>1</th><td>A</td><td>16930</td></tr>\n",
              "\t<tr><th scope=row>2</th><td>A</td><td>13333</td></tr>\n",
              "\t<tr><th scope=row>3</th><td>A</td><td>10281</td></tr>\n",
              "\t<tr><th scope=row>4</th><td>A</td><td>16550</td></tr>\n",
              "\t<tr><th scope=row>5</th><td>A</td><td>13258</td></tr>\n",
              "\t<tr><th scope=row>6</th><td>A</td><td>11222</td></tr>\n",
              "</tbody>\n",
              "</table>\n"
            ]
          },
          "metadata": {}
        }
      ]
    },
    {
      "cell_type": "code",
      "metadata": {
        "colab": {
          "base_uri": "https://localhost:8080/",
          "height": 204
        },
        "id": "AZZ0o0wyq39C",
        "outputId": "e4a24316-259f-42a1-9d8a-f0c91d735beb"
      },
      "source": [
        "t.test(faturamento~site, alternative='two.sided', conf.level=(1-alpha), \n",
        "    var.equal=TRUE, data=dados)"
      ],
      "execution_count": null,
      "outputs": [
        {
          "output_type": "display_data",
          "data": {
            "text/plain": [
              "\n",
              "\tTwo Sample t-test\n",
              "\n",
              "data:  faturamento by site\n",
              "t = -12.675, df = 28, p-value = 4.055e-13\n",
              "alternative hypothesis: true difference in means between group A and group B is not equal to 0\n",
              "95 percent confidence interval:\n",
              " -13553.105  -9781.828\n",
              "sample estimates:\n",
              "mean in group A mean in group B \n",
              "       12591.53        24259.00 \n"
            ]
          },
          "metadata": {}
        }
      ]
    },
    {
      "cell_type": "code",
      "metadata": {
        "id": "SFXlNPmWrZBD"
      },
      "source": [
        "fat_pag_A = c(758.6,849.2,1046.3,677.4,834.9,678.8,685.2,793,763.9,978.5)\n",
        "fat_pag_B = c(943.1,1215,1321.4,995.7,1141.5,1337.1,933.4,1080.3,1029.8,1186.3)\n",
        "A = rep(\"A\",10)\n",
        "B = rep(\"B\",10)"
      ],
      "execution_count": null,
      "outputs": []
    },
    {
      "cell_type": "code",
      "metadata": {
        "id": "s0mzkyHnrktL"
      },
      "source": [
        "alpha = 0.05"
      ],
      "execution_count": null,
      "outputs": []
    },
    {
      "cell_type": "code",
      "metadata": {
        "id": "HRkIhkNtrola"
      },
      "source": [
        "dados = data.frame(site = cbind(c(A, B)), faturamento = cbind(c(fat_pag_A, fat_pag_B)))"
      ],
      "execution_count": null,
      "outputs": []
    },
    {
      "cell_type": "code",
      "metadata": {
        "colab": {
          "base_uri": "https://localhost:8080/",
          "height": 204
        },
        "id": "idpsxxeRrre8",
        "outputId": "30d0702e-6c60-4037-fda3-b7eb6f95ca11"
      },
      "source": [
        "t.test(faturamento~site, alternative='two.sided', conf.level=(1-alpha), \n",
        "    var.equal=TRUE, data=dados)"
      ],
      "execution_count": null,
      "outputs": [
        {
          "output_type": "display_data",
          "data": {
            "text/plain": [
              "\n",
              "\tTwo Sample t-test\n",
              "\n",
              "data:  faturamento by site\n",
              "t = -5.1139, df = 18, p-value = 7.26e-05\n",
              "alternative hypothesis: true difference in means between group A and group B is not equal to 0\n",
              "95 percent confidence interval:\n",
              " -439.866 -183.694\n",
              "sample estimates:\n",
              "mean in group A mean in group B \n",
              "         806.58         1118.36 \n"
            ]
          },
          "metadata": {}
        }
      ]
    },
    {
      "cell_type": "code",
      "metadata": {
        "colab": {
          "base_uri": "https://localhost:8080/",
          "height": 221
        },
        "id": "Cj6YCBevsG9y",
        "outputId": "8b3428e2-763a-49b8-c25b-0974dc762aa9"
      },
      "source": [
        "recl_mod_a = 223\n",
        "recl_mod_b = 194\n",
        "total_mod_a = 3745\n",
        "total_mod_b = 3565\n",
        "teste_ab_prop = prop.test(c(recl_mod_a,recl_mod_b),c(total_mod_a,total_mod_b),alternative = \"two.sided\", correct = FALSE)\n",
        "teste_ab_prop"
      ],
      "execution_count": null,
      "outputs": [
        {
          "output_type": "display_data",
          "data": {
            "text/plain": [
              "\n",
              "\t2-sample test for equality of proportions without continuity\n",
              "\tcorrection\n",
              "\n",
              "data:  c(recl_mod_a, recl_mod_b) out of c(total_mod_a, total_mod_b)\n",
              "X-squared = 0.89289, df = 1, p-value = 0.3447\n",
              "alternative hypothesis: two.sided\n",
              "95 percent confidence interval:\n",
              " -0.005496848  0.015753066\n",
              "sample estimates:\n",
              "    prop 1     prop 2 \n",
              "0.05954606 0.05441795 \n"
            ]
          },
          "metadata": {}
        }
      ]
    },
    {
      "cell_type": "code",
      "metadata": {
        "colab": {
          "base_uri": "https://localhost:8080/",
          "height": 283
        },
        "id": "0_2bwIuuvcy0",
        "outputId": "79a6cd10-f9e6-4676-b2d4-b0101f1ae85e"
      },
      "source": [
        "cargos=c(rep(\"JR\",5),rep(\"PL\",5),rep(\"SR\",5),rep(\"CD\",5))\n",
        "\n",
        "distancias = c(8,9,13,10,8,7,5,9,10,11,4,6,5,3,8,3,3,2,4,5)\n",
        "\n",
        "\n",
        "dist_cargo = data.frame(cargos=cargos, distancias=distancias)\n",
        "head(dist_cargo)"
      ],
      "execution_count": null,
      "outputs": [
        {
          "output_type": "display_data",
          "data": {
            "text/plain": [
              "  cargos distancias\n",
              "1 JR      8        \n",
              "2 JR      9        \n",
              "3 JR     13        \n",
              "4 JR     10        \n",
              "5 JR      8        \n",
              "6 PL      7        "
            ],
            "text/latex": "A data.frame: 6 × 2\n\\begin{tabular}{r|ll}\n  & cargos & distancias\\\\\n  & <chr> & <dbl>\\\\\n\\hline\n\t1 & JR &  8\\\\\n\t2 & JR &  9\\\\\n\t3 & JR & 13\\\\\n\t4 & JR & 10\\\\\n\t5 & JR &  8\\\\\n\t6 & PL &  7\\\\\n\\end{tabular}\n",
            "text/markdown": "\nA data.frame: 6 × 2\n\n| <!--/--> | cargos &lt;chr&gt; | distancias &lt;dbl&gt; |\n|---|---|---|\n| 1 | JR |  8 |\n| 2 | JR |  9 |\n| 3 | JR | 13 |\n| 4 | JR | 10 |\n| 5 | JR |  8 |\n| 6 | PL |  7 |\n\n",
            "text/html": [
              "<table class=\"dataframe\">\n",
              "<caption>A data.frame: 6 × 2</caption>\n",
              "<thead>\n",
              "\t<tr><th></th><th scope=col>cargos</th><th scope=col>distancias</th></tr>\n",
              "\t<tr><th></th><th scope=col>&lt;chr&gt;</th><th scope=col>&lt;dbl&gt;</th></tr>\n",
              "</thead>\n",
              "<tbody>\n",
              "\t<tr><th scope=row>1</th><td>JR</td><td> 8</td></tr>\n",
              "\t<tr><th scope=row>2</th><td>JR</td><td> 9</td></tr>\n",
              "\t<tr><th scope=row>3</th><td>JR</td><td>13</td></tr>\n",
              "\t<tr><th scope=row>4</th><td>JR</td><td>10</td></tr>\n",
              "\t<tr><th scope=row>5</th><td>JR</td><td> 8</td></tr>\n",
              "\t<tr><th scope=row>6</th><td>PL</td><td> 7</td></tr>\n",
              "</tbody>\n",
              "</table>\n"
            ]
          },
          "metadata": {}
        }
      ]
    },
    {
      "cell_type": "code",
      "metadata": {
        "colab": {
          "base_uri": "https://localhost:8080/",
          "height": 437
        },
        "id": "VdZ3KPpnvj29",
        "outputId": "68f04a92-a900-4a0d-8130-9972d832805a"
      },
      "source": [
        "cargo_medias = aggregate(dist_cargo$distancias, list(dist_cargo$cargos), mean)\n",
        "colnames(cargo_medias) = c(\"cargo\", \"média\")\n",
        "\n",
        "\n",
        "barplot(height = cargo_medias$média, names = cargo_medias$cargo, \n",
        "    xlab=\"Cargos\",ylab=\"Distância Média em KM\", main=\"Distância média percorrida até o trabalho por nível de cargo\")"
      ],
      "execution_count": null,
      "outputs": [
        {
          "output_type": "display_data",
          "data": {
            "image/png": "[encoded data removed]",
            "text/plain": [
              "Plot with title “Distância média percorrida até o trabalho por nível de cargo”"
            ]
          },
          "metadata": {
            "image/png": {
              "width": 420,
              "height": 420
            }
          }
        }
      ]
    },
    {
      "cell_type": "code",
      "metadata": {
        "colab": {
          "base_uri": "https://localhost:8080/"
        },
        "id": "fRpFZLVNvsC1",
        "outputId": "d25e4703-54ed-4206-8e59-371f9ca705dc"
      },
      "source": [
        "install.packages(\"agricolae\")"
      ],
      "execution_count": null,
      "outputs": [
        {
          "output_type": "stream",
          "name": "stderr",
          "text": [
            "Installing package into ‘/usr/local/lib/R/site-library’\n",
            "(as ‘lib’ is unspecified)\n",
            "\n",
            "also installing the dependencies ‘sass’, ‘R.methodsS3’, ‘R.oo’, ‘R.utils’, ‘proxy’, ‘httpuv’, ‘xtable’, ‘fontawesome’, ‘sourcetools’, ‘later’, ‘promises’, ‘bslib’, ‘R.cache’, ‘e1071’, ‘shiny’, ‘miniUI’, ‘styler’, ‘classInt’, ‘labelled’, ‘combinat’, ‘questionr’, ‘klaR’, ‘AlgDesign’\n",
            "\n",
            "\n"
          ]
        }
      ]
    },
    {
      "cell_type": "code",
      "metadata": {
        "colab": {
          "base_uri": "https://localhost:8080/",
          "height": 102
        },
        "id": "UT8jylf2v2hs",
        "outputId": "dc0a15e7-52df-4593-c721-9eded2572578"
      },
      "source": [
        "library(agricolae)\n",
        "\n",
        "modelo_anova<-aov(distancias~cargos, data=dist_cargo)\n",
        "summary(modelo_anova)"
      ],
      "execution_count": null,
      "outputs": [
        {
          "output_type": "display_data",
          "data": {
            "text/plain": [
              "            Df Sum Sq Mean Sq F value   Pr(>F)    \n",
              "cargos       3  122.2   40.72   10.79 0.000403 ***\n",
              "Residuals   16   60.4    3.78                     \n",
              "---\n",
              "Signif. codes:  0 ‘***’ 0.001 ‘**’ 0.01 ‘*’ 0.05 ‘.’ 0.1 ‘ ’ 1"
            ]
          },
          "metadata": {}
        }
      ]
    },
    {
      "cell_type": "code",
      "metadata": {
        "colab": {
          "base_uri": "https://localhost:8080/"
        },
        "id": "yHBf2slcxZwI",
        "outputId": "8a6d272b-e038-424e-fec6-7eb1a0f229b8"
      },
      "source": [
        "teste_F <- LSD.test(modelo_anova,\"cargos\", p.adj=\"bonferroni\")\n",
        "print(teste_F)"
      ],
      "execution_count": null,
      "outputs": [
        {
          "output_type": "stream",
          "name": "stdout",
          "text": [
            "$statistics\n",
            "  MSerror Df Mean       CV  t.value      MSD\n",
            "    3.775 16 6.65 29.21708 3.008334 3.696703\n",
            "\n",
            "$parameters\n",
            "        test  p.ajusted name.t ntr alpha\n",
            "  Fisher-LSD bonferroni cargos   4  0.05\n",
            "\n",
            "$means\n",
            "   distancias      std r      LCL       UCL Min Max Q25 Q50 Q75\n",
            "CD        3.4 1.140175 5 1.557999  5.242001   2   5   3   3   4\n",
            "JR        9.6 2.073644 5 7.757999 11.442001   8  13   8   9  10\n",
            "PL        8.4 2.408319 5 6.557999 10.242001   5  11   7   9  10\n",
            "SR        5.2 1.923538 5 3.357999  7.042001   3   8   4   5   6\n",
            "\n",
            "$comparison\n",
            "NULL\n",
            "\n",
            "$groups\n",
            "   distancias groups\n",
            "JR        9.6      a\n",
            "PL        8.4     ab\n",
            "SR        5.2     bc\n",
            "CD        3.4      c\n",
            "\n",
            "attr(,\"class\")\n",
            "[1] \"group\"\n"
          ]
        }
      ]
    },
    {
      "cell_type": "code",
      "metadata": {
        "colab": {
          "base_uri": "https://localhost:8080/",
          "height": 437
        },
        "id": "L4LO88w0xfXl",
        "outputId": "817fa231-8ea6-4dc4-b714-fc70eb304151"
      },
      "source": [
        "plot(teste_F)"
      ],
      "execution_count": null,
      "outputs": [
        {
          "output_type": "display_data",
          "data": {
            "image/png": "[encoded data removed]",
            "text/plain": [
              "Plot with title “Groups and Range”"
            ]
          },
          "metadata": {
            "image/png": {
              "width": 420,
              "height": 420
            }
          }
        }
      ]
    },
    {
      "cell_type": "code",
      "metadata": {
        "colab": {
          "base_uri": "https://localhost:8080/"
        },
        "id": "ypz01HbX6fKL",
        "outputId": "f296bb87-f3a9-46a8-faaf-10d2b58db0b4"
      },
      "source": [
        "alpha = 0.05\n",
        "n = 100\n",
        "z_critico = qnorm(1-alpha/2, mean =0, sd = 1)\n",
        "print(z_critico) "
      ],
      "execution_count": null,
      "outputs": [
        {
          "output_type": "stream",
          "name": "stdout",
          "text": [
            "[1] 1.959964\n"
          ]
        }
      ]
    },
    {
      "cell_type": "code",
      "metadata": {
        "colab": {
          "base_uri": "https://localhost:8080/"
        },
        "id": "NlEh7KyH7ExC",
        "outputId": "51764e78-5076-4c30-f8c6-0eb4a043ab8f"
      },
      "source": [
        "p_est = 72/100\n",
        "LI = (p_est-z_critico*sqrt((p_est* (1-p_est))/n))\n",
        "LS = (p_est+z_critico*sqrt((p_est* (1-p_est))/n))\n",
        "print(c(LI,LS))"
      ],
      "execution_count": null,
      "outputs": [
        {
          "output_type": "stream",
          "name": "stdout",
          "text": [
            "[1] 0.6319978 0.8080022\n"
          ]
        }
      ]
    },
    {
      "cell_type": "code",
      "metadata": {
        "colab": {
          "base_uri": "https://localhost:8080/"
        },
        "id": "_7kGVPlVzVlO",
        "outputId": "152089ae-b948-4e5c-aef2-062412a91a94"
      },
      "source": [
        "tempo = c(28, 31, 36, 31, 34, 23, 24, 33, 30, 37, 32, 28, 26, 30, 37, 29, 27, 33, 28, 37, 31, 33, 23, 41, 34, 26, 28, 32, 28, 32, 33, 29, 26, 22, 26, 32, 28, 35, 29, 27, 20, 28, 31, 33, 29, 31, 32, 30, 32, 32)\n",
        "n = length(tempo)\n",
        "alpha = 0.05\n",
        "t_critico = qt(1-alpha/2, df = n-1)\n",
        "print(t_critico)"
      ],
      "execution_count": null,
      "outputs": [
        {
          "output_type": "stream",
          "name": "stdout",
          "text": [
            "[1] 2.009575\n"
          ]
        }
      ]
    },
    {
      "cell_type": "code",
      "metadata": {
        "colab": {
          "base_uri": "https://localhost:8080/"
        },
        "id": "Q2c_CbS0zbae",
        "outputId": "d39b5d9b-aea8-4a3b-fead-75895fcf8a15"
      },
      "source": [
        "LI = (mean(tempo) - t_critico*sd(tempo)/sqrt(n))\n",
        "LS = (mean(tempo) + t_critico*sd(tempo)/sqrt(n))\n",
        "print(c(LI, LS))"
      ],
      "execution_count": null,
      "outputs": [
        {
          "output_type": "stream",
          "name": "stdout",
          "text": [
            "[1] 28.95632 31.32368\n"
          ]
        }
      ]
    },
    {
      "cell_type": "code",
      "metadata": {
        "colab": {
          "base_uri": "https://localhost:8080/",
          "height": 204
        },
        "id": "Qhk84sxSzfgg",
        "outputId": "f1175313-8aa7-45cd-9fb6-985a3f926d7e"
      },
      "source": [
        "t.test(tempo, conf.level = 1-alpha)"
      ],
      "execution_count": null,
      "outputs": [
        {
          "output_type": "display_data",
          "data": {
            "text/plain": [
              "\n",
              "\tOne Sample t-test\n",
              "\n",
              "data:  tempo\n",
              "t = 51.17, df = 49, p-value < 2.2e-16\n",
              "alternative hypothesis: true mean is not equal to 0\n",
              "95 percent confidence interval:\n",
              " 28.95632 31.32368\n",
              "sample estimates:\n",
              "mean of x \n",
              "    30.14 \n"
            ]
          },
          "metadata": {}
        }
      ]
    },
    {
      "cell_type": "code",
      "metadata": {
        "colab": {
          "base_uri": "https://localhost:8080/"
        },
        "id": "aaAcPhKIzrVl",
        "outputId": "d5e855df-306b-45d1-abdd-dea775a63451"
      },
      "source": [
        "pesquisa = matrix(c(130,87,155,\n",
        "          20,13,15), byrow = T,ncol=3)\n",
        "colnames(pesquisa) = c(\"marrocos\", \"porto_rico\",\"italia\")\n",
        "rownames(pesquisa) = c(\"satisfeito\", \"insatisfeito\")\n",
        "print(pesquisa)"
      ],
      "execution_count": null,
      "outputs": [
        {
          "output_type": "stream",
          "name": "stdout",
          "text": [
            "             marrocos porto_rico italia\n",
            "satisfeito        130         87    155\n",
            "insatisfeito       20         13     15\n"
          ]
        }
      ]
    },
    {
      "cell_type": "code",
      "metadata": {
        "colab": {
          "base_uri": "https://localhost:8080/",
          "height": 102
        },
        "id": "gJCcMj6Zzxjn",
        "outputId": "7caa8ff1-acf1-40b9-c26a-f3342adf91e0"
      },
      "source": [
        "chisq.test(pesquisa, correct = F)"
      ],
      "execution_count": null,
      "outputs": [
        {
          "output_type": "display_data",
          "data": {
            "text/plain": [
              "\n",
              "\tPearson's Chi-squared test\n",
              "\n",
              "data:  pesquisa\n",
              "X-squared = 1.9213, df = 2, p-value = 0.3826\n"
            ]
          },
          "metadata": {}
        }
      ]
    },
    {
      "cell_type": "code",
      "metadata": {
        "colab": {
          "base_uri": "https://localhost:8080/",
          "height": 159
        },
        "id": "C73_yZ7b0O42",
        "outputId": "29b4a30f-7cbc-4148-cca3-e84bfa2782a9"
      },
      "source": [
        "faixa_sono = matrix(c(15,16,44,13,\n",
        "           8,9,14,7,\n",
        "           13,18,86,21), byrow=T, ncol=4)\n",
        "colnames(faixa_sono) = c(\"2_a_4\", \"5_a_6\",\"7_a_8\",\"8mais\")\n",
        "rownames(faixa_sono) = c(\"satisfeito\", \"indiferente\",\"insatisfeito\")\n",
        "faixa_sono"
      ],
      "execution_count": null,
      "outputs": [
        {
          "output_type": "display_data",
          "data": {
            "text/plain": [
              "             2_a_4 5_a_6 7_a_8 8mais\n",
              "satisfeito   15    16    44    13   \n",
              "indiferente   8     9    14     7   \n",
              "insatisfeito 13    18    86    21   "
            ],
            "text/latex": "A matrix: 3 × 4 of type dbl\n\\begin{tabular}{r|llll}\n  & 2\\_a\\_4 & 5\\_a\\_6 & 7\\_a\\_8 & 8mais\\\\\n\\hline\n\tsatisfeito & 15 & 16 & 44 & 13\\\\\n\tindiferente &  8 &  9 & 14 &  7\\\\\n\tinsatisfeito & 13 & 18 & 86 & 21\\\\\n\\end{tabular}\n",
            "text/markdown": "\nA matrix: 3 × 4 of type dbl\n\n| <!--/--> | 2_a_4 | 5_a_6 | 7_a_8 | 8mais |\n|---|---|---|---|---|\n| satisfeito | 15 | 16 | 44 | 13 |\n| indiferente |  8 |  9 | 14 |  7 |\n| insatisfeito | 13 | 18 | 86 | 21 |\n\n",
            "text/html": [
              "<table class=\"dataframe\">\n",
              "<caption>A matrix: 3 × 4 of type dbl</caption>\n",
              "<thead>\n",
              "\t<tr><th></th><th scope=col>2_a_4</th><th scope=col>5_a_6</th><th scope=col>7_a_8</th><th scope=col>8mais</th></tr>\n",
              "</thead>\n",
              "<tbody>\n",
              "\t<tr><th scope=row>satisfeito</th><td>15</td><td>16</td><td>44</td><td>13</td></tr>\n",
              "\t<tr><th scope=row>indiferente</th><td> 8</td><td> 9</td><td>14</td><td> 7</td></tr>\n",
              "\t<tr><th scope=row>insatisfeito</th><td>13</td><td>18</td><td>86</td><td>21</td></tr>\n",
              "</tbody>\n",
              "</table>\n"
            ]
          },
          "metadata": {}
        }
      ]
    },
    {
      "cell_type": "code",
      "metadata": {
        "colab": {
          "base_uri": "https://localhost:8080/",
          "height": 102
        },
        "id": "9IuD8Qbt0Tuk",
        "outputId": "86ad2b20-2df1-4afd-8499-01a5b92a1e53"
      },
      "source": [
        "chisq.test(faixa_sono, correct = F)"
      ],
      "execution_count": null,
      "outputs": [
        {
          "output_type": "display_data",
          "data": {
            "text/plain": [
              "\n",
              "\tPearson's Chi-squared test\n",
              "\n",
              "data:  faixa_sono\n",
              "X-squared = 10.735, df = 6, p-value = 0.09693\n"
            ]
          },
          "metadata": {}
        }
      ]
    },
    {
      "cell_type": "code",
      "metadata": {
        "colab": {
          "base_uri": "https://localhost:8080/"
        },
        "id": "_OvCoa3p0W1c",
        "outputId": "279096dc-9c08-4227-8567-8d9e7df3546b"
      },
      "source": [
        "n_amostra_infinita = (5) * (1.96^2)/(0.2^2)\n",
        "print(n_amostra_infinita)"
      ],
      "execution_count": null,
      "outputs": [
        {
          "output_type": "stream",
          "name": "stdout",
          "text": [
            "[1] 480.2\n"
          ]
        }
      ]
    },
    {
      "cell_type": "code",
      "metadata": {
        "colab": {
          "base_uri": "https://localhost:8080/"
        },
        "id": "AbOytEpdHIXl",
        "outputId": "6210a25d-0045-4d4d-97d5-508cd6449135"
      },
      "source": [
        "n_finita = (15000 *(0.5) *(1-0.5) * ((1.96 ^ 2))) / ((15000-1) * ((5/100) * (5/100))) + 0.5 *(1-0.5) *((1.96 ^2))\n",
        "print(n_finita)"
      ],
      "execution_count": null,
      "outputs": [
        {
          "output_type": "stream",
          "name": "stdout",
          "text": [
            "[1] 385.146\n"
          ]
        }
      ]
    },
    {
      "cell_type": "code",
      "metadata": {
        "colab": {
          "base_uri": "https://localhost:8080/"
        },
        "id": "V0pqqW-_yXty",
        "outputId": "93432979-8a09-443d-f33e-0fb3dc0af81b"
      },
      "source": [
        "library  (modeest)\n",
        "\n",
        "moda_alg24.1 = mfv(dados$algodao_fio24.1)   # moda\n",
        "\n",
        "print(rbind(media_alg24.1, mediana_alg24.1, moda_alg24.1))  "
      ],
      "execution_count": null,
      "outputs": [
        {
          "output_type": "stream",
          "name": "stdout",
          "text": [
            "                   [,1]\n",
            "media_alg24.1   151.625\n",
            "mediana_alg24.1 135.000\n",
            "moda_alg24.1    130.000\n"
          ]
        }
      ]
    },
    {
      "cell_type": "code",
      "metadata": {
        "id": "qLNH77wUWum5"
      },
      "source": [
        "idades_w = c(18,18,19,20,20,20,20,20,20,21,21,22,23,24,25,25,25,26,29,30,35,37)"
      ],
      "execution_count": null,
      "outputs": []
    },
    {
      "cell_type": "code",
      "metadata": {
        "colab": {
          "base_uri": "https://localhost:8080/",
          "height": 51
        },
        "id": "vU19YtTsXCK0",
        "outputId": "2ba5aa29-6dc4-4f03-fb6e-e4908c5965eb"
      },
      "source": [
        "summary(idades_w)"
      ],
      "execution_count": null,
      "outputs": [
        {
          "output_type": "display_data",
          "data": {
            "text/plain": [
              "   Min. 1st Qu.  Median    Mean 3rd Qu.    Max. \n",
              "  18.00   20.00   21.50   23.55   25.00   37.00 "
            ]
          },
          "metadata": {}
        }
      ]
    },
    {
      "cell_type": "code",
      "metadata": {
        "colab": {
          "base_uri": "https://localhost:8080/",
          "height": 437
        },
        "id": "qeqK0_mEXJOb",
        "outputId": "f80f824d-e182-4c47-deb4-b40e267a7449"
      },
      "source": [
        "boxplot(idades_w)"
      ],
      "execution_count": null,
      "outputs": [
        {
          "output_type": "display_data",
          "data": {
            "image/png": "[encoded data removed]",
            "text/plain": [
              "plot without title"
            ]
          },
          "metadata": {
            "image/png": {
              "width": 420,
              "height": 420
            }
          }
        }
      ]
    },
    {
      "cell_type": "code",
      "metadata": {
        "colab": {
          "base_uri": "https://localhost:8080/",
          "height": 437
        },
        "id": "aqXzz4RjXfo0",
        "outputId": "e583a86c-70d3-4016-ed2e-0f6e7b8b2d58"
      },
      "source": [
        "boxplot(idades_w, ylim = c(18,37), main = \"Idades dos beneficiarios\", y1ab = \"Idade\")\n",
        "points(mean(idades_w), pch = 5)"
      ],
      "execution_count": null,
      "outputs": [
        {
          "output_type": "display_data",
          "data": {
            "image/png": "[encoded data removed]",
            "text/plain": [
              "Plot with title “Idades dos beneficiarios”"
            ]
          },
          "metadata": {
            "image/png": {
              "width": 420,
              "height": 420
            }
          }
        }
      ]
    },
    {
      "cell_type": "code",
      "metadata": {
        "colab": {
          "base_uri": "https://localhost:8080/"
        },
        "id": "eNQxMJ86y7bn",
        "outputId": "7a452963-e9e0-496d-e5a1-7f1c3d9f112f"
      },
      "source": [
        "media_poli_comum = mean(dados$poliester_comum)   # média\n",
        "\n",
        "mediana_poli_comum = median(dados$poliester_comum)   # mediana\n",
        "\n",
        "moda_poli_comum = NA   # moda\n",
        "\n",
        "print(rbind(media_poli_comum, mediana_poli_comum, moda_poli_comum)) "
      ],
      "execution_count": null,
      "outputs": [
        {
          "output_type": "stream",
          "name": "stdout",
          "text": [
            "                      [,1]\n",
            "media_poli_comum   119.625\n",
            "mediana_poli_comum 122.000\n",
            "moda_poli_comum         NA\n"
          ]
        }
      ]
    },
    {
      "cell_type": "code",
      "metadata": {
        "colab": {
          "base_uri": "https://localhost:8080/"
        },
        "id": "rj8V4P4azBxw",
        "outputId": "2ec047af-a17a-4209-d70a-6bd941330068"
      },
      "source": [
        "media_poli_uv = mean(dados$poliester_uv)   # média\n",
        "\n",
        "mediana_poli_uv = median(dados$poliester_uv)   # mediana\n",
        "\n",
        "moda_poli_uv = mfv(dados$poliester_uv)  # moda\n",
        "\n",
        "print(rbind(media_poli_uv, mediana_poli_uv, moda_poli_uv))  "
      ],
      "execution_count": null,
      "outputs": [
        {
          "output_type": "stream",
          "name": "stdout",
          "text": [
            "                  [,1]\n",
            "media_poli_uv   81.375\n",
            "mediana_poli_uv 85.000\n",
            "moda_poli_uv    85.000\n"
          ]
        }
      ]
    },
    {
      "cell_type": "code",
      "metadata": {
        "colab": {
          "base_uri": "https://localhost:8080/"
        },
        "id": "4VeLKuNBzG6n",
        "outputId": "64d3b02b-710c-4c6c-82d1-09d2ff15eba7"
      },
      "source": [
        "tabela_resumo = data.frame('Medida'=c('Média' ,'Mediana' ,'Moda'),\n",
        "'Malha Algodão (Fio 24.1)'=c(media_alg24.1,mediana_alg24.1,moda_alg24.1),\n",
        "'Malha Poliéster Comum'=c(media_poli_comum, mediana_poli_comum, moda_poli_comum),\n",
        "'Malha Poliéster Proteção UV' = c(media_poli_uv, mediana_poli_uv, moda_poli_uv))\n",
        "print(tabela_resumo)"
      ],
      "execution_count": null,
      "outputs": [
        {
          "output_type": "stream",
          "name": "stdout",
          "text": [
            "   Medida Malha.Algodão..Fio.24.1. Malha.Poliéster.Comum\n",
            "1   Média                  151.625               119.625\n",
            "2 Mediana                  135.000               122.000\n",
            "3    Moda                  130.000                    NA\n",
            "  Malha.Poliéster.Proteção.UV\n",
            "1                      81.375\n",
            "2                      85.000\n",
            "3                      85.000\n"
          ]
        }
      ]
    },
    {
      "cell_type": "code",
      "metadata": {
        "id": "pW23-Eia0Iuo"
      },
      "source": [
        "funcis = c (\"Mês 1\",\"Mês 2\", \"Mês 3\")\n",
        "Paulo = c(4128,2850,6780)\n",
        "Roberta = c(3750,4350, 4150)\n",
        "Tereza  = c(2255 , 2385, 8325)\n",
        "Jeferson = c( 3673, 5685, 3675)\n",
        "Antonio = c(5125,6375,5572)"
      ],
      "execution_count": null,
      "outputs": []
    },
    {
      "cell_type": "code",
      "metadata": {
        "id": "mKuj0yIC53aA"
      },
      "source": [
        "data = data.frame(funcis,Paulo, Roberta,Tereza,Jeferson,Antonio)"
      ],
      "execution_count": null,
      "outputs": []
    },
    {
      "cell_type": "code",
      "metadata": {
        "id": "Lj-jOq0H6D8z",
        "colab": {
          "base_uri": "https://localhost:8080/",
          "height": 190
        },
        "outputId": "36901b4b-7f1b-4e25-d7ab-7e2ae7528c81"
      },
      "source": [
        "data"
      ],
      "execution_count": null,
      "outputs": [
        {
          "output_type": "display_data",
          "data": {
            "text/plain": [
              "  funcis Paulo Roberta Tereza Jeferson Antonio\n",
              "1 Mês 1  4128  3750    2255   3673     5125   \n",
              "2 Mês 2  2850  4350    2385   5685     6375   \n",
              "3 Mês 3  6780  4150    8325   3675     5572   "
            ],
            "text/latex": "A data.frame: 3 × 6\n\\begin{tabular}{llllll}\n funcis & Paulo & Roberta & Tereza & Jeferson & Antonio\\\\\n <chr> & <dbl> & <dbl> & <dbl> & <dbl> & <dbl>\\\\\n\\hline\n\t Mês 1 & 4128 & 3750 & 2255 & 3673 & 5125\\\\\n\t Mês 2 & 2850 & 4350 & 2385 & 5685 & 6375\\\\\n\t Mês 3 & 6780 & 4150 & 8325 & 3675 & 5572\\\\\n\\end{tabular}\n",
            "text/markdown": "\nA data.frame: 3 × 6\n\n| funcis &lt;chr&gt; | Paulo &lt;dbl&gt; | Roberta &lt;dbl&gt; | Tereza &lt;dbl&gt; | Jeferson &lt;dbl&gt; | Antonio &lt;dbl&gt; |\n|---|---|---|---|---|---|\n| Mês 1 | 4128 | 3750 | 2255 | 3673 | 5125 |\n| Mês 2 | 2850 | 4350 | 2385 | 5685 | 6375 |\n| Mês 3 | 6780 | 4150 | 8325 | 3675 | 5572 |\n\n",
            "text/html": [
              "<table class=\"dataframe\">\n",
              "<caption>A data.frame: 3 × 6</caption>\n",
              "<thead>\n",
              "\t<tr><th scope=col>funcis</th><th scope=col>Paulo</th><th scope=col>Roberta</th><th scope=col>Tereza</th><th scope=col>Jeferson</th><th scope=col>Antonio</th></tr>\n",
              "\t<tr><th scope=col>&lt;chr&gt;</th><th scope=col>&lt;dbl&gt;</th><th scope=col>&lt;dbl&gt;</th><th scope=col>&lt;dbl&gt;</th><th scope=col>&lt;dbl&gt;</th><th scope=col>&lt;dbl&gt;</th></tr>\n",
              "</thead>\n",
              "<tbody>\n",
              "\t<tr><td>Mês 1</td><td>4128</td><td>3750</td><td>2255</td><td>3673</td><td>5125</td></tr>\n",
              "\t<tr><td>Mês 2</td><td>2850</td><td>4350</td><td>2385</td><td>5685</td><td>6375</td></tr>\n",
              "\t<tr><td>Mês 3</td><td>6780</td><td>4150</td><td>8325</td><td>3675</td><td>5572</td></tr>\n",
              "</tbody>\n",
              "</table>\n"
            ]
          },
          "metadata": {}
        }
      ]
    },
    {
      "cell_type": "code",
      "metadata": {
        "colab": {
          "base_uri": "https://localhost:8080/",
          "height": 255
        },
        "id": "gSxBe-Eu8M5c",
        "outputId": "80082c1b-dd3f-4199-c15d-1265560a90e1"
      },
      "source": [
        "summary(data)"
      ],
      "execution_count": null,
      "outputs": [
        {
          "output_type": "display_data",
          "data": {
            "text/plain": [
              "    funcis              Paulo         Roberta         Tereza        Jeferson   \n",
              " Length:3           Min.   :2850   Min.   :3750   Min.   :2255   Min.   :3673  \n",
              " Class :character   1st Qu.:3489   1st Qu.:3950   1st Qu.:2320   1st Qu.:3674  \n",
              " Mode  :character   Median :4128   Median :4150   Median :2385   Median :3675  \n",
              "                    Mean   :4586   Mean   :4083   Mean   :4322   Mean   :4344  \n",
              "                    3rd Qu.:5454   3rd Qu.:4250   3rd Qu.:5355   3rd Qu.:4680  \n",
              "                    Max.   :6780   Max.   :4350   Max.   :8325   Max.   :5685  \n",
              "    Antonio    \n",
              " Min.   :5125  \n",
              " 1st Qu.:5348  \n",
              " Median :5572  \n",
              " Mean   :5691  \n",
              " 3rd Qu.:5974  \n",
              " Max.   :6375  "
            ]
          },
          "metadata": {}
        }
      ]
    },
    {
      "cell_type": "code",
      "metadata": {
        "colab": {
          "base_uri": "https://localhost:8080/",
          "height": 34
        },
        "id": "Pt47x7aA9XUR",
        "outputId": "3b16b8a2-29de-42b3-bbb1-a922d6691739"
      },
      "source": [
        "sum(Paulo)"
      ],
      "execution_count": null,
      "outputs": [
        {
          "output_type": "display_data",
          "data": {
            "text/plain": [
              "[1] 13758"
            ],
            "text/latex": "13758",
            "text/markdown": "13758",
            "text/html": [
              "13758"
            ]
          },
          "metadata": {}
        }
      ]
    },
    {
      "cell_type": "code",
      "metadata": {
        "id": "c3z40w9f9ZvB"
      },
      "source": [
        "gerencia_A = c(28,20,38,32,25,26,29,25,27,31,22)\n",
        "gerencia_B = c(20,37,23,39,32,23,28,28,27,39,38)"
      ],
      "execution_count": null,
      "outputs": []
    },
    {
      "cell_type": "code",
      "metadata": {
        "colab": {
          "base_uri": "https://localhost:8080/"
        },
        "id": "nIalrEJS-SbU",
        "outputId": "7a458ad9-7ac7-48fe-b4d1-4ba928f4b434"
      },
      "source": [
        "print(sum(gerencia_A))\n",
        "print(sum(gerencia_B))"
      ],
      "execution_count": null,
      "outputs": [
        {
          "output_type": "stream",
          "name": "stdout",
          "text": [
            "[1] 303\n",
            "[1] 334\n"
          ]
        }
      ]
    },
    {
      "cell_type": "code",
      "metadata": {
        "id": "rMS2FgcA-aVw"
      },
      "source": [
        "mean_ga = 28\n",
        "mean_gb = 30"
      ],
      "execution_count": null,
      "outputs": []
    },
    {
      "cell_type": "code",
      "metadata": {
        "colab": {
          "base_uri": "https://localhost:8080/"
        },
        "id": "XYdHy1S7-w5o",
        "outputId": "ae2081fc-6fd2-4432-dbb3-b1e421592329"
      },
      "source": [
        "print((mean_ga *12) -sum(gerencia_A))\n",
        "print((mean_gb *12) -sum(gerencia_B))\n"
      ],
      "execution_count": null,
      "outputs": [
        {
          "output_type": "stream",
          "name": "stdout",
          "text": [
            "[1] 33\n",
            "[1] 26\n"
          ]
        }
      ]
    },
    {
      "cell_type": "code",
      "metadata": {
        "id": "XQW-kmiZBC8X"
      },
      "source": [
        "casos = c (21,34,46,47,47,72,77,75,58)"
      ],
      "execution_count": null,
      "outputs": []
    },
    {
      "cell_type": "code",
      "metadata": {
        "colab": {
          "base_uri": "https://localhost:8080/"
        },
        "id": "1yppITwoDCxR",
        "outputId": "9c4dd928-ca6d-4a34-ffe2-222e79c7aec6"
      },
      "source": [
        "print(mean(casos))\n",
        "print(median(casos))\n",
        "print(mfv(casos))"
      ],
      "execution_count": null,
      "outputs": [
        {
          "output_type": "stream",
          "name": "stdout",
          "text": [
            "[1] 53\n",
            "[1] 47\n",
            "[1] 47\n"
          ]
        }
      ]
    },
    {
      "cell_type": "code",
      "metadata": {
        "id": "Pd7XHOi8qbLu"
      },
      "source": [
        "library(readr)"
      ],
      "execution_count": null,
      "outputs": []
    },
    {
      "cell_type": "code",
      "metadata": {
        "id": "x4v80XUnq5E8"
      },
      "source": [
        "pesquisa <- read_csv('notas.csv',show_col_types = FALSE )"
      ],
      "execution_count": null,
      "outputs": []
    },
    {
      "cell_type": "code",
      "metadata": {
        "colab": {
          "base_uri": "https://localhost:8080/",
          "height": 283
        },
        "id": "bO1KFJfUryPN",
        "outputId": "80fa3861-6803-423a-e2ba-989851d546e0"
      },
      "source": [
        "head(pesquisa)"
      ],
      "execution_count": null,
      "outputs": [
        {
          "output_type": "display_data",
          "data": {
            "text/plain": [
              "  Unidade Preço Prazo Atendimento Entrega Pós-Venda\n",
              "1 A       5.1   8.0   8.1         5.1     8.0      \n",
              "2 B       7.8   8.0   8.1         8.0     6.1      \n",
              "3 C       8.1   7.1   5.0         5.0     6.1      \n",
              "4 D       6.0   9.0   7.1         5.1     6.1      \n",
              "5 E       8.1   6.0   6.1         7.0     6.1      \n",
              "6 F       8.0   6.0   9.1         7.1     6.0      "
            ],
            "text/latex": "A tibble: 6 × 6\n\\begin{tabular}{llllll}\n Unidade & Preço & Prazo & Atendimento & Entrega & Pós-Venda\\\\\n <chr> & <dbl> & <dbl> & <dbl> & <dbl> & <dbl>\\\\\n\\hline\n\t A & 5.1 & 8.0 & 8.1 & 5.1 & 8.0\\\\\n\t B & 7.8 & 8.0 & 8.1 & 8.0 & 6.1\\\\\n\t C & 8.1 & 7.1 & 5.0 & 5.0 & 6.1\\\\\n\t D & 6.0 & 9.0 & 7.1 & 5.1 & 6.1\\\\\n\t E & 8.1 & 6.0 & 6.1 & 7.0 & 6.1\\\\\n\t F & 8.0 & 6.0 & 9.1 & 7.1 & 6.0\\\\\n\\end{tabular}\n",
            "text/markdown": "\nA tibble: 6 × 6\n\n| Unidade &lt;chr&gt; | Preço &lt;dbl&gt; | Prazo &lt;dbl&gt; | Atendimento &lt;dbl&gt; | Entrega &lt;dbl&gt; | Pós-Venda &lt;dbl&gt; |\n|---|---|---|---|---|---|\n| A | 5.1 | 8.0 | 8.1 | 5.1 | 8.0 |\n| B | 7.8 | 8.0 | 8.1 | 8.0 | 6.1 |\n| C | 8.1 | 7.1 | 5.0 | 5.0 | 6.1 |\n| D | 6.0 | 9.0 | 7.1 | 5.1 | 6.1 |\n| E | 8.1 | 6.0 | 6.1 | 7.0 | 6.1 |\n| F | 8.0 | 6.0 | 9.1 | 7.1 | 6.0 |\n\n",
            "text/html": [
              "<table class=\"dataframe\">\n",
              "<caption>A tibble: 6 × 6</caption>\n",
              "<thead>\n",
              "\t<tr><th scope=col>Unidade</th><th scope=col>Preço</th><th scope=col>Prazo</th><th scope=col>Atendimento</th><th scope=col>Entrega</th><th scope=col>Pós-Venda</th></tr>\n",
              "\t<tr><th scope=col>&lt;chr&gt;</th><th scope=col>&lt;dbl&gt;</th><th scope=col>&lt;dbl&gt;</th><th scope=col>&lt;dbl&gt;</th><th scope=col>&lt;dbl&gt;</th><th scope=col>&lt;dbl&gt;</th></tr>\n",
              "</thead>\n",
              "<tbody>\n",
              "\t<tr><td>A</td><td>5.1</td><td>8.0</td><td>8.1</td><td>5.1</td><td>8.0</td></tr>\n",
              "\t<tr><td>B</td><td>7.8</td><td>8.0</td><td>8.1</td><td>8.0</td><td>6.1</td></tr>\n",
              "\t<tr><td>C</td><td>8.1</td><td>7.1</td><td>5.0</td><td>5.0</td><td>6.1</td></tr>\n",
              "\t<tr><td>D</td><td>6.0</td><td>9.0</td><td>7.1</td><td>5.1</td><td>6.1</td></tr>\n",
              "\t<tr><td>E</td><td>8.1</td><td>6.0</td><td>6.1</td><td>7.0</td><td>6.1</td></tr>\n",
              "\t<tr><td>F</td><td>8.0</td><td>6.0</td><td>9.1</td><td>7.1</td><td>6.0</td></tr>\n",
              "</tbody>\n",
              "</table>\n"
            ]
          },
          "metadata": {}
        }
      ]
    },
    {
      "cell_type": "code",
      "metadata": {
        "id": "0GdwEAB3r9-l"
      },
      "source": [
        "pesquisa = data.frame(pesquisa)"
      ],
      "execution_count": null,
      "outputs": []
    },
    {
      "cell_type": "code",
      "metadata": {
        "colab": {
          "base_uri": "https://localhost:8080/",
          "height": 283
        },
        "id": "M87_Jj7bsZWk",
        "outputId": "89f019dd-d609-44e8-d193-86f1afa0c4b5"
      },
      "source": [
        "head(pesquisa)"
      ],
      "execution_count": null,
      "outputs": [
        {
          "output_type": "display_data",
          "data": {
            "text/plain": [
              "  Unidade Preço Prazo Atendimento Entrega Pós.Venda\n",
              "1 A       5.1   8.0   8.1         5.1     8.0      \n",
              "2 B       7.8   8.0   8.1         8.0     6.1      \n",
              "3 C       8.1   7.1   5.0         5.0     6.1      \n",
              "4 D       6.0   9.0   7.1         5.1     6.1      \n",
              "5 E       8.1   6.0   6.1         7.0     6.1      \n",
              "6 F       8.0   6.0   9.1         7.1     6.0      "
            ],
            "text/latex": "A data.frame: 6 × 6\n\\begin{tabular}{r|llllll}\n  & Unidade & Preço & Prazo & Atendimento & Entrega & Pós.Venda\\\\\n  & <chr> & <dbl> & <dbl> & <dbl> & <dbl> & <dbl>\\\\\n\\hline\n\t1 & A & 5.1 & 8.0 & 8.1 & 5.1 & 8.0\\\\\n\t2 & B & 7.8 & 8.0 & 8.1 & 8.0 & 6.1\\\\\n\t3 & C & 8.1 & 7.1 & 5.0 & 5.0 & 6.1\\\\\n\t4 & D & 6.0 & 9.0 & 7.1 & 5.1 & 6.1\\\\\n\t5 & E & 8.1 & 6.0 & 6.1 & 7.0 & 6.1\\\\\n\t6 & F & 8.0 & 6.0 & 9.1 & 7.1 & 6.0\\\\\n\\end{tabular}\n",
            "text/markdown": "\nA data.frame: 6 × 6\n\n| <!--/--> | Unidade &lt;chr&gt; | Preço &lt;dbl&gt; | Prazo &lt;dbl&gt; | Atendimento &lt;dbl&gt; | Entrega &lt;dbl&gt; | Pós.Venda &lt;dbl&gt; |\n|---|---|---|---|---|---|---|\n| 1 | A | 5.1 | 8.0 | 8.1 | 5.1 | 8.0 |\n| 2 | B | 7.8 | 8.0 | 8.1 | 8.0 | 6.1 |\n| 3 | C | 8.1 | 7.1 | 5.0 | 5.0 | 6.1 |\n| 4 | D | 6.0 | 9.0 | 7.1 | 5.1 | 6.1 |\n| 5 | E | 8.1 | 6.0 | 6.1 | 7.0 | 6.1 |\n| 6 | F | 8.0 | 6.0 | 9.1 | 7.1 | 6.0 |\n\n",
            "text/html": [
              "<table class=\"dataframe\">\n",
              "<caption>A data.frame: 6 × 6</caption>\n",
              "<thead>\n",
              "\t<tr><th></th><th scope=col>Unidade</th><th scope=col>Preço</th><th scope=col>Prazo</th><th scope=col>Atendimento</th><th scope=col>Entrega</th><th scope=col>Pós.Venda</th></tr>\n",
              "\t<tr><th></th><th scope=col>&lt;chr&gt;</th><th scope=col>&lt;dbl&gt;</th><th scope=col>&lt;dbl&gt;</th><th scope=col>&lt;dbl&gt;</th><th scope=col>&lt;dbl&gt;</th><th scope=col>&lt;dbl&gt;</th></tr>\n",
              "</thead>\n",
              "<tbody>\n",
              "\t<tr><th scope=row>1</th><td>A</td><td>5.1</td><td>8.0</td><td>8.1</td><td>5.1</td><td>8.0</td></tr>\n",
              "\t<tr><th scope=row>2</th><td>B</td><td>7.8</td><td>8.0</td><td>8.1</td><td>8.0</td><td>6.1</td></tr>\n",
              "\t<tr><th scope=row>3</th><td>C</td><td>8.1</td><td>7.1</td><td>5.0</td><td>5.0</td><td>6.1</td></tr>\n",
              "\t<tr><th scope=row>4</th><td>D</td><td>6.0</td><td>9.0</td><td>7.1</td><td>5.1</td><td>6.1</td></tr>\n",
              "\t<tr><th scope=row>5</th><td>E</td><td>8.1</td><td>6.0</td><td>6.1</td><td>7.0</td><td>6.1</td></tr>\n",
              "\t<tr><th scope=row>6</th><td>F</td><td>8.0</td><td>6.0</td><td>9.1</td><td>7.1</td><td>6.0</td></tr>\n",
              "</tbody>\n",
              "</table>\n"
            ]
          },
          "metadata": {}
        }
      ]
    },
    {
      "cell_type": "code",
      "metadata": {
        "colab": {
          "base_uri": "https://localhost:8080/",
          "height": 255
        },
        "id": "pFFkYpcUsbfc",
        "outputId": "15e64749-dc75-4703-d0e2-976ee6a53568"
      },
      "source": [
        "summary(pesquisa)"
      ],
      "execution_count": null,
      "outputs": [
        {
          "output_type": "display_data",
          "data": {
            "text/plain": [
              "   Unidade              Preço           Prazo        Atendimento   \n",
              " Length:10          Min.   :5.100   Min.   :6.000   Min.   :5.000  \n",
              " Class :character   1st Qu.:7.275   1st Qu.:6.000   1st Qu.:7.025  \n",
              " Mode  :character   Median :8.000   Median :7.550   Median :7.550  \n",
              "                    Mean   :7.620   Mean   :7.320   Mean   :7.460  \n",
              "                    3rd Qu.:8.100   3rd Qu.:8.075   3rd Qu.:8.100  \n",
              "                    Max.   :9.000   Max.   :9.000   Max.   :9.100  \n",
              "    Entrega        Pós.Venda    \n",
              " Min.   :5.000   Min.   :5.000  \n",
              " 1st Qu.:5.575   1st Qu.:6.025  \n",
              " Median :7.050   Median :6.100  \n",
              " Mean   :6.840   Mean   :6.350  \n",
              " 3rd Qu.:8.000   3rd Qu.:6.775  \n",
              " Max.   :8.100   Max.   :8.000  "
            ]
          },
          "metadata": {}
        }
      ]
    },
    {
      "cell_type": "code",
      "metadata": {
        "colab": {
          "base_uri": "https://localhost:8080/",
          "height": 189
        },
        "id": "EfvDtqqTsix7",
        "outputId": "2c682624-a2e4-4063-81be-16cf5008379c"
      },
      "source": [
        "amp_preco = max(pesquisa$Preço) - min(pesquisa$Preço)\n",
        "amp_prazo = max(pesquisa$Prazo) - min(pesquisa$Prazo)\n",
        "amp_atendimento = max(pesquisa$Atendimento) - min(pesquisa$Atendimento)\n",
        "amp_entrega = max(pesquisa$Entrega) - min(pesquisa$Entrega)\n",
        "amp_pos_venda = max (pesquisa$`Pós.Venda`) - min(pesquisa$`Pós.Venda`)\n",
        "rbind(amp_preco, amp_prazo, amp_entrega,amp_atendimento, amp_pos_venda)\n"
      ],
      "execution_count": null,
      "outputs": [
        {
          "output_type": "display_data",
          "data": {
            "text/plain": [
              "                [,1]\n",
              "amp_preco       3.9 \n",
              "amp_prazo       3.0 \n",
              "amp_entrega     3.1 \n",
              "amp_atendimento 4.1 \n",
              "amp_pos_venda   3.0 "
            ],
            "text/latex": "A matrix: 5 × 1 of type dbl\n\\begin{tabular}{r|l}\n\tamp\\_preco & 3.9\\\\\n\tamp\\_prazo & 3.0\\\\\n\tamp\\_entrega & 3.1\\\\\n\tamp\\_atendimento & 4.1\\\\\n\tamp\\_pos\\_venda & 3.0\\\\\n\\end{tabular}\n",
            "text/markdown": "\nA matrix: 5 × 1 of type dbl\n\n| amp_preco | 3.9 |\n| amp_prazo | 3.0 |\n| amp_entrega | 3.1 |\n| amp_atendimento | 4.1 |\n| amp_pos_venda | 3.0 |\n\n",
            "text/html": [
              "<table class=\"dataframe\">\n",
              "<caption>A matrix: 5 × 1 of type dbl</caption>\n",
              "<tbody>\n",
              "\t<tr><th scope=row>amp_preco</th><td>3.9</td></tr>\n",
              "\t<tr><th scope=row>amp_prazo</th><td>3.0</td></tr>\n",
              "\t<tr><th scope=row>amp_entrega</th><td>3.1</td></tr>\n",
              "\t<tr><th scope=row>amp_atendimento</th><td>4.1</td></tr>\n",
              "\t<tr><th scope=row>amp_pos_venda</th><td>3.0</td></tr>\n",
              "</tbody>\n",
              "</table>\n"
            ]
          },
          "metadata": {}
        }
      ]
    },
    {
      "cell_type": "code",
      "metadata": {
        "colab": {
          "base_uri": "https://localhost:8080/",
          "height": 189
        },
        "id": "yYJLYvKlJKFA",
        "outputId": "c515a156-6bb8-4186-df1b-0f66656eced5"
      },
      "source": [
        "desv_medio_preco = sum(abs(pesquisa$Preço-mean(pesquisa$Preço)))/ length(pesquisa$Preço)\n",
        "desv_medio_prazo = sum(abs(pesquisa$Prazo-mean(pesquisa$Prazo)))/ length(pesquisa$Prazo)\n",
        "desv_medio_atendimento = sum(abs(pesquisa$Atendimento-mean(pesquisa$Atendimento)))/ length(pesquisa$Atendimento)\n",
        "desv_medio_entrega = sum(abs(pesquisa$Entrega-mean(pesquisa$Entrega)))/ length(pesquisa$Entrega)\n",
        "desv_medio_pos = sum(abs(pesquisa$Pós.Venda-mean(pesquisa$Pós.Venda)))/ length(pesquisa$Pós.Venda)\n",
        "rbind(desv_medio_preco, desv_medio_prazo, desv_medio_atendimento, desv_medio_entrega,desv_medio_pos)"
      ],
      "execution_count": null,
      "outputs": [
        {
          "output_type": "display_data",
          "data": {
            "text/plain": [
              "                       [,1] \n",
              "desv_medio_preco       0.932\n",
              "desv_medio_prazo       1.100\n",
              "desv_medio_atendimento 1.000\n",
              "desv_medio_entrega     1.064\n",
              "desv_medio_pos         0.790"
            ],
            "text/latex": "A matrix: 5 × 1 of type dbl\n\\begin{tabular}{r|l}\n\tdesv\\_medio\\_preco & 0.932\\\\\n\tdesv\\_medio\\_prazo & 1.100\\\\\n\tdesv\\_medio\\_atendimento & 1.000\\\\\n\tdesv\\_medio\\_entrega & 1.064\\\\\n\tdesv\\_medio\\_pos & 0.790\\\\\n\\end{tabular}\n",
            "text/markdown": "\nA matrix: 5 × 1 of type dbl\n\n| desv_medio_preco | 0.932 |\n| desv_medio_prazo | 1.100 |\n| desv_medio_atendimento | 1.000 |\n| desv_medio_entrega | 1.064 |\n| desv_medio_pos | 0.790 |\n\n",
            "text/html": [
              "<table class=\"dataframe\">\n",
              "<caption>A matrix: 5 × 1 of type dbl</caption>\n",
              "<tbody>\n",
              "\t<tr><th scope=row>desv_medio_preco</th><td>0.932</td></tr>\n",
              "\t<tr><th scope=row>desv_medio_prazo</th><td>1.100</td></tr>\n",
              "\t<tr><th scope=row>desv_medio_atendimento</th><td>1.000</td></tr>\n",
              "\t<tr><th scope=row>desv_medio_entrega</th><td>1.064</td></tr>\n",
              "\t<tr><th scope=row>desv_medio_pos</th><td>0.790</td></tr>\n",
              "</tbody>\n",
              "</table>\n"
            ]
          },
          "metadata": {}
        }
      ]
    },
    {
      "cell_type": "code",
      "metadata": {
        "id": "qn8trpRyMId8"
      },
      "source": [
        "preço1 <-c(pesquisa$`Preço`)\n",
        "prazo1 <-c (pesquisa$Prazo)\n",
        "atendimento1 <-(pesquisa$Atendimento)\n",
        "entrega1 <- c(pesquisa$Entrega) \n",
        "pos_venda1 <- c (pesquisa$`Pós.Venda`)"
      ],
      "execution_count": null,
      "outputs": []
    },
    {
      "cell_type": "code",
      "metadata": {
        "id": "XKD5VYhHNbju"
      },
      "source": [
        "pesquisa1 <- data.frame(preço1,prazo1,atendimento1,entrega1, pos_venda1)"
      ],
      "execution_count": null,
      "outputs": []
    },
    {
      "cell_type": "code",
      "metadata": {
        "colab": {
          "base_uri": "https://localhost:8080/",
          "height": 283
        },
        "id": "Mn4WAkTcNnrL",
        "outputId": "5de59fbb-1845-40e2-ee91-978be3aa80e8"
      },
      "source": [
        "head(pesquisa1)"
      ],
      "execution_count": null,
      "outputs": [
        {
          "output_type": "display_data",
          "data": {
            "text/plain": [
              "  preço1 prazo1 atendimento1 entrega1 pos_venda1\n",
              "1 5.1    8.0    8.1          5.1      8.0       \n",
              "2 7.8    8.0    8.1          8.0      6.1       \n",
              "3 8.1    7.1    5.0          5.0      6.1       \n",
              "4 6.0    9.0    7.1          5.1      6.1       \n",
              "5 8.1    6.0    6.1          7.0      6.1       \n",
              "6 8.0    6.0    9.1          7.1      6.0       "
            ],
            "text/latex": "A data.frame: 6 × 5\n\\begin{tabular}{r|lllll}\n  & preço1 & prazo1 & atendimento1 & entrega1 & pos\\_venda1\\\\\n  & <dbl> & <dbl> & <dbl> & <dbl> & <dbl>\\\\\n\\hline\n\t1 & 5.1 & 8.0 & 8.1 & 5.1 & 8.0\\\\\n\t2 & 7.8 & 8.0 & 8.1 & 8.0 & 6.1\\\\\n\t3 & 8.1 & 7.1 & 5.0 & 5.0 & 6.1\\\\\n\t4 & 6.0 & 9.0 & 7.1 & 5.1 & 6.1\\\\\n\t5 & 8.1 & 6.0 & 6.1 & 7.0 & 6.1\\\\\n\t6 & 8.0 & 6.0 & 9.1 & 7.1 & 6.0\\\\\n\\end{tabular}\n",
            "text/markdown": "\nA data.frame: 6 × 5\n\n| <!--/--> | preço1 &lt;dbl&gt; | prazo1 &lt;dbl&gt; | atendimento1 &lt;dbl&gt; | entrega1 &lt;dbl&gt; | pos_venda1 &lt;dbl&gt; |\n|---|---|---|---|---|---|\n| 1 | 5.1 | 8.0 | 8.1 | 5.1 | 8.0 |\n| 2 | 7.8 | 8.0 | 8.1 | 8.0 | 6.1 |\n| 3 | 8.1 | 7.1 | 5.0 | 5.0 | 6.1 |\n| 4 | 6.0 | 9.0 | 7.1 | 5.1 | 6.1 |\n| 5 | 8.1 | 6.0 | 6.1 | 7.0 | 6.1 |\n| 6 | 8.0 | 6.0 | 9.1 | 7.1 | 6.0 |\n\n",
            "text/html": [
              "<table class=\"dataframe\">\n",
              "<caption>A data.frame: 6 × 5</caption>\n",
              "<thead>\n",
              "\t<tr><th></th><th scope=col>preço1</th><th scope=col>prazo1</th><th scope=col>atendimento1</th><th scope=col>entrega1</th><th scope=col>pos_venda1</th></tr>\n",
              "\t<tr><th></th><th scope=col>&lt;dbl&gt;</th><th scope=col>&lt;dbl&gt;</th><th scope=col>&lt;dbl&gt;</th><th scope=col>&lt;dbl&gt;</th><th scope=col>&lt;dbl&gt;</th></tr>\n",
              "</thead>\n",
              "<tbody>\n",
              "\t<tr><th scope=row>1</th><td>5.1</td><td>8.0</td><td>8.1</td><td>5.1</td><td>8.0</td></tr>\n",
              "\t<tr><th scope=row>2</th><td>7.8</td><td>8.0</td><td>8.1</td><td>8.0</td><td>6.1</td></tr>\n",
              "\t<tr><th scope=row>3</th><td>8.1</td><td>7.1</td><td>5.0</td><td>5.0</td><td>6.1</td></tr>\n",
              "\t<tr><th scope=row>4</th><td>6.0</td><td>9.0</td><td>7.1</td><td>5.1</td><td>6.1</td></tr>\n",
              "\t<tr><th scope=row>5</th><td>8.1</td><td>6.0</td><td>6.1</td><td>7.0</td><td>6.1</td></tr>\n",
              "\t<tr><th scope=row>6</th><td>8.0</td><td>6.0</td><td>9.1</td><td>7.1</td><td>6.0</td></tr>\n",
              "</tbody>\n",
              "</table>\n"
            ]
          },
          "metadata": {}
        }
      ]
    },
    {
      "cell_type": "code",
      "metadata": {
        "colab": {
          "base_uri": "https://localhost:8080/",
          "height": 221
        },
        "id": "l17N4yEjNp66",
        "outputId": "69d474ef-232a-4ed8-9897-9955cb23957a"
      },
      "source": [
        "cov(pesquisa1)"
      ],
      "execution_count": null,
      "outputs": [
        {
          "output_type": "display_data",
          "data": {
            "text/plain": [
              "             preço1     prazo1     atendimento1 entrega1   pos_venda1 \n",
              "preço1        1.5373333 -0.5526667 -0.32800000   0.9335556 -0.40777778\n",
              "prazo1       -0.5526667  1.5773333 -0.36355556  -0.4764444  0.45555556\n",
              "atendimento1 -0.3280000 -0.3635556  1.61600000   0.7640000 -0.04222222\n",
              "entrega1      0.9335556 -0.4764444  0.76400000   1.6871111 -0.14777778\n",
              "pos_venda1   -0.4077778  0.4555556 -0.04222222  -0.1477778  1.06944444"
            ],
            "text/latex": "A matrix: 5 × 5 of type dbl\n\\begin{tabular}{r|lllll}\n  & preço1 & prazo1 & atendimento1 & entrega1 & pos\\_venda1\\\\\n\\hline\n\tpreço1 &  1.5373333 & -0.5526667 & -0.32800000 &  0.9335556 & -0.40777778\\\\\n\tprazo1 & -0.5526667 &  1.5773333 & -0.36355556 & -0.4764444 &  0.45555556\\\\\n\tatendimento1 & -0.3280000 & -0.3635556 &  1.61600000 &  0.7640000 & -0.04222222\\\\\n\tentrega1 &  0.9335556 & -0.4764444 &  0.76400000 &  1.6871111 & -0.14777778\\\\\n\tpos\\_venda1 & -0.4077778 &  0.4555556 & -0.04222222 & -0.1477778 &  1.06944444\\\\\n\\end{tabular}\n",
            "text/markdown": "\nA matrix: 5 × 5 of type dbl\n\n| <!--/--> | preço1 | prazo1 | atendimento1 | entrega1 | pos_venda1 |\n|---|---|---|---|---|---|\n| preço1 |  1.5373333 | -0.5526667 | -0.32800000 |  0.9335556 | -0.40777778 |\n| prazo1 | -0.5526667 |  1.5773333 | -0.36355556 | -0.4764444 |  0.45555556 |\n| atendimento1 | -0.3280000 | -0.3635556 |  1.61600000 |  0.7640000 | -0.04222222 |\n| entrega1 |  0.9335556 | -0.4764444 |  0.76400000 |  1.6871111 | -0.14777778 |\n| pos_venda1 | -0.4077778 |  0.4555556 | -0.04222222 | -0.1477778 |  1.06944444 |\n\n",
            "text/html": [
              "<table class=\"dataframe\">\n",
              "<caption>A matrix: 5 × 5 of type dbl</caption>\n",
              "<thead>\n",
              "\t<tr><th></th><th scope=col>preço1</th><th scope=col>prazo1</th><th scope=col>atendimento1</th><th scope=col>entrega1</th><th scope=col>pos_venda1</th></tr>\n",
              "</thead>\n",
              "<tbody>\n",
              "\t<tr><th scope=row>preço1</th><td> 1.5373333</td><td>-0.5526667</td><td>-0.32800000</td><td> 0.9335556</td><td>-0.40777778</td></tr>\n",
              "\t<tr><th scope=row>prazo1</th><td>-0.5526667</td><td> 1.5773333</td><td>-0.36355556</td><td>-0.4764444</td><td> 0.45555556</td></tr>\n",
              "\t<tr><th scope=row>atendimento1</th><td>-0.3280000</td><td>-0.3635556</td><td> 1.61600000</td><td> 0.7640000</td><td>-0.04222222</td></tr>\n",
              "\t<tr><th scope=row>entrega1</th><td> 0.9335556</td><td>-0.4764444</td><td> 0.76400000</td><td> 1.6871111</td><td>-0.14777778</td></tr>\n",
              "\t<tr><th scope=row>pos_venda1</th><td>-0.4077778</td><td> 0.4555556</td><td>-0.04222222</td><td>-0.1477778</td><td> 1.06944444</td></tr>\n",
              "</tbody>\n",
              "</table>\n"
            ]
          },
          "metadata": {}
        }
      ]
    },
    {
      "cell_type": "code",
      "metadata": {
        "colab": {
          "base_uri": "https://localhost:8080/",
          "height": 34
        },
        "id": "oUNb1PY_N2vD",
        "outputId": "b803d24b-5e8c-40f9-bbb1-0eef683c2ad6"
      },
      "source": [
        "sqrt(6.25)"
      ],
      "execution_count": null,
      "outputs": [
        {
          "output_type": "display_data",
          "data": {
            "text/plain": [
              "[1] 2.5"
            ],
            "text/latex": "2.5",
            "text/markdown": "2.5",
            "text/html": [
              "2.5"
            ]
          },
          "metadata": {}
        }
      ]
    },
    {
      "cell_type": "code",
      "metadata": {
        "id": "CJhjWZ5bN_56"
      },
      "source": [
        "ano = c ('Ano1','Ano2','Ano3','Ano4','Ano5','Ano6')\n",
        "Faturamento = c (110000,120000,125000,125000,130000,140000)\n",
        "Funcionários = c (13,15,16,18,14,18)"
      ],
      "execution_count": null,
      "outputs": []
    },
    {
      "cell_type": "code",
      "metadata": {
        "id": "lElf9FP9Oqw9"
      },
      "source": [
        "pesquisa2 = data.frame(ano, Faturamento, `Funcionários`)"
      ],
      "execution_count": null,
      "outputs": []
    },
    {
      "cell_type": "code",
      "metadata": {
        "colab": {
          "base_uri": "https://localhost:8080/",
          "height": 283
        },
        "id": "Xjo_akRnO0Mi",
        "outputId": "fcdd73c6-5eb6-4f0a-b54a-ead306027eb9"
      },
      "source": [
        "head(pesquisa2)"
      ],
      "execution_count": null,
      "outputs": [
        {
          "output_type": "display_data",
          "data": {
            "text/plain": [
              "  ano  Faturamento Funcionários\n",
              "1 Ano1 110000      13          \n",
              "2 Ano2 120000      15          \n",
              "3 Ano3 125000      16          \n",
              "4 Ano4 125000      18          \n",
              "5 Ano5 130000      14          \n",
              "6 Ano6 140000      18          "
            ],
            "text/latex": "A data.frame: 6 × 3\n\\begin{tabular}{r|lll}\n  & ano & Faturamento & Funcionários\\\\\n  & <chr> & <dbl> & <dbl>\\\\\n\\hline\n\t1 & Ano1 & 110000 & 13\\\\\n\t2 & Ano2 & 120000 & 15\\\\\n\t3 & Ano3 & 125000 & 16\\\\\n\t4 & Ano4 & 125000 & 18\\\\\n\t5 & Ano5 & 130000 & 14\\\\\n\t6 & Ano6 & 140000 & 18\\\\\n\\end{tabular}\n",
            "text/markdown": "\nA data.frame: 6 × 3\n\n| <!--/--> | ano &lt;chr&gt; | Faturamento &lt;dbl&gt; | Funcionários &lt;dbl&gt; |\n|---|---|---|---|\n| 1 | Ano1 | 110000 | 13 |\n| 2 | Ano2 | 120000 | 15 |\n| 3 | Ano3 | 125000 | 16 |\n| 4 | Ano4 | 125000 | 18 |\n| 5 | Ano5 | 130000 | 14 |\n| 6 | Ano6 | 140000 | 18 |\n\n",
            "text/html": [
              "<table class=\"dataframe\">\n",
              "<caption>A data.frame: 6 × 3</caption>\n",
              "<thead>\n",
              "\t<tr><th></th><th scope=col>ano</th><th scope=col>Faturamento</th><th scope=col>Funcionários</th></tr>\n",
              "\t<tr><th></th><th scope=col>&lt;chr&gt;</th><th scope=col>&lt;dbl&gt;</th><th scope=col>&lt;dbl&gt;</th></tr>\n",
              "</thead>\n",
              "<tbody>\n",
              "\t<tr><th scope=row>1</th><td>Ano1</td><td>110000</td><td>13</td></tr>\n",
              "\t<tr><th scope=row>2</th><td>Ano2</td><td>120000</td><td>15</td></tr>\n",
              "\t<tr><th scope=row>3</th><td>Ano3</td><td>125000</td><td>16</td></tr>\n",
              "\t<tr><th scope=row>4</th><td>Ano4</td><td>125000</td><td>18</td></tr>\n",
              "\t<tr><th scope=row>5</th><td>Ano5</td><td>130000</td><td>14</td></tr>\n",
              "\t<tr><th scope=row>6</th><td>Ano6</td><td>140000</td><td>18</td></tr>\n",
              "</tbody>\n",
              "</table>\n"
            ]
          },
          "metadata": {}
        }
      ]
    },
    {
      "cell_type": "code",
      "metadata": {
        "colab": {
          "base_uri": "https://localhost:8080/",
          "height": 136
        },
        "id": "UIXyHy1fO3uK",
        "outputId": "e618165e-ffe4-419f-928f-2c0b6c9eaa59"
      },
      "source": [
        "summary(pesquisa2)"
      ],
      "execution_count": null,
      "outputs": [
        {
          "output_type": "display_data",
          "data": {
            "text/plain": [
              "     ano             Faturamento      Funcionários  \n",
              " Length:6           Min.   :110000   Min.   :13.00  \n",
              " Class :character   1st Qu.:121250   1st Qu.:14.25  \n",
              " Mode  :character   Median :125000   Median :15.50  \n",
              "                    Mean   :125000   Mean   :15.67  \n",
              "                    3rd Qu.:128750   3rd Qu.:17.50  \n",
              "                    Max.   :140000   Max.   :18.00  "
            ]
          },
          "metadata": {}
        }
      ]
    },
    {
      "cell_type": "code",
      "metadata": {
        "colab": {
          "base_uri": "https://localhost:8080/",
          "height": 34
        },
        "id": "WY-V-mpVO6EC",
        "outputId": "4e3a9d73-27a9-41a9-a8d3-fe498d2f5774"
      },
      "source": [
        "cov(pesquisa2$Faturamento,pesquisa2$`Funcionários`)"
      ],
      "execution_count": null,
      "outputs": [
        {
          "output_type": "display_data",
          "data": {
            "text/plain": [
              "[1] 14000"
            ],
            "text/latex": "14000",
            "text/markdown": "14000",
            "text/html": [
              "14000"
            ]
          },
          "metadata": {}
        }
      ]
    },
    {
      "cell_type": "code",
      "metadata": {
        "id": "5tjGIMkkO8Ci"
      },
      "source": [
        "vendas = c(250,350,150,250,150)"
      ],
      "execution_count": null,
      "outputs": []
    },
    {
      "cell_type": "code",
      "metadata": {
        "colab": {
          "base_uri": "https://localhost:8080/",
          "height": 51
        },
        "id": "zEKbvebYPsfq",
        "outputId": "84956838-5c1f-4c80-c142-64a9314add4e"
      },
      "source": [
        "var(vendas)\n",
        "sd(vendas)"
      ],
      "execution_count": null,
      "outputs": [
        {
          "output_type": "display_data",
          "data": {
            "text/plain": [
              "[1] 7000"
            ],
            "text/latex": "7000",
            "text/markdown": "7000",
            "text/html": [
              "7000"
            ]
          },
          "metadata": {}
        },
        {
          "output_type": "display_data",
          "data": {
            "text/plain": [
              "[1] 83.666"
            ],
            "text/latex": "83.6660026534076",
            "text/markdown": "83.6660026534076",
            "text/html": [
              "83.6660026534076"
            ]
          },
          "metadata": {}
        }
      ]
    },
    {
      "cell_type": "code",
      "metadata": {
        "id": "UppgCywQQPPZ"
      },
      "source": [
        "idades = c (19, 22, 23, 23, 25, 28, 32, 34, 35, 39, 42, 45, 47, 58, 62)"
      ],
      "execution_count": null,
      "outputs": []
    },
    {
      "cell_type": "code",
      "metadata": {
        "colab": {
          "base_uri": "https://localhost:8080/"
        },
        "id": "NJ9RPvIfh2fD",
        "outputId": "88f2d070-8242-48c6-fe79-7649237377c1"
      },
      "source": [
        "print(c(quantile(idades , p = 0.4), quantile(idades, p = 0.6)))"
      ],
      "execution_count": null,
      "outputs": [
        {
          "output_type": "stream",
          "name": "stdout",
          "text": [
            " 40%  60% \n",
            "30.4 36.6 \n"
          ]
        }
      ]
    },
    {
      "cell_type": "code",
      "metadata": {
        "colab": {
          "base_uri": "https://localhost:8080/",
          "height": 51
        },
        "id": "B6HpFS3ViFDn",
        "outputId": "28063342-1c81-471b-9774-24099c0b89a7"
      },
      "source": [
        "summary(idades)"
      ],
      "execution_count": null,
      "outputs": [
        {
          "output_type": "display_data",
          "data": {
            "text/plain": [
              "   Min. 1st Qu.  Median    Mean 3rd Qu.    Max. \n",
              "   19.0    24.0    34.0    35.6    43.5    62.0 "
            ]
          },
          "metadata": {}
        }
      ]
    },
    {
      "cell_type": "code",
      "metadata": {
        "colab": {
          "base_uri": "https://localhost:8080/",
          "height": 437
        },
        "id": "9uNU-IFeiLR3",
        "outputId": "a347f684-8f75-48b4-e7dd-283dbec3d374"
      },
      "source": [
        "boxplot(idades, ylim = c(18,62), main = \"Idades dos beneficiarios\", y1ab = \"Idade\")\n",
        "points(mean(idades), pch = 5)"
      ],
      "execution_count": null,
      "outputs": [
        {
          "output_type": "display_data",
          "data": {
            "image/png": "[encoded data removed]",
            "text/plain": [
              "Plot with title “Idades dos beneficiarios”"
            ]
          },
          "metadata": {
            "image/png": {
              "width": 420,
              "height": 420
            }
          }
        }
      ]
    },
    {
      "cell_type": "code",
      "metadata": {
        "colab": {
          "base_uri": "https://localhost:8080/",
          "height": 437
        },
        "id": "CJ2Muxs_iqFC",
        "outputId": "97b55bf8-ff9a-4b9e-c73c-f386bd6ce0c4"
      },
      "source": [
        "library(ggplot2)\n",
        "dados = as.data.frame(idades)\n",
        "  ggplot(aes(x = \"\", y = idades), data = dados) +\n",
        "  geom_boxplot() +\n",
        "  labs(x = \"\",\n",
        "   y = \"idade\",\n",
        "   title = \" Idades\")"
      ],
      "execution_count": null,
      "outputs": [
        {
          "output_type": "display_data",
          "data": {
            "image/png": "[encoded data removed]",
            "text/plain": [
              "plot without title"
            ]
          },
          "metadata": {
            "image/png": {
              "width": 420,
              "height": 420
            }
          }
        }
      ]
    },
    {
      "cell_type": "code",
      "metadata": {
        "id": "bfN5CaCSjq-f"
      },
      "source": [
        "n = (0.5 * 0.5) * (1.96 * 1.96)/0.04"
      ],
      "execution_count": null,
      "outputs": []
    },
    {
      "cell_type": "code",
      "metadata": {
        "colab": {
          "base_uri": "https://localhost:8080/",
          "height": 34
        },
        "id": "Znkzw0jDrIRt",
        "outputId": "208a415a-6c40-4868-c3d7-55a2868b3f0b"
      },
      "source": [
        "n"
      ],
      "execution_count": null,
      "outputs": [
        {
          "output_type": "display_data",
          "data": {
            "text/plain": [
              "[1] 24.01"
            ],
            "text/latex": "24.01",
            "text/markdown": "24.01",
            "text/html": [
              "24.01"
            ]
          },
          "metadata": {}
        }
      ]
    },
    {
      "cell_type": "code",
      "metadata": {
        "id": "PMUEYsUIp2la"
      },
      "source": [
        "library(ggplot2)\n",
        "x = c(151,152,154,155,158,159,159,160,161,161,\n",
        "                  161,162,163,163,163,164,165,165,165,166,\n",
        "                  166,166,166,167,167,167,167,167,168,168,\n",
        "                  168,168,168,168,168,168,168,168,169,169,\n",
        "                  169,169,169,169,169,170,170,170,170,170,\n",
        "                  170,170,171,171,171,171,172,172,172,173,\n",
        "                  173,173,174,174,174,175,175,175,175,176,\n",
        "                  176,176,176,177,177,177,177,178,178,178,\n",
        "                  179,179,180,180,180,180,181,181,181,182,\n",
        "                  182,182,183,184,185,186,187,188,190,190)"
      ],
      "execution_count": null,
      "outputs": []
    },
    {
      "cell_type": "code",
      "metadata": {
        "id": "6H5mgKUnqEd7"
      },
      "source": [
        "df = data.frame(x=x)"
      ],
      "execution_count": null,
      "outputs": []
    },
    {
      "cell_type": "code",
      "metadata": {
        "id": "H8v1Jo9oqIs4"
      },
      "source": [
        "df"
      ],
      "execution_count": null,
      "outputs": []
    },
    {
      "cell_type": "code",
      "metadata": {
        "colab": {
          "base_uri": "https://localhost:8080/",
          "height": 436
        },
        "id": "e5LGJ_tUqKEY",
        "outputId": "dacc9b82-2274-471c-f9a8-4ab9c677080b"
      },
      "source": [
        "ggplot(data=df, mapping = aes(x=x)) + \n",
        "  geom_freqpoly(binwidth=8)"
      ],
      "execution_count": null,
      "outputs": [
        {
          "output_type": "display_data",
          "data": {
            "image/png": "[encoded data removed]",
            "text/plain": [
              "plot without title"
            ]
          },
          "metadata": {
            "image/png": {
              "width": 420,
              "height": 420
            }
          }
        }
      ]
    },
    {
      "cell_type": "code",
      "metadata": {
        "id": "3Lsz-ymXtCMx"
      },
      "source": [
        "breaks = seq(1, 8, by= 5)"
      ],
      "execution_count": null,
      "outputs": []
    }
  ]
}