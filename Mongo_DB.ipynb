{
 "cells": [
  {
   "cell_type": "code",
   "execution_count": 8,
   "metadata": {},
   "outputs": [],
   "source": [
    "#@davisilvaporto 19/04/2021\n",
    "#importando mongoclient\n",
    "from pymongo import MongoClient"
   ]
  },
  {
   "cell_type": "code",
   "execution_count": 9,
   "metadata": {},
   "outputs": [],
   "source": [
    "#estabelecendo uma conexão\n",
    "conn = MongoClient()"
   ]
  },
  {
   "cell_type": "code",
   "execution_count": 10,
   "metadata": {},
   "outputs": [
    {
     "name": "stdout",
     "output_type": "stream",
     "text": [
      "MongoDB Conectado\n"
     ]
    }
   ],
   "source": [
    "#verificando a conexão\n",
    "try:\n",
    "    conn = MongoClient()\n",
    "    print(f\"MongoDB Conectado\")\n",
    "except:\n",
    "    print(f\"Não conectado\")"
   ]
  },
  {
   "cell_type": "code",
   "execution_count": 11,
   "metadata": {},
   "outputs": [],
   "source": [
    "#conectando a base de nomes\n",
    "db = conn.names"
   ]
  },
  {
   "cell_type": "code",
   "execution_count": 12,
   "metadata": {},
   "outputs": [],
   "source": [
    "# conectando com a coleção db.nomes\n",
    "colecao = db.nomes"
   ]
  },
  {
   "cell_type": "code",
   "execution_count": 13,
   "metadata": {},
   "outputs": [
    {
     "name": "stdout",
     "output_type": "stream",
     "text": [
      "Registros Inseridos <pymongo.results.InsertOneResult object at 0x00000161F64FA1C0>  <pymongo.results.InsertOneResult object at 0x00000161F6511740>   <pymongo.results.InsertOneResult object at 0x00000161F6511780>\n"
     ]
    }
   ],
   "source": [
    "#dados a inserir\n",
    "create_1 = {\"nome\":\"joe\", \"email\":\"joebinden@usa.gov\" }\n",
    "create_2 = {\"nome\": \"bill\", \"email\": \"billclinton@welovetrainees.gov\"}\n",
    "create_3 = {\"nome\":\"bush\", \"email\":\"georgebomb@usa.gov\"}\n",
    "#inserindo os dados:\n",
    "record_1 = colecao.insert_one(create_1)\n",
    "record_2 = colecao.insert_one(create_2)\n",
    "record_3 = colecao.insert_one(create_3)\n",
    "print(f\"Registros Inseridos\",record_1, \"\",record_2, \" \", record_3 )"
   ]
  },
  {
   "cell_type": "code",
   "execution_count": 14,
   "metadata": {},
   "outputs": [
    {
     "name": "stdout",
     "output_type": "stream",
     "text": [
      "{'_id': ObjectId('607e11db1465a8b2c1e778ac'), 'nome': 'joe', 'email': 'joebinden@usa.gov'}\n",
      "{'_id': ObjectId('607e11db1465a8b2c1e778ad'), 'nome': 'bill', 'email': 'billclinton@welovetrainees.gov'}\n",
      "{'_id': ObjectId('607e11db1465a8b2c1e778ae'), 'nome': 'bush', 'email': 'georgebomb@usa.gov'}\n"
     ]
    }
   ],
   "source": [
    "#lendo os dados do mongo \n",
    "cursor = colecao.find()\n",
    "for record in cursor:\n",
    "    print(record)"
   ]
  },
  {
   "cell_type": "code",
   "execution_count": 15,
   "metadata": {},
   "outputs": [
    {
     "name": "stdout",
     "output_type": "stream",
     "text": [
      "Campos atualizados: <pymongo.results.UpdateResult object at 0x00000161F63A7F80>   <pymongo.results.UpdateResult object at 0x00000161F6511680>\n"
     ]
    }
   ],
   "source": [
    "#atualizando dados na coleção\n",
    "update_1 = colecao.update_one({\"nome\":\"bill\"},{\n",
    "                 \"$set\":{\n",
    "                     \"email\":\"billclinton@usa.gov\"\n",
    "                     }\n",
    "})\n",
    "update_2 = colecao.update_one({\"nome\":\"bush\"},{\n",
    "                 \"$set\":{\n",
    "                     \"email\":\"georgebush@usa.gov\"\n",
    "                     }\n",
    "})\n",
    "print(f\"Campos atualizados:\",update_1,\" \",update_2)"
   ]
  },
  {
   "cell_type": "code",
   "execution_count": 16,
   "metadata": {},
   "outputs": [
    {
     "name": "stdout",
     "output_type": "stream",
     "text": [
      "{'_id': ObjectId('607e11db1465a8b2c1e778ac'), 'nome': 'joe', 'email': 'joebinden@usa.gov'}\n",
      "{'_id': ObjectId('607e11db1465a8b2c1e778ad'), 'nome': 'bill', 'email': 'billclinton@usa.gov'}\n",
      "{'_id': ObjectId('607e11db1465a8b2c1e778ae'), 'nome': 'bush', 'email': 'georgebush@usa.gov'}\n"
     ]
    }
   ],
   "source": [
    "#lendo novamente os dados atualizados\n",
    "cursor = colecao.find()\n",
    "for record in cursor:\n",
    "    print(record)"
   ]
  },
  {
   "cell_type": "code",
   "execution_count": 17,
   "metadata": {},
   "outputs": [
    {
     "name": "stdout",
     "output_type": "stream",
     "text": [
      "Dado excluido <pymongo.results.DeleteResult object at 0x00000161F652EEC0>\n"
     ]
    }
   ],
   "source": [
    "#deletando, excluindo um registro\n",
    "delete_1 = colecao.delete_one({\"nome\":\"bill\"})\n",
    "print(\"Dado excluido\", delete_1)"
   ]
  },
  {
   "cell_type": "code",
   "execution_count": 18,
   "metadata": {},
   "outputs": [
    {
     "name": "stdout",
     "output_type": "stream",
     "text": [
      "{'_id': ObjectId('607e11db1465a8b2c1e778ac'), 'nome': 'joe', 'email': 'joebinden@usa.gov'}\n",
      "{'_id': ObjectId('607e11db1465a8b2c1e778ae'), 'nome': 'bush', 'email': 'georgebush@usa.gov'}\n"
     ]
    }
   ],
   "source": [
    "#lendo novamente os dados atualizados\n",
    "cursor = colecao.find()\n",
    "for record in cursor:\n",
    "    print(record)"
   ]
  },
  {
   "cell_type": "code",
   "execution_count": null,
   "metadata": {},
   "outputs": [],
   "source": []
  }
 ],
 "metadata": {
  "kernelspec": {
   "display_name": "Python 3",
   "language": "python",
   "name": "python3"
  },
  "language_info": {
   "codemirror_mode": {
    "name": "ipython",
    "version": 3
   },
   "file_extension": ".py",
   "mimetype": "text/x-python",
   "name": "python",
   "nbconvert_exporter": "python",
   "pygments_lexer": "ipython3",
   "version": "3.8.5"
  }
 },
 "nbformat": 4,
 "nbformat_minor": 4
}
