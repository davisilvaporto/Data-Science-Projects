{
  "nbformat": 4,
  "nbformat_minor": 0,
  "metadata": {
    "colab": {
      "name": "Regression_ativ3.ipynb",
      "provenance": [],
      "collapsed_sections": [],
      "toc_visible": true
    },
    "kernelspec": {
      "name": "python3",
      "display_name": "Python 3"
    }
  },
  "cells": [
    {
      "cell_type": "markdown",
      "metadata": {
        "id": "LVhrKiC0UwLr"
      },
      "source": [
        "# 1. Definir o algoritmo;"
      ]
    },
    {
      "cell_type": "markdown",
      "metadata": {
        "id": "p5ihO-3WU2ih"
      },
      "source": [
        "O algoritmo a ser utlizado será o Linear_model.LinearRegression da biblioteca Sklearn utlizando como ferramenta a linguagem python 3 no jupyter notebook do google colab."
      ]
    },
    {
      "cell_type": "markdown",
      "metadata": {
        "id": "h1l6B3aXVV09"
      },
      "source": [
        "# 2. Apresentar e ilustrar como o algoritmo funciona;"
      ]
    },
    {
      "cell_type": "markdown",
      "metadata": {
        "id": "cs8nl1B0Ve51"
      },
      "source": [
        "  O algoritmo ajusta (método fit) uma linha de regressão com coeficientes de um conjunto de dados com o objetivo de minimmizar a soma dos quadrados dos resíduos entre uma ou mais variáveis preditoras (dependentes),  e  uma  variável (a ser prevista) indenpendente.\r\n",
        "  A análise de regressão é um processo estatístico que busca estimar  os relacionamentos entre uma ou mais variáveis dependentes (preditora)s ou de saída, e uma variável (target) independente a ser prevista. O objetivo da regressão no aprendizado de máquina é fazer a previsão de valores continuos como montante de vendas, quantidade, temperatura, etc.\r\n",
        "\r\n",
        "---\r\n",
        "\r\n"
      ]
    },
    {
      "cell_type": "markdown",
      "metadata": {
        "id": "aamZdH8QYRDf"
      },
      "source": [
        "#3. Listar as aplicações, vantagens e desvantagens do algoritmo;"
      ]
    },
    {
      "cell_type": "markdown",
      "metadata": {
        "id": "NhGUT-G2YaDl"
      },
      "source": [
        "Os algoritmos de regressão linear são utilizados em estatística em uma infinidade de aplicações, mas principalmente em estatísitica descritiva para analisar o relacionamento entre duas variáveis continuas. São considerados algoritmos simples e são muito utilizados quando a quantidade de variáveis dependentes é muito grande. Porém a simplcidade pode ser uma desvantagem , porque a regressão linear simples não tem grande eficiência no ajuste do método dos miínimos quadrados."
      ]
    },
    {
      "cell_type": "markdown",
      "metadata": {
        "id": "MU3qRu5Eb4pO"
      },
      "source": [
        "# 4. Implementação de Algoritmo:\r\n",
        "Será apresentado abaixo a resolução de um problema para prever os preços das casas da cidade de King County (EUA), com base na metragem quadrada (sqft_living), metragem quadrada do lote(sqft_lot),  numero de quartos (bedrooms), numero de banheiros (bathrooms), data de venda(date) e preço de venda , um dataset conhecido e muito utlizado como exemplo de regressão presente no site do Kaggle."
      ]
    },
    {
      "cell_type": "code",
      "metadata": {
        "id": "sybQjq5Fcfqk"
      },
      "source": [
        "# Executado por Davi Silva Porto 13/01/2020\r\n",
        "# 1. Importando a biblioteca pandas e numpy para executar a leitura dos dados e transforma-los em um Data-Frame = df \r\n",
        "import pandas as pd\r\n",
        "import numpy as np\r\n",
        "df = pd.read_csv('house_prices.csv') "
      ],
      "execution_count": 107,
      "outputs": []
    },
    {
      "cell_type": "code",
      "metadata": {
        "colab": {
          "base_uri": "https://localhost:8080/"
        },
        "id": "jpYsrhcC4H_c",
        "outputId": "c829e750-6920-421c-a60c-1fad8e895644"
      },
      "source": [
        "#métodos da biblioteca pandas para melhor visualização dos Dados no google Colab\r\n",
        "pd.set_option('display.max_columns', None)\r\n",
        "%load_ext google.colab.data_table"
      ],
      "execution_count": 108,
      "outputs": [
        {
          "output_type": "stream",
          "text": [
            "The google.colab.data_table extension is already loaded. To reload it, use:\n",
            "  %reload_ext google.colab.data_table\n"
          ],
          "name": "stdout"
        }
      ]
    },
    {
      "cell_type": "code",
      "metadata": {
        "colab": {
          "base_uri": "https://localhost:8080/",
          "height": 439
        },
        "id": "p9DUAWXpz6dg",
        "outputId": "e8949069-77c6-4566-bf5f-4eddca4f51f9"
      },
      "source": [
        "# Apresantando os dados de entrada com 21613 linhas e 21 columns\r\n",
        "df"
      ],
      "execution_count": 109,
      "outputs": [
        {
          "output_type": "execute_result",
          "data": {
            "text/html": [
              "<div>\n",
              "<style scoped>\n",
              "    .dataframe tbody tr th:only-of-type {\n",
              "        vertical-align: middle;\n",
              "    }\n",
              "\n",
              "    .dataframe tbody tr th {\n",
              "        vertical-align: top;\n",
              "    }\n",
              "\n",
              "    .dataframe thead th {\n",
              "        text-align: right;\n",
              "    }\n",
              "</style>\n",
              "<table border=\"1\" class=\"dataframe\">\n",
              "  <thead>\n",
              "    <tr style=\"text-align: right;\">\n",
              "      <th></th>\n",
              "      <th>id</th>\n",
              "      <th>date</th>\n",
              "      <th>price</th>\n",
              "      <th>bedrooms</th>\n",
              "      <th>bathrooms</th>\n",
              "      <th>sqft_living</th>\n",
              "      <th>sqft_lot</th>\n",
              "      <th>floors</th>\n",
              "      <th>waterfront</th>\n",
              "      <th>view</th>\n",
              "      <th>condition</th>\n",
              "      <th>grade</th>\n",
              "      <th>sqft_above</th>\n",
              "      <th>sqft_basement</th>\n",
              "      <th>yr_built</th>\n",
              "      <th>yr_renovated</th>\n",
              "      <th>zipcode</th>\n",
              "      <th>lat</th>\n",
              "      <th>long</th>\n",
              "      <th>sqft_living15</th>\n",
              "      <th>sqft_lot15</th>\n",
              "    </tr>\n",
              "  </thead>\n",
              "  <tbody>\n",
              "    <tr>\n",
              "      <th>0</th>\n",
              "      <td>7129300520</td>\n",
              "      <td>20141013T000000</td>\n",
              "      <td>221900.0</td>\n",
              "      <td>3</td>\n",
              "      <td>1.00</td>\n",
              "      <td>1180</td>\n",
              "      <td>5650</td>\n",
              "      <td>1.0</td>\n",
              "      <td>0</td>\n",
              "      <td>0</td>\n",
              "      <td>3</td>\n",
              "      <td>7</td>\n",
              "      <td>1180</td>\n",
              "      <td>0</td>\n",
              "      <td>1955</td>\n",
              "      <td>0</td>\n",
              "      <td>98178</td>\n",
              "      <td>47.5112</td>\n",
              "      <td>-122.257</td>\n",
              "      <td>1340</td>\n",
              "      <td>5650</td>\n",
              "    </tr>\n",
              "    <tr>\n",
              "      <th>1</th>\n",
              "      <td>6414100192</td>\n",
              "      <td>20141209T000000</td>\n",
              "      <td>538000.0</td>\n",
              "      <td>3</td>\n",
              "      <td>2.25</td>\n",
              "      <td>2570</td>\n",
              "      <td>7242</td>\n",
              "      <td>2.0</td>\n",
              "      <td>0</td>\n",
              "      <td>0</td>\n",
              "      <td>3</td>\n",
              "      <td>7</td>\n",
              "      <td>2170</td>\n",
              "      <td>400</td>\n",
              "      <td>1951</td>\n",
              "      <td>1991</td>\n",
              "      <td>98125</td>\n",
              "      <td>47.7210</td>\n",
              "      <td>-122.319</td>\n",
              "      <td>1690</td>\n",
              "      <td>7639</td>\n",
              "    </tr>\n",
              "    <tr>\n",
              "      <th>2</th>\n",
              "      <td>5631500400</td>\n",
              "      <td>20150225T000000</td>\n",
              "      <td>180000.0</td>\n",
              "      <td>2</td>\n",
              "      <td>1.00</td>\n",
              "      <td>770</td>\n",
              "      <td>10000</td>\n",
              "      <td>1.0</td>\n",
              "      <td>0</td>\n",
              "      <td>0</td>\n",
              "      <td>3</td>\n",
              "      <td>6</td>\n",
              "      <td>770</td>\n",
              "      <td>0</td>\n",
              "      <td>1933</td>\n",
              "      <td>0</td>\n",
              "      <td>98028</td>\n",
              "      <td>47.7379</td>\n",
              "      <td>-122.233</td>\n",
              "      <td>2720</td>\n",
              "      <td>8062</td>\n",
              "    </tr>\n",
              "    <tr>\n",
              "      <th>3</th>\n",
              "      <td>2487200875</td>\n",
              "      <td>20141209T000000</td>\n",
              "      <td>604000.0</td>\n",
              "      <td>4</td>\n",
              "      <td>3.00</td>\n",
              "      <td>1960</td>\n",
              "      <td>5000</td>\n",
              "      <td>1.0</td>\n",
              "      <td>0</td>\n",
              "      <td>0</td>\n",
              "      <td>5</td>\n",
              "      <td>7</td>\n",
              "      <td>1050</td>\n",
              "      <td>910</td>\n",
              "      <td>1965</td>\n",
              "      <td>0</td>\n",
              "      <td>98136</td>\n",
              "      <td>47.5208</td>\n",
              "      <td>-122.393</td>\n",
              "      <td>1360</td>\n",
              "      <td>5000</td>\n",
              "    </tr>\n",
              "    <tr>\n",
              "      <th>4</th>\n",
              "      <td>1954400510</td>\n",
              "      <td>20150218T000000</td>\n",
              "      <td>510000.0</td>\n",
              "      <td>3</td>\n",
              "      <td>2.00</td>\n",
              "      <td>1680</td>\n",
              "      <td>8080</td>\n",
              "      <td>1.0</td>\n",
              "      <td>0</td>\n",
              "      <td>0</td>\n",
              "      <td>3</td>\n",
              "      <td>8</td>\n",
              "      <td>1680</td>\n",
              "      <td>0</td>\n",
              "      <td>1987</td>\n",
              "      <td>0</td>\n",
              "      <td>98074</td>\n",
              "      <td>47.6168</td>\n",
              "      <td>-122.045</td>\n",
              "      <td>1800</td>\n",
              "      <td>7503</td>\n",
              "    </tr>\n",
              "    <tr>\n",
              "      <th>...</th>\n",
              "      <td>...</td>\n",
              "      <td>...</td>\n",
              "      <td>...</td>\n",
              "      <td>...</td>\n",
              "      <td>...</td>\n",
              "      <td>...</td>\n",
              "      <td>...</td>\n",
              "      <td>...</td>\n",
              "      <td>...</td>\n",
              "      <td>...</td>\n",
              "      <td>...</td>\n",
              "      <td>...</td>\n",
              "      <td>...</td>\n",
              "      <td>...</td>\n",
              "      <td>...</td>\n",
              "      <td>...</td>\n",
              "      <td>...</td>\n",
              "      <td>...</td>\n",
              "      <td>...</td>\n",
              "      <td>...</td>\n",
              "      <td>...</td>\n",
              "    </tr>\n",
              "    <tr>\n",
              "      <th>21608</th>\n",
              "      <td>263000018</td>\n",
              "      <td>20140521T000000</td>\n",
              "      <td>360000.0</td>\n",
              "      <td>3</td>\n",
              "      <td>2.50</td>\n",
              "      <td>1530</td>\n",
              "      <td>1131</td>\n",
              "      <td>3.0</td>\n",
              "      <td>0</td>\n",
              "      <td>0</td>\n",
              "      <td>3</td>\n",
              "      <td>8</td>\n",
              "      <td>1530</td>\n",
              "      <td>0</td>\n",
              "      <td>2009</td>\n",
              "      <td>0</td>\n",
              "      <td>98103</td>\n",
              "      <td>47.6993</td>\n",
              "      <td>-122.346</td>\n",
              "      <td>1530</td>\n",
              "      <td>1509</td>\n",
              "    </tr>\n",
              "    <tr>\n",
              "      <th>21609</th>\n",
              "      <td>6600060120</td>\n",
              "      <td>20150223T000000</td>\n",
              "      <td>400000.0</td>\n",
              "      <td>4</td>\n",
              "      <td>2.50</td>\n",
              "      <td>2310</td>\n",
              "      <td>5813</td>\n",
              "      <td>2.0</td>\n",
              "      <td>0</td>\n",
              "      <td>0</td>\n",
              "      <td>3</td>\n",
              "      <td>8</td>\n",
              "      <td>2310</td>\n",
              "      <td>0</td>\n",
              "      <td>2014</td>\n",
              "      <td>0</td>\n",
              "      <td>98146</td>\n",
              "      <td>47.5107</td>\n",
              "      <td>-122.362</td>\n",
              "      <td>1830</td>\n",
              "      <td>7200</td>\n",
              "    </tr>\n",
              "    <tr>\n",
              "      <th>21610</th>\n",
              "      <td>1523300141</td>\n",
              "      <td>20140623T000000</td>\n",
              "      <td>402101.0</td>\n",
              "      <td>2</td>\n",
              "      <td>0.75</td>\n",
              "      <td>1020</td>\n",
              "      <td>1350</td>\n",
              "      <td>2.0</td>\n",
              "      <td>0</td>\n",
              "      <td>0</td>\n",
              "      <td>3</td>\n",
              "      <td>7</td>\n",
              "      <td>1020</td>\n",
              "      <td>0</td>\n",
              "      <td>2009</td>\n",
              "      <td>0</td>\n",
              "      <td>98144</td>\n",
              "      <td>47.5944</td>\n",
              "      <td>-122.299</td>\n",
              "      <td>1020</td>\n",
              "      <td>2007</td>\n",
              "    </tr>\n",
              "    <tr>\n",
              "      <th>21611</th>\n",
              "      <td>291310100</td>\n",
              "      <td>20150116T000000</td>\n",
              "      <td>400000.0</td>\n",
              "      <td>3</td>\n",
              "      <td>2.50</td>\n",
              "      <td>1600</td>\n",
              "      <td>2388</td>\n",
              "      <td>2.0</td>\n",
              "      <td>0</td>\n",
              "      <td>0</td>\n",
              "      <td>3</td>\n",
              "      <td>8</td>\n",
              "      <td>1600</td>\n",
              "      <td>0</td>\n",
              "      <td>2004</td>\n",
              "      <td>0</td>\n",
              "      <td>98027</td>\n",
              "      <td>47.5345</td>\n",
              "      <td>-122.069</td>\n",
              "      <td>1410</td>\n",
              "      <td>1287</td>\n",
              "    </tr>\n",
              "    <tr>\n",
              "      <th>21612</th>\n",
              "      <td>1523300157</td>\n",
              "      <td>20141015T000000</td>\n",
              "      <td>325000.0</td>\n",
              "      <td>2</td>\n",
              "      <td>0.75</td>\n",
              "      <td>1020</td>\n",
              "      <td>1076</td>\n",
              "      <td>2.0</td>\n",
              "      <td>0</td>\n",
              "      <td>0</td>\n",
              "      <td>3</td>\n",
              "      <td>7</td>\n",
              "      <td>1020</td>\n",
              "      <td>0</td>\n",
              "      <td>2008</td>\n",
              "      <td>0</td>\n",
              "      <td>98144</td>\n",
              "      <td>47.5941</td>\n",
              "      <td>-122.299</td>\n",
              "      <td>1020</td>\n",
              "      <td>1357</td>\n",
              "    </tr>\n",
              "  </tbody>\n",
              "</table>\n",
              "<p>21613 rows × 21 columns</p>\n",
              "</div>"
            ],
            "text/plain": [
              "               id             date     price  bedrooms  bathrooms  \\\n",
              "0      7129300520  20141013T000000  221900.0         3       1.00   \n",
              "1      6414100192  20141209T000000  538000.0         3       2.25   \n",
              "2      5631500400  20150225T000000  180000.0         2       1.00   \n",
              "3      2487200875  20141209T000000  604000.0         4       3.00   \n",
              "4      1954400510  20150218T000000  510000.0         3       2.00   \n",
              "...           ...              ...       ...       ...        ...   \n",
              "21608   263000018  20140521T000000  360000.0         3       2.50   \n",
              "21609  6600060120  20150223T000000  400000.0         4       2.50   \n",
              "21610  1523300141  20140623T000000  402101.0         2       0.75   \n",
              "21611   291310100  20150116T000000  400000.0         3       2.50   \n",
              "21612  1523300157  20141015T000000  325000.0         2       0.75   \n",
              "\n",
              "       sqft_living  sqft_lot  floors  waterfront  view  condition  grade  \\\n",
              "0             1180      5650     1.0           0     0          3      7   \n",
              "1             2570      7242     2.0           0     0          3      7   \n",
              "2              770     10000     1.0           0     0          3      6   \n",
              "3             1960      5000     1.0           0     0          5      7   \n",
              "4             1680      8080     1.0           0     0          3      8   \n",
              "...            ...       ...     ...         ...   ...        ...    ...   \n",
              "21608         1530      1131     3.0           0     0          3      8   \n",
              "21609         2310      5813     2.0           0     0          3      8   \n",
              "21610         1020      1350     2.0           0     0          3      7   \n",
              "21611         1600      2388     2.0           0     0          3      8   \n",
              "21612         1020      1076     2.0           0     0          3      7   \n",
              "\n",
              "       sqft_above  sqft_basement  yr_built  yr_renovated  zipcode      lat  \\\n",
              "0            1180              0      1955             0    98178  47.5112   \n",
              "1            2170            400      1951          1991    98125  47.7210   \n",
              "2             770              0      1933             0    98028  47.7379   \n",
              "3            1050            910      1965             0    98136  47.5208   \n",
              "4            1680              0      1987             0    98074  47.6168   \n",
              "...           ...            ...       ...           ...      ...      ...   \n",
              "21608        1530              0      2009             0    98103  47.6993   \n",
              "21609        2310              0      2014             0    98146  47.5107   \n",
              "21610        1020              0      2009             0    98144  47.5944   \n",
              "21611        1600              0      2004             0    98027  47.5345   \n",
              "21612        1020              0      2008             0    98144  47.5941   \n",
              "\n",
              "          long  sqft_living15  sqft_lot15  \n",
              "0     -122.257           1340        5650  \n",
              "1     -122.319           1690        7639  \n",
              "2     -122.233           2720        8062  \n",
              "3     -122.393           1360        5000  \n",
              "4     -122.045           1800        7503  \n",
              "...        ...            ...         ...  \n",
              "21608 -122.346           1530        1509  \n",
              "21609 -122.362           1830        7200  \n",
              "21610 -122.299           1020        2007  \n",
              "21611 -122.069           1410        1287  \n",
              "21612 -122.299           1020        1357  \n",
              "\n",
              "[21613 rows x 21 columns]"
            ]
          },
          "metadata": {
            "tags": []
          },
          "execution_count": 109
        }
      ]
    },
    {
      "cell_type": "code",
      "metadata": {
        "id": "AXBawZUUjEM_"
      },
      "source": [
        "#Pré-Processamento dos dados\r\n",
        "# Desejamos como variável Target a coluna Price, observamos que as duas ultimas colunas contém dados nulos iremos retiras com o pandas estes dados. \r\n",
        "X = df.iloc[:, 5:6].values\r\n",
        "#vamos utlizar como variáveis preditoras (dependentes) as colunas de 0 até 5 apenas \r\n",
        "# fixando o  preço 'price' como variável alvo (independente).\r\n",
        "Y = df.iloc[:,2].values"
      ],
      "execution_count": 25,
      "outputs": []
    },
    {
      "cell_type": "code",
      "metadata": {
        "id": "KPuXZ0FajcJI"
      },
      "source": [
        "#particionando o dataframe em treinamento e teste, importando train_test_split do sklearn\r\n",
        "# 30% para os dados de teste e 70% para os dados de treinamento, escolhido aleatoriamente\r\n",
        "from sklearn.model_selection import train_test_split\r\n",
        "X_treinamento, X_teste, Y_treinamento, Y_teste = train_test_split(X,Y, test_size = 0.3, random_state = 0)"
      ],
      "execution_count": 26,
      "outputs": []
    },
    {
      "cell_type": "code",
      "metadata": {
        "id": "mxTkEBLbkAYJ"
      },
      "source": [
        "#Executando a regresssão linear com o sklearn\r\n",
        "from sklearn.linear_model import LinearRegression\r\n",
        "regressor = LinearRegression()\r\n",
        "regressor.fit(X_treinamento, y_treinamento)\r\n",
        "score = regressor.score(X_treinamento, Y_treinamento )"
      ],
      "execution_count": 27,
      "outputs": []
    },
    {
      "cell_type": "code",
      "metadata": {
        "colab": {
          "base_uri": "https://localhost:8080/"
        },
        "id": "FoaCz3egnwTS",
        "outputId": "eb8bee4a-20de-4c56-8982-8eca69fa2815"
      },
      "source": [
        "#imprimindo o score, vemos que a reta de regressão se ajusta a  quase 50% dos dados\r\n",
        "print(score)\r\n",
        "# vemos que os dados não se ajustaram de maneira satisfatória ao modelo "
      ],
      "execution_count": 28,
      "outputs": [
        {
          "output_type": "stream",
          "text": [
            "0.49453356717789776\n"
          ],
          "name": "stdout"
        }
      ]
    },
    {
      "cell_type": "code",
      "metadata": {
        "colab": {
          "base_uri": "https://localhost:8080/",
          "height": 293
        },
        "id": "Cs3yZ13BlRwZ",
        "outputId": "427641af-dd9c-4a38-97d4-001794ad28a1"
      },
      "source": [
        "#imprimindo a reta de regressão para os dados de treinamento (70% dos dados) com o matplotlib\r\n",
        "# comprovando o problema de ajuste dos dados\r\n",
        "import matplotlib.pyplot as plt\r\n",
        "plt.scatter(X_treinamento, y_treinamento)\r\n",
        "plt.plot(X_treinamento, regressor.predict(X_treinamento), color = 'red')"
      ],
      "execution_count": 29,
      "outputs": [
        {
          "output_type": "execute_result",
          "data": {
            "text/plain": [
              "[<matplotlib.lines.Line2D at 0x7f13a82f8da0>]"
            ]
          },
          "metadata": {
            "tags": []
          },
          "execution_count": 29
        },
        {
          "output_type": "display_data",
          "data": {
            "image/png": "[encoded data removed]",
            "text/plain": [
              "<Figure size 432x288 with 1 Axes>"
            ]
          },
          "metadata": {
            "tags": [],
            "needs_background": "light"
          }
        }
      ]
    },
    {
      "cell_type": "code",
      "metadata": {
        "id": "i3MII1kVlduV"
      },
      "source": [
        "#executando a regressão (previsões) com os dados de teste\r\n",
        "previsoes = regressor.predict(X_teste)"
      ],
      "execution_count": 30,
      "outputs": []
    },
    {
      "cell_type": "code",
      "metadata": {
        "colab": {
          "base_uri": "https://localhost:8080/"
        },
        "id": "Ca531RRBlidr",
        "outputId": "4f626e83-9f94-4868-e5f0-867d52d528ac"
      },
      "source": [
        "#executando o valor absoluto da diferença entre os dados de teste e as previsões\r\n",
        "#vemos pelo gráfico acima que o modelo está errando bastante, vamos calcular os valores absolutos para os dados de teste,\r\n",
        "#retirando os valores negativos\r\n",
        "resultado = abs(Y_teste - previsoes)\r\n",
        "resultado.mean()"
      ],
      "execution_count": 33,
      "outputs": [
        {
          "output_type": "execute_result",
          "data": {
            "text/plain": [
              "172604.1288999542"
            ]
          },
          "metadata": {
            "tags": []
          },
          "execution_count": 33
        }
      ]
    },
    {
      "cell_type": "code",
      "metadata": {
        "id": "3la1qXEDlkSz"
      },
      "source": [
        "#vemos que o modelo esta errando o preço das casa em média em USD 172604.1288999542\r\n",
        "#temos recursos do sklearn para fazer a comparação dos erros \r\n",
        "#calculando os parâmetros estatísticos erro absoluto médio e erro quadrático médio\r\n",
        "from sklearn.metrics import mean_absolute_error, mean_squared_error\r\n",
        "mae = mean_absolute_error(Y_teste, previsoes)\r\n",
        "mse = mean_squared_error(Y_teste, previsoes)"
      ],
      "execution_count": 34,
      "outputs": []
    },
    {
      "cell_type": "code",
      "metadata": {
        "colab": {
          "base_uri": "https://localhost:8080/"
        },
        "id": "WHpU7MCgl31n",
        "outputId": "5853905b-d818-4a24-f83c-89940e0ded51"
      },
      "source": [
        "print(mae)\r\n",
        "#erro absoluto cono calculado anteriormente de USD 172604.1288999542\r\n",
        "print(mse)\r\n",
        "#erro absoluto elevado ao quadrado de USD 70170013932.1159"
      ],
      "execution_count": 35,
      "outputs": [
        {
          "output_type": "stream",
          "text": [
            "172604.1288999542\n",
            "70170013932.1159\n"
          ],
          "name": "stdout"
        }
      ]
    },
    {
      "cell_type": "code",
      "metadata": {
        "colab": {
          "base_uri": "https://localhost:8080/",
          "height": 293
        },
        "id": "AuvgDxwZlpnS",
        "outputId": "b50ffc7f-fe08-4cf0-aa9b-e0f0a1962e34"
      },
      "source": [
        "#imprimindo a reta ajustada  de regressão (previsões) para os dados de teste \r\n",
        "plt.scatter(X_teste, Y_teste)\r\n",
        "plt.plot(X_teste, regressor.predict(X_teste), color = 'red')"
      ],
      "execution_count": 36,
      "outputs": [
        {
          "output_type": "execute_result",
          "data": {
            "text/plain": [
              "[<matplotlib.lines.Line2D at 0x7f13a829d438>]"
            ]
          },
          "metadata": {
            "tags": []
          },
          "execution_count": 36
        },
        {
          "output_type": "display_data",
          "data": {
            "image/png": "[encoded data removed]",
            "text/plain": [
              "<Figure size 432x288 with 1 Axes>"
            ]
          },
          "metadata": {
            "tags": [],
            "needs_background": "light"
          }
        }
      ]
    },
    {
      "cell_type": "code",
      "metadata": {
        "colab": {
          "base_uri": "https://localhost:8080/"
        },
        "id": "7yDR2Bioxsr5",
        "outputId": "557a15dd-c1c3-480c-9068-de9b7393b16f"
      },
      "source": [
        "#calculando o ajuste (score) da reta de regressão aos dados de teste, vemos que a regressão se ajusta a apenas 49% dos dados\r\n",
        "# os dados contém muitos resíduos e as métricas devem ser apuradas , e devemos utilizar mais atributos na base de dados, executando uma regressão múltipla \r\n",
        "regressor.score(X_teste, Y_teste)"
      ],
      "execution_count": 42,
      "outputs": [
        {
          "output_type": "execute_result",
          "data": {
            "text/plain": [
              "0.4888992901945303"
            ]
          },
          "metadata": {
            "tags": []
          },
          "execution_count": 42
        }
      ]
    },
    {
      "cell_type": "code",
      "metadata": {
        "id": "IegpS7Sy-S6h"
      },
      "source": [
        "# como vimos que as colunas 0  a 5 do nosso Dataset não foram bons previsores para os preços das casas. \r\n",
        " #vamos inserir as outras vcolunas dos dados como atributos previsores,as colunas 3 a 19.\r\n",
        "X = df.iloc[:, 3:19].values\r\n",
        "y = df.iloc[:, 2].values"
      ],
      "execution_count": 111,
      "outputs": []
    },
    {
      "cell_type": "code",
      "metadata": {
        "id": "nbsxkPz__nDB"
      },
      "source": [
        "# particionando novamente os dados em teste e treinamento com sklearn\r\n",
        "from sklearn.model_selection import train_test_split\r\n",
        "X_treinamento, X_teste, y_treinamento, y_teste = train_test_split(X, y,\r\n",
        "                                                                  test_size = 0.3,\r\n",
        "                                                                  random_state = 0)"
      ],
      "execution_count": 112,
      "outputs": []
    },
    {
      "cell_type": "code",
      "metadata": {
        "id": "-A4wTDwp_-RF"
      },
      "source": [
        "#executando a regressão múltipla , o sklearn já reconhece automaticamente a regessão e cria o modelo\r\n",
        "from sklearn.linear_model import LinearRegression\r\n",
        "regressor = LinearRegression()\r\n",
        "regressor.fit(X_treinamento, y_treinamento)\r\n",
        "score = regressor.score(X_treinamento, y_treinamento)"
      ],
      "execution_count": 113,
      "outputs": []
    },
    {
      "cell_type": "code",
      "metadata": {
        "id": "ibj0pAabAPhu"
      },
      "source": [
        "#executando novamente as previsões do modelo para os dados de teste agora com os novos atributos\r\n",
        "previsoes2 = regressor.predict(X_teste)"
      ],
      "execution_count": 114,
      "outputs": []
    },
    {
      "cell_type": "code",
      "metadata": {
        "id": "B2Mp6y6oAcSM"
      },
      "source": [
        "# executando novamente as métricas de erro absoluto médio \r\n",
        "from sklearn.metrics import mean_absolute_error\r\n",
        "mae = mean_absolute_error(y_teste, previsoes2)"
      ],
      "execution_count": 115,
      "outputs": []
    },
    {
      "cell_type": "code",
      "metadata": {
        "colab": {
          "base_uri": "https://localhost:8080/"
        },
        "id": "mIO1txtGC_e2",
        "outputId": "190f23b1-41db-4b31-9577-d47e487c406f"
      },
      "source": [
        "print(mae)\r\n",
        "#observamos que o modelo diminui o erro na previsão dos preços das casas que era de USD 172604.1288999542\r\n",
        "# e passou a ser de USD 123888.44377485718, ainda esta errando bastante"
      ],
      "execution_count": 116,
      "outputs": [
        {
          "output_type": "stream",
          "text": [
            "123888.44377485718\n"
          ],
          "name": "stdout"
        }
      ]
    },
    {
      "cell_type": "code",
      "metadata": {
        "colab": {
          "base_uri": "https://localhost:8080/"
        },
        "id": "hh8OxVEOB4gu",
        "outputId": "612152a2-a60b-43ac-aa82-742551adb381"
      },
      "source": [
        "#executando o regressor novamente\r\n",
        "regressor.score(X_teste, y_teste)"
      ],
      "execution_count": 117,
      "outputs": [
        {
          "output_type": "execute_result",
          "data": {
            "text/plain": [
              "0.6885414149062777"
            ]
          },
          "metadata": {
            "tags": []
          },
          "execution_count": 117
        }
      ]
    },
    {
      "cell_type": "markdown",
      "metadata": {
        "id": "YAgCOQhcJvwR"
      },
      "source": [
        "#observamos que a reta de gressão se ajustou melhor aos dados com 68.85% de ajuste o que indica uma maior correlação destas novas colunas previsoras aos preços das casa da cidade em questão."
      ]
    },
    {
      "cell_type": "markdown",
      "metadata": {
        "id": "Y0lnC9WbckvO"
      },
      "source": [
        "#Referências:\r\n",
        "\r\n",
        "https://www.kaggle.com/harlfoxem/housesalesprediction\r\n",
        "\r\n",
        "https://scikit-learn.org/stable/modules/generated/sklearn.linear_model.LinearRegression.html\r\n",
        "\r\n",
        "https://scikit-learn.org/stable/auto_examples/linear_model/plot_ols.html#sphx-glr-auto-examples-linear-model-plot-ols-py\r\n",
        "\r\n",
        "https://scikit-learn.org/stable/modules/model_evaluation.html#mean-squared-error\r\n",
        "\r\n",
        "https://github.com/pycaret/pycaret/blob/master/tutorials/Regression%20Tutorial%20Level%20Beginner%20-%20REG101.ipynb\r\n",
        "\r\n",
        "https://medium.com/machina-sapiens/algoritmos-de-aprendizagem-de-m%C3%A1quina-qual-deles-escolher-67040ad68737\r\n",
        "\r\n",
        "https://stackoverflow.com/questions/51196227/python-plotting-and-linear-regression-x-and-y-must-be-the-same-size/51196339\r\n"
      ]
    }
  ]
}