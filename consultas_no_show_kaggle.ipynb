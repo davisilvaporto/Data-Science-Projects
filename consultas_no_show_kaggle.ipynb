{
  "nbformat": 4,
  "nbformat_minor": 0,
  "metadata": {
    "colab": {
      "name": "consultas_no_show_kaggle.ipynb",
      "provenance": [],
      "collapsed_sections": []
    },
    "kernelspec": {
      "name": "python3",
      "display_name": "Python 3"
    },
    "widgets": {
      "application/vnd.jupyter.widget-state+json": {
        "d85cc18199614fa5bff8ffacb21f1e2a": {
          "model_module": "@jupyter-widgets/controls",
          "model_name": "HBoxModel",
          "state": {
            "_view_name": "HBoxView",
            "_dom_classes": [],
            "_model_name": "HBoxModel",
            "_view_module": "@jupyter-widgets/controls",
            "_model_module_version": "1.5.0",
            "_view_count": null,
            "_view_module_version": "1.5.0",
            "box_style": "",
            "layout": "IPY_MODEL_f2d957ccd3794f64a32363d692af99fb",
            "_model_module": "@jupyter-widgets/controls",
            "children": [
              "IPY_MODEL_1c6b89fd60ea41679bca70565d786b42",
              "IPY_MODEL_528e7372b79442ab95cd54047e999031",
              "IPY_MODEL_9c9e69cc821f4b08b5eb6fa1bba4527a"
            ]
          }
        },
        "f2d957ccd3794f64a32363d692af99fb": {
          "model_module": "@jupyter-widgets/base",
          "model_name": "LayoutModel",
          "state": {
            "_view_name": "LayoutView",
            "grid_template_rows": null,
            "right": null,
            "justify_content": null,
            "_view_module": "@jupyter-widgets/base",
            "overflow": null,
            "_model_module_version": "1.2.0",
            "_view_count": null,
            "flex_flow": "row wrap",
            "width": "100%",
            "min_width": null,
            "border": null,
            "align_items": null,
            "bottom": null,
            "_model_module": "@jupyter-widgets/base",
            "top": null,
            "grid_column": null,
            "overflow_y": null,
            "overflow_x": null,
            "grid_auto_flow": null,
            "grid_area": null,
            "grid_template_columns": null,
            "flex": null,
            "_model_name": "LayoutModel",
            "justify_items": null,
            "grid_row": null,
            "max_height": null,
            "align_content": null,
            "visibility": null,
            "align_self": null,
            "height": null,
            "min_height": null,
            "padding": null,
            "grid_auto_rows": null,
            "grid_gap": null,
            "max_width": null,
            "order": null,
            "_view_module_version": "1.2.0",
            "grid_template_areas": null,
            "object_position": null,
            "object_fit": null,
            "grid_auto_columns": null,
            "margin": null,
            "display": "inline-flex",
            "left": null
          }
        },
        "1c6b89fd60ea41679bca70565d786b42": {
          "model_module": "@jupyter-widgets/controls",
          "model_name": "HTMLModel",
          "state": {
            "_view_name": "HTMLView",
            "style": "IPY_MODEL_65c98117b8524743a2ff4377f495bcc9",
            "_dom_classes": [],
            "description": "",
            "_model_name": "HTMLModel",
            "placeholder": "​",
            "_view_module": "@jupyter-widgets/controls",
            "_model_module_version": "1.5.0",
            "value": "Done! Use &#x27;show&#x27; commands to display/save.   ",
            "_view_count": null,
            "_view_module_version": "1.5.0",
            "description_tooltip": null,
            "_model_module": "@jupyter-widgets/controls",
            "layout": "IPY_MODEL_346399b2203a4d9ca773bfaa73bd814c"
          }
        },
        "528e7372b79442ab95cd54047e999031": {
          "model_module": "@jupyter-widgets/controls",
          "model_name": "FloatProgressModel",
          "state": {
            "_view_name": "ProgressView",
            "style": "IPY_MODEL_f5396dc9118647b8a003d7faed8b18fe",
            "_dom_classes": [],
            "description": "",
            "_model_name": "FloatProgressModel",
            "bar_style": "success",
            "max": 1,
            "_view_module": "@jupyter-widgets/controls",
            "_model_module_version": "1.5.0",
            "value": 1,
            "_view_count": null,
            "_view_module_version": "1.5.0",
            "orientation": "horizontal",
            "min": 0,
            "description_tooltip": null,
            "_model_module": "@jupyter-widgets/controls",
            "layout": "IPY_MODEL_d15de98ea29147a88502c6eb0fa9ce59"
          }
        },
        "9c9e69cc821f4b08b5eb6fa1bba4527a": {
          "model_module": "@jupyter-widgets/controls",
          "model_name": "HTMLModel",
          "state": {
            "_view_name": "HTMLView",
            "style": "IPY_MODEL_31af032c034c448b87f3eeb4173139d9",
            "_dom_classes": [],
            "description": "",
            "_model_name": "HTMLModel",
            "placeholder": "​",
            "_view_module": "@jupyter-widgets/controls",
            "_model_module_version": "1.5.0",
            "value": " [100%]   00:00 -&gt; (00:00 left)",
            "_view_count": null,
            "_view_module_version": "1.5.0",
            "description_tooltip": null,
            "_model_module": "@jupyter-widgets/controls",
            "layout": "IPY_MODEL_602138eed90c4aff9b6d51ab124d0691"
          }
        },
        "65c98117b8524743a2ff4377f495bcc9": {
          "model_module": "@jupyter-widgets/controls",
          "model_name": "DescriptionStyleModel",
          "state": {
            "_view_name": "StyleView",
            "_model_name": "DescriptionStyleModel",
            "description_width": "",
            "_view_module": "@jupyter-widgets/base",
            "_model_module_version": "1.5.0",
            "_view_count": null,
            "_view_module_version": "1.2.0",
            "_model_module": "@jupyter-widgets/controls"
          }
        },
        "346399b2203a4d9ca773bfaa73bd814c": {
          "model_module": "@jupyter-widgets/base",
          "model_name": "LayoutModel",
          "state": {
            "_view_name": "LayoutView",
            "grid_template_rows": null,
            "right": null,
            "justify_content": null,
            "_view_module": "@jupyter-widgets/base",
            "overflow": null,
            "_model_module_version": "1.2.0",
            "_view_count": null,
            "flex_flow": null,
            "width": null,
            "min_width": null,
            "border": null,
            "align_items": null,
            "bottom": null,
            "_model_module": "@jupyter-widgets/base",
            "top": null,
            "grid_column": null,
            "overflow_y": null,
            "overflow_x": null,
            "grid_auto_flow": null,
            "grid_area": null,
            "grid_template_columns": null,
            "flex": null,
            "_model_name": "LayoutModel",
            "justify_items": null,
            "grid_row": null,
            "max_height": null,
            "align_content": null,
            "visibility": null,
            "align_self": null,
            "height": null,
            "min_height": null,
            "padding": null,
            "grid_auto_rows": null,
            "grid_gap": null,
            "max_width": null,
            "order": null,
            "_view_module_version": "1.2.0",
            "grid_template_areas": null,
            "object_position": null,
            "object_fit": null,
            "grid_auto_columns": null,
            "margin": null,
            "display": null,
            "left": null
          }
        },
        "f5396dc9118647b8a003d7faed8b18fe": {
          "model_module": "@jupyter-widgets/controls",
          "model_name": "ProgressStyleModel",
          "state": {
            "_view_name": "StyleView",
            "_model_name": "ProgressStyleModel",
            "description_width": "",
            "_view_module": "@jupyter-widgets/base",
            "_model_module_version": "1.5.0",
            "_view_count": null,
            "_view_module_version": "1.2.0",
            "bar_color": null,
            "_model_module": "@jupyter-widgets/controls"
          }
        },
        "d15de98ea29147a88502c6eb0fa9ce59": {
          "model_module": "@jupyter-widgets/base",
          "model_name": "LayoutModel",
          "state": {
            "_view_name": "LayoutView",
            "grid_template_rows": null,
            "right": null,
            "justify_content": null,
            "_view_module": "@jupyter-widgets/base",
            "overflow": null,
            "_model_module_version": "1.2.0",
            "_view_count": null,
            "flex_flow": null,
            "width": null,
            "min_width": null,
            "border": null,
            "align_items": null,
            "bottom": null,
            "_model_module": "@jupyter-widgets/base",
            "top": null,
            "grid_column": null,
            "overflow_y": null,
            "overflow_x": null,
            "grid_auto_flow": null,
            "grid_area": null,
            "grid_template_columns": null,
            "flex": "2",
            "_model_name": "LayoutModel",
            "justify_items": null,
            "grid_row": null,
            "max_height": null,
            "align_content": null,
            "visibility": null,
            "align_self": null,
            "height": null,
            "min_height": null,
            "padding": null,
            "grid_auto_rows": null,
            "grid_gap": null,
            "max_width": null,
            "order": null,
            "_view_module_version": "1.2.0",
            "grid_template_areas": null,
            "object_position": null,
            "object_fit": null,
            "grid_auto_columns": null,
            "margin": null,
            "display": null,
            "left": null
          }
        },
        "31af032c034c448b87f3eeb4173139d9": {
          "model_module": "@jupyter-widgets/controls",
          "model_name": "DescriptionStyleModel",
          "state": {
            "_view_name": "StyleView",
            "_model_name": "DescriptionStyleModel",
            "description_width": "",
            "_view_module": "@jupyter-widgets/base",
            "_model_module_version": "1.5.0",
            "_view_count": null,
            "_view_module_version": "1.2.0",
            "_model_module": "@jupyter-widgets/controls"
          }
        },
        "602138eed90c4aff9b6d51ab124d0691": {
          "model_module": "@jupyter-widgets/base",
          "model_name": "LayoutModel",
          "state": {
            "_view_name": "LayoutView",
            "grid_template_rows": null,
            "right": null,
            "justify_content": null,
            "_view_module": "@jupyter-widgets/base",
            "overflow": null,
            "_model_module_version": "1.2.0",
            "_view_count": null,
            "flex_flow": null,
            "width": null,
            "min_width": null,
            "border": null,
            "align_items": null,
            "bottom": null,
            "_model_module": "@jupyter-widgets/base",
            "top": null,
            "grid_column": null,
            "overflow_y": null,
            "overflow_x": null,
            "grid_auto_flow": null,
            "grid_area": null,
            "grid_template_columns": null,
            "flex": null,
            "_model_name": "LayoutModel",
            "justify_items": null,
            "grid_row": null,
            "max_height": null,
            "align_content": null,
            "visibility": null,
            "align_self": null,
            "height": null,
            "min_height": null,
            "padding": null,
            "grid_auto_rows": null,
            "grid_gap": null,
            "max_width": null,
            "order": null,
            "_view_module_version": "1.2.0",
            "grid_template_areas": null,
            "object_position": null,
            "object_fit": null,
            "grid_auto_columns": null,
            "margin": null,
            "display": null,
            "left": null
          }
        }
      }
    }
  },
  "cells": [
    {
      "cell_type": "markdown",
      "metadata": {
        "id": "MKeLhV9-YwT6"
      },
      "source": [
        "**Projeto de Ciência de Dados**"
      ]
    },
    {
      "cell_type": "markdown",
      "metadata": {
        "id": "04xQnVoDtdkb"
      },
      "source": [
        "Qual a probabilidade de uma pessoa não aparecer em uma consulta marcada?\n"
      ]
    },
    {
      "cell_type": "markdown",
      "metadata": {
        "id": "L4oIeTJymxON"
      },
      "source": [
        "### **Importar as bibliotecas**"
      ]
    },
    {
      "cell_type": "code",
      "metadata": {
        "id": "XiPEHDfLtTZI"
      },
      "source": [
        "# Vamos importar as bibliotecas e os módulos\n",
        "import pandas as pd # Vamos intalar o Pandas\n",
        "import numpy as np # Vamos instalar o Numpy\n",
        "import matplotlib as mat # Vamos instalar o matplotlib para criar gráficos\n",
        "import matplotlib.pyplot as plt # Vamos instalar o plotly\n",
        "import joblib # Para salvar o melhor modelo como um arquivo\n",
        "from sklearn import metrics\n",
        "from sklearn.linear_model import LogisticRegression # Modelo de Regressão Linear\n",
        "from sklearn.preprocessing import MinMaxScaler # Para transformar os dados\n",
        "from sklearn.model_selection import train_test_split # Para dividir o banco de dados\n",
        "from sklearn.neighbors import KNeighborsClassifier # Molelo KNN\n",
        "from sklearn.tree import DecisionTreeClassifier # Decision Tree model\n",
        "from sklearn.neural_network import MLPClassifier # MLP model\n",
        "# Método para avaliar a acurácia dos modelos\n",
        "from sklearn.metrics import classification_report, confusion_matrix, accuracy_score \n",
        "%matplotlib inline"
      ],
      "execution_count": 1,
      "outputs": []
    },
    {
      "cell_type": "markdown",
      "metadata": {
        "id": "W5ku6WuSnAg8"
      },
      "source": [
        "### **Processamento, Tratamento e Análise Exploratória dos Dados**"
      ]
    },
    {
      "cell_type": "code",
      "metadata": {
        "id": "lC5L5Xs8uYR1"
      },
      "source": [
        "# Vamos carregar os dados coletados\n",
        "# Note que o arquivo já está na nossa biblioteca\n",
        "# Vamos renomear o dataframe como df\n",
        "# A variável Gender foi alterada para binária F = 1 e M = 0\n",
        "# A variável target ou No-show foi alterada para binária 1= Não compareceu e  0= compareceu a consulta\n",
        "df = pd.read_csv('consultas_no_show.csv')"
      ],
      "execution_count": 2,
      "outputs": []
    },
    {
      "cell_type": "code",
      "metadata": {
        "colab": {
          "base_uri": "https://localhost:8080/"
        },
        "id": "sAaG5O6ei6eR",
        "outputId": "b7c03fb3-556d-4b89-a424-574a38ac9957"
      },
      "source": [
        "# Vamos conhecer o formato do nosso dataframe (df)\n",
        "df.shape"
      ],
      "execution_count": 3,
      "outputs": [
        {
          "output_type": "execute_result",
          "data": {
            "text/plain": [
              "(110527, 14)"
            ]
          },
          "metadata": {
            "tags": []
          },
          "execution_count": 3
        }
      ]
    },
    {
      "cell_type": "markdown",
      "metadata": {
        "id": "BDd1wWUIn5zs"
      },
      "source": [
        "**Dicionário de Dados:**\n",
        "\n",
        "\n",
        "\n",
        "*   1-  PatientId: Id- código de identificação do paciente\n",
        "*   2-  AppointmentID: código de identificação da consulta\n",
        "*   3 - Gender: Male or Female : Macho ou Fêmea (Gênero)\n",
        "*   4 - ScheduledDay: Data da consulta\n",
        "*   5 - AppointmentDay: Data em que ocorreu o agendamemnto da consulta\n",
        "*   6-  Age: Idade do paciente.\n",
        "*   7 - Neighbourhood: Bairro onde foi marcada a consulta.\n",
        "*   8 - Scholarship: Escolaridade, 1-Verdadeiro(possui escolaridade) , 0-Falso( não possui) conforme criterios do bolsa familía disponível em: https://en.wikipedia.org/wiki/Bolsa_Fam%C3%ADlia\n",
        "*   9 - Hipertension: Se possui Hipertensão 1-Verdadeiro(possui) , 0-Falso( não possui)\n",
        "*   10 - Diabetes : Se possui Diabetes 1-Verdadeiro(possui) , 0-Falso( não possui)\n",
        "*   11- Alcoholism: Se alcolismo está presente 1-Verdadeiro(possui) , 0-Falso( não possui)\n",
        "*   12 - Handcap : Se possui algum tipode deficiência 1-Verdadeiro(possui) , 0-Falso( não possui)\n",
        "*   13- SMS_received: 1 ou mais mensagens enviadas para os pacientes\n",
        "*   14- No-show : Comparecimento alterada para númerica, se 1-Não compareceu 0-compareceu\n"
      ]
    },
    {
      "cell_type": "code",
      "metadata": {
        "id": "pMcQUnqYuuao",
        "colab": {
          "base_uri": "https://localhost:8080/",
          "height": 326
        },
        "outputId": "114c41ef-1493-4be7-c46c-2033cd602152"
      },
      "source": [
        "# Queremos entender as primeiras linhas do nosso df\n",
        "# Podemos escolher a quantidade de linhas que queremos ver\n",
        "# Observe a quantidade de colunas que nosso df possui\n",
        "# head = cabeça (primeiras linhas do df)\n",
        "df.head()"
      ],
      "execution_count": 4,
      "outputs": [
        {
          "output_type": "execute_result",
          "data": {
            "text/html": [
              "<div>\n",
              "<style scoped>\n",
              "    .dataframe tbody tr th:only-of-type {\n",
              "        vertical-align: middle;\n",
              "    }\n",
              "\n",
              "    .dataframe tbody tr th {\n",
              "        vertical-align: top;\n",
              "    }\n",
              "\n",
              "    .dataframe thead th {\n",
              "        text-align: right;\n",
              "    }\n",
              "</style>\n",
              "<table border=\"1\" class=\"dataframe\">\n",
              "  <thead>\n",
              "    <tr style=\"text-align: right;\">\n",
              "      <th></th>\n",
              "      <th>PatientId</th>\n",
              "      <th>AppointmentID</th>\n",
              "      <th>Gender</th>\n",
              "      <th>ScheduledDay</th>\n",
              "      <th>AppointmentDay</th>\n",
              "      <th>Age</th>\n",
              "      <th>Neighbourhood</th>\n",
              "      <th>Scholarship</th>\n",
              "      <th>Hipertension</th>\n",
              "      <th>Diabetes</th>\n",
              "      <th>Alcoholism</th>\n",
              "      <th>Handcap</th>\n",
              "      <th>SMS_received</th>\n",
              "      <th>No-show</th>\n",
              "    </tr>\n",
              "  </thead>\n",
              "  <tbody>\n",
              "    <tr>\n",
              "      <th>0</th>\n",
              "      <td>29872499824296</td>\n",
              "      <td>5642903</td>\n",
              "      <td>1</td>\n",
              "      <td>2016-04-29T18:38:08Z</td>\n",
              "      <td>2016-04-29T00:00:00Z</td>\n",
              "      <td>62</td>\n",
              "      <td>JARDIM DA PENHA</td>\n",
              "      <td>0</td>\n",
              "      <td>1</td>\n",
              "      <td>0</td>\n",
              "      <td>0</td>\n",
              "      <td>0</td>\n",
              "      <td>0</td>\n",
              "      <td>0</td>\n",
              "    </tr>\n",
              "    <tr>\n",
              "      <th>1</th>\n",
              "      <td>558997776694438</td>\n",
              "      <td>5642503</td>\n",
              "      <td>0</td>\n",
              "      <td>2016-04-29T16:08:27Z</td>\n",
              "      <td>2016-04-29T00:00:00Z</td>\n",
              "      <td>56</td>\n",
              "      <td>JARDIM DA PENHA</td>\n",
              "      <td>0</td>\n",
              "      <td>0</td>\n",
              "      <td>0</td>\n",
              "      <td>0</td>\n",
              "      <td>0</td>\n",
              "      <td>0</td>\n",
              "      <td>0</td>\n",
              "    </tr>\n",
              "    <tr>\n",
              "      <th>2</th>\n",
              "      <td>4262962299951</td>\n",
              "      <td>5642549</td>\n",
              "      <td>1</td>\n",
              "      <td>2016-04-29T16:19:04Z</td>\n",
              "      <td>2016-04-29T00:00:00Z</td>\n",
              "      <td>62</td>\n",
              "      <td>MATA DA PRAIA</td>\n",
              "      <td>0</td>\n",
              "      <td>0</td>\n",
              "      <td>0</td>\n",
              "      <td>0</td>\n",
              "      <td>0</td>\n",
              "      <td>0</td>\n",
              "      <td>0</td>\n",
              "    </tr>\n",
              "    <tr>\n",
              "      <th>3</th>\n",
              "      <td>867951213174</td>\n",
              "      <td>5642828</td>\n",
              "      <td>1</td>\n",
              "      <td>2016-04-29T17:29:31Z</td>\n",
              "      <td>2016-04-29T00:00:00Z</td>\n",
              "      <td>8</td>\n",
              "      <td>PONTAL DE CAMBURI</td>\n",
              "      <td>0</td>\n",
              "      <td>0</td>\n",
              "      <td>0</td>\n",
              "      <td>0</td>\n",
              "      <td>0</td>\n",
              "      <td>0</td>\n",
              "      <td>0</td>\n",
              "    </tr>\n",
              "    <tr>\n",
              "      <th>4</th>\n",
              "      <td>8841186448183</td>\n",
              "      <td>5642494</td>\n",
              "      <td>1</td>\n",
              "      <td>2016-04-29T16:07:23Z</td>\n",
              "      <td>2016-04-29T00:00:00Z</td>\n",
              "      <td>56</td>\n",
              "      <td>JARDIM DA PENHA</td>\n",
              "      <td>0</td>\n",
              "      <td>1</td>\n",
              "      <td>1</td>\n",
              "      <td>0</td>\n",
              "      <td>0</td>\n",
              "      <td>0</td>\n",
              "      <td>0</td>\n",
              "    </tr>\n",
              "  </tbody>\n",
              "</table>\n",
              "</div>"
            ],
            "text/plain": [
              "         PatientId  AppointmentID  Gender  ... Handcap SMS_received  No-show\n",
              "0   29872499824296        5642903       1  ...       0            0        0\n",
              "1  558997776694438        5642503       0  ...       0            0        0\n",
              "2    4262962299951        5642549       1  ...       0            0        0\n",
              "3     867951213174        5642828       1  ...       0            0        0\n",
              "4    8841186448183        5642494       1  ...       0            0        0\n",
              "\n",
              "[5 rows x 14 columns]"
            ]
          },
          "metadata": {
            "tags": []
          },
          "execution_count": 4
        }
      ]
    },
    {
      "cell_type": "code",
      "metadata": {
        "id": "jc9GYG7Bu-HW",
        "colab": {
          "base_uri": "https://localhost:8080/",
          "height": 326
        },
        "outputId": "74379750-dd45-4c55-a511-0487951aa50b"
      },
      "source": [
        "# Também podemos investigar quais são os valores das últimas linhas do nosso df\n",
        "# head = rabo (últimas linhas do df)\n",
        "df.tail()"
      ],
      "execution_count": 5,
      "outputs": [
        {
          "output_type": "execute_result",
          "data": {
            "text/html": [
              "<div>\n",
              "<style scoped>\n",
              "    .dataframe tbody tr th:only-of-type {\n",
              "        vertical-align: middle;\n",
              "    }\n",
              "\n",
              "    .dataframe tbody tr th {\n",
              "        vertical-align: top;\n",
              "    }\n",
              "\n",
              "    .dataframe thead th {\n",
              "        text-align: right;\n",
              "    }\n",
              "</style>\n",
              "<table border=\"1\" class=\"dataframe\">\n",
              "  <thead>\n",
              "    <tr style=\"text-align: right;\">\n",
              "      <th></th>\n",
              "      <th>PatientId</th>\n",
              "      <th>AppointmentID</th>\n",
              "      <th>Gender</th>\n",
              "      <th>ScheduledDay</th>\n",
              "      <th>AppointmentDay</th>\n",
              "      <th>Age</th>\n",
              "      <th>Neighbourhood</th>\n",
              "      <th>Scholarship</th>\n",
              "      <th>Hipertension</th>\n",
              "      <th>Diabetes</th>\n",
              "      <th>Alcoholism</th>\n",
              "      <th>Handcap</th>\n",
              "      <th>SMS_received</th>\n",
              "      <th>No-show</th>\n",
              "    </tr>\n",
              "  </thead>\n",
              "  <tbody>\n",
              "    <tr>\n",
              "      <th>110522</th>\n",
              "      <td>2572134369293</td>\n",
              "      <td>5651768</td>\n",
              "      <td>1</td>\n",
              "      <td>2016-05-03T09:15:35Z</td>\n",
              "      <td>2016-06-07T00:00:00Z</td>\n",
              "      <td>56</td>\n",
              "      <td>MARIA ORTIZ</td>\n",
              "      <td>0</td>\n",
              "      <td>0</td>\n",
              "      <td>0</td>\n",
              "      <td>0</td>\n",
              "      <td>0</td>\n",
              "      <td>1</td>\n",
              "      <td>0</td>\n",
              "    </tr>\n",
              "    <tr>\n",
              "      <th>110523</th>\n",
              "      <td>3596266328735</td>\n",
              "      <td>5650093</td>\n",
              "      <td>1</td>\n",
              "      <td>2016-05-03T07:27:33Z</td>\n",
              "      <td>2016-06-07T00:00:00Z</td>\n",
              "      <td>51</td>\n",
              "      <td>MARIA ORTIZ</td>\n",
              "      <td>0</td>\n",
              "      <td>0</td>\n",
              "      <td>0</td>\n",
              "      <td>0</td>\n",
              "      <td>0</td>\n",
              "      <td>1</td>\n",
              "      <td>0</td>\n",
              "    </tr>\n",
              "    <tr>\n",
              "      <th>110524</th>\n",
              "      <td>15576631729893</td>\n",
              "      <td>5630692</td>\n",
              "      <td>1</td>\n",
              "      <td>2016-04-27T16:03:52Z</td>\n",
              "      <td>2016-06-07T00:00:00Z</td>\n",
              "      <td>21</td>\n",
              "      <td>MARIA ORTIZ</td>\n",
              "      <td>0</td>\n",
              "      <td>0</td>\n",
              "      <td>0</td>\n",
              "      <td>0</td>\n",
              "      <td>0</td>\n",
              "      <td>1</td>\n",
              "      <td>0</td>\n",
              "    </tr>\n",
              "    <tr>\n",
              "      <th>110525</th>\n",
              "      <td>92134931435557</td>\n",
              "      <td>5630323</td>\n",
              "      <td>1</td>\n",
              "      <td>2016-04-27T15:09:23Z</td>\n",
              "      <td>2016-06-07T00:00:00Z</td>\n",
              "      <td>38</td>\n",
              "      <td>MARIA ORTIZ</td>\n",
              "      <td>0</td>\n",
              "      <td>0</td>\n",
              "      <td>0</td>\n",
              "      <td>0</td>\n",
              "      <td>0</td>\n",
              "      <td>1</td>\n",
              "      <td>0</td>\n",
              "    </tr>\n",
              "    <tr>\n",
              "      <th>110526</th>\n",
              "      <td>377511518121127</td>\n",
              "      <td>5629448</td>\n",
              "      <td>1</td>\n",
              "      <td>2016-04-27T13:30:56Z</td>\n",
              "      <td>2016-06-07T00:00:00Z</td>\n",
              "      <td>54</td>\n",
              "      <td>MARIA ORTIZ</td>\n",
              "      <td>0</td>\n",
              "      <td>0</td>\n",
              "      <td>0</td>\n",
              "      <td>0</td>\n",
              "      <td>0</td>\n",
              "      <td>1</td>\n",
              "      <td>0</td>\n",
              "    </tr>\n",
              "  </tbody>\n",
              "</table>\n",
              "</div>"
            ],
            "text/plain": [
              "              PatientId  AppointmentID  Gender  ... Handcap SMS_received  No-show\n",
              "110522    2572134369293        5651768       1  ...       0            1        0\n",
              "110523    3596266328735        5650093       1  ...       0            1        0\n",
              "110524   15576631729893        5630692       1  ...       0            1        0\n",
              "110525   92134931435557        5630323       1  ...       0            1        0\n",
              "110526  377511518121127        5629448       1  ...       0            1        0\n",
              "\n",
              "[5 rows x 14 columns]"
            ]
          },
          "metadata": {
            "tags": []
          },
          "execution_count": 5
        }
      ]
    },
    {
      "cell_type": "code",
      "metadata": {
        "colab": {
          "base_uri": "https://localhost:8080/"
        },
        "id": "ovapafCEsgaJ",
        "outputId": "f8f8c525-386b-42ef-fd0f-99e8fb51d2f0"
      },
      "source": [
        "df.columns"
      ],
      "execution_count": 6,
      "outputs": [
        {
          "output_type": "execute_result",
          "data": {
            "text/plain": [
              "Index(['PatientId', 'AppointmentID', 'Gender', 'ScheduledDay',\n",
              "       'AppointmentDay', 'Age', 'Neighbourhood', 'Scholarship', 'Hipertension',\n",
              "       'Diabetes', 'Alcoholism', 'Handcap', 'SMS_received', 'No-show'],\n",
              "      dtype='object')"
            ]
          },
          "metadata": {
            "tags": []
          },
          "execution_count": 6
        }
      ]
    },
    {
      "cell_type": "code",
      "metadata": {
        "id": "86pIB6BCwD0p",
        "colab": {
          "base_uri": "https://localhost:8080/"
        },
        "outputId": "722a62e2-5374-4238-c4e0-675f17c74b2b"
      },
      "source": [
        "df.isnull().values.any()"
      ],
      "execution_count": 7,
      "outputs": [
        {
          "output_type": "execute_result",
          "data": {
            "text/plain": [
              "False"
            ]
          },
          "metadata": {
            "tags": []
          },
          "execution_count": 7
        }
      ]
    },
    {
      "cell_type": "code",
      "metadata": {
        "colab": {
          "base_uri": "https://localhost:8080/"
        },
        "id": "1sczuCMQqBDk",
        "outputId": "3868e031-0bf5-4812-d54a-b40ed0991304"
      },
      "source": [
        "# Informações gerais sobre o df\n",
        "df.info()"
      ],
      "execution_count": 8,
      "outputs": [
        {
          "output_type": "stream",
          "text": [
            "<class 'pandas.core.frame.DataFrame'>\n",
            "RangeIndex: 110527 entries, 0 to 110526\n",
            "Data columns (total 14 columns):\n",
            " #   Column          Non-Null Count   Dtype \n",
            "---  ------          --------------   ----- \n",
            " 0   PatientId       110527 non-null  int64 \n",
            " 1   AppointmentID   110527 non-null  int64 \n",
            " 2   Gender          110527 non-null  int64 \n",
            " 3   ScheduledDay    110527 non-null  object\n",
            " 4   AppointmentDay  110527 non-null  object\n",
            " 5   Age             110527 non-null  int64 \n",
            " 6   Neighbourhood   110527 non-null  object\n",
            " 7   Scholarship     110527 non-null  int64 \n",
            " 8   Hipertension    110527 non-null  int64 \n",
            " 9   Diabetes        110527 non-null  int64 \n",
            " 10  Alcoholism      110527 non-null  int64 \n",
            " 11  Handcap         110527 non-null  int64 \n",
            " 12  SMS_received    110527 non-null  int64 \n",
            " 13  No-show         110527 non-null  int64 \n",
            "dtypes: int64(11), object(3)\n",
            "memory usage: 11.8+ MB\n"
          ],
          "name": "stdout"
        }
      ]
    },
    {
      "cell_type": "code",
      "metadata": {
        "colab": {
          "base_uri": "https://localhost:8080/",
          "height": 317
        },
        "id": "3_AHZQ92qPDU",
        "outputId": "392681dc-e5fb-4321-dbfb-a22e188a2958"
      },
      "source": [
        "# describe = medidas estatísticas básicas do df\n",
        "df.describe()"
      ],
      "execution_count": 9,
      "outputs": [
        {
          "output_type": "execute_result",
          "data": {
            "text/html": [
              "<div>\n",
              "<style scoped>\n",
              "    .dataframe tbody tr th:only-of-type {\n",
              "        vertical-align: middle;\n",
              "    }\n",
              "\n",
              "    .dataframe tbody tr th {\n",
              "        vertical-align: top;\n",
              "    }\n",
              "\n",
              "    .dataframe thead th {\n",
              "        text-align: right;\n",
              "    }\n",
              "</style>\n",
              "<table border=\"1\" class=\"dataframe\">\n",
              "  <thead>\n",
              "    <tr style=\"text-align: right;\">\n",
              "      <th></th>\n",
              "      <th>PatientId</th>\n",
              "      <th>AppointmentID</th>\n",
              "      <th>Gender</th>\n",
              "      <th>Age</th>\n",
              "      <th>Scholarship</th>\n",
              "      <th>Hipertension</th>\n",
              "      <th>Diabetes</th>\n",
              "      <th>Alcoholism</th>\n",
              "      <th>Handcap</th>\n",
              "      <th>SMS_received</th>\n",
              "      <th>No-show</th>\n",
              "    </tr>\n",
              "  </thead>\n",
              "  <tbody>\n",
              "    <tr>\n",
              "      <th>count</th>\n",
              "      <td>1.105270e+05</td>\n",
              "      <td>1.105270e+05</td>\n",
              "      <td>110527.000000</td>\n",
              "      <td>110527.000000</td>\n",
              "      <td>110527.000000</td>\n",
              "      <td>110527.000000</td>\n",
              "      <td>110527.000000</td>\n",
              "      <td>110527.000000</td>\n",
              "      <td>110527.000000</td>\n",
              "      <td>110527.000000</td>\n",
              "      <td>110527.000000</td>\n",
              "    </tr>\n",
              "    <tr>\n",
              "      <th>mean</th>\n",
              "      <td>1.475046e+14</td>\n",
              "      <td>5.675306e+06</td>\n",
              "      <td>0.649977</td>\n",
              "      <td>37.088874</td>\n",
              "      <td>0.098266</td>\n",
              "      <td>0.197246</td>\n",
              "      <td>0.071865</td>\n",
              "      <td>0.030400</td>\n",
              "      <td>0.022248</td>\n",
              "      <td>0.321026</td>\n",
              "      <td>0.201933</td>\n",
              "    </tr>\n",
              "    <tr>\n",
              "      <th>std</th>\n",
              "      <td>2.560982e+14</td>\n",
              "      <td>7.129568e+04</td>\n",
              "      <td>0.476979</td>\n",
              "      <td>23.110205</td>\n",
              "      <td>0.297675</td>\n",
              "      <td>0.397921</td>\n",
              "      <td>0.258265</td>\n",
              "      <td>0.171686</td>\n",
              "      <td>0.161543</td>\n",
              "      <td>0.466873</td>\n",
              "      <td>0.401444</td>\n",
              "    </tr>\n",
              "    <tr>\n",
              "      <th>min</th>\n",
              "      <td>5.628261e+06</td>\n",
              "      <td>5.030230e+06</td>\n",
              "      <td>0.000000</td>\n",
              "      <td>-1.000000</td>\n",
              "      <td>0.000000</td>\n",
              "      <td>0.000000</td>\n",
              "      <td>0.000000</td>\n",
              "      <td>0.000000</td>\n",
              "      <td>0.000000</td>\n",
              "      <td>0.000000</td>\n",
              "      <td>0.000000</td>\n",
              "    </tr>\n",
              "    <tr>\n",
              "      <th>25%</th>\n",
              "      <td>4.173879e+12</td>\n",
              "      <td>5.640286e+06</td>\n",
              "      <td>0.000000</td>\n",
              "      <td>18.000000</td>\n",
              "      <td>0.000000</td>\n",
              "      <td>0.000000</td>\n",
              "      <td>0.000000</td>\n",
              "      <td>0.000000</td>\n",
              "      <td>0.000000</td>\n",
              "      <td>0.000000</td>\n",
              "      <td>0.000000</td>\n",
              "    </tr>\n",
              "    <tr>\n",
              "      <th>50%</th>\n",
              "      <td>3.174490e+13</td>\n",
              "      <td>5.680574e+06</td>\n",
              "      <td>1.000000</td>\n",
              "      <td>37.000000</td>\n",
              "      <td>0.000000</td>\n",
              "      <td>0.000000</td>\n",
              "      <td>0.000000</td>\n",
              "      <td>0.000000</td>\n",
              "      <td>0.000000</td>\n",
              "      <td>0.000000</td>\n",
              "      <td>0.000000</td>\n",
              "    </tr>\n",
              "    <tr>\n",
              "      <th>75%</th>\n",
              "      <td>9.439381e+13</td>\n",
              "      <td>5.725524e+06</td>\n",
              "      <td>1.000000</td>\n",
              "      <td>55.000000</td>\n",
              "      <td>0.000000</td>\n",
              "      <td>0.000000</td>\n",
              "      <td>0.000000</td>\n",
              "      <td>0.000000</td>\n",
              "      <td>0.000000</td>\n",
              "      <td>1.000000</td>\n",
              "      <td>0.000000</td>\n",
              "    </tr>\n",
              "    <tr>\n",
              "      <th>max</th>\n",
              "      <td>9.999816e+14</td>\n",
              "      <td>5.790484e+06</td>\n",
              "      <td>1.000000</td>\n",
              "      <td>115.000000</td>\n",
              "      <td>1.000000</td>\n",
              "      <td>1.000000</td>\n",
              "      <td>1.000000</td>\n",
              "      <td>1.000000</td>\n",
              "      <td>4.000000</td>\n",
              "      <td>1.000000</td>\n",
              "      <td>1.000000</td>\n",
              "    </tr>\n",
              "  </tbody>\n",
              "</table>\n",
              "</div>"
            ],
            "text/plain": [
              "          PatientId  AppointmentID  ...   SMS_received        No-show\n",
              "count  1.105270e+05   1.105270e+05  ...  110527.000000  110527.000000\n",
              "mean   1.475046e+14   5.675306e+06  ...       0.321026       0.201933\n",
              "std    2.560982e+14   7.129568e+04  ...       0.466873       0.401444\n",
              "min    5.628261e+06   5.030230e+06  ...       0.000000       0.000000\n",
              "25%    4.173879e+12   5.640286e+06  ...       0.000000       0.000000\n",
              "50%    3.174490e+13   5.680574e+06  ...       0.000000       0.000000\n",
              "75%    9.439381e+13   5.725524e+06  ...       1.000000       0.000000\n",
              "max    9.999816e+14   5.790484e+06  ...       1.000000       1.000000\n",
              "\n",
              "[8 rows x 11 columns]"
            ]
          },
          "metadata": {
            "tags": []
          },
          "execution_count": 9
        }
      ]
    },
    {
      "cell_type": "code",
      "metadata": {
        "id": "dMvdDTsDq-uN"
      },
      "source": [
        "# Retirando as colunas PatientID e AppointmentID, são dados sem relevância, gerados pelo sistema de consultas\n",
        "df = df.drop(['PatientId', 'AppointmentID'], axis =1)"
      ],
      "execution_count": 10,
      "outputs": []
    },
    {
      "cell_type": "code",
      "metadata": {
        "colab": {
          "base_uri": "https://localhost:8080/"
        },
        "id": "fYTAC6zb9bna",
        "outputId": "f70eadae-6097-46c2-a34f-7e4a8ad0983a"
      },
      "source": [
        "df.info()"
      ],
      "execution_count": 11,
      "outputs": [
        {
          "output_type": "stream",
          "text": [
            "<class 'pandas.core.frame.DataFrame'>\n",
            "RangeIndex: 110527 entries, 0 to 110526\n",
            "Data columns (total 12 columns):\n",
            " #   Column          Non-Null Count   Dtype \n",
            "---  ------          --------------   ----- \n",
            " 0   Gender          110527 non-null  int64 \n",
            " 1   ScheduledDay    110527 non-null  object\n",
            " 2   AppointmentDay  110527 non-null  object\n",
            " 3   Age             110527 non-null  int64 \n",
            " 4   Neighbourhood   110527 non-null  object\n",
            " 5   Scholarship     110527 non-null  int64 \n",
            " 6   Hipertension    110527 non-null  int64 \n",
            " 7   Diabetes        110527 non-null  int64 \n",
            " 8   Alcoholism      110527 non-null  int64 \n",
            " 9   Handcap         110527 non-null  int64 \n",
            " 10  SMS_received    110527 non-null  int64 \n",
            " 11  No-show         110527 non-null  int64 \n",
            "dtypes: int64(9), object(3)\n",
            "memory usage: 10.1+ MB\n"
          ],
          "name": "stdout"
        }
      ]
    },
    {
      "cell_type": "code",
      "metadata": {
        "id": "BaVVj3HrxPO8",
        "colab": {
          "base_uri": "https://localhost:8080/",
          "height": 511,
          "referenced_widgets": [
            "d85cc18199614fa5bff8ffacb21f1e2a",
            "f2d957ccd3794f64a32363d692af99fb",
            "1c6b89fd60ea41679bca70565d786b42",
            "528e7372b79442ab95cd54047e999031",
            "9c9e69cc821f4b08b5eb6fa1bba4527a",
            "65c98117b8524743a2ff4377f495bcc9",
            "346399b2203a4d9ca773bfaa73bd814c",
            "f5396dc9118647b8a003d7faed8b18fe",
            "d15de98ea29147a88502c6eb0fa9ce59",
            "31af032c034c448b87f3eeb4173139d9",
            "602138eed90c4aff9b6d51ab124d0691"
          ]
        },
        "outputId": "b61ab914-702e-42ca-caa9-0291928b057f"
      },
      "source": [
        "# Usar a biblioteca SWEETVIZ para fazer EDA\n",
        "# Para instalar o pacote sweetviz\n",
        "!pip install sweetviz\n",
        "# Importando o pacote\n",
        "import sweetviz as sv\n",
        "#Utilizando\n",
        "analise = sv.analyze(df)\n",
        "analise.show_html('no_show.html')"
      ],
      "execution_count": 12,
      "outputs": [
        {
          "output_type": "stream",
          "text": [
            "Collecting sweetviz\n",
            "\u001b[?25l  Downloading https://files.pythonhosted.org/packages/e6/06/f7341e6dc3fae77962855001cd1c1a6a73e3f094ffba2039b4dafe66c751/sweetviz-2.1.2-py3-none-any.whl (15.1MB)\n",
            "\u001b[K     |████████████████████████████████| 15.1MB 246kB/s \n",
            "\u001b[?25hRequirement already satisfied: jinja2>=2.11.1 in /usr/local/lib/python3.7/dist-packages (from sweetviz) (2.11.3)\n",
            "Requirement already satisfied: pandas!=1.0.0,!=1.0.1,!=1.0.2,>=0.25.3 in /usr/local/lib/python3.7/dist-packages (from sweetviz) (1.1.5)\n",
            "Requirement already satisfied: importlib-resources>=1.2.0 in /usr/local/lib/python3.7/dist-packages (from sweetviz) (5.1.4)\n",
            "Collecting tqdm>=4.43.0\n",
            "\u001b[?25l  Downloading https://files.pythonhosted.org/packages/b4/20/9f1e974bb4761128fc0d0a32813eaa92827309b1756c4b892d28adfb4415/tqdm-4.61.1-py2.py3-none-any.whl (75kB)\n",
            "\u001b[K     |████████████████████████████████| 81kB 10.1MB/s \n",
            "\u001b[?25hRequirement already satisfied: matplotlib>=3.1.3 in /usr/local/lib/python3.7/dist-packages (from sweetviz) (3.2.2)\n",
            "Requirement already satisfied: scipy>=1.3.2 in /usr/local/lib/python3.7/dist-packages (from sweetviz) (1.4.1)\n",
            "Requirement already satisfied: numpy>=1.16.0 in /usr/local/lib/python3.7/dist-packages (from sweetviz) (1.19.5)\n",
            "Requirement already satisfied: MarkupSafe>=0.23 in /usr/local/lib/python3.7/dist-packages (from jinja2>=2.11.1->sweetviz) (2.0.1)\n",
            "Requirement already satisfied: pytz>=2017.2 in /usr/local/lib/python3.7/dist-packages (from pandas!=1.0.0,!=1.0.1,!=1.0.2,>=0.25.3->sweetviz) (2018.9)\n",
            "Requirement already satisfied: python-dateutil>=2.7.3 in /usr/local/lib/python3.7/dist-packages (from pandas!=1.0.0,!=1.0.1,!=1.0.2,>=0.25.3->sweetviz) (2.8.1)\n",
            "Requirement already satisfied: zipp>=3.1.0; python_version < \"3.10\" in /usr/local/lib/python3.7/dist-packages (from importlib-resources>=1.2.0->sweetviz) (3.4.1)\n",
            "Requirement already satisfied: cycler>=0.10 in /usr/local/lib/python3.7/dist-packages (from matplotlib>=3.1.3->sweetviz) (0.10.0)\n",
            "Requirement already satisfied: pyparsing!=2.0.4,!=2.1.2,!=2.1.6,>=2.0.1 in /usr/local/lib/python3.7/dist-packages (from matplotlib>=3.1.3->sweetviz) (2.4.7)\n",
            "Requirement already satisfied: kiwisolver>=1.0.1 in /usr/local/lib/python3.7/dist-packages (from matplotlib>=3.1.3->sweetviz) (1.3.1)\n",
            "Requirement already satisfied: six>=1.5 in /usr/local/lib/python3.7/dist-packages (from python-dateutil>=2.7.3->pandas!=1.0.0,!=1.0.1,!=1.0.2,>=0.25.3->sweetviz) (1.15.0)\n",
            "Installing collected packages: tqdm, sweetviz\n",
            "  Found existing installation: tqdm 4.41.1\n",
            "    Uninstalling tqdm-4.41.1:\n",
            "      Successfully uninstalled tqdm-4.41.1\n",
            "Successfully installed sweetviz-2.1.2 tqdm-4.61.1\n"
          ],
          "name": "stdout"
        },
        {
          "output_type": "display_data",
          "data": {
            "application/vnd.jupyter.widget-view+json": {
              "model_id": "d85cc18199614fa5bff8ffacb21f1e2a",
              "version_minor": 0,
              "version_major": 2
            },
            "text/plain": [
              "                                             |          | [  0%]   00:00 -> (? left)"
            ]
          },
          "metadata": {
            "tags": []
          }
        },
        {
          "output_type": "stream",
          "text": [
            "Report no_show.html was generated! NOTEBOOK/COLAB USERS: the web browser MAY not pop up, regardless, the report IS saved in your notebook/colab files.\n"
          ],
          "name": "stdout"
        }
      ]
    },
    {
      "cell_type": "code",
      "metadata": {
        "id": "JzdiEUdjwuw0"
      },
      "source": [
        "def plot_corr(df, size=7):\n",
        "  corr= df.corr()\n",
        "  fig, ax = plt.subplots(figsize=(size, size))\n",
        "  ax.matshow(corr)\n",
        "  plt.xticks(range(len(corr.columns)), corr.columns)\n",
        "  plt.yticks(range(len(corr.columns)), corr.columns)"
      ],
      "execution_count": 13,
      "outputs": []
    },
    {
      "cell_type": "code",
      "metadata": {
        "id": "l6fasb4LyLHE",
        "colab": {
          "base_uri": "https://localhost:8080/",
          "height": 590
        },
        "outputId": "b3442cf8-44e4-4e0e-dae0-91491f40b4c9"
      },
      "source": [
        "plot_corr(df)"
      ],
      "execution_count": 14,
      "outputs": [
        {
          "output_type": "display_data",
          "data": {
            "image/png": "[encoded data removed]",
            "text/plain": [
              "<Figure size 700x700 with 1 Axes>"
            ]
          },
          "metadata": {
            "tags": []
          }
        }
      ]
    },
    {
      "cell_type": "code",
      "metadata": {
        "id": "Aufo2HQWzGOZ",
        "colab": {
          "base_uri": "https://localhost:8080/",
          "height": 328
        },
        "outputId": "ac1317d2-2172-4605-8b2c-9066333d6616"
      },
      "source": [
        "df.corr()"
      ],
      "execution_count": 15,
      "outputs": [
        {
          "output_type": "execute_result",
          "data": {
            "text/html": [
              "<div>\n",
              "<style scoped>\n",
              "    .dataframe tbody tr th:only-of-type {\n",
              "        vertical-align: middle;\n",
              "    }\n",
              "\n",
              "    .dataframe tbody tr th {\n",
              "        vertical-align: top;\n",
              "    }\n",
              "\n",
              "    .dataframe thead th {\n",
              "        text-align: right;\n",
              "    }\n",
              "</style>\n",
              "<table border=\"1\" class=\"dataframe\">\n",
              "  <thead>\n",
              "    <tr style=\"text-align: right;\">\n",
              "      <th></th>\n",
              "      <th>Gender</th>\n",
              "      <th>Age</th>\n",
              "      <th>Scholarship</th>\n",
              "      <th>Hipertension</th>\n",
              "      <th>Diabetes</th>\n",
              "      <th>Alcoholism</th>\n",
              "      <th>Handcap</th>\n",
              "      <th>SMS_received</th>\n",
              "      <th>No-show</th>\n",
              "    </tr>\n",
              "  </thead>\n",
              "  <tbody>\n",
              "    <tr>\n",
              "      <th>Gender</th>\n",
              "      <td>1.000000</td>\n",
              "      <td>0.106440</td>\n",
              "      <td>0.114293</td>\n",
              "      <td>0.055718</td>\n",
              "      <td>0.032554</td>\n",
              "      <td>-0.106167</td>\n",
              "      <td>-0.022814</td>\n",
              "      <td>0.046298</td>\n",
              "      <td>0.004119</td>\n",
              "    </tr>\n",
              "    <tr>\n",
              "      <th>Age</th>\n",
              "      <td>0.106440</td>\n",
              "      <td>1.000000</td>\n",
              "      <td>-0.092457</td>\n",
              "      <td>0.504586</td>\n",
              "      <td>0.292391</td>\n",
              "      <td>0.095811</td>\n",
              "      <td>0.078033</td>\n",
              "      <td>0.012643</td>\n",
              "      <td>-0.060319</td>\n",
              "    </tr>\n",
              "    <tr>\n",
              "      <th>Scholarship</th>\n",
              "      <td>0.114293</td>\n",
              "      <td>-0.092457</td>\n",
              "      <td>1.000000</td>\n",
              "      <td>-0.019729</td>\n",
              "      <td>-0.024894</td>\n",
              "      <td>0.035022</td>\n",
              "      <td>-0.008586</td>\n",
              "      <td>0.001194</td>\n",
              "      <td>0.029135</td>\n",
              "    </tr>\n",
              "    <tr>\n",
              "      <th>Hipertension</th>\n",
              "      <td>0.055718</td>\n",
              "      <td>0.504586</td>\n",
              "      <td>-0.019729</td>\n",
              "      <td>1.000000</td>\n",
              "      <td>0.433086</td>\n",
              "      <td>0.087971</td>\n",
              "      <td>0.080083</td>\n",
              "      <td>-0.006267</td>\n",
              "      <td>-0.035701</td>\n",
              "    </tr>\n",
              "    <tr>\n",
              "      <th>Diabetes</th>\n",
              "      <td>0.032554</td>\n",
              "      <td>0.292391</td>\n",
              "      <td>-0.024894</td>\n",
              "      <td>0.433086</td>\n",
              "      <td>1.000000</td>\n",
              "      <td>0.018474</td>\n",
              "      <td>0.057530</td>\n",
              "      <td>-0.014550</td>\n",
              "      <td>-0.015180</td>\n",
              "    </tr>\n",
              "    <tr>\n",
              "      <th>Alcoholism</th>\n",
              "      <td>-0.106167</td>\n",
              "      <td>0.095811</td>\n",
              "      <td>0.035022</td>\n",
              "      <td>0.087971</td>\n",
              "      <td>0.018474</td>\n",
              "      <td>1.000000</td>\n",
              "      <td>0.004648</td>\n",
              "      <td>-0.026147</td>\n",
              "      <td>-0.000196</td>\n",
              "    </tr>\n",
              "    <tr>\n",
              "      <th>Handcap</th>\n",
              "      <td>-0.022814</td>\n",
              "      <td>0.078033</td>\n",
              "      <td>-0.008586</td>\n",
              "      <td>0.080083</td>\n",
              "      <td>0.057530</td>\n",
              "      <td>0.004648</td>\n",
              "      <td>1.000000</td>\n",
              "      <td>-0.024161</td>\n",
              "      <td>-0.006076</td>\n",
              "    </tr>\n",
              "    <tr>\n",
              "      <th>SMS_received</th>\n",
              "      <td>0.046298</td>\n",
              "      <td>0.012643</td>\n",
              "      <td>0.001194</td>\n",
              "      <td>-0.006267</td>\n",
              "      <td>-0.014550</td>\n",
              "      <td>-0.026147</td>\n",
              "      <td>-0.024161</td>\n",
              "      <td>1.000000</td>\n",
              "      <td>0.126431</td>\n",
              "    </tr>\n",
              "    <tr>\n",
              "      <th>No-show</th>\n",
              "      <td>0.004119</td>\n",
              "      <td>-0.060319</td>\n",
              "      <td>0.029135</td>\n",
              "      <td>-0.035701</td>\n",
              "      <td>-0.015180</td>\n",
              "      <td>-0.000196</td>\n",
              "      <td>-0.006076</td>\n",
              "      <td>0.126431</td>\n",
              "      <td>1.000000</td>\n",
              "    </tr>\n",
              "  </tbody>\n",
              "</table>\n",
              "</div>"
            ],
            "text/plain": [
              "                Gender       Age  Scholarship  ...   Handcap  SMS_received   No-show\n",
              "Gender        1.000000  0.106440     0.114293  ... -0.022814      0.046298  0.004119\n",
              "Age           0.106440  1.000000    -0.092457  ...  0.078033      0.012643 -0.060319\n",
              "Scholarship   0.114293 -0.092457     1.000000  ... -0.008586      0.001194  0.029135\n",
              "Hipertension  0.055718  0.504586    -0.019729  ...  0.080083     -0.006267 -0.035701\n",
              "Diabetes      0.032554  0.292391    -0.024894  ...  0.057530     -0.014550 -0.015180\n",
              "Alcoholism   -0.106167  0.095811     0.035022  ...  0.004648     -0.026147 -0.000196\n",
              "Handcap      -0.022814  0.078033    -0.008586  ...  1.000000     -0.024161 -0.006076\n",
              "SMS_received  0.046298  0.012643     0.001194  ... -0.024161      1.000000  0.126431\n",
              "No-show       0.004119 -0.060319     0.029135  ... -0.006076      0.126431  1.000000\n",
              "\n",
              "[9 rows x 9 columns]"
            ]
          },
          "metadata": {
            "tags": []
          },
          "execution_count": 15
        }
      ]
    },
    {
      "cell_type": "code",
      "metadata": {
        "id": "-GqGOgaEdWNL",
        "colab": {
          "base_uri": "https://localhost:8080/",
          "height": 328
        },
        "outputId": "07c200b3-03d6-40d7-e004-e16ccab8aaa4"
      },
      "source": [
        "# Outra maneira de avaliar a coorelação entre as variáveis\n",
        "import seaborn as sns\n",
        "sns.set(color_codes=True)\n",
        "cor=df.corr()\n",
        "cor"
      ],
      "execution_count": 16,
      "outputs": [
        {
          "output_type": "execute_result",
          "data": {
            "text/html": [
              "<div>\n",
              "<style scoped>\n",
              "    .dataframe tbody tr th:only-of-type {\n",
              "        vertical-align: middle;\n",
              "    }\n",
              "\n",
              "    .dataframe tbody tr th {\n",
              "        vertical-align: top;\n",
              "    }\n",
              "\n",
              "    .dataframe thead th {\n",
              "        text-align: right;\n",
              "    }\n",
              "</style>\n",
              "<table border=\"1\" class=\"dataframe\">\n",
              "  <thead>\n",
              "    <tr style=\"text-align: right;\">\n",
              "      <th></th>\n",
              "      <th>Gender</th>\n",
              "      <th>Age</th>\n",
              "      <th>Scholarship</th>\n",
              "      <th>Hipertension</th>\n",
              "      <th>Diabetes</th>\n",
              "      <th>Alcoholism</th>\n",
              "      <th>Handcap</th>\n",
              "      <th>SMS_received</th>\n",
              "      <th>No-show</th>\n",
              "    </tr>\n",
              "  </thead>\n",
              "  <tbody>\n",
              "    <tr>\n",
              "      <th>Gender</th>\n",
              "      <td>1.000000</td>\n",
              "      <td>0.106440</td>\n",
              "      <td>0.114293</td>\n",
              "      <td>0.055718</td>\n",
              "      <td>0.032554</td>\n",
              "      <td>-0.106167</td>\n",
              "      <td>-0.022814</td>\n",
              "      <td>0.046298</td>\n",
              "      <td>0.004119</td>\n",
              "    </tr>\n",
              "    <tr>\n",
              "      <th>Age</th>\n",
              "      <td>0.106440</td>\n",
              "      <td>1.000000</td>\n",
              "      <td>-0.092457</td>\n",
              "      <td>0.504586</td>\n",
              "      <td>0.292391</td>\n",
              "      <td>0.095811</td>\n",
              "      <td>0.078033</td>\n",
              "      <td>0.012643</td>\n",
              "      <td>-0.060319</td>\n",
              "    </tr>\n",
              "    <tr>\n",
              "      <th>Scholarship</th>\n",
              "      <td>0.114293</td>\n",
              "      <td>-0.092457</td>\n",
              "      <td>1.000000</td>\n",
              "      <td>-0.019729</td>\n",
              "      <td>-0.024894</td>\n",
              "      <td>0.035022</td>\n",
              "      <td>-0.008586</td>\n",
              "      <td>0.001194</td>\n",
              "      <td>0.029135</td>\n",
              "    </tr>\n",
              "    <tr>\n",
              "      <th>Hipertension</th>\n",
              "      <td>0.055718</td>\n",
              "      <td>0.504586</td>\n",
              "      <td>-0.019729</td>\n",
              "      <td>1.000000</td>\n",
              "      <td>0.433086</td>\n",
              "      <td>0.087971</td>\n",
              "      <td>0.080083</td>\n",
              "      <td>-0.006267</td>\n",
              "      <td>-0.035701</td>\n",
              "    </tr>\n",
              "    <tr>\n",
              "      <th>Diabetes</th>\n",
              "      <td>0.032554</td>\n",
              "      <td>0.292391</td>\n",
              "      <td>-0.024894</td>\n",
              "      <td>0.433086</td>\n",
              "      <td>1.000000</td>\n",
              "      <td>0.018474</td>\n",
              "      <td>0.057530</td>\n",
              "      <td>-0.014550</td>\n",
              "      <td>-0.015180</td>\n",
              "    </tr>\n",
              "    <tr>\n",
              "      <th>Alcoholism</th>\n",
              "      <td>-0.106167</td>\n",
              "      <td>0.095811</td>\n",
              "      <td>0.035022</td>\n",
              "      <td>0.087971</td>\n",
              "      <td>0.018474</td>\n",
              "      <td>1.000000</td>\n",
              "      <td>0.004648</td>\n",
              "      <td>-0.026147</td>\n",
              "      <td>-0.000196</td>\n",
              "    </tr>\n",
              "    <tr>\n",
              "      <th>Handcap</th>\n",
              "      <td>-0.022814</td>\n",
              "      <td>0.078033</td>\n",
              "      <td>-0.008586</td>\n",
              "      <td>0.080083</td>\n",
              "      <td>0.057530</td>\n",
              "      <td>0.004648</td>\n",
              "      <td>1.000000</td>\n",
              "      <td>-0.024161</td>\n",
              "      <td>-0.006076</td>\n",
              "    </tr>\n",
              "    <tr>\n",
              "      <th>SMS_received</th>\n",
              "      <td>0.046298</td>\n",
              "      <td>0.012643</td>\n",
              "      <td>0.001194</td>\n",
              "      <td>-0.006267</td>\n",
              "      <td>-0.014550</td>\n",
              "      <td>-0.026147</td>\n",
              "      <td>-0.024161</td>\n",
              "      <td>1.000000</td>\n",
              "      <td>0.126431</td>\n",
              "    </tr>\n",
              "    <tr>\n",
              "      <th>No-show</th>\n",
              "      <td>0.004119</td>\n",
              "      <td>-0.060319</td>\n",
              "      <td>0.029135</td>\n",
              "      <td>-0.035701</td>\n",
              "      <td>-0.015180</td>\n",
              "      <td>-0.000196</td>\n",
              "      <td>-0.006076</td>\n",
              "      <td>0.126431</td>\n",
              "      <td>1.000000</td>\n",
              "    </tr>\n",
              "  </tbody>\n",
              "</table>\n",
              "</div>"
            ],
            "text/plain": [
              "                Gender       Age  Scholarship  ...   Handcap  SMS_received   No-show\n",
              "Gender        1.000000  0.106440     0.114293  ... -0.022814      0.046298  0.004119\n",
              "Age           0.106440  1.000000    -0.092457  ...  0.078033      0.012643 -0.060319\n",
              "Scholarship   0.114293 -0.092457     1.000000  ... -0.008586      0.001194  0.029135\n",
              "Hipertension  0.055718  0.504586    -0.019729  ...  0.080083     -0.006267 -0.035701\n",
              "Diabetes      0.032554  0.292391    -0.024894  ...  0.057530     -0.014550 -0.015180\n",
              "Alcoholism   -0.106167  0.095811     0.035022  ...  0.004648     -0.026147 -0.000196\n",
              "Handcap      -0.022814  0.078033    -0.008586  ...  1.000000     -0.024161 -0.006076\n",
              "SMS_received  0.046298  0.012643     0.001194  ... -0.024161      1.000000  0.126431\n",
              "No-show       0.004119 -0.060319     0.029135  ... -0.006076      0.126431  1.000000\n",
              "\n",
              "[9 rows x 9 columns]"
            ]
          },
          "metadata": {
            "tags": []
          },
          "execution_count": 16
        }
      ]
    },
    {
      "cell_type": "markdown",
      "metadata": {
        "id": "R9TCVGI2WrFM"
      },
      "source": [
        "Com base neste conjunto de dados a maior correlação para a nossa variável target se da com a variável SMS_received, que indica se uma ou mais mensagens foram enviadas para avisar o cliente da consulta."
      ]
    },
    {
      "cell_type": "code",
      "metadata": {
        "id": "-t8eF--JeZQm",
        "colab": {
          "base_uri": "https://localhost:8080/",
          "height": 481
        },
        "outputId": "478834e5-e1c3-40d7-9061-33f04ab4cc57"
      },
      "source": [
        "# Matriz de Correlação\n",
        "sns.heatmap(cor,annot=True)"
      ],
      "execution_count": 17,
      "outputs": [
        {
          "output_type": "execute_result",
          "data": {
            "text/plain": [
              "<matplotlib.axes._subplots.AxesSubplot at 0x7ff92cec6890>"
            ]
          },
          "metadata": {
            "tags": []
          },
          "execution_count": 17
        },
        {
          "output_type": "display_data",
          "data": {
            "image/png": "[encoded data removed]",
            "text/plain": [
              "<Figure size 600x400 with 2 Axes>"
            ]
          },
          "metadata": {
            "tags": []
          }
        }
      ]
    },
    {
      "cell_type": "code",
      "metadata": {
        "id": "g6jBpJUY09W4",
        "colab": {
          "base_uri": "https://localhost:8080/"
        },
        "outputId": "5eae3af9-1848-4b1b-c8c6-bd9749102c8f"
      },
      "source": [
        "num_true = len(df.loc[df['No-show'] == 1])\n",
        "num_false = len(df.loc[df['No-show'] == 0])\n",
        "print(\"Número de faltas em consultas: {0} ({1:2.2f}%)\".format(num_true, (num_true/ (num_true + num_false)) * 100))\n",
        "print(\"Número de comparecimento nas consultas  : {0} ({1:2.2f}%)\".format(num_false, (num_false/ (num_true + num_false)) * 100))"
      ],
      "execution_count": 18,
      "outputs": [
        {
          "output_type": "stream",
          "text": [
            "Número de faltas em consultas: 22319 (20.19%)\n",
            "Número de comparecimento nas consultas  : 88208 (79.81%)\n"
          ],
          "name": "stdout"
        }
      ]
    },
    {
      "cell_type": "markdown",
      "metadata": {
        "id": "-bNSKk0wWL4w"
      },
      "source": [
        "Observamos que com base neste conjunto de dados a probabilidade de uma pessoa marcar uma consulta, e não comparecer é de 20.19% de chances."
      ]
    },
    {
      "cell_type": "code",
      "metadata": {
        "colab": {
          "base_uri": "https://localhost:8080/"
        },
        "id": "puK3BV6t0Uw0",
        "outputId": "69a2b80a-36cf-4b89-b662-ce179038617f"
      },
      "source": [
        "sms_true = len(df.loc[df['SMS_received'] == 1])\n",
        "sms_false = len(df.loc[df['SMS_received'] == 0])\n",
        "print(\"Número de consultas onde foram enviados SMS: {0} ({1:2.2f}%)\".format(sms_true, (sms_true/ (sms_true + sms_false)) * 100))\n",
        "print(\"Número de consultas onde não foram enviados SMS : {0} ({1:2.2f}%)\".format(sms_false, (sms_false/ (sms_true + sms_false)) * 100))"
      ],
      "execution_count": 19,
      "outputs": [
        {
          "output_type": "stream",
          "text": [
            "Número de consultas onde foram enviados SMS: 35482 (32.10%)\n",
            "Número de consultas onde não foram enviados SMS : 75045 (67.90%)\n"
          ],
          "name": "stdout"
        }
      ]
    },
    {
      "cell_type": "code",
      "metadata": {
        "id": "VGtEaz8L7iL7"
      },
      "source": [
        "#procurando o número de faltas para consultas com sms enviado\n",
        "sms_and_no_show =(len(df.loc[df['SMS_received'] == 1])) & len(df.loc[df['No-show'] == 1])"
      ],
      "execution_count": 20,
      "outputs": []
    },
    {
      "cell_type": "code",
      "metadata": {
        "colab": {
          "base_uri": "https://localhost:8080/"
        },
        "id": "bb2F_a-0-O90",
        "outputId": "15fcf9c9-e966-4190-c3f6-11d3d3f7c1ed"
      },
      "source": [
        "# aqui esta o número\n",
        "print(sms_and_no_show)"
      ],
      "execution_count": 21,
      "outputs": [
        {
          "output_type": "stream",
          "text": [
            "522\n"
          ],
          "name": "stdout"
        }
      ]
    },
    {
      "cell_type": "code",
      "metadata": {
        "colab": {
          "base_uri": "https://localhost:8080/"
        },
        "id": "8tXMJVBh9j2L",
        "outputId": "0a959ad6-83b6-4819-be79-e895879ba87f"
      },
      "source": [
        "print(\"Número de consultas onde foram enviados SMS e o paciente não compareceu: {0} ({1:2.2f}%)\".format(sms_and_no_show, (sms_and_no_show/ (sms_true + sms_false)) * 100))"
      ],
      "execution_count": 22,
      "outputs": [
        {
          "output_type": "stream",
          "text": [
            "Número de consultas onde foram enviados SMS e o paciente não compareceu: 522 (0.47%)\n"
          ],
          "name": "stdout"
        }
      ]
    },
    {
      "cell_type": "markdown",
      "metadata": {
        "id": "RdkUijA9-N57"
      },
      "source": [
        "Verificamos que a probabilidade de o paciente não comparecer a consulta se um SMS for enviado para alertá-lo é de 0,47%, para este conjunto de dados , reforçando portanto a correlação identificada, entre as variáveis SMS_received e No-show de 0.126431."
      ]
    },
    {
      "cell_type": "markdown",
      "metadata": {
        "id": "VLQNTeNw30Gx"
      },
      "source": [
        "### **Dividir o Banco de Dados**"
      ]
    },
    {
      "cell_type": "markdown",
      "metadata": {
        "id": "IkKCOggxmoMC"
      },
      "source": [
        "Para melhorar a análise, vamos dividir nosso banco de dados em 2: \n",
        "\n",
        "1.   Banco de dados de treino\n",
        "2.   Banco de dados de teste"
      ]
    },
    {
      "cell_type": "code",
      "metadata": {
        "id": "PLWpnc-_89l1",
        "colab": {
          "base_uri": "https://localhost:8080/",
          "height": 35
        },
        "outputId": "4b3fb950-b4e5-448a-a6ee-1019c82c10fc"
      },
      "source": [
        "import sklearn as sk\n",
        "sk.__version__"
      ],
      "execution_count": 23,
      "outputs": [
        {
          "output_type": "execute_result",
          "data": {
            "application/vnd.google.colaboratory.intrinsic+json": {
              "type": "string"
            },
            "text/plain": [
              "'0.22.2.post1'"
            ]
          },
          "metadata": {
            "tags": []
          },
          "execution_count": 23
        }
      ]
    },
    {
      "cell_type": "code",
      "metadata": {
        "id": "Bj30T7gi3yrI"
      },
      "source": [
        "from sklearn.model_selection import train_test_split"
      ],
      "execution_count": 24,
      "outputs": []
    },
    {
      "cell_type": "code",
      "metadata": {
        "id": "5Zwg9TlSJ5DT"
      },
      "source": [
        "# Retirando as colunas PatientID e AppointmentDay, as datas não poderão ser trabalhadas no scikit-learning.\n",
        "df = df.drop(['ScheduledDay', 'AppointmentDay', 'Neighbourhood'], axis =1)"
      ],
      "execution_count": 25,
      "outputs": []
    },
    {
      "cell_type": "code",
      "metadata": {
        "id": "jmzqTKPX00cJ"
      },
      "source": [
        "#retirando a variável Neighbourhood, por ser a descrição do bairro não entrará modelo\n",
        "atributos = ['Gender', 'Age', 'Scholarship', 'Hipertension',\n",
        "       'Diabetes', 'Alcoholism', 'Handcap', 'SMS_received',]"
      ],
      "execution_count": 26,
      "outputs": []
    },
    {
      "cell_type": "code",
      "metadata": {
        "id": "KB1Z4Ffy3xck"
      },
      "source": [
        "atributos_prev= ['No-show']"
      ],
      "execution_count": 27,
      "outputs": []
    },
    {
      "cell_type": "code",
      "metadata": {
        "id": "DtOqGCXb7DHz"
      },
      "source": [
        "X = df[atributos].values\n",
        "y = df[atributos_prev].values"
      ],
      "execution_count": 28,
      "outputs": []
    },
    {
      "cell_type": "code",
      "metadata": {
        "id": "w4Hs0FT56Lzu",
        "colab": {
          "base_uri": "https://localhost:8080/"
        },
        "outputId": "31923168-e9ad-417a-bf90-0012345870b2"
      },
      "source": [
        "X"
      ],
      "execution_count": 29,
      "outputs": [
        {
          "output_type": "execute_result",
          "data": {
            "text/plain": [
              "array([[ 1, 62,  0, ...,  0,  0,  0],\n",
              "       [ 0, 56,  0, ...,  0,  0,  0],\n",
              "       [ 1, 62,  0, ...,  0,  0,  0],\n",
              "       ...,\n",
              "       [ 1, 21,  0, ...,  0,  0,  1],\n",
              "       [ 1, 38,  0, ...,  0,  0,  1],\n",
              "       [ 1, 54,  0, ...,  0,  0,  1]])"
            ]
          },
          "metadata": {
            "tags": []
          },
          "execution_count": 29
        }
      ]
    },
    {
      "cell_type": "code",
      "metadata": {
        "id": "7pCN8L43QM7I",
        "colab": {
          "base_uri": "https://localhost:8080/"
        },
        "outputId": "c874c10d-c1f0-418b-d2f7-5cefea31b27a"
      },
      "source": [
        "y"
      ],
      "execution_count": 30,
      "outputs": [
        {
          "output_type": "execute_result",
          "data": {
            "text/plain": [
              "array([[0],\n",
              "       [0],\n",
              "       [0],\n",
              "       ...,\n",
              "       [0],\n",
              "       [0],\n",
              "       [0]])"
            ]
          },
          "metadata": {
            "tags": []
          },
          "execution_count": 30
        }
      ]
    },
    {
      "cell_type": "code",
      "metadata": {
        "id": "RVjJPYiS9yMZ"
      },
      "source": [
        "split_test_size = 0.20"
      ],
      "execution_count": 31,
      "outputs": []
    },
    {
      "cell_type": "code",
      "metadata": {
        "id": "tQ3HMfuCw3ga"
      },
      "source": [
        "from sklearn.model_selection import train_test_split"
      ],
      "execution_count": 32,
      "outputs": []
    },
    {
      "cell_type": "code",
      "metadata": {
        "id": "6BGCwuENtxeB"
      },
      "source": [
        "X_treino, X_teste, Y_treino, Y_teste = train_test_split(X, y, test_size = split_test_size, random_state = 42)"
      ],
      "execution_count": 33,
      "outputs": []
    },
    {
      "cell_type": "code",
      "metadata": {
        "id": "9y926VJ6t47e",
        "colab": {
          "base_uri": "https://localhost:8080/"
        },
        "outputId": "44519d4e-94e3-4977-c68f-c4aeef3df44a"
      },
      "source": [
        "print(\"{0:0.2f}% nos dados de treino\".format((len(X_treino)/len(df.index)) * 100))\n",
        "print(\"{0:0.2f}% nos dados de teste\".format((len(X_teste)/len(df.index)) * 100))"
      ],
      "execution_count": 34,
      "outputs": [
        {
          "output_type": "stream",
          "text": [
            "80.00% nos dados de treino\n",
            "20.00% nos dados de teste\n"
          ],
          "name": "stdout"
        }
      ]
    },
    {
      "cell_type": "code",
      "metadata": {
        "id": "dwE5S6wbt-KI",
        "colab": {
          "base_uri": "https://localhost:8080/"
        },
        "outputId": "396a499b-248a-4b3a-d396-0171a204e0b7"
      },
      "source": [
        "X_treino"
      ],
      "execution_count": 35,
      "outputs": [
        {
          "output_type": "execute_result",
          "data": {
            "text/plain": [
              "array([[ 1, 25,  0, ...,  0,  0,  0],\n",
              "       [ 0, 62,  0, ...,  0,  0,  0],\n",
              "       [ 1, 65,  0, ...,  0,  0,  0],\n",
              "       ...,\n",
              "       [ 1, 38,  0, ...,  0,  0,  0],\n",
              "       [ 1, 18,  1, ...,  0,  0,  0],\n",
              "       [ 0,  9,  1, ...,  0,  0,  1]])"
            ]
          },
          "metadata": {
            "tags": []
          },
          "execution_count": 35
        }
      ]
    },
    {
      "cell_type": "markdown",
      "metadata": {
        "id": "jS5QUIAjuQwJ"
      },
      "source": [
        "### **Vamos verificar o split dos dados**"
      ]
    },
    {
      "cell_type": "code",
      "metadata": {
        "id": "DKbSlGaVuP_m",
        "colab": {
          "base_uri": "https://localhost:8080/"
        },
        "outputId": "d592f088-5b73-4147-fe55-e48873749f5a"
      },
      "source": [
        "print(\"Original No-Show = True : {0} ({1:0.2f}%)\".format(len(df.loc[df['No-show'] == 1]), \n",
        "                                               (len(df.loc[df['No-show'] ==1])/len(df.index) * 100)))\n",
        "\n",
        "print(\"Original No-Show = False : {0} ({1:0.2f}%)\".format(len(df.loc[df['No-show'] == 0]), \n",
        "                                               (len(df.loc[df['No-show'] == 0])/len(df.index) * 100)))\n",
        "print(\"\")\n",
        "print(\"Training No-Show = True : {0} ({1:0.2f}%)\".format(len(Y_treino[Y_treino[:] == 1]), \n",
        "                                               (len(Y_treino[Y_treino[:] == 1])/len(Y_treino) * 100)))\n",
        "\n",
        "print(\"Training No-Show = False : {0} ({1:0.2f}%)\".format(len(Y_treino[Y_treino[:] == 0]), \n",
        "                                               (len(Y_treino[Y_treino[:] == 0])/len(Y_treino) * 100)))\n",
        "print(\"\")\n",
        "print(\"Test No-Show = True : {0} ({1:0.2f}%)\".format(len(Y_teste[Y_teste[:] == 1]), \n",
        "                                               (len(Y_teste[Y_teste[:] == 1])/len(Y_teste) * 100)))\n",
        "\n",
        "print(\"Test No-Show = False {0} ({1:0.2f}%)\".format(len(Y_teste[Y_teste[:] == 0]), \n",
        "                                               (len(Y_teste[Y_teste[:] == 0])/len(Y_teste) * 100)))"
      ],
      "execution_count": 36,
      "outputs": [
        {
          "output_type": "stream",
          "text": [
            "Original No-Show = True : 22319 (20.19%)\n",
            "Original No-Show = False : 88208 (79.81%)\n",
            "\n",
            "Training No-Show = True : 17882 (20.22%)\n",
            "Training No-Show = False : 70539 (79.78%)\n",
            "\n",
            "Test No-Show = True : 4437 (20.07%)\n",
            "Test No-Show = False 17669 (79.93%)\n"
          ],
          "name": "stdout"
        }
      ]
    },
    {
      "cell_type": "markdown",
      "metadata": {
        "id": "734FH9UCuzXo"
      },
      "source": [
        "### **Valores Missing Ocultos**"
      ]
    },
    {
      "cell_type": "code",
      "metadata": {
        "id": "O01ajwZOuAbR",
        "colab": {
          "base_uri": "https://localhost:8080/"
        },
        "outputId": "1028a46e-7997-4bef-80aa-24cb40495b90"
      },
      "source": [
        "df.isnull().values.any()"
      ],
      "execution_count": 37,
      "outputs": [
        {
          "output_type": "execute_result",
          "data": {
            "text/plain": [
              "False"
            ]
          },
          "metadata": {
            "tags": []
          },
          "execution_count": 37
        }
      ]
    },
    {
      "cell_type": "code",
      "metadata": {
        "colab": {
          "base_uri": "https://localhost:8080/"
        },
        "id": "c5d6BP1B3erH",
        "outputId": "05540058-c772-4df5-fde1-61756c531075"
      },
      "source": [
        "# não existem valores sem preenchimento no df, uma vez que as variáveis estão preenchidas com 0 ou 1\n",
        "df.isna().values.any()"
      ],
      "execution_count": 38,
      "outputs": [
        {
          "output_type": "execute_result",
          "data": {
            "text/plain": [
              "False"
            ]
          },
          "metadata": {
            "tags": []
          },
          "execution_count": 38
        }
      ]
    },
    {
      "cell_type": "code",
      "metadata": {
        "id": "dSR6CRxhvJe8",
        "colab": {
          "base_uri": "https://localhost:8080/"
        },
        "outputId": "fd7a9ec1-a902-46a0-e2e5-4ef455aac107"
      },
      "source": [
        "#comprovando dataset todo preenchido corretamente o que é um milagre\n",
        "print(\"# Linhas no dataframe {0}\".format(len(df)))\n",
        "print(\"# Linhas missing Age: {0}\".format(len(df.loc[df['Age'] == 'NA'])))\n",
        "print(\"# Linhas missing Scholarship : {0}\".format(len(df.loc[df['Scholarship'] == 'NA'])))\n",
        "print(\"# Linhas missing Hipertension: {0}\".format(len(df.loc[df['Hipertension'] == 'NA'])))\n",
        "print(\"# Linhas missing Diabetes: {0}\".format(len(df.loc[df['Diabetes'] == 'NA'])))\n",
        "print(\"# Linhas missing Alcoholism: {0}\".format(len(df.loc[df['Alcoholism'] == 'NA'])))\n",
        "print(\"# Linhas missing Handcap: {0}\".format(len(df.loc[df['Handcap'] == 'NA'])))\n",
        "print(\"# Linhas missing SMS_received: {0}\".format(len(df.loc[df['SMS_received'] == 'NA'])))\n",
        "#não necessita de tratamento de dados missing ou NA"
      ],
      "execution_count": 39,
      "outputs": [
        {
          "output_type": "stream",
          "text": [
            "# Linhas no dataframe 110527\n",
            "# Linhas missing Age: 0\n",
            "# Linhas missing Scholarship : 0\n",
            "# Linhas missing Hipertension: 0\n",
            "# Linhas missing Diabetes: 0\n",
            "# Linhas missing Alcoholism: 0\n",
            "# Linhas missing Handcap: 0\n",
            "# Linhas missing SMS_received: 0\n"
          ],
          "name": "stdout"
        }
      ]
    },
    {
      "cell_type": "code",
      "metadata": {
        "colab": {
          "base_uri": "https://localhost:8080/"
        },
        "id": "mOJ4-PBQJVBV",
        "outputId": "2f7c43fa-2459-43d5-8e24-227a7af9ad2c"
      },
      "source": [
        "df.info()"
      ],
      "execution_count": 40,
      "outputs": [
        {
          "output_type": "stream",
          "text": [
            "<class 'pandas.core.frame.DataFrame'>\n",
            "RangeIndex: 110527 entries, 0 to 110526\n",
            "Data columns (total 9 columns):\n",
            " #   Column        Non-Null Count   Dtype\n",
            "---  ------        --------------   -----\n",
            " 0   Gender        110527 non-null  int64\n",
            " 1   Age           110527 non-null  int64\n",
            " 2   Scholarship   110527 non-null  int64\n",
            " 3   Hipertension  110527 non-null  int64\n",
            " 4   Diabetes      110527 non-null  int64\n",
            " 5   Alcoholism    110527 non-null  int64\n",
            " 6   Handcap       110527 non-null  int64\n",
            " 7   SMS_received  110527 non-null  int64\n",
            " 8   No-show       110527 non-null  int64\n",
            "dtypes: int64(9)\n",
            "memory usage: 7.6 MB\n"
          ],
          "name": "stdout"
        }
      ]
    },
    {
      "cell_type": "markdown",
      "metadata": {
        "id": "JNFsmZbJmqdx"
      },
      "source": [
        "# **Resultados**"
      ]
    },
    {
      "cell_type": "markdown",
      "metadata": {
        "id": "JIh9oKOv5DE9"
      },
      "source": [
        "### **Modelo de Regressão Logística**"
      ]
    },
    {
      "cell_type": "code",
      "metadata": {
        "id": "FfcpPdK45KRi"
      },
      "source": [
        "# implementar o modelo\n",
        "modelo_lr = LogisticRegression(C = 0.7, random_state = 42, max_iter = 1000)\n",
        "modelo_lr.fit(X_treino, Y_treino.ravel())\n",
        "y_forecast_lr = modelo_lr.predict(X_teste)"
      ],
      "execution_count": 41,
      "outputs": []
    },
    {
      "cell_type": "code",
      "metadata": {
        "id": "32Hdnlrb5OY1",
        "colab": {
          "base_uri": "https://localhost:8080/"
        },
        "outputId": "38203ca1-c754-4f31-800e-78f9d2114936"
      },
      "source": [
        "print(f'Acurácia do Modelo de Regressão Logística: {accuracy_score(Y_teste, y_forecast_lr)*100}')\n",
        "print()\n",
        "print(\"Classification Report\")\n",
        "print(metrics.classification_report(Y_teste, y_forecast_lr, labels = [1, 0]))"
      ],
      "execution_count": 42,
      "outputs": [
        {
          "output_type": "stream",
          "text": [
            "Acurácia do Modelo de Regressão Logística: 79.92852619198408\n",
            "\n",
            "Classification Report\n",
            "              precision    recall  f1-score   support\n",
            "\n",
            "           1       0.00      0.00      0.00      4437\n",
            "           0       0.80      1.00      0.89     17669\n",
            "\n",
            "    accuracy                           0.80     22106\n",
            "   macro avg       0.40      0.50      0.44     22106\n",
            "weighted avg       0.64      0.80      0.71     22106\n",
            "\n"
          ],
          "name": "stdout"
        },
        {
          "output_type": "stream",
          "text": [
            "/usr/local/lib/python3.7/dist-packages/sklearn/metrics/_classification.py:1272: UndefinedMetricWarning: Precision and F-score are ill-defined and being set to 0.0 in labels with no predicted samples. Use `zero_division` parameter to control this behavior.\n",
            "  _warn_prf(average, modifier, msg_start, len(result))\n"
          ],
          "name": "stderr"
        }
      ]
    },
    {
      "cell_type": "markdown",
      "metadata": {
        "id": "mGi8d9QWwrdo"
      },
      "source": [
        "### **Multilayer Perceptron (MLP)**"
      ]
    },
    {
      "cell_type": "code",
      "metadata": {
        "colab": {
          "base_uri": "https://localhost:8080/"
        },
        "id": "EoX2n2ck4x0d",
        "outputId": "528d3edb-3ac6-4175-ddba-e56860bd6cd9"
      },
      "source": [
        "# Building MLP model\n",
        "modelo_mlp = MLPClassifier(solver='lbfgs', alpha=1e-5, hidden_layer_sizes=(5, 10), random_state=1)\n",
        "\n",
        "# Training MLP model\n",
        "modelo_mlp.fit(X_treino, Y_treino)\n",
        "\n",
        "# Testing MLP model\n",
        "y_forecast_mlp = modelo_mlp.predict(X_teste)"
      ],
      "execution_count": 43,
      "outputs": [
        {
          "output_type": "stream",
          "text": [
            "/usr/local/lib/python3.7/dist-packages/sklearn/neural_network/_multilayer_perceptron.py:934: DataConversionWarning: A column-vector y was passed when a 1d array was expected. Please change the shape of y to (n_samples, ), for example using ravel().\n",
            "  y = column_or_1d(y, warn=True)\n",
            "/usr/local/lib/python3.7/dist-packages/sklearn/neural_network/_multilayer_perceptron.py:470: ConvergenceWarning: lbfgs failed to converge (status=1):\n",
            "STOP: TOTAL NO. of ITERATIONS REACHED LIMIT.\n",
            "\n",
            "Increase the number of iterations (max_iter) or scale the data as shown in:\n",
            "    https://scikit-learn.org/stable/modules/preprocessing.html\n",
            "  self.n_iter_ = _check_optimize_result(\"lbfgs\", opt_res, self.max_iter)\n"
          ],
          "name": "stderr"
        }
      ]
    },
    {
      "cell_type": "code",
      "metadata": {
        "colab": {
          "base_uri": "https://localhost:8080/"
        },
        "id": "I-e_oy9KlLT8",
        "outputId": "8b1a3c6b-6d38-41a3-9f66-3ac31652a3b5"
      },
      "source": [
        "print(f'Acurácia do Modelo de Regressão Logística: {accuracy_score(Y_teste, y_forecast_mlp)*100}')\n",
        "print()\n",
        "print(\"Classification Report\")\n",
        "print(metrics.classification_report(Y_teste, y_forecast_mlp, labels = [1, 0]))"
      ],
      "execution_count": 44,
      "outputs": [
        {
          "output_type": "stream",
          "text": [
            "Acurácia do Modelo de Regressão Logística: 79.92852619198408\n",
            "\n",
            "Classification Report\n",
            "              precision    recall  f1-score   support\n",
            "\n",
            "           1       0.00      0.00      0.00      4437\n",
            "           0       0.80      1.00      0.89     17669\n",
            "\n",
            "    accuracy                           0.80     22106\n",
            "   macro avg       0.40      0.50      0.44     22106\n",
            "weighted avg       0.64      0.80      0.71     22106\n",
            "\n"
          ],
          "name": "stdout"
        },
        {
          "output_type": "stream",
          "text": [
            "/usr/local/lib/python3.7/dist-packages/sklearn/metrics/_classification.py:1272: UndefinedMetricWarning: Precision and F-score are ill-defined and being set to 0.0 in labels with no predicted samples. Use `zero_division` parameter to control this behavior.\n",
            "  _warn_prf(average, modifier, msg_start, len(result))\n"
          ],
          "name": "stderr"
        }
      ]
    },
    {
      "cell_type": "markdown",
      "metadata": {
        "id": "QttookRcw0xi"
      },
      "source": [
        "### **KNN (K nearest neighbor)**"
      ]
    },
    {
      "cell_type": "code",
      "metadata": {
        "colab": {
          "base_uri": "https://localhost:8080/"
        },
        "id": "dlliY9Yf3vHF",
        "outputId": "0b1e89cd-a078-4645-e8f0-e47cdc312a37"
      },
      "source": [
        "# Building KNN model with 5 neighbors (K=5)\n",
        "modelo_KNN = KNeighborsClassifier(n_neighbors=5)\n",
        "\n",
        "# Training the KNN model\n",
        "modelo_KNN.fit(X_treino, Y_treino)\n",
        "\n",
        "# Testing the KNN model\n",
        "y_forecast_KNN = modelo_KNN.predict(X_teste)"
      ],
      "execution_count": 45,
      "outputs": [
        {
          "output_type": "stream",
          "text": [
            "/usr/local/lib/python3.7/dist-packages/ipykernel_launcher.py:5: DataConversionWarning: A column-vector y was passed when a 1d array was expected. Please change the shape of y to (n_samples, ), for example using ravel().\n",
            "  \"\"\"\n"
          ],
          "name": "stderr"
        }
      ]
    },
    {
      "cell_type": "code",
      "metadata": {
        "colab": {
          "base_uri": "https://localhost:8080/"
        },
        "id": "a7Q_qhS7lpag",
        "outputId": "14f988f8-f95a-4aa1-b4fd-255ff62e4f89"
      },
      "source": [
        "print(\"Exatidão (Accuracy): {0:.4f}\".format(metrics.accuracy_score(Y_teste, y_forecast_KNN)))\n",
        "print()\n",
        "print(\"Classification Report\")\n",
        "print(metrics.classification_report(Y_teste, y_forecast_KNN, labels = [1, 0]))"
      ],
      "execution_count": 46,
      "outputs": [
        {
          "output_type": "stream",
          "text": [
            "Exatidão (Accuracy): 0.7738\n",
            "\n",
            "Classification Report\n",
            "              precision    recall  f1-score   support\n",
            "\n",
            "           1       0.24      0.06      0.10      4437\n",
            "           0       0.80      0.95      0.87     17669\n",
            "\n",
            "    accuracy                           0.77     22106\n",
            "   macro avg       0.52      0.51      0.48     22106\n",
            "weighted avg       0.69      0.77      0.72     22106\n",
            "\n"
          ],
          "name": "stdout"
        }
      ]
    },
    {
      "cell_type": "markdown",
      "metadata": {
        "id": "5RoLSHj0xPsK"
      },
      "source": [
        "### **Decision Tree**"
      ]
    },
    {
      "cell_type": "code",
      "metadata": {
        "id": "UJW0UgXY4bNS"
      },
      "source": [
        "# Building Tree model \n",
        "modelo_tree = DecisionTreeClassifier(random_state=1)\n",
        "\n",
        "# Training the Tree model\n",
        "modelo_tree.fit(X_treino, Y_treino)\n",
        "\n",
        "# Testing the Tree model\n",
        "y_forecast_tree = modelo_tree.predict(X_teste)"
      ],
      "execution_count": 47,
      "outputs": []
    },
    {
      "cell_type": "code",
      "metadata": {
        "colab": {
          "base_uri": "https://localhost:8080/"
        },
        "id": "e3f6ZSmJly1X",
        "outputId": "c5172f17-53cb-4200-c1a7-503d8f1ae698"
      },
      "source": [
        "print(\"Exatidão (Accuracy): {0:.4f}\".format(metrics.accuracy_score(Y_teste, y_forecast_tree)))\n",
        "print()\n",
        "print(\"Classification Report\")\n",
        "print(metrics.classification_report(Y_teste, y_forecast_tree, labels = [1, 0]))"
      ],
      "execution_count": 48,
      "outputs": [
        {
          "output_type": "stream",
          "text": [
            "Exatidão (Accuracy): 0.7970\n",
            "\n",
            "Classification Report\n",
            "              precision    recall  f1-score   support\n",
            "\n",
            "           1       0.38      0.02      0.03      4437\n",
            "           0       0.80      0.99      0.89     17669\n",
            "\n",
            "    accuracy                           0.80     22106\n",
            "   macro avg       0.59      0.51      0.46     22106\n",
            "weighted avg       0.72      0.80      0.72     22106\n",
            "\n"
          ],
          "name": "stdout"
        }
      ]
    },
    {
      "cell_type": "markdown",
      "metadata": {
        "id": "4u5pI0sDW_T_"
      },
      "source": [
        "### **Classificador Naive Bayes**"
      ]
    },
    {
      "cell_type": "code",
      "metadata": {
        "colab": {
          "base_uri": "https://localhost:8080/"
        },
        "id": "G6tAAXmdxcgf",
        "outputId": "9f17c7d9-b4d9-43e6-cd91-126c42d2ddba"
      },
      "source": [
        "# Utilizando um classificador Naive Bayes\n",
        "from sklearn.naive_bayes import GaussianNB\n",
        "\n",
        "# Criando o modelo preditivo\n",
        "modelo_NB = GaussianNB()\n",
        "\n",
        "# Treinando o modelo\n",
        "modelo_NB.fit(X_treino, Y_treino.ravel())\n"
      ],
      "execution_count": 49,
      "outputs": [
        {
          "output_type": "execute_result",
          "data": {
            "text/plain": [
              "GaussianNB(priors=None, var_smoothing=1e-09)"
            ]
          },
          "metadata": {
            "tags": []
          },
          "execution_count": 49
        }
      ]
    },
    {
      "cell_type": "code",
      "metadata": {
        "colab": {
          "base_uri": "https://localhost:8080/"
        },
        "id": "wO6Q9IjvsmWs",
        "outputId": "2192e189-6a13-4067-ca6e-fafab3687cd4"
      },
      "source": [
        "from sklearn import metrics\n",
        "y_forecast_NB = modelo_NB.predict(X_teste)\n",
        "print(\"Exatidão (Accuracy): {0:.4f}\".format(metrics.accuracy_score(Y_teste, y_forecast_NB)))\n",
        "print()\n",
        "print(\"Classification Report\")\n",
        "print(metrics.classification_report(Y_teste, y_forecast_NB, labels = [1, 0]))"
      ],
      "execution_count": 50,
      "outputs": [
        {
          "output_type": "stream",
          "text": [
            "Exatidão (Accuracy): 0.7910\n",
            "\n",
            "Classification Report\n",
            "              precision    recall  f1-score   support\n",
            "\n",
            "           1       0.33      0.04      0.07      4437\n",
            "           0       0.80      0.98      0.88     17669\n",
            "\n",
            "    accuracy                           0.79     22106\n",
            "   macro avg       0.56      0.51      0.48     22106\n",
            "weighted avg       0.71      0.79      0.72     22106\n",
            "\n"
          ],
          "name": "stdout"
        }
      ]
    },
    {
      "cell_type": "markdown",
      "metadata": {
        "id": "eO1zus1bxUR3"
      },
      "source": [
        "### **Comparando a acurácia (exatidão) dos modelos**"
      ]
    },
    {
      "cell_type": "code",
      "metadata": {
        "colab": {
          "base_uri": "https://localhost:8080/"
        },
        "id": "rQ7hsW_k7dus",
        "outputId": "87e186d2-9a38-428f-aa85-73da285beb1d"
      },
      "source": [
        "# Comparing models accuracy\n",
        "print(f'Acurácia do Modelo MLP: {accuracy_score(Y_teste, y_forecast_mlp)*100}')\n",
        "print(f'Acurácia do Modelo KNN: {accuracy_score(Y_teste, y_forecast_KNN)*100}')\n",
        "print(f'Acurácia do Modelo Decision Tree: {accuracy_score(Y_teste, y_forecast_tree)*100}')\n",
        "print(f'Acurácia do Modelo NB: {accuracy_score(Y_teste, y_forecast_NB)*100}')\n",
        "print(f'Acurácia do Modelo de Regressão Logística: {accuracy_score(Y_teste, y_forecast_lr)*100}')\n"
      ],
      "execution_count": 51,
      "outputs": [
        {
          "output_type": "stream",
          "text": [
            "Acurácia do Modelo MLP: 79.92852619198408\n",
            "Acurácia do Modelo KNN: 77.37718266533973\n",
            "Acurácia do Modelo Decision Tree: 79.70234325522483\n",
            "Acurácia do Modelo NB: 79.10069664344522\n",
            "Acurácia do Modelo de Regressão Logística: 79.92852619198408\n"
          ],
          "name": "stdout"
        }
      ]
    },
    {
      "cell_type": "markdown",
      "metadata": {
        "id": "nrJEz2175Wlf"
      },
      "source": [
        "### **Vamos fazer previsões com o modelo treinado!**"
      ]
    },
    {
      "cell_type": "code",
      "metadata": {
        "id": "EaWUR2oW5afe"
      },
      "source": [
        "import pickle"
      ],
      "execution_count": 52,
      "outputs": []
    },
    {
      "cell_type": "code",
      "metadata": {
        "id": "hPx1qXrp5dMQ"
      },
      "source": [
        "filename = 'modelo_lr_treinado.sav'\n",
        "pickle.dump(y_forecast_lr, open(filename, 'wb'))"
      ],
      "execution_count": 53,
      "outputs": []
    },
    {
      "cell_type": "code",
      "metadata": {
        "id": "iQQS4uch5geg",
        "colab": {
          "base_uri": "https://localhost:8080/"
        },
        "outputId": "574cdef1-5b87-4bdb-f2e2-2947b89e8334"
      },
      "source": [
        "X_teste"
      ],
      "execution_count": 62,
      "outputs": [
        {
          "output_type": "execute_result",
          "data": {
            "text/plain": [
              "array([[ 1, 20,  0, ...,  0,  0,  0],\n",
              "       [ 1, 37,  0, ...,  0,  0,  1],\n",
              "       [ 1, 38,  0, ...,  0,  0,  0],\n",
              "       ...,\n",
              "       [ 1, 22,  1, ...,  0,  0,  0],\n",
              "       [ 1, 39,  0, ...,  0,  0,  1],\n",
              "       [ 1,  3,  0, ...,  0,  0,  0]])"
            ]
          },
          "metadata": {
            "tags": []
          },
          "execution_count": 62
        }
      ]
    },
    {
      "cell_type": "code",
      "metadata": {
        "id": "GJmccD_zQpny"
      },
      "source": [
        "prev = pd.DataFrame(X_teste)"
      ],
      "execution_count": 63,
      "outputs": []
    },
    {
      "cell_type": "code",
      "metadata": {
        "colab": {
          "base_uri": "https://localhost:8080/",
          "height": 419
        },
        "id": "xmRq1RmyTG2B",
        "outputId": "57718402-099e-4bfb-9ccc-50595af1d6df"
      },
      "source": [
        "prev"
      ],
      "execution_count": 65,
      "outputs": [
        {
          "output_type": "execute_result",
          "data": {
            "text/html": [
              "<div>\n",
              "<style scoped>\n",
              "    .dataframe tbody tr th:only-of-type {\n",
              "        vertical-align: middle;\n",
              "    }\n",
              "\n",
              "    .dataframe tbody tr th {\n",
              "        vertical-align: top;\n",
              "    }\n",
              "\n",
              "    .dataframe thead th {\n",
              "        text-align: right;\n",
              "    }\n",
              "</style>\n",
              "<table border=\"1\" class=\"dataframe\">\n",
              "  <thead>\n",
              "    <tr style=\"text-align: right;\">\n",
              "      <th></th>\n",
              "      <th>0</th>\n",
              "      <th>1</th>\n",
              "      <th>2</th>\n",
              "      <th>3</th>\n",
              "      <th>4</th>\n",
              "      <th>5</th>\n",
              "      <th>6</th>\n",
              "      <th>7</th>\n",
              "    </tr>\n",
              "  </thead>\n",
              "  <tbody>\n",
              "    <tr>\n",
              "      <th>0</th>\n",
              "      <td>1</td>\n",
              "      <td>20</td>\n",
              "      <td>0</td>\n",
              "      <td>0</td>\n",
              "      <td>0</td>\n",
              "      <td>0</td>\n",
              "      <td>0</td>\n",
              "      <td>0</td>\n",
              "    </tr>\n",
              "    <tr>\n",
              "      <th>1</th>\n",
              "      <td>1</td>\n",
              "      <td>37</td>\n",
              "      <td>0</td>\n",
              "      <td>0</td>\n",
              "      <td>0</td>\n",
              "      <td>0</td>\n",
              "      <td>0</td>\n",
              "      <td>1</td>\n",
              "    </tr>\n",
              "    <tr>\n",
              "      <th>2</th>\n",
              "      <td>1</td>\n",
              "      <td>38</td>\n",
              "      <td>0</td>\n",
              "      <td>0</td>\n",
              "      <td>0</td>\n",
              "      <td>0</td>\n",
              "      <td>0</td>\n",
              "      <td>0</td>\n",
              "    </tr>\n",
              "    <tr>\n",
              "      <th>3</th>\n",
              "      <td>1</td>\n",
              "      <td>24</td>\n",
              "      <td>0</td>\n",
              "      <td>0</td>\n",
              "      <td>0</td>\n",
              "      <td>0</td>\n",
              "      <td>0</td>\n",
              "      <td>1</td>\n",
              "    </tr>\n",
              "    <tr>\n",
              "      <th>4</th>\n",
              "      <td>1</td>\n",
              "      <td>41</td>\n",
              "      <td>0</td>\n",
              "      <td>0</td>\n",
              "      <td>0</td>\n",
              "      <td>0</td>\n",
              "      <td>0</td>\n",
              "      <td>0</td>\n",
              "    </tr>\n",
              "    <tr>\n",
              "      <th>...</th>\n",
              "      <td>...</td>\n",
              "      <td>...</td>\n",
              "      <td>...</td>\n",
              "      <td>...</td>\n",
              "      <td>...</td>\n",
              "      <td>...</td>\n",
              "      <td>...</td>\n",
              "      <td>...</td>\n",
              "    </tr>\n",
              "    <tr>\n",
              "      <th>22101</th>\n",
              "      <td>1</td>\n",
              "      <td>61</td>\n",
              "      <td>1</td>\n",
              "      <td>1</td>\n",
              "      <td>1</td>\n",
              "      <td>0</td>\n",
              "      <td>0</td>\n",
              "      <td>0</td>\n",
              "    </tr>\n",
              "    <tr>\n",
              "      <th>22102</th>\n",
              "      <td>0</td>\n",
              "      <td>34</td>\n",
              "      <td>0</td>\n",
              "      <td>0</td>\n",
              "      <td>0</td>\n",
              "      <td>0</td>\n",
              "      <td>0</td>\n",
              "      <td>1</td>\n",
              "    </tr>\n",
              "    <tr>\n",
              "      <th>22103</th>\n",
              "      <td>1</td>\n",
              "      <td>22</td>\n",
              "      <td>1</td>\n",
              "      <td>0</td>\n",
              "      <td>0</td>\n",
              "      <td>0</td>\n",
              "      <td>0</td>\n",
              "      <td>0</td>\n",
              "    </tr>\n",
              "    <tr>\n",
              "      <th>22104</th>\n",
              "      <td>1</td>\n",
              "      <td>39</td>\n",
              "      <td>0</td>\n",
              "      <td>1</td>\n",
              "      <td>0</td>\n",
              "      <td>0</td>\n",
              "      <td>0</td>\n",
              "      <td>1</td>\n",
              "    </tr>\n",
              "    <tr>\n",
              "      <th>22105</th>\n",
              "      <td>1</td>\n",
              "      <td>3</td>\n",
              "      <td>0</td>\n",
              "      <td>0</td>\n",
              "      <td>0</td>\n",
              "      <td>0</td>\n",
              "      <td>0</td>\n",
              "      <td>0</td>\n",
              "    </tr>\n",
              "  </tbody>\n",
              "</table>\n",
              "<p>22106 rows × 8 columns</p>\n",
              "</div>"
            ],
            "text/plain": [
              "       0   1  2  3  4  5  6  7\n",
              "0      1  20  0  0  0  0  0  0\n",
              "1      1  37  0  0  0  0  0  1\n",
              "2      1  38  0  0  0  0  0  0\n",
              "3      1  24  0  0  0  0  0  1\n",
              "4      1  41  0  0  0  0  0  0\n",
              "...   ..  .. .. .. .. .. .. ..\n",
              "22101  1  61  1  1  1  0  0  0\n",
              "22102  0  34  0  0  0  0  0  1\n",
              "22103  1  22  1  0  0  0  0  0\n",
              "22104  1  39  0  1  0  0  0  1\n",
              "22105  1   3  0  0  0  0  0  0\n",
              "\n",
              "[22106 rows x 8 columns]"
            ]
          },
          "metadata": {
            "tags": []
          },
          "execution_count": 65
        }
      ]
    },
    {
      "cell_type": "markdown",
      "metadata": {
        "id": "QNEvWq07Gw8T"
      },
      "source": [
        "#Referências:\n",
        "https://stackoverflow.com/questions/51672709/converting-no-and-yes-into-0-and-1-in-pandas-dataframe\n",
        "\n",
        " https://www.kaggle.com/joniarroba/noshowappointments?select=KaggleV2-May-2016.csv.\n",
        " https://pandas.pydata.org/docs/reference/api/pandas.DataFrame.query.html\n",
        "\n"
      ]
    }
  ]
}