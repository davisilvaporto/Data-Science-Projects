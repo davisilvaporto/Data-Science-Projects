{
  "nbformat": 4,
  "nbformat_minor": 0,
  "metadata": {
    "colab": {
      "name": "Atividade 4_CNN.ipynb",
      "provenance": [],
      "collapsed_sections": []
    },
    "kernelspec": {
      "name": "python3",
      "display_name": "Python 3"
    }
  },
  "cells": [
    {
      "cell_type": "markdown",
      "metadata": {
        "id": "sNc3NouWYrN7"
      },
      "source": [
        "1-Importando as bibliotecas necessárias"
      ]
    },
    {
      "cell_type": "code",
      "metadata": {
        "id": "4bQCahYjYdUB"
      },
      "source": [
        "import tensorflow\n",
        "from tensorflow import keras\n",
        "import matplotlib.pyplot as plt\n",
        "import numpy as np\n",
        "from tensorflow.keras.models import load_model"
      ],
      "execution_count": 1,
      "outputs": []
    },
    {
      "cell_type": "markdown",
      "metadata": {
        "id": "f8uuzUjVYvkf"
      },
      "source": [
        "2-Carregando os dados da base pública do keras fashion mnist\n",
        " e já realizando a divisão entre dados de treino e dados de teste."
      ]
    },
    {
      "cell_type": "code",
      "metadata": {
        "id": "QoIys3wMYirH",
        "colab": {
          "base_uri": "https://localhost:8080/"
        },
        "outputId": "f2e0ce5e-f028-4f23-9ab3-bd33ba03ecb2"
      },
      "source": [
        "data = keras.datasets.fashion_mnist\n",
        "((X_treino, X_identificacoes), (Y_teste, Y_identificacoes)) = data.load_data()\n"
      ],
      "execution_count": 2,
      "outputs": [
        {
          "output_type": "stream",
          "name": "stdout",
          "text": [
            "Downloading data from https://storage.googleapis.com/tensorflow/tf-keras-datasets/train-labels-idx1-ubyte.gz\n",
            "32768/29515 [=================================] - 0s 0us/step\n",
            "40960/29515 [=========================================] - 0s 0us/step\n",
            "Downloading data from https://storage.googleapis.com/tensorflow/tf-keras-datasets/train-images-idx3-ubyte.gz\n",
            "26427392/26421880 [==============================] - 0s 0us/step\n",
            "26435584/26421880 [==============================] - 0s 0us/step\n",
            "Downloading data from https://storage.googleapis.com/tensorflow/tf-keras-datasets/t10k-labels-idx1-ubyte.gz\n",
            "16384/5148 [===============================================================================================] - 0s 0us/step\n",
            "Downloading data from https://storage.googleapis.com/tensorflow/tf-keras-datasets/t10k-images-idx3-ubyte.gz\n",
            "4423680/4422102 [==============================] - 0s 0us/step\n",
            "4431872/4422102 [==============================] - 0s 0us/step\n"
          ]
        }
      ]
    },
    {
      "cell_type": "markdown",
      "metadata": {
        "id": "oFr0526ZY5E_"
      },
      "source": [
        "#Analisando os dados"
      ]
    },
    {
      "cell_type": "code",
      "metadata": {
        "id": "fPIT36hpYl5A",
        "colab": {
          "base_uri": "https://localhost:8080/"
        },
        "outputId": "961d243f-bee0-4d77-ca66-a957999ab9e9"
      },
      "source": [
        "len(X_treino)\n"
      ],
      "execution_count": 3,
      "outputs": [
        {
          "output_type": "execute_result",
          "data": {
            "text/plain": [
              "60000"
            ]
          },
          "metadata": {},
          "execution_count": 3
        }
      ]
    },
    {
      "cell_type": "code",
      "metadata": {
        "id": "9hjA6WI_sP5d",
        "colab": {
          "base_uri": "https://localhost:8080/"
        },
        "outputId": "e196150c-8c18-433c-a929-74eb9a29310d"
      },
      "source": [
        "X_treino.shape"
      ],
      "execution_count": 4,
      "outputs": [
        {
          "output_type": "execute_result",
          "data": {
            "text/plain": [
              "(60000, 28, 28)"
            ]
          },
          "metadata": {},
          "execution_count": 4
        }
      ]
    },
    {
      "cell_type": "code",
      "metadata": {
        "id": "F8XtK-YWsSCn",
        "colab": {
          "base_uri": "https://localhost:8080/"
        },
        "outputId": "a80cd099-567f-436c-d919-628a4799d877"
      },
      "source": [
        "Y_teste.shape"
      ],
      "execution_count": 5,
      "outputs": [
        {
          "output_type": "execute_result",
          "data": {
            "text/plain": [
              "(10000, 28, 28)"
            ]
          },
          "metadata": {},
          "execution_count": 5
        }
      ]
    },
    {
      "cell_type": "code",
      "metadata": {
        "id": "E7CIeXv8sUaG",
        "colab": {
          "base_uri": "https://localhost:8080/"
        },
        "outputId": "0c017626-2d11-4081-82df-d1225b2eff97"
      },
      "source": [
        "len(Y_identificacoes)"
      ],
      "execution_count": 6,
      "outputs": [
        {
          "output_type": "execute_result",
          "data": {
            "text/plain": [
              "10000"
            ]
          },
          "metadata": {},
          "execution_count": 6
        }
      ]
    },
    {
      "cell_type": "code",
      "metadata": {
        "id": "YDXN-XKpsdDM",
        "colab": {
          "base_uri": "https://localhost:8080/"
        },
        "outputId": "ac9ec06b-6615-442b-f349-72746a1a4ac5"
      },
      "source": [
        "X_identificacoes.min()"
      ],
      "execution_count": 7,
      "outputs": [
        {
          "output_type": "execute_result",
          "data": {
            "text/plain": [
              "0"
            ]
          },
          "metadata": {},
          "execution_count": 7
        }
      ]
    },
    {
      "cell_type": "code",
      "metadata": {
        "id": "KJlCAntCsf_M",
        "colab": {
          "base_uri": "https://localhost:8080/"
        },
        "outputId": "be132fa5-e558-4692-f151-7b7ca7426168"
      },
      "source": [
        "X_identificacoes.max()"
      ],
      "execution_count": 8,
      "outputs": [
        {
          "output_type": "execute_result",
          "data": {
            "text/plain": [
              "9"
            ]
          },
          "metadata": {},
          "execution_count": 8
        }
      ]
    },
    {
      "cell_type": "markdown",
      "metadata": {
        "id": "yTWqT9DIY-iB"
      },
      "source": [
        "Exibindo imagens"
      ]
    },
    {
      "cell_type": "code",
      "metadata": {
        "id": "bGESm49JVahh",
        "colab": {
          "base_uri": "https://localhost:8080/",
          "height": 282
        },
        "outputId": "f8fbdfaf-bb79-4d37-b079-3924d3d72262"
      },
      "source": [
        "total_de_classificacoes = 10\n",
        "nomes_de_classificacoes = ['Camiseta', 'Calça', 'Pullover', \n",
        "                           'Vestido', 'Casaco', 'Sandália', 'Camisa',\n",
        "                           'Tênis', 'Bolsa', 'Bota']\n",
        "\n",
        "plt.imshow(X_treino[3])\n",
        "plt.colorbar()"
      ],
      "execution_count": 9,
      "outputs": [
        {
          "output_type": "execute_result",
          "data": {
            "text/plain": [
              "<matplotlib.colorbar.Colorbar at 0x7f5813286f10>"
            ]
          },
          "metadata": {},
          "execution_count": 9
        },
        {
          "output_type": "display_data",
          "data": {
            "image/png": "[encoded data removed]",
            "text/plain": [
              "<Figure size 432x288 with 2 Axes>"
            ]
          },
          "metadata": {
            "needs_background": "light"
          }
        }
      ]
    },
    {
      "cell_type": "markdown",
      "metadata": {
        "id": "uU6ZySpIcoc5"
      },
      "source": [
        "Pré processamento normalizando os dados"
      ]
    },
    {
      "cell_type": "code",
      "metadata": {
        "id": "Ral_hdl9ulGG"
      },
      "source": [
        "X_treino = X_treino/float(255)"
      ],
      "execution_count": 10,
      "outputs": []
    },
    {
      "cell_type": "markdown",
      "metadata": {
        "id": "2WABnvOJdCNl"
      },
      "source": [
        "Experimento 1- normalizando com flatten,Uma camada densa com 256 neurônios, ativação com RELU, dropout de 0.2, e outra densa com 10 neurônios e ativação softmax.  Perda pela sparse_categorical_crossentropy. Métrica pela acurácia\n",
        "Validação 10%, 10 épocas."
      ]
    },
    {
      "cell_type": "code",
      "metadata": {
        "id": "uFedwlfFc0ii",
        "colab": {
          "base_uri": "https://localhost:8080/"
        },
        "outputId": "94595219-07be-42d6-8b32-947618a282fb"
      },
      "source": [
        "#rodando a primeira vez\n",
        "model1 = keras.Sequential([ \n",
        "    keras.layers.Flatten(input_shape=(28, 28)),\n",
        "    keras.layers.Dense(256, activation=tensorflow.nn.relu),\n",
        "    keras.layers.Dropout(0.2),\n",
        "    keras.layers.Dense(10, activation=tensorflow.nn.softmax)\n",
        "])\n",
        "\n",
        "model1.compile(optimizer='adam', \n",
        "               loss='sparse_categorical_crossentropy',\n",
        "               metrics=['accuracy'])\n",
        "\n",
        "history1 = model1.fit(X_treino,X_identificacoes, epochs=10, validation_split=0.10)"
      ],
      "execution_count": 11,
      "outputs": [
        {
          "output_type": "stream",
          "name": "stdout",
          "text": [
            "Epoch 1/10\n",
            "1688/1688 [==============================] - 8s 5ms/step - loss: 0.5172 - accuracy: 0.8155 - val_loss: 0.4303 - val_accuracy: 0.8442\n",
            "Epoch 2/10\n",
            "1688/1688 [==============================] - 7s 4ms/step - loss: 0.3942 - accuracy: 0.8571 - val_loss: 0.3555 - val_accuracy: 0.8713\n",
            "Epoch 3/10\n",
            "1688/1688 [==============================] - 7s 4ms/step - loss: 0.3588 - accuracy: 0.8706 - val_loss: 0.3465 - val_accuracy: 0.8742\n",
            "Epoch 4/10\n",
            "1688/1688 [==============================] - 7s 4ms/step - loss: 0.3350 - accuracy: 0.8775 - val_loss: 0.3402 - val_accuracy: 0.8780\n",
            "Epoch 5/10\n",
            "1688/1688 [==============================] - 7s 4ms/step - loss: 0.3208 - accuracy: 0.8801 - val_loss: 0.3314 - val_accuracy: 0.8812\n",
            "Epoch 6/10\n",
            "1688/1688 [==============================] - 7s 4ms/step - loss: 0.3063 - accuracy: 0.8880 - val_loss: 0.3228 - val_accuracy: 0.8817\n",
            "Epoch 7/10\n",
            "1688/1688 [==============================] - 7s 4ms/step - loss: 0.2972 - accuracy: 0.8913 - val_loss: 0.3374 - val_accuracy: 0.8802\n",
            "Epoch 8/10\n",
            "1688/1688 [==============================] - 7s 4ms/step - loss: 0.2855 - accuracy: 0.8933 - val_loss: 0.3182 - val_accuracy: 0.8832\n",
            "Epoch 9/10\n",
            "1688/1688 [==============================] - 8s 5ms/step - loss: 0.2763 - accuracy: 0.8964 - val_loss: 0.3138 - val_accuracy: 0.8858\n",
            "Epoch 10/10\n",
            "1688/1688 [==============================] - 9s 5ms/step - loss: 0.2724 - accuracy: 0.8974 - val_loss: 0.3172 - val_accuracy: 0.8883\n"
          ]
        }
      ]
    },
    {
      "cell_type": "markdown",
      "metadata": {
        "id": "4-RqzS88dgk_"
      },
      "source": [
        "Salvando e carregando o modelo treinado"
      ]
    },
    {
      "cell_type": "code",
      "metadata": {
        "id": "SVjmU41IELzX"
      },
      "source": [
        "model1.save('modelo1.h5')\n",
        "model1_saved = load_model('modelo1.h5')"
      ],
      "execution_count": 12,
      "outputs": []
    },
    {
      "cell_type": "markdown",
      "metadata": {
        "id": "3iK47SR_0p0Z"
      },
      "source": [
        "#Avaliando o modelo 1\n",
        "Primeira rodada alcançou acuracia de 0.869"
      ]
    },
    {
      "cell_type": "code",
      "metadata": {
        "colab": {
          "base_uri": "https://localhost:8080/"
        },
        "id": "yCu9vDmc13jA",
        "outputId": "4999ec9f-8463-4cc8-cb02-e58826598633"
      },
      "source": [
        "perda_teste1, acuracia_teste1 = model1.evaluate(Y_teste, Y_identificacoes)\n",
        "print('Perda do teste 1:', perda_teste1)\n",
        "print('Acurácia do teste 1:', acuracia_teste1)"
      ],
      "execution_count": 13,
      "outputs": [
        {
          "output_type": "stream",
          "name": "stdout",
          "text": [
            "313/313 [==============================] - 1s 3ms/step - loss: 62.9356 - accuracy: 0.8619\n",
            "Perda do teste 1: 62.93559265136719\n",
            "Acurácia do teste 1: 0.8618999719619751\n"
          ]
        }
      ]
    },
    {
      "cell_type": "markdown",
      "metadata": {
        "id": "ydCy-vgy34Ow"
      },
      "source": [
        "Modelo2 - Segunda Rodada"
      ]
    },
    {
      "cell_type": "code",
      "metadata": {
        "colab": {
          "base_uri": "https://localhost:8080/"
        },
        "id": "iP38043q2j_I",
        "outputId": "144aae23-9466-4d08-8422-56e84d27f1e9"
      },
      "source": [
        "#rodando a segunda vez\n",
        "model2 = keras.Sequential([ \n",
        "    keras.layers.Flatten(input_shape=(28, 28)),\n",
        "    keras.layers.Dense(256, activation=tensorflow.nn.relu),\n",
        "    keras.layers.Dropout(0.2),\n",
        "    keras.layers.Dense(10, activation=tensorflow.nn.softmax)\n",
        "])\n",
        "\n",
        "model2.compile(optimizer='adam', \n",
        "               loss='sparse_categorical_crossentropy',\n",
        "               metrics=['accuracy'])\n",
        "\n",
        "history2 = model2.fit(X_treino,X_identificacoes, epochs=10, validation_split=0.10)"
      ],
      "execution_count": 14,
      "outputs": [
        {
          "output_type": "stream",
          "name": "stdout",
          "text": [
            "Epoch 1/10\n",
            "1688/1688 [==============================] - 7s 4ms/step - loss: 0.5201 - accuracy: 0.8161 - val_loss: 0.4046 - val_accuracy: 0.8492\n",
            "Epoch 2/10\n",
            "1688/1688 [==============================] - 7s 4ms/step - loss: 0.3928 - accuracy: 0.8563 - val_loss: 0.3549 - val_accuracy: 0.8660\n",
            "Epoch 3/10\n",
            "1688/1688 [==============================] - 7s 4ms/step - loss: 0.3609 - accuracy: 0.8675 - val_loss: 0.3428 - val_accuracy: 0.8748\n",
            "Epoch 4/10\n",
            "1688/1688 [==============================] - 7s 4ms/step - loss: 0.3378 - accuracy: 0.8761 - val_loss: 0.3647 - val_accuracy: 0.8713\n",
            "Epoch 5/10\n",
            "1688/1688 [==============================] - 7s 4ms/step - loss: 0.3186 - accuracy: 0.8813 - val_loss: 0.3506 - val_accuracy: 0.8712\n",
            "Epoch 6/10\n",
            "1688/1688 [==============================] - 7s 4ms/step - loss: 0.3086 - accuracy: 0.8851 - val_loss: 0.3330 - val_accuracy: 0.8810\n",
            "Epoch 7/10\n",
            "1688/1688 [==============================] - 8s 5ms/step - loss: 0.2974 - accuracy: 0.8903 - val_loss: 0.3296 - val_accuracy: 0.8792\n",
            "Epoch 8/10\n",
            "1688/1688 [==============================] - 7s 4ms/step - loss: 0.2879 - accuracy: 0.8933 - val_loss: 0.3092 - val_accuracy: 0.8890\n",
            "Epoch 9/10\n",
            "1688/1688 [==============================] - 7s 4ms/step - loss: 0.2759 - accuracy: 0.8968 - val_loss: 0.3200 - val_accuracy: 0.8877\n",
            "Epoch 10/10\n",
            "1688/1688 [==============================] - 7s 4ms/step - loss: 0.2717 - accuracy: 0.8985 - val_loss: 0.3135 - val_accuracy: 0.8890\n"
          ]
        }
      ]
    },
    {
      "cell_type": "markdown",
      "metadata": {
        "id": "IxVt8His4IsX"
      },
      "source": [
        "salvando e carregando o segundo modelo"
      ]
    },
    {
      "cell_type": "code",
      "metadata": {
        "id": "sdgTXku12pBF"
      },
      "source": [
        "model2.save('modelo2.h5')\n",
        "model2_saved = load_model('modelo2.h5')"
      ],
      "execution_count": 15,
      "outputs": []
    },
    {
      "cell_type": "markdown",
      "metadata": {
        "id": "m6daG-_h3iO0"
      },
      "source": [
        "#Avaliando modelo2 \n",
        "alcançou acurácia de 0.87"
      ]
    },
    {
      "cell_type": "code",
      "metadata": {
        "colab": {
          "base_uri": "https://localhost:8080/"
        },
        "id": "dRI2iDvR2xVN",
        "outputId": "2928ecc4-fd62-41ff-d8b9-f5ea1bcc25e7"
      },
      "source": [
        "perda_teste2, acuracia_teste2 = model2.evaluate(Y_teste, Y_identificacoes)\n",
        "print('Perda do teste 2:', perda_teste2)\n",
        "print('Acurácia do teste 2:', acuracia_teste2)"
      ],
      "execution_count": 16,
      "outputs": [
        {
          "output_type": "stream",
          "name": "stdout",
          "text": [
            "313/313 [==============================] - 1s 2ms/step - loss: 56.6798 - accuracy: 0.8686\n",
            "Perda do teste 2: 56.67978286743164\n",
            "Acurácia do teste 2: 0.8686000108718872\n"
          ]
        }
      ]
    },
    {
      "cell_type": "markdown",
      "metadata": {
        "id": "BZXxaSBN4TRZ"
      },
      "source": [
        "modelo3 - Terceira Rodada"
      ]
    },
    {
      "cell_type": "code",
      "metadata": {
        "colab": {
          "base_uri": "https://localhost:8080/"
        },
        "id": "1IA_A-DD3z8e",
        "outputId": "db3b3e41-bb31-473a-8b9b-8fcc032e6ee2"
      },
      "source": [
        "#rodando a segunda vez\n",
        "model3 = keras.Sequential([ \n",
        "    keras.layers.Flatten(input_shape=(28, 28)),\n",
        "    keras.layers.Dense(256, activation=tensorflow.nn.relu),\n",
        "    keras.layers.Dropout(0.2),\n",
        "    keras.layers.Dense(10, activation=tensorflow.nn.softmax)\n",
        "])\n",
        "\n",
        "model3.compile(optimizer='adam', \n",
        "               loss='sparse_categorical_crossentropy',\n",
        "               metrics=['accuracy'])\n",
        "\n",
        "history3 = model3.fit(X_treino,X_identificacoes, epochs=10, validation_split=0.10)"
      ],
      "execution_count": 17,
      "outputs": [
        {
          "output_type": "stream",
          "name": "stdout",
          "text": [
            "Epoch 1/10\n",
            "1688/1688 [==============================] - 7s 4ms/step - loss: 0.5198 - accuracy: 0.8149 - val_loss: 0.4233 - val_accuracy: 0.8455\n",
            "Epoch 2/10\n",
            "1688/1688 [==============================] - 7s 4ms/step - loss: 0.3934 - accuracy: 0.8564 - val_loss: 0.3706 - val_accuracy: 0.8682\n",
            "Epoch 3/10\n",
            "1688/1688 [==============================] - 7s 4ms/step - loss: 0.3563 - accuracy: 0.8692 - val_loss: 0.3334 - val_accuracy: 0.8753\n",
            "Epoch 4/10\n",
            "1688/1688 [==============================] - 6s 4ms/step - loss: 0.3351 - accuracy: 0.8763 - val_loss: 0.3399 - val_accuracy: 0.8757\n",
            "Epoch 5/10\n",
            "1688/1688 [==============================] - 6s 4ms/step - loss: 0.3237 - accuracy: 0.8815 - val_loss: 0.3384 - val_accuracy: 0.8802\n",
            "Epoch 6/10\n",
            "1688/1688 [==============================] - 7s 4ms/step - loss: 0.3078 - accuracy: 0.8859 - val_loss: 0.3237 - val_accuracy: 0.8840\n",
            "Epoch 7/10\n",
            "1688/1688 [==============================] - 7s 4ms/step - loss: 0.2971 - accuracy: 0.8897 - val_loss: 0.3376 - val_accuracy: 0.8768\n",
            "Epoch 8/10\n",
            "1688/1688 [==============================] - 7s 4ms/step - loss: 0.2884 - accuracy: 0.8920 - val_loss: 0.3463 - val_accuracy: 0.8800\n",
            "Epoch 9/10\n",
            "1688/1688 [==============================] - 7s 4ms/step - loss: 0.2775 - accuracy: 0.8968 - val_loss: 0.3222 - val_accuracy: 0.8888\n",
            "Epoch 10/10\n",
            "1688/1688 [==============================] - 7s 4ms/step - loss: 0.2712 - accuracy: 0.8976 - val_loss: 0.3182 - val_accuracy: 0.8862\n"
          ]
        }
      ]
    },
    {
      "cell_type": "code",
      "metadata": {
        "id": "YDN8R_0U4r8-"
      },
      "source": [
        "model3.save('modelo3.h5')\n",
        "model3_saved = load_model('modelo3.h5')"
      ],
      "execution_count": 18,
      "outputs": []
    },
    {
      "cell_type": "code",
      "metadata": {
        "colab": {
          "base_uri": "https://localhost:8080/"
        },
        "id": "viubM_nS4wg2",
        "outputId": "7639bcba-c870-45d3-99bd-f9989e03c7d5"
      },
      "source": [
        "perda_teste3, acuracia_teste3 = model3.evaluate(Y_teste, Y_identificacoes)\n",
        "print('Perda do teste 3 :', perda_teste3)\n",
        "print('Acurácia do teste 3:', acuracia_teste3)"
      ],
      "execution_count": 19,
      "outputs": [
        {
          "output_type": "stream",
          "name": "stdout",
          "text": [
            "313/313 [==============================] - 1s 3ms/step - loss: 52.0385 - accuracy: 0.8716\n",
            "Perda do teste 3 : 52.038490295410156\n",
            "Acurácia do teste 3: 0.8715999722480774\n"
          ]
        }
      ]
    },
    {
      "cell_type": "markdown",
      "metadata": {
        "id": "SVxHO3opdnMb"
      },
      "source": [
        "Visualizando as acurácias de treino e validação por época para o modelo 3 com melhor acuracia de 0,8716"
      ]
    },
    {
      "cell_type": "code",
      "metadata": {
        "id": "pNc0JsWZY1Ie",
        "colab": {
          "base_uri": "https://localhost:8080/",
          "height": 313
        },
        "outputId": "66d1538b-1fb5-481a-9035-181bf8a81e70"
      },
      "source": [
        "plt.plot(history1.history['accuracy'])\n",
        "plt.plot(history1.history['val_accuracy'])\n",
        "plt.title('Acurácia por épocas')\n",
        "plt.xlabel('épocas')\n",
        "plt.ylabel('acurácia')\n",
        "plt.legend(['treino', 'validação'])\n"
      ],
      "execution_count": 20,
      "outputs": [
        {
          "output_type": "execute_result",
          "data": {
            "text/plain": [
              "<matplotlib.legend.Legend at 0x7f580ee8f810>"
            ]
          },
          "metadata": {},
          "execution_count": 20
        },
        {
          "output_type": "display_data",
          "data": {
            "image/png": "[encoded data removed]",
            "text/plain": [
              "<Figure size 432x288 with 1 Axes>"
            ]
          },
          "metadata": {
            "needs_background": "light"
          }
        }
      ]
    },
    {
      "cell_type": "markdown",
      "metadata": {
        "id": "ZKxkWNawdzZh"
      },
      "source": [
        "Visualizando as perdas de treino e validação por época para o modelo 1"
      ]
    },
    {
      "cell_type": "code",
      "metadata": {
        "id": "2ugG3Vusg_Va",
        "colab": {
          "base_uri": "https://localhost:8080/",
          "height": 313
        },
        "outputId": "6751b78a-1569-459a-fdd8-0aa60f0fee94"
      },
      "source": [
        "plt.plot(history1.history['loss'])\n",
        "plt.plot(history1.history['val_loss'])\n",
        "plt.title('Perda por épocas')\n",
        "plt.xlabel('épocas')\n",
        "plt.ylabel('perda')\n",
        "plt.legend(['treino', 'validação'])"
      ],
      "execution_count": 21,
      "outputs": [
        {
          "output_type": "execute_result",
          "data": {
            "text/plain": [
              "<matplotlib.legend.Legend at 0x7f580f0df150>"
            ]
          },
          "metadata": {},
          "execution_count": 21
        },
        {
          "output_type": "display_data",
          "data": {
            "image/png": "[encoded data removed]",
            "text/plain": [
              "<Figure size 432x288 with 1 Axes>"
            ]
          },
          "metadata": {
            "needs_background": "light"
          }
        }
      ]
    },
    {
      "cell_type": "markdown",
      "metadata": {
        "id": "JFXG1oibd8E8"
      },
      "source": [
        "Testando o modelo 1 e o modelo salvo"
      ]
    },
    {
      "cell_type": "code",
      "metadata": {
        "id": "I2kLEHPYUdhd",
        "colab": {
          "base_uri": "https://localhost:8080/"
        },
        "outputId": "af137383-643c-44d1-a137-524670f8f117"
      },
      "source": [
        "testes = model1.predict(Y_teste)\n",
        "print('resultado teste:', np.argmax(testes[1]))\n",
        "print('número da imagem de teste:', Y_identificacoes[1])\n",
        "\n",
        "testes_modelo_salvo = model1_saved.predict(Y_teste)\n",
        "print('resultado teste modelo salvo:', np.argmax(testes_modelo_salvo[1]))\n",
        "print('número da imagem de teste:', Y_teste[1])"
      ],
      "execution_count": 22,
      "outputs": [
        {
          "output_type": "stream",
          "name": "stdout",
          "text": [
            "resultado teste: 2\n",
            "número da imagem de teste: 2\n",
            "resultado teste modelo salvo: 2\n",
            "número da imagem de teste: [[  0   0   0   0   0   0   0   0   0   0  13  67   0   0   0   0  50  38\n",
            "    0   0   0   0   0   0   0   0   0   0]\n",
            " [  0   0   0   0   0   0   0   8 120 209 226 247 237 255 255 255 247 238\n",
            "  235 172  72   0   0   0   0   0   0   0]\n",
            " [  0   0   0   0   0   0 137 239 252 243 234 229 238 244 246 240 230 232\n",
            "  239 248 251 194   0   0   0   0   0   0]\n",
            " [  0   0   0   0   0 102 255 231 228 227 228 233 230 230 229 228 232 232\n",
            "  231 227 224 252 179   0   0   0   0   0]\n",
            " [  0   0   0   0   0 233 241 229 231 255 255 238 231 227 238 246 228 230\n",
            "  227 234 235 229 241  20   0   0   0   0]\n",
            " [  0   0   0   0   0 248 241 231 255 149  47 252 228 255 242 216 238 232\n",
            "  255 228 220 234 250  54   0   0   0   0]\n",
            " [  0   0   0   0   0 255 240 232 255  15   0 255 237 191   0   0 214 255\n",
            "   13 123 255 234 252 114   0   0   0   0]\n",
            " [  0   0   0   0   6 255 238 239 255 177   0 255 255   0 130 116  47  65\n",
            "   43  37 255 236 249 162   0   0   0   0]\n",
            " [  0   0   0   0  32 255 236 245 255 204   0 255  84   0  37  28  31   0\n",
            "   25  13 255 236 249 199   0   0   0   0]\n",
            " [  0   0   0   0  53 255 236 250 250 231   2 255  21   0 221 255 236  54\n",
            "  245 198 243 238 245 223   0   0   0   0]\n",
            " [  0   0   0   0  80 255 237 250 240 255   0   0  39 157   0   0 215  94\n",
            "   20 126 255 237 239 250   0   0   0   0]\n",
            " [  0   0   0   0 101 255 235 253 244 243 133 138 208 255 201 214 255 230\n",
            "    7 174 255 240 238 255   0   0   0   0]\n",
            " [  0   0   0   0 126 255 233 255 248 233 255 255 240 232 243 243 231 251\n",
            "  255 255 254 243 238 255   3   0   0   0]\n",
            " [  0   0   0   0 147 255 233 249 181 243 227 224 230 234 230 230 235 228\n",
            "  235 222 207 255 236 255  35   0   0   0]\n",
            " [  0   0   0   0 163 255 245 221  86 255 233 233 235 236 234 234 234 232\n",
            "  242 231 125 255 236 255  55   0   0   0]\n",
            " [  0   0   0   0 181 254 255 200  69 255 228 232 234 235 234 234 233 235\n",
            "  241 237  70 255 235 246  57   0   0   0]\n",
            " [  0   0   0   0 197 247 255 188 110 255 224 233 234 234 234 234 234 234\n",
            "  240 253  69 255 236 248  77   0   0   0]\n",
            " [  0   0   0   0 200 246 255 149 145 255 223 235 234 235 235 235 234 237\n",
            "  233 255  47 255 239 249  98   0   0   0]\n",
            " [  0   0   0   0 204 243 255 111 173 255 227 235 235 236 235 235 235 239\n",
            "  229 255  19 227 246 249 110   0   0   0]\n",
            " [  0   0   0   0 196 240 255 109 213 250 229 235 235 236 235 237 236 237\n",
            "  226 255  55 203 251 245 120   0   0   0]\n",
            " [  0   0   0   0 192 243 255 114 232 240 232 235 235 236 234 237 236 235\n",
            "  229 255 134 171 252 244 137   0   0   0]\n",
            " [  0   0   0   0 189 251 255 154 238 233 236 234 235 236 235 238 236 235\n",
            "  232 255 166 125 255 243 142   0   0   0]\n",
            " [  0   0   0   0 183 252 255 171 247 232 234 234 233 233 232 234 233 234\n",
            "  233 240 223 128 255 242 151   0   0   0]\n",
            " [  0   0   0   0 178 243 255  57 238 241 238 238 238 237 236 237 237 240\n",
            "  237 254 176  52 255 239 157   0   0   0]\n",
            " [  0   0   0   0 188 240 250  62 218 255 220 222 222 222 223 223 224 222\n",
            "  218 255 154  32 255 236 188   0   0   0]\n",
            " [  0   0   0   0 130 245 242  24   0   0   0   0   0   0   0   0   0   0\n",
            "    0   0   0  34 242 244 135   0   0   0]\n",
            " [  0   0   0   0  76 255 249  22   0   0   0   0   0   0   0   0   0   0\n",
            "    0   0   0  39 249 255 123   0   0   0]\n",
            " [  0   0   0   0  49 205 197  11   0   4   1   2   2   2   2   2   2   2\n",
            "    2   3   0   3 174 189  67   0   0   0]]\n"
          ]
        }
      ]
    },
    {
      "cell_type": "markdown",
      "metadata": {
        "id": "U64QMV1GeCUr"
      },
      "source": [
        "Avaliando o experimento 1"
      ]
    },
    {
      "cell_type": "code",
      "metadata": {
        "id": "t5ob8WwPlHFq"
      },
      "source": [
        "#lista com as perdas e acurácias\n",
        "perdas_exp1 = [perda_teste1, perda_teste2 , perda_teste3]\n",
        "acuracias_exp1 = [acuracia_teste1, acuracia_teste2, acuracia_teste3]"
      ],
      "execution_count": 25,
      "outputs": []
    },
    {
      "cell_type": "code",
      "metadata": {
        "colab": {
          "base_uri": "https://localhost:8080/"
        },
        "id": "s-LO0DQ6lP03",
        "outputId": "c0285a21-306b-43c5-db1b-8a02d8656734"
      },
      "source": [
        "print('Perda Média dos testes:', np.mean(perdas_exp1))\n",
        "print('Acurácia Média dos testes:', np.mean(acuracias_exp1))"
      ],
      "execution_count": 26,
      "outputs": [
        {
          "output_type": "stream",
          "name": "stdout",
          "text": [
            "Perda Média dos testes: 57.21795527140299\n",
            "Acurácia Média dos testes: 0.8673666516939799\n"
          ]
        }
      ]
    },
    {
      "cell_type": "markdown",
      "metadata": {
        "id": "0il1vLbUJ8q2"
      },
      "source": [
        "Experimento 2- normalizando com flatten,Uma camada densa com 512 neurônios, ativação com RELU, dropout de 0.5, e outra densa com 10 neurônios e ativação softmax.  Perda pela sparse_categorical_crossentropy. Métrica pela acurácia\n",
        "Validação 10%, 5 épocas."
      ]
    },
    {
      "cell_type": "code",
      "metadata": {
        "colab": {
          "base_uri": "https://localhost:8080/"
        },
        "id": "DCgT16pnKO9S",
        "outputId": "01164159-317c-442b-dbd3-84f3a94ffa05"
      },
      "source": [
        "#primeira vez\n",
        "model4 = keras.Sequential([ \n",
        "    keras.layers.Flatten(input_shape=(28, 28)),\n",
        "    keras.layers.Dense(512, activation=tensorflow.nn.relu),\n",
        "    keras.layers.Dropout(0.5),\n",
        "    keras.layers.Dense(10, activation=tensorflow.nn.softmax)\n",
        "])\n",
        "\n",
        "model4.compile(optimizer='adam', \n",
        "               loss='sparse_categorical_crossentropy',\n",
        "               metrics=['accuracy'])\n",
        "\n",
        "history4 = model4.fit(X_treino,X_identificacoes, epochs=5, validation_split=0.10)"
      ],
      "execution_count": 27,
      "outputs": [
        {
          "output_type": "stream",
          "name": "stdout",
          "text": [
            "Epoch 1/5\n",
            "1688/1688 [==============================] - 12s 7ms/step - loss: 0.5608 - accuracy: 0.7992 - val_loss: 0.4129 - val_accuracy: 0.8475\n",
            "Epoch 2/5\n",
            "1688/1688 [==============================] - 10s 6ms/step - loss: 0.4435 - accuracy: 0.8380 - val_loss: 0.3812 - val_accuracy: 0.8570\n",
            "Epoch 3/5\n",
            "1688/1688 [==============================] - 11s 6ms/step - loss: 0.4094 - accuracy: 0.8490 - val_loss: 0.3813 - val_accuracy: 0.8527\n",
            "Epoch 4/5\n",
            "1688/1688 [==============================] - 11s 6ms/step - loss: 0.3900 - accuracy: 0.8579 - val_loss: 0.3477 - val_accuracy: 0.8698\n",
            "Epoch 5/5\n",
            "1688/1688 [==============================] - 10s 6ms/step - loss: 0.3757 - accuracy: 0.8617 - val_loss: 0.3679 - val_accuracy: 0.8658\n"
          ]
        }
      ]
    },
    {
      "cell_type": "code",
      "metadata": {
        "id": "JxymqlkmLNEk"
      },
      "source": [
        "model4.save('modelo4.h5')\n",
        "model4_saved = load_model('modelo4.h5')"
      ],
      "execution_count": 28,
      "outputs": []
    },
    {
      "cell_type": "code",
      "metadata": {
        "colab": {
          "base_uri": "https://localhost:8080/"
        },
        "id": "tqhC0TqeLQWa",
        "outputId": "2285933c-fba3-4fe6-d025-c8648a169492"
      },
      "source": [
        "perda_teste4, acuracia_teste4 = model4.evaluate(Y_teste, Y_identificacoes)\n",
        "print('Perda do teste 4 :', perda_teste4)\n",
        "print('Acurácia do teste 4:', acuracia_teste4)"
      ],
      "execution_count": 29,
      "outputs": [
        {
          "output_type": "stream",
          "name": "stdout",
          "text": [
            "313/313 [==============================] - 1s 4ms/step - loss: 73.9948 - accuracy: 0.8382\n",
            "Perda do teste 4 : 73.99482727050781\n",
            "Acurácia do teste 4: 0.8381999731063843\n"
          ]
        }
      ]
    },
    {
      "cell_type": "code",
      "metadata": {
        "colab": {
          "base_uri": "https://localhost:8080/"
        },
        "id": "jQ21c8WuKnWN",
        "outputId": "c9cdf2d4-0bcc-4a55-f777-1d77c6b05793"
      },
      "source": [
        "#segunda vez\n",
        "model5 = keras.Sequential([ \n",
        "    keras.layers.Flatten(input_shape=(28, 28)),\n",
        "    keras.layers.Dense(512, activation=tensorflow.nn.relu),\n",
        "    keras.layers.Dropout(0.5),\n",
        "    keras.layers.Dense(10, activation=tensorflow.nn.softmax)\n",
        "])\n",
        "\n",
        "model5.compile(optimizer='adam', \n",
        "               loss='sparse_categorical_crossentropy',\n",
        "               metrics=['accuracy'])\n",
        "\n",
        "history5 = model5.fit(X_treino,X_identificacoes, epochs=5, validation_split=0.10)"
      ],
      "execution_count": 30,
      "outputs": [
        {
          "output_type": "stream",
          "name": "stdout",
          "text": [
            "Epoch 1/5\n",
            "1688/1688 [==============================] - 11s 6ms/step - loss: 0.5637 - accuracy: 0.7959 - val_loss: 0.4378 - val_accuracy: 0.8410\n",
            "Epoch 2/5\n",
            "1688/1688 [==============================] - 11s 6ms/step - loss: 0.4401 - accuracy: 0.8408 - val_loss: 0.3838 - val_accuracy: 0.8553\n",
            "Epoch 3/5\n",
            "1688/1688 [==============================] - 11s 6ms/step - loss: 0.4117 - accuracy: 0.8500 - val_loss: 0.3742 - val_accuracy: 0.8680\n",
            "Epoch 4/5\n",
            "1688/1688 [==============================] - 10s 6ms/step - loss: 0.3895 - accuracy: 0.8563 - val_loss: 0.3600 - val_accuracy: 0.8725\n",
            "Epoch 5/5\n",
            "1688/1688 [==============================] - 10s 6ms/step - loss: 0.3751 - accuracy: 0.8611 - val_loss: 0.3464 - val_accuracy: 0.8727\n"
          ]
        }
      ]
    },
    {
      "cell_type": "code",
      "metadata": {
        "id": "faBnejTGL5a-"
      },
      "source": [
        "model5.save('modelo5.h5')\n",
        "model5_saved = load_model('modelo5.h5')"
      ],
      "execution_count": 31,
      "outputs": []
    },
    {
      "cell_type": "code",
      "metadata": {
        "colab": {
          "base_uri": "https://localhost:8080/"
        },
        "id": "gpA4Jx49MfPD",
        "outputId": "782b38e7-3cff-4d19-d363-54b03a5946e0"
      },
      "source": [
        "perda_teste5, acuracia_teste5 = model5.evaluate(Y_teste, Y_identificacoes)\n",
        "print('Perda do teste 5 :', perda_teste5)\n",
        "print('Acurácia do teste 5:', acuracia_teste5)"
      ],
      "execution_count": 32,
      "outputs": [
        {
          "output_type": "stream",
          "name": "stdout",
          "text": [
            "313/313 [==============================] - 1s 4ms/step - loss: 64.6887 - accuracy: 0.8448\n",
            "Perda do teste 5 : 64.68872833251953\n",
            "Acurácia do teste 5: 0.8447999954223633\n"
          ]
        }
      ]
    },
    {
      "cell_type": "code",
      "metadata": {
        "colab": {
          "base_uri": "https://localhost:8080/"
        },
        "id": "j0ElqQdMNz7D",
        "outputId": "ff8e065d-e5e2-48a2-8601-beebce28b20a"
      },
      "source": [
        "#terceira vez\n",
        "model6 = keras.Sequential([ \n",
        "    keras.layers.Flatten(input_shape=(28, 28)),\n",
        "    keras.layers.Dense(512, activation=tensorflow.nn.relu),\n",
        "    keras.layers.Dropout(0.5),\n",
        "    keras.layers.Dense(10, activation=tensorflow.nn.softmax)\n",
        "])\n",
        "\n",
        "model6.compile(optimizer='adam', \n",
        "               loss='sparse_categorical_crossentropy',\n",
        "               metrics=['accuracy'])\n",
        "\n",
        "history6 = model6.fit(X_treino,X_identificacoes, epochs=5, validation_split=0.10)"
      ],
      "execution_count": 33,
      "outputs": [
        {
          "output_type": "stream",
          "name": "stdout",
          "text": [
            "Epoch 1/5\n",
            "1688/1688 [==============================] - 11s 6ms/step - loss: 0.5654 - accuracy: 0.7973 - val_loss: 0.4471 - val_accuracy: 0.8232\n",
            "Epoch 2/5\n",
            "1688/1688 [==============================] - 10s 6ms/step - loss: 0.4408 - accuracy: 0.8401 - val_loss: 0.3730 - val_accuracy: 0.8655\n",
            "Epoch 3/5\n",
            "1688/1688 [==============================] - 10s 6ms/step - loss: 0.4098 - accuracy: 0.8494 - val_loss: 0.3845 - val_accuracy: 0.8633\n",
            "Epoch 4/5\n",
            "1688/1688 [==============================] - 10s 6ms/step - loss: 0.3863 - accuracy: 0.8598 - val_loss: 0.3631 - val_accuracy: 0.8697\n",
            "Epoch 5/5\n",
            "1688/1688 [==============================] - 11s 6ms/step - loss: 0.3754 - accuracy: 0.8631 - val_loss: 0.3521 - val_accuracy: 0.8707\n"
          ]
        }
      ]
    },
    {
      "cell_type": "code",
      "metadata": {
        "id": "zoy-n2n_N64J"
      },
      "source": [
        "model6.save('modelo6.h5')\n",
        "model6_saved = load_model('modelo6.h5')"
      ],
      "execution_count": 34,
      "outputs": []
    },
    {
      "cell_type": "code",
      "metadata": {
        "colab": {
          "base_uri": "https://localhost:8080/"
        },
        "id": "AmwSHSUXN9np",
        "outputId": "b4cde5bf-815f-4b16-bdcf-1a867e00ebe0"
      },
      "source": [
        "perda_teste6, acuracia_teste6 = model6.evaluate(Y_teste, Y_identificacoes)\n",
        "print('Perda do teste 6 :', perda_teste6)\n",
        "print('Acurácia do teste 6:', acuracia_teste6)"
      ],
      "execution_count": 35,
      "outputs": [
        {
          "output_type": "stream",
          "name": "stdout",
          "text": [
            "313/313 [==============================] - 1s 4ms/step - loss: 62.5488 - accuracy: 0.8437\n",
            "Perda do teste 6 : 62.54879379272461\n",
            "Acurácia do teste 6: 0.8436999917030334\n"
          ]
        }
      ]
    },
    {
      "cell_type": "code",
      "metadata": {
        "id": "JQTgUeK0OMmR"
      },
      "source": [
        "#lista com as perdas e acurácias\n",
        "perdas_exp2 = [perda_teste4, perda_teste5 , perda_teste6]\n",
        "acuracias_exp2 = [acuracia_teste4, acuracia_teste5, acuracia_teste6]"
      ],
      "execution_count": 36,
      "outputs": []
    },
    {
      "cell_type": "code",
      "metadata": {
        "id": "ghtT_gcDOUHp"
      },
      "source": [
        "#transformando as listas em arrays numpy\n",
        "perdas_exp2 = np.array(perdas_exp2)\n",
        "acuracias_exp2 = np.array(acuracias_exp2)"
      ],
      "execution_count": 37,
      "outputs": []
    },
    {
      "cell_type": "code",
      "metadata": {
        "colab": {
          "base_uri": "https://localhost:8080/"
        },
        "id": "QMwh-Fi3O6Bz",
        "outputId": "a1847a5d-159c-45db-d5e9-8e335ce996e4"
      },
      "source": [
        "print('Perda Média dos testes:', np.mean(perdas_exp2))\n",
        "print('Acurácia Média dos testes:', np.mean(acuracias_exp2))"
      ],
      "execution_count": 38,
      "outputs": [
        {
          "output_type": "stream",
          "name": "stdout",
          "text": [
            "Perda Média dos testes: 67.07744979858398\n",
            "Acurácia Média dos testes: 0.8422333200772604\n"
          ]
        }
      ]
    },
    {
      "cell_type": "code",
      "metadata": {
        "colab": {
          "base_uri": "https://localhost:8080/"
        },
        "id": "7nmJJif4O6rA",
        "outputId": "46d0aab9-e9dc-4b4f-d715-7dc3657a7029"
      },
      "source": [
        "print('desvio padrão da Perda dos testes:', np.std(perdas_exp2))\n",
        "print('desvio padrão da acurácia dos testes:',np.std(acuracias_exp2))"
      ],
      "execution_count": 39,
      "outputs": [
        {
          "output_type": "stream",
          "name": "stdout",
          "text": [
            "desvio padrão da Perda dos testes: 4.968729768962506\n",
            "desvio padrão da acurácia dos testes: 0.002887145982481797\n"
          ]
        }
      ]
    },
    {
      "cell_type": "markdown",
      "metadata": {
        "id": "IrG7WZAjM1Q_"
      },
      "source": [
        "Experimento 3- Flatten, camada com com 768, droput de 0.2 e uma densa com 10 neurônios. Optimizador Gradiente descendente Estocástico. Perda pela sparse_categorical_crossentropy. Métrica pela acurácia\n",
        "Validação 10%, 5 épocas."
      ]
    },
    {
      "cell_type": "code",
      "metadata": {
        "colab": {
          "base_uri": "https://localhost:8080/"
        },
        "id": "dAueT0ckPtBk",
        "outputId": "0937bde7-bf3b-48ea-fe0e-9fcde4dc6d20"
      },
      "source": [
        "#rodando pela primeira vez\n",
        "model7 = keras.Sequential([ \n",
        "    keras.layers.Flatten(input_shape=(28, 28)),\n",
        "    keras.layers.Dense(768, activation=tensorflow.nn.relu),\n",
        "    keras.layers.Dropout(0.2),\n",
        "    keras.layers.Dense(10, activation=tensorflow.nn.softmax)\n",
        "])\n",
        "\n",
        "model7.compile(optimizer='sgd',\n",
        "              loss='sparse_categorical_crossentropy',\n",
        "              metrics=['accuracy'])\n",
        "\n",
        "history7 = model7.fit(X_treino,X_identificacoes, epochs=5, validation_split=0.10)"
      ],
      "execution_count": 40,
      "outputs": [
        {
          "output_type": "stream",
          "name": "stdout",
          "text": [
            "Epoch 1/5\n",
            "1688/1688 [==============================] - 12s 7ms/step - loss: 0.7466 - accuracy: 0.7569 - val_loss: 0.5438 - val_accuracy: 0.8167\n",
            "Epoch 2/5\n",
            "1688/1688 [==============================] - 11s 6ms/step - loss: 0.5253 - accuracy: 0.8230 - val_loss: 0.4737 - val_accuracy: 0.8338\n",
            "Epoch 3/5\n",
            "1688/1688 [==============================] - 11s 6ms/step - loss: 0.4763 - accuracy: 0.8361 - val_loss: 0.4522 - val_accuracy: 0.8388\n",
            "Epoch 4/5\n",
            "1688/1688 [==============================] - 10s 6ms/step - loss: 0.4476 - accuracy: 0.8471 - val_loss: 0.4275 - val_accuracy: 0.8505\n",
            "Epoch 5/5\n",
            "1688/1688 [==============================] - 11s 7ms/step - loss: 0.4264 - accuracy: 0.8531 - val_loss: 0.4214 - val_accuracy: 0.8505\n"
          ]
        }
      ]
    },
    {
      "cell_type": "code",
      "metadata": {
        "id": "rixlsDhyPzDx"
      },
      "source": [
        "model7.save('modelo7.h5')\n",
        "model7_saved = load_model('modelo7.h5')"
      ],
      "execution_count": 41,
      "outputs": []
    },
    {
      "cell_type": "code",
      "metadata": {
        "colab": {
          "base_uri": "https://localhost:8080/"
        },
        "id": "Jx-oQVDiQUP9",
        "outputId": "0977501e-2fa0-458a-b9b0-279dd7622d1a"
      },
      "source": [
        "perda_teste7, acuracia_teste7 = model7.evaluate(Y_teste, Y_identificacoes)\n",
        "print('Perda do teste 7 :', perda_teste7)\n",
        "print('Acurácia do teste 7:', acuracia_teste7)"
      ],
      "execution_count": 42,
      "outputs": [
        {
          "output_type": "stream",
          "name": "stdout",
          "text": [
            "313/313 [==============================] - 1s 4ms/step - loss: 58.2895 - accuracy: 0.8330\n",
            "Perda do teste 7 : 58.28950500488281\n",
            "Acurácia do teste 7: 0.8330000042915344\n"
          ]
        }
      ]
    },
    {
      "cell_type": "code",
      "metadata": {
        "colab": {
          "base_uri": "https://localhost:8080/"
        },
        "id": "_wqKSjvsQXoS",
        "outputId": "bf6fdb96-aa28-4846-ead7-97a5e6ad2eb4"
      },
      "source": [
        "#rodando pela segunda vez\n",
        "model8 = keras.Sequential([ \n",
        "    keras.layers.Flatten(input_shape=(28, 28)),\n",
        "    keras.layers.Dense(768, activation=tensorflow.nn.relu),\n",
        "    keras.layers.Dropout(0.2),\n",
        "    keras.layers.Dense(10, activation=tensorflow.nn.softmax)\n",
        "])\n",
        "\n",
        "model8.compile(optimizer='sgd',\n",
        "              loss='sparse_categorical_crossentropy',\n",
        "              metrics=['accuracy'])\n",
        "\n",
        "history8 = model8.fit(X_treino,X_identificacoes, epochs=5, validation_split=0.10)"
      ],
      "execution_count": 43,
      "outputs": [
        {
          "output_type": "stream",
          "name": "stdout",
          "text": [
            "Epoch 1/5\n",
            "1688/1688 [==============================] - 11s 6ms/step - loss: 0.7351 - accuracy: 0.7624 - val_loss: 0.5355 - val_accuracy: 0.8223\n",
            "Epoch 2/5\n",
            "1688/1688 [==============================] - 10s 6ms/step - loss: 0.5255 - accuracy: 0.8216 - val_loss: 0.4806 - val_accuracy: 0.8342\n",
            "Epoch 3/5\n",
            "1688/1688 [==============================] - 10s 6ms/step - loss: 0.4773 - accuracy: 0.8368 - val_loss: 0.4469 - val_accuracy: 0.8413\n",
            "Epoch 4/5\n",
            "1688/1688 [==============================] - 11s 6ms/step - loss: 0.4494 - accuracy: 0.8435 - val_loss: 0.4299 - val_accuracy: 0.8463\n",
            "Epoch 5/5\n",
            "1688/1688 [==============================] - 11s 6ms/step - loss: 0.4279 - accuracy: 0.8517 - val_loss: 0.4118 - val_accuracy: 0.8560\n"
          ]
        }
      ]
    },
    {
      "cell_type": "code",
      "metadata": {
        "id": "3wGk3vOhTWEc"
      },
      "source": [
        "model8.save('modelo8.h5')\n",
        "model8_saved = load_model('modelo8.h5')"
      ],
      "execution_count": 44,
      "outputs": []
    },
    {
      "cell_type": "code",
      "metadata": {
        "colab": {
          "base_uri": "https://localhost:8080/"
        },
        "id": "mnj6qaRNTb_Z",
        "outputId": "d34efcc9-f6cf-4d59-c2f8-d49d99ee331a"
      },
      "source": [
        "perda_teste8, acuracia_teste8 = model8.evaluate(Y_teste, Y_identificacoes)\n",
        "print('Perda do teste 8 :', perda_teste8)\n",
        "print('Acurácia do teste 8:', acuracia_teste8)"
      ],
      "execution_count": 45,
      "outputs": [
        {
          "output_type": "stream",
          "name": "stdout",
          "text": [
            "313/313 [==============================] - 1s 4ms/step - loss: 63.2872 - accuracy: 0.8254\n",
            "Perda do teste 8 : 63.287174224853516\n",
            "Acurácia do teste 8: 0.8253999948501587\n"
          ]
        }
      ]
    },
    {
      "cell_type": "code",
      "metadata": {
        "colab": {
          "base_uri": "https://localhost:8080/"
        },
        "id": "n2wJiTqkTjgC",
        "outputId": "68ce4f8b-b9b5-40bb-800d-f4d1e042cec0"
      },
      "source": [
        "#rodando pela terceira vez\n",
        "model9 = keras.Sequential([ \n",
        "    keras.layers.Flatten(input_shape=(28, 28)),\n",
        "    keras.layers.Dense(768, activation=tensorflow.nn.relu),\n",
        "    keras.layers.Dropout(0.2),\n",
        "    keras.layers.Dense(10, activation=tensorflow.nn.softmax)\n",
        "])\n",
        "\n",
        "model9.compile(optimizer='sgd',\n",
        "              loss='sparse_categorical_crossentropy',\n",
        "              metrics=['accuracy'])\n",
        "\n",
        "history9 = model9.fit(X_treino,X_identificacoes, epochs=5, validation_split=0.10)"
      ],
      "execution_count": 46,
      "outputs": [
        {
          "output_type": "stream",
          "name": "stdout",
          "text": [
            "Epoch 1/5\n",
            "1688/1688 [==============================] - 11s 6ms/step - loss: 0.7489 - accuracy: 0.7566 - val_loss: 0.5418 - val_accuracy: 0.8142\n",
            "Epoch 2/5\n",
            "1688/1688 [==============================] - 10s 6ms/step - loss: 0.5299 - accuracy: 0.8223 - val_loss: 0.4814 - val_accuracy: 0.8363\n",
            "Epoch 3/5\n",
            "1688/1688 [==============================] - 10s 6ms/step - loss: 0.4795 - accuracy: 0.8354 - val_loss: 0.4611 - val_accuracy: 0.8382\n",
            "Epoch 4/5\n",
            "1688/1688 [==============================] - 10s 6ms/step - loss: 0.4501 - accuracy: 0.8451 - val_loss: 0.4565 - val_accuracy: 0.8373\n",
            "Epoch 5/5\n",
            "1688/1688 [==============================] - 11s 6ms/step - loss: 0.4303 - accuracy: 0.8522 - val_loss: 0.4119 - val_accuracy: 0.8533\n"
          ]
        }
      ]
    },
    {
      "cell_type": "code",
      "metadata": {
        "id": "c_c1FMFPTsyK"
      },
      "source": [
        "model9.save('modelo9.h5')\n",
        "model9_saved = load_model('modelo9.h5')"
      ],
      "execution_count": 47,
      "outputs": []
    },
    {
      "cell_type": "code",
      "metadata": {
        "colab": {
          "base_uri": "https://localhost:8080/"
        },
        "id": "6pTGxBo0T2Ia",
        "outputId": "6756e088-9edc-41e6-a809-e96d4525f5d2"
      },
      "source": [
        "perda_teste9, acuracia_teste9 = model9.evaluate(Y_teste, Y_identificacoes)\n",
        "print('Perda do teste 9 :', perda_teste9)\n",
        "print('Acurácia do teste 9:', acuracia_teste9)"
      ],
      "execution_count": 48,
      "outputs": [
        {
          "output_type": "stream",
          "name": "stdout",
          "text": [
            "313/313 [==============================] - 1s 4ms/step - loss: 66.8768 - accuracy: 0.8223\n",
            "Perda do teste 9 : 66.87684631347656\n",
            "Acurácia do teste 9: 0.8223000168800354\n"
          ]
        }
      ]
    },
    {
      "cell_type": "code",
      "metadata": {
        "id": "FLbdazHrT7Qa"
      },
      "source": [
        "#lista com as perdas e acurácias\n",
        "perdas_exp3 = [perda_teste7, perda_teste8 , perda_teste9]\n",
        "acuracias_exp3 = [acuracia_teste7, acuracia_teste8, acuracia_teste9]"
      ],
      "execution_count": 49,
      "outputs": []
    },
    {
      "cell_type": "code",
      "metadata": {
        "id": "q1UolgodUT5c"
      },
      "source": [
        "#transformando as listas em arrays numpy\n",
        "perdas_exp3 = np.array(perdas_exp3)\n",
        "acuracias_exp3 = np.array(acuracias_exp3)"
      ],
      "execution_count": 50,
      "outputs": []
    },
    {
      "cell_type": "code",
      "metadata": {
        "colab": {
          "base_uri": "https://localhost:8080/"
        },
        "id": "OHx8uARPUW6q",
        "outputId": "410acf80-90a0-4163-f648-7cdda5c72ab6"
      },
      "source": [
        "print('Perda Média dos testes:', np.mean(perdas_exp3))\n",
        "print('Acurácia Média dos testes:', np.mean(acuracias_exp3))"
      ],
      "execution_count": 51,
      "outputs": [
        {
          "output_type": "stream",
          "name": "stdout",
          "text": [
            "Perda Média dos testes: 62.81784184773763\n",
            "Acurácia Média dos testes: 0.8269000053405762\n"
          ]
        }
      ]
    },
    {
      "cell_type": "code",
      "metadata": {
        "colab": {
          "base_uri": "https://localhost:8080/"
        },
        "id": "i3eoNCb7UZxK",
        "outputId": "5a22f088-79c3-4dfe-90b3-cf9282d851c1"
      },
      "source": [
        "print('desvio padrão da Perda dos testes:', np.std(perdas_exp3))\n",
        "print('desvio padrão da acurácia dos testes:',np.std(acuracias_exp3))"
      ],
      "execution_count": 52,
      "outputs": [
        {
          "output_type": "stream",
          "name": "stdout",
          "text": [
            "desvio padrão da Perda dos testes: 3.521440268576395\n",
            "desvio padrão da acurácia dos testes: 0.004495179362760457\n"
          ]
        }
      ]
    },
    {
      "cell_type": "markdown",
      "metadata": {
        "id": "ZxawnbJ6qOIW"
      },
      "source": [
        "#Avaliando a média e Desvios para todos os experimentos"
      ]
    },
    {
      "cell_type": "code",
      "metadata": {
        "id": "dzOxRQ8Zpbvp"
      },
      "source": [
        "perdas  = [perda_teste1, perda_teste2, perda_teste3, perda_teste4, perda_teste5 , perda_teste6, perda_teste7, perda_teste8, perda_teste9 ]\n",
        "acuracias = [acuracia_teste1, acuracia_teste2, acuracia_teste3 , acuracia_teste4, acuracia_teste5, acuracia_teste6, acuracia_teste7, acuracia_teste8 , acuracia_teste9 ] "
      ],
      "execution_count": 53,
      "outputs": []
    },
    {
      "cell_type": "code",
      "metadata": {
        "id": "yFSzhDY3qBov"
      },
      "source": [
        "perdas = np.array(perdas)\n",
        "acuracias = np.array(acuracias)"
      ],
      "execution_count": 54,
      "outputs": []
    },
    {
      "cell_type": "code",
      "metadata": {
        "colab": {
          "base_uri": "https://localhost:8080/"
        },
        "id": "emWQyfu-qJjO",
        "outputId": "32dd78f7-4ddb-4997-8fa1-1a67196a0e9f"
      },
      "source": [
        "print('Perda Média dos testes:', np.mean(perdas))\n",
        "print('Acurácia Média dos testes:', np.mean(acuracias))"
      ],
      "execution_count": 55,
      "outputs": [
        {
          "output_type": "stream",
          "name": "stdout",
          "text": [
            "Perda Média dos testes: 62.3710823059082\n",
            "Acurácia Média dos testes: 0.8454999923706055\n"
          ]
        }
      ]
    },
    {
      "cell_type": "code",
      "metadata": {
        "colab": {
          "base_uri": "https://localhost:8080/"
        },
        "id": "VZetafKrqZNd",
        "outputId": "a5727d89-fc3c-41ae-8338-fbf5c1307ab2"
      },
      "source": [
        "print('desvio padrão da Perda dos testes:', np.std(perdas))\n",
        "print('desvio padrão da acurácia dos testes:',np.std(acuracias))"
      ],
      "execution_count": 56,
      "outputs": [
        {
          "output_type": "stream",
          "name": "stdout",
          "text": [
            "desvio padrão da Perda dos testes: 5.942193172776376\n",
            "desvio padrão da acurácia dos testes: 0.017124699119537134\n"
          ]
        }
      ]
    },
    {
      "cell_type": "markdown",
      "metadata": {
        "id": "AEDQg_OvqnjA"
      },
      "source": [
        "#Acurácia média dos experimentos de 0.8455, bom resultado, e desvio padrão médio menor que 5%,  porém a loss média dos testes esta muito alta 62.37 com desvio médio da loss também muito alto 5.942, experimentos devem sem melhorados para obter menores desvio da loss , através da experimentação com outras funções de ativaçãoe outros otimizadores e mudança de função de perdas."
      ]
    },
    {
      "cell_type": "code",
      "metadata": {
        "colab": {
          "base_uri": "https://localhost:8080/"
        },
        "id": "53KSeCckqeO2",
        "outputId": "03c7c884-0a7d-48d0-ef7a-1ddf38e12c60"
      },
      "source": [
        "print('Perda Máxima dos testes:', np.max(perdas))\n",
        "print('Acurácia Maxima dos testes:', np.max(acuracias))"
      ],
      "execution_count": 58,
      "outputs": [
        {
          "output_type": "stream",
          "name": "stdout",
          "text": [
            "Perda Máxima dos testes: 73.99482727050781\n",
            "Acurácia Maxima dos testes: 0.8715999722480774\n"
          ]
        }
      ]
    },
    {
      "cell_type": "code",
      "metadata": {
        "colab": {
          "base_uri": "https://localhost:8080/"
        },
        "id": "BCmC2kYblYIY",
        "outputId": "e6a87765-8fb2-488f-e3bd-0fae6ab490d7"
      },
      "source": [
        "print('Perda Mínima dos testes:', np.min(perdas))\n",
        "print('Acurácia Mínima dos testes:', np.min(acuracias))"
      ],
      "execution_count": 59,
      "outputs": [
        {
          "output_type": "stream",
          "name": "stdout",
          "text": [
            "Perda Mínima dos testes: 52.038490295410156\n",
            "Acurácia Mínima dos testes: 0.8223000168800354\n"
          ]
        }
      ]
    },
    {
      "cell_type": "markdown",
      "metadata": {
        "id": "7Kym1iyElltG"
      },
      "source": [
        "# As medidas acima revelam que em nossos experimentos obtivemos a acurácia máxima de 0.87, na primeira rodada do primeiro experimento, e perda máxima de 74 na primeira rodada do segundo experimento. Também significa que necessitamos de mais experimentação para obtermos menos perdas significativas e uma maior acurácia. Como obtivemos aumento na entropia conforme implemnetavamos mais vezes os modelos, compete alterar a função em outros experimentos futuros"
      ]
    }
  ]
}