{
  "nbformat": 4,
  "nbformat_minor": 0,
  "metadata": {
    "colab": {
      "name": "Time_series_covid.ipynb",
      "private_outputs": true,
      "provenance": [],
      "collapsed_sections": []
    },
    "kernelspec": {
      "name": "python3",
      "display_name": "Python 3"
    },
    "language_info": {
      "name": "python"
    }
  },
  "cells": [
    {
      "cell_type": "code",
      "metadata": {
        "id": "UA91qkKBxcEW"
      },
      "source": [
        "import pandas as pd\n",
        "import numpy as np"
      ],
      "execution_count": null,
      "outputs": []
    },
    {
      "cell_type": "code",
      "metadata": {
        "id": "9eBBu6Q5xwWk"
      },
      "source": [
        "import matplotlib.pyplot as plt\n",
        "import seaborn as sns"
      ],
      "execution_count": null,
      "outputs": []
    },
    {
      "cell_type": "code",
      "metadata": {
        "id": "mukiPbqlx6S0"
      },
      "source": [
        "from datetime import date\n",
        "import warnings\n",
        "warnings.filterwarnings('ignore')"
      ],
      "execution_count": null,
      "outputs": []
    },
    {
      "cell_type": "code",
      "metadata": {
        "id": "Wdb-m66WyNFT"
      },
      "source": [
        "df_total = pd.read_csv('cases-brazil-states.csv')\n",
        "df_total.head()"
      ],
      "execution_count": null,
      "outputs": []
    },
    {
      "cell_type": "code",
      "metadata": {
        "id": "CMeqnlg4yp4I"
      },
      "source": [
        "df = df_total[df_total['estado'] != 'TOTAL']\n",
        "df['data'] = pd.to_datetime(df_total['data']).dt.date \n",
        "df.head()"
      ],
      "execution_count": null,
      "outputs": []
    },
    {
      "cell_type": "code",
      "metadata": {
        "id": "z0LVVxJSzQsD"
      },
      "source": [
        "plt.figure(figsize=(20,8))\n",
        "fig = sns.lineplot(x= 'data', y='Obitos', hue ='estado', data=df)\n",
        "fig.set_title('òbitos por estado em função do tempo', loc ='left', fontsize = 24)\n",
        "fig.set_xlabel('Data', fontsize = 24)\n",
        "fig.set_ylabel('Óbitos', fontsize = 24)"
      ],
      "execution_count": null,
      "outputs": []
    },
    {
      "cell_type": "code",
      "metadata": {
        "id": "QfpVMP6b2Rd1"
      },
      "source": [
        "df_sp = df[df['estado']=='SP']\n",
        "df_sp.head()"
      ],
      "execution_count": null,
      "outputs": []
    },
    {
      "cell_type": "code",
      "metadata": {
        "id": "S9fOaw5C3QLK"
      },
      "source": [
        "plt.figure(figsize=(20,8))\n",
        "fig = sns.lineplot(x= 'data', y='Obitos', data=df_sp)\n",
        "fig.set_title('òbitos por estado em função do tempo SP', loc ='left', fontsize = 24)\n",
        "fig.set_xlabel('Data', fontsize = 24)\n",
        "fig.set_ylabel('Log Óbitos', fontsize = 24)\n",
        "fig.set_yscale('log')"
      ],
      "execution_count": null,
      "outputs": []
    },
    {
      "cell_type": "code",
      "metadata": {
        "id": "8XDt0-qW4R5q"
      },
      "source": [
        "plt.figure(figsize=(20,8))\n",
        "fig = sns.lineplot(x= 'data', y='Obitos',hue ='estado', data=df)\n",
        "fig.set_title('òbitos por estado em função do tempo ', loc ='left', fontsize = 24)\n",
        "fig.set_xlabel('Data', fontsize = 24)\n",
        "fig.set_ylabel('Log Óbitos', fontsize = 24)\n",
        "fig.set_yscale('log')"
      ],
      "execution_count": null,
      "outputs": []
    },
    {
      "cell_type": "code",
      "metadata": {
        "id": "7pzIB0Zi42RE"
      },
      "source": [
        "plt.figure(figsize=(20,8))\n",
        "fig = sns.barplot(x='data',y='Obitos',hue='estado',data=df)\n",
        "fig.set_title('Óbitos por estado em função do tempo', loc='left',fontsize=24)\n",
        "fig.set_xlabel('Data',fontsize=24)\n",
        "fig.set_ylabel('Óbitos',fontsize=24)"
      ],
      "execution_count": null,
      "outputs": []
    },
    {
      "cell_type": "code",
      "metadata": {
        "id": "rFWDE9-K5VGB"
      },
      "source": [
        "df_sp.head()"
      ],
      "execution_count": null,
      "outputs": []
    },
    {
      "cell_type": "code",
      "metadata": {
        "id": "j1Z_X1z_KMpf"
      },
      "source": [
        "plt.figure(figsize=(20,8))\n",
        "fig = plt.bar(df_sp.data, df_sp.suspeitos, label = 'Suspeitos')\n",
        "plt.bar(df_sp.data, df_sp.recuperados, label = 'Recuperados')\n",
        "plt.bar(df_sp.data, df_sp.Obitos, label = 'Obitos')\n",
        "plt.xlabel('Data', fontsize =24)\n",
        "plt.ylabel('Obitos, Recuperados e Ssupeitos SP', fontsize =24, rotation=90)\n",
        "plt.legend()\n"
      ],
      "execution_count": null,
      "outputs": []
    },
    {
      "cell_type": "code",
      "metadata": {
        "id": "FHly59SBMiz0"
      },
      "source": [
        "def plotar_linha(titulo,xlabel,ylabel,x,y,dataset,hue):\n",
        "  ax =sns.lineplot(x=x,y=y, hue=hue,data=dataset)\n",
        "  ax.figure.set_size_inches(12,6)\n",
        "  ax.set_title(titulo, loc ='left', fontsize =20)\n",
        "  ax.set_xlabel(xlabel, fontsize = 20)\n",
        "  ax.set_ylabel(ylabel, fontsize = 20, rotation = 90)"
      ],
      "execution_count": null,
      "outputs": []
    },
    {
      "cell_type": "code",
      "metadata": {
        "id": "PI2WLNiHO3Lj"
      },
      "source": [
        "def plotar_barra(titulo,xlabel,ylabel,x,y,dataset):\n",
        "  plt.figure(figsize=(20,6))\n",
        "  ax= plt.bar(dataset[x], dataset[y])\n",
        "  plt.title(titulo, loc = 'left', fontsize =20)\n",
        "  plt.xlabel(xlabel, fontsize=20)\n",
        "  plt.ylabel(ylabel, fontsize = 20, rotation =90)"
      ],
      "execution_count": null,
      "outputs": []
    },
    {
      "cell_type": "code",
      "metadata": {
        "id": "rMJB9s8hP99j"
      },
      "source": [
        "plotar_barra('Novos casos SP', \"Data\", 'Novos casos', 'data', 'novosCasos', df_sp)"
      ],
      "execution_count": null,
      "outputs": []
    },
    {
      "cell_type": "code",
      "metadata": {
        "id": "PJF5sm6QQbb_"
      },
      "source": [
        "df_sp['aceleracaoCasos'] = df_sp['novosCasos'].diff()\n",
        "df_sp['aceleracaoObitos'] = df_sp['novosObitos'].diff()\n",
        "df_sp.head()"
      ],
      "execution_count": null,
      "outputs": []
    },
    {
      "cell_type": "code",
      "metadata": {
        "id": "rY4mYWT6RSyn"
      },
      "source": [
        "plotar_barra('Aceleração de Òbitos SP', 'Data', 'Aceleração' , 'data', 'aceleracaoObitos', df_sp )"
      ],
      "execution_count": null,
      "outputs": []
    },
    {
      "cell_type": "code",
      "metadata": {
        "id": "p0Spksh7SIJs"
      },
      "source": [
        "df_sp['mediaObitos'] = df_sp.novosObitos.rolling(window= 7, center =False).mean()\n",
        "df_sp['mediaObitos_14'] = df_sp.novosObitos.rolling(window= 14, center =False).mean()\n",
        "df_sp.head(14)"
      ],
      "execution_count": null,
      "outputs": []
    },
    {
      "cell_type": "code",
      "metadata": {
        "id": "faxTYZ3aT8xB"
      },
      "source": [
        "plotar_linha('Media móvel de óbitos SP', 'Data', 'Média', 'data', 'mediaObitos', df_sp, None)\n",
        "plotar_linha('Media móvel de óbitos SP', 'Data', 'Média', 'data', 'mediaObitos_14', df_sp, None)\n",
        "plt.bar(df_sp['data'], df_sp['novosObitos'], color = 'lightgrey')\n"
      ],
      "execution_count": null,
      "outputs": []
    },
    {
      "cell_type": "code",
      "metadata": {
        "id": "khcY9PtEXb-x"
      },
      "source": [
        "from pandas.plotting import autocorrelation_plot"
      ],
      "execution_count": null,
      "outputs": []
    },
    {
      "cell_type": "code",
      "metadata": {
        "id": "u6bWkkV3zOBf"
      },
      "source": [
        "ax = plt.figure(figsize=(12,6))\n",
        "ax.suptitle('Correlação de Òbitos', fontsize =18, x=0.26, y= 0.95) \n",
        "autocorrelation_plot(df_sp['Obitos'])\n",
        "ax=ax"
      ],
      "execution_count": null,
      "outputs": []
    },
    {
      "cell_type": "code",
      "metadata": {
        "id": "TVubEkiBz4E_"
      },
      "source": [
        "ax = plt.figure(figsize=(12,6))\n",
        "ax.suptitle('Correlação dos novos Obitos', fontsize =18, x=0.26, y= 0.95) \n",
        "autocorrelation_plot(df_sp['novosObitos'])\n",
        "ax=ax"
      ],
      "execution_count": null,
      "outputs": []
    },
    {
      "cell_type": "code",
      "metadata": {
        "id": "jqPuJHNH0xB3"
      },
      "source": [
        "ax = plt.figure(figsize=(12,6))\n",
        "ax.suptitle('Correlação dos novos Obitos média móvel', fontsize =18, x=0.26, y= 0.95) \n",
        "autocorrelation_plot(df_sp['mediaObitos'][7:])\n",
        "ax=ax"
      ],
      "execution_count": null,
      "outputs": []
    },
    {
      "cell_type": "code",
      "metadata": {
        "id": "BN68GnUq1jNK"
      },
      "source": [
        "ax = plt.figure(figsize=(12,6))\n",
        "ax.suptitle('Autocorrelação Òbitos', fontsize =18, x=0.26, y= 0.95) \n",
        "autocorrelation_plot(df_sp['aceleracaoObitos'][1:])\n",
        "ax=ax"
      ],
      "execution_count": null,
      "outputs": []
    },
    {
      "cell_type": "code",
      "metadata": {
        "id": "E5H_5DG593tx"
      },
      "source": [
        "df_sp['mediaAccObitos'] = df_sp['aceleracaoObitos'][1:].rolling(window=7,center=False).mean()"
      ],
      "execution_count": null,
      "outputs": []
    },
    {
      "cell_type": "code",
      "metadata": {
        "id": "fWfesNpQ-t8y"
      },
      "source": [
        "ax = plt.figure(figsize=(12,6))\n",
        "ax.suptitle('Autocorrelação da média da aceleração de óbitos',fontsize=18,x=0.26,y=0.95)\n",
        "autocorrelation_plot(df_sp['mediaAccObitos'][7:])\n",
        "ax=ax"
      ],
      "execution_count": null,
      "outputs": []
    },
    {
      "cell_type": "code",
      "metadata": {
        "id": "BZ5Y6Lfc-wCK"
      },
      "source": [
        "df_sp['mes'] = pd.to_datetime(df_sp['data'])\n",
        "df_sp['dia_da_semana'] = df_sp['mes'].dt.day_name()\n",
        "df_sp.head() "
      ],
      "execution_count": null,
      "outputs": []
    },
    {
      "cell_type": "code",
      "metadata": {
        "id": "Ar28diS4AfVU"
      },
      "source": [
        "dias_traduzidos = {'Monday': 'Segunda', 'Tuesday' : 'Terça', 'Wednesday':'Quarta', 'Thursday':'Quinta', 'Friday':'Sexta', 'Saturday':'Sábado', 'Sunday':'Domingo'}"
      ],
      "execution_count": null,
      "outputs": []
    },
    {
      "cell_type": "code",
      "metadata": {
        "id": "uxlK4OsNBsJ3"
      },
      "source": [
        "df_sp['dia_da_semana'] = df_sp['dia_da_semana'].map(dias_traduzidos)\n",
        "df_sp.head()"
      ],
      "execution_count": null,
      "outputs": []
    },
    {
      "cell_type": "code",
      "metadata": {
        "id": "j06vHfk0CNpK"
      },
      "source": [
        "agrupados_sp = df_sp.groupby('dia_da_semana')['Obitos','novosObitos','aceleracaoObitos'].mean().round()"
      ],
      "execution_count": null,
      "outputs": []
    },
    {
      "cell_type": "code",
      "metadata": {
        "id": "OS9dj_AjCyrB"
      },
      "source": [
        "agrupados_sp['dia_da_semana'] = agrupados_sp.index\n",
        "agrupados_sp.head(7)"
      ],
      "execution_count": null,
      "outputs": []
    },
    {
      "cell_type": "code",
      "metadata": {
        "id": "TJ6yO7TiDFZz"
      },
      "source": [
        "agrupados_sp = agrupados_sp.reindex(['Domingo', 'Segunda', 'Terça', 'Quarta', 'Quinta', 'Sexta', 'Sabado'])"
      ],
      "execution_count": null,
      "outputs": []
    },
    {
      "cell_type": "code",
      "metadata": {
        "id": "KUNu7k6SDlad"
      },
      "source": [
        "sns.barplot(agrupados_sp['dia_da_semana'], agrupados_sp.novosObitos)"
      ],
      "execution_count": null,
      "outputs": []
    },
    {
      "cell_type": "code",
      "metadata": {
        "id": "x5_nJ04IF4m4"
      },
      "source": [
        "def criar_features(df,label=None):\n",
        "    df = df.copy()\n",
        "    df['diasemana'] = df['mes'].dt.dayofweek\n",
        "    df['mês'] = df['mes'].dt.month\n",
        "    df['diamês'] = df['mes'].dt.day\n",
        "    df['semana'] = df['mes'].dt.weekofyear\n",
        "\n",
        "    X = df[['diasemana','mês','diamês','semana']]\n",
        "\n",
        "    if label:\n",
        "        y = df[label]\n",
        "        return X,y\n",
        "    return X"
      ],
      "execution_count": null,
      "outputs": []
    },
    {
      "cell_type": "code",
      "metadata": {
        "id": "tTF_B6BXJsqD"
      },
      "source": [
        "plt.figure(figsize=(20,8))\n",
        "g = sns.lineplot(x='semana',y='Obitos',data=df)\n",
        "\n",
        "g.axes.set_xlabel('Semana do ano',fontsize=15)\n",
        "g.axes.set_ylabel('Óbitos',fontsize=15)\n",
        "\n",
        "plt.suptitle('Óbitos por semana',fontsize=15)"
      ],
      "execution_count": null,
      "outputs": []
    },
    {
      "cell_type": "code",
      "metadata": {
        "id": "48Q_4IhrJ22o"
      },
      "source": [
        ""
      ],
      "execution_count": null,
      "outputs": []
    }
  ]
}