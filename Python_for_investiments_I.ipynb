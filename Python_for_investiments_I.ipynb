{
  "nbformat": 4,
  "nbformat_minor": 0,
  "metadata": {
    "colab": {
      "name": "Python for investiments_I.ipynb",
      "private_outputs": true,
      "provenance": [],
      "collapsed_sections": []
    },
    "kernelspec": {
      "name": "python3",
      "display_name": "Python 3"
    },
    "language_info": {
      "name": "python"
    }
  },
  "cells": [
    {
      "cell_type": "markdown",
      "source": [
        ""
      ],
      "metadata": {
        "id": "-TCVEnUo6vew"
      }
    },
    {
      "cell_type": "code",
      "execution_count": null,
      "metadata": {
        "id": "FGrfPRR_6dWS"
      },
      "outputs": [],
      "source": [
        "lista1= [1,2,3]"
      ]
    },
    {
      "cell_type": "code",
      "source": [
        "tup = (1,2,3)"
      ],
      "metadata": {
        "id": "bAsdWeJY9xw9"
      },
      "execution_count": null,
      "outputs": []
    },
    {
      "cell_type": "code",
      "source": [
        "dic = {'valor1':1, 'valor2':2}"
      ],
      "metadata": {
        "id": "ML1IiDh893ov"
      },
      "execution_count": null,
      "outputs": []
    },
    {
      "cell_type": "code",
      "source": [
        "dic['valor2']"
      ],
      "metadata": {
        "id": "4C9fwQtV-CPW"
      },
      "execution_count": null,
      "outputs": []
    },
    {
      "cell_type": "code",
      "source": [
        "! pip install yfinance"
      ],
      "metadata": {
        "id": "nYQJk3-u-KFP"
      },
      "execution_count": null,
      "outputs": []
    },
    {
      "cell_type": "code",
      "source": [
        "import datetime\n",
        "import pandas as pd\n",
        "import yfinance as y"
      ],
      "metadata": {
        "id": "_5QArRkoCZl5"
      },
      "execution_count": null,
      "outputs": []
    },
    {
      "cell_type": "code",
      "source": [
        "start  = datetime.datetime(2021,1,1)\n",
        "end = datetime.datetime(2021,7,1)"
      ],
      "metadata": {
        "id": "BNjHBDn9Cm6x"
      },
      "execution_count": null,
      "outputs": []
    },
    {
      "cell_type": "code",
      "source": [
        "ativo = 'petr4.sa'"
      ],
      "metadata": {
        "id": "GTcwBpO0C3gP"
      },
      "execution_count": null,
      "outputs": []
    },
    {
      "cell_type": "code",
      "source": [
        "ativo = y.download(ativo, start, end)"
      ],
      "metadata": {
        "id": "65fIetgwC_5_"
      },
      "execution_count": null,
      "outputs": []
    },
    {
      "cell_type": "code",
      "source": [
        "ativo"
      ],
      "metadata": {
        "id": "OEbnTNjhDPUY"
      },
      "execution_count": null,
      "outputs": []
    },
    {
      "cell_type": "code",
      "source": [
        "#criando lista para consulta\n",
        "papeis = ['petr4.sa', 'vale3.sa', 'itub4.sa']"
      ],
      "metadata": {
        "id": "iZQCYKXjDR7f"
      },
      "execution_count": null,
      "outputs": []
    },
    {
      "cell_type": "code",
      "source": [
        "df = pd.DataFrame()\n",
        "for x in papeis:\n",
        "  df[x]= y.download(x,start,end)['Close']"
      ],
      "metadata": {
        "id": "coXPh6N2D-HP"
      },
      "execution_count": null,
      "outputs": []
    },
    {
      "cell_type": "code",
      "source": [
        "df"
      ],
      "metadata": {
        "id": "zSRTQncIEac7"
      },
      "execution_count": null,
      "outputs": []
    },
    {
      "cell_type": "code",
      "source": [
        "df.info()"
      ],
      "metadata": {
        "id": "j7ttTBPSEdav"
      },
      "execution_count": null,
      "outputs": []
    },
    {
      "cell_type": "code",
      "source": [
        "df.head()"
      ],
      "metadata": {
        "id": "QYbcxhwhEkPm"
      },
      "execution_count": null,
      "outputs": []
    },
    {
      "cell_type": "code",
      "source": [
        "df.tail()"
      ],
      "metadata": {
        "id": "LUB99zLsEwNO"
      },
      "execution_count": null,
      "outputs": []
    },
    {
      "cell_type": "code",
      "source": [
        "df.describe()"
      ],
      "metadata": {
        "id": "AHdR8a_lE5-H"
      },
      "execution_count": null,
      "outputs": []
    },
    {
      "cell_type": "code",
      "source": [
        "carteira = y.download(papeis, start, end)['Close']"
      ],
      "metadata": {
        "id": "R7cqLapcE8kX"
      },
      "execution_count": null,
      "outputs": []
    },
    {
      "cell_type": "code",
      "source": [
        "petr= y.download('petr4.sa', start,end)"
      ],
      "metadata": {
        "id": "7lm9L-QMF6KR"
      },
      "execution_count": null,
      "outputs": []
    },
    {
      "cell_type": "code",
      "source": [
        "petr"
      ],
      "metadata": {
        "id": "UZXOa7dVGLjA"
      },
      "execution_count": null,
      "outputs": []
    },
    {
      "cell_type": "code",
      "source": [
        "carteira"
      ],
      "metadata": {
        "id": "OzFk7A2cGNXn"
      },
      "execution_count": null,
      "outputs": []
    },
    {
      "cell_type": "code",
      "source": [
        "carteira[['ITUB4.SA', 'PETR4.SA']]"
      ],
      "metadata": {
        "id": "d0rXdqwoHnS7"
      },
      "execution_count": null,
      "outputs": []
    },
    {
      "cell_type": "code",
      "source": [
        "carteira_filtro = carteira[(carteira.index.month ==4)]"
      ],
      "metadata": {
        "id": "iScL8ZB1H8AP"
      },
      "execution_count": null,
      "outputs": []
    },
    {
      "cell_type": "code",
      "source": [
        "carteira_filtro"
      ],
      "metadata": {
        "id": "4shbf0JJJDVg"
      },
      "execution_count": null,
      "outputs": []
    },
    {
      "cell_type": "code",
      "source": [
        "carteira_filtro_2 = carteira[(carteira.index.month ==3) & (carteira.index.month <= 7)]"
      ],
      "metadata": {
        "id": "kounqrqZJE0B"
      },
      "execution_count": null,
      "outputs": []
    },
    {
      "cell_type": "code",
      "source": [
        "carteira_filtro_2"
      ],
      "metadata": {
        "id": "gFtqZ5TNJkT_"
      },
      "execution_count": null,
      "outputs": []
    },
    {
      "cell_type": "code",
      "source": [
        "carteira_filtro_2 = carteira[(carteira.index.month ==3) & (carteira.index.month <= 7)] ['ITUB4.SA']"
      ],
      "metadata": {
        "id": "aPXRmk0jJmX3"
      },
      "execution_count": null,
      "outputs": []
    },
    {
      "cell_type": "code",
      "source": [
        "carteira_filtro_2"
      ],
      "metadata": {
        "id": "dMfWtMW2J09I"
      },
      "execution_count": null,
      "outputs": []
    },
    {
      "cell_type": "code",
      "source": [
        "carteira_filtro_3 = carteira[(carteira.index.day >=6)&( carteira.index.day <= 15) ] ['PETR4.SA']"
      ],
      "metadata": {
        "id": "mfwAKOCXJ4Nf"
      },
      "execution_count": null,
      "outputs": []
    },
    {
      "cell_type": "code",
      "source": [
        "carteira_filtro_3"
      ],
      "metadata": {
        "id": "Nqz_0uhdKLDZ"
      },
      "execution_count": null,
      "outputs": []
    },
    {
      "cell_type": "code",
      "source": [
        "papel1 = 'petr4.sa'"
      ],
      "metadata": {
        "id": "KNRboUQnRh_v"
      },
      "execution_count": null,
      "outputs": []
    },
    {
      "cell_type": "code",
      "source": [
        "papel1= y.download(papel1, start, end)"
      ],
      "metadata": {
        "id": "Zd2fMGEbKNAv"
      },
      "execution_count": null,
      "outputs": []
    },
    {
      "cell_type": "code",
      "source": [
        "papel1"
      ],
      "metadata": {
        "id": "gM88cJr2RtsP"
      },
      "execution_count": null,
      "outputs": []
    },
    {
      "cell_type": "code",
      "source": [
        "#calculando a taxa de retorno simples da 'Petr4.sa'\n",
        "papel1['Rentabilidade'] = (papel1['Adj Close']/ papel1['Adj Close'].shift(1)-1)*100"
      ],
      "metadata": {
        "id": "SJRT6VpBRyyO"
      },
      "execution_count": null,
      "outputs": []
    },
    {
      "cell_type": "code",
      "source": [
        "papel1"
      ],
      "metadata": {
        "id": "tpOUNJCCSurr"
      },
      "execution_count": null,
      "outputs": []
    },
    {
      "cell_type": "code",
      "source": [
        "papel1['Rentabilidade'].head(30)"
      ],
      "metadata": {
        "id": "8VeN3STdTC22"
      },
      "execution_count": null,
      "outputs": []
    },
    {
      "cell_type": "code",
      "source": [
        "papel1['Ren'] = papel1['Adj Close'].pct_change() * 100"
      ],
      "metadata": {
        "id": "X2vHmmHhTQUu"
      },
      "execution_count": null,
      "outputs": []
    },
    {
      "cell_type": "code",
      "source": [
        "papel1"
      ],
      "metadata": {
        "id": "3BJHa2d_TvN-"
      },
      "execution_count": null,
      "outputs": []
    },
    {
      "cell_type": "code",
      "source": [
        "import matplotlib.pyplot as plt\n",
        "%matplotlib inline"
      ],
      "metadata": {
        "id": "ZbpfBa9cT32m"
      },
      "execution_count": null,
      "outputs": []
    },
    {
      "cell_type": "code",
      "source": [
        "start = datetime.datetime(2020,1,1)\n",
        "end = datetime.datetime(2021,1,1)"
      ],
      "metadata": {
        "id": "p2z2DqdSWCTP"
      },
      "execution_count": null,
      "outputs": []
    },
    {
      "cell_type": "code",
      "source": [
        "papel2 = 'petr4.sa'"
      ],
      "metadata": {
        "id": "kKfacOgPWWZO"
      },
      "execution_count": null,
      "outputs": []
    },
    {
      "cell_type": "code",
      "source": [
        "papel2 = y.download(papel2,start,end)"
      ],
      "metadata": {
        "id": "iMqqV2SdWZgl"
      },
      "execution_count": null,
      "outputs": []
    },
    {
      "cell_type": "code",
      "source": [
        "papel2"
      ],
      "metadata": {
        "id": "pt7MDKWzWexG"
      },
      "execution_count": null,
      "outputs": []
    },
    {
      "cell_type": "code",
      "source": [
        "papel2['Retorno']= papel2['Adj Close'].pct_change() * 100"
      ],
      "metadata": {
        "id": "PE42oOEoWkP_"
      },
      "execution_count": null,
      "outputs": []
    },
    {
      "cell_type": "code",
      "source": [
        "papel2"
      ],
      "metadata": {
        "id": "QbLZuPLyWyv-"
      },
      "execution_count": null,
      "outputs": []
    },
    {
      "cell_type": "code",
      "source": [
        "papel2['Retorno'].max()"
      ],
      "metadata": {
        "id": "-C8UCuAMW0NO"
      },
      "execution_count": null,
      "outputs": []
    },
    {
      "cell_type": "code",
      "source": [
        "papel2[papel2['Retorno'] ==papel2['Retorno'].max()]"
      ],
      "metadata": {
        "id": "INu5SUARXBFv"
      },
      "execution_count": null,
      "outputs": []
    },
    {
      "cell_type": "code",
      "source": [
        "papel2['Retorno'].min()"
      ],
      "metadata": {
        "id": "NmDljzypX3Lw"
      },
      "execution_count": null,
      "outputs": []
    },
    {
      "cell_type": "code",
      "source": [
        "papel2[papel2['Retorno'] ==papel2['Retorno'].min()]"
      ],
      "metadata": {
        "id": "DIGxh7IxXiXf"
      },
      "execution_count": null,
      "outputs": []
    },
    {
      "cell_type": "code",
      "source": [
        "round(papel2['Retorno'].mean() * 250,2)"
      ],
      "metadata": {
        "id": "jRfY3_4zX7ls"
      },
      "execution_count": null,
      "outputs": []
    },
    {
      "cell_type": "code",
      "source": [
        "papel2['Retorno'].plot(figsize= (10,5))"
      ],
      "metadata": {
        "id": "B1f6NkSWZGEr"
      },
      "execution_count": null,
      "outputs": []
    },
    {
      "cell_type": "code",
      "source": [
        "papel2['Adj Close'].plot(figsize = (10,5))"
      ],
      "metadata": {
        "id": "A99I_QzAZYBW"
      },
      "execution_count": null,
      "outputs": []
    },
    {
      "cell_type": "code",
      "source": [
        "import numpy as np"
      ],
      "metadata": {
        "id": "q7jqVbywaWAy"
      },
      "execution_count": null,
      "outputs": []
    },
    {
      "cell_type": "code",
      "source": [
        "papel2['Retorno_Log'] = np.log(papel2['Adj Close']/ papel2['Adj Close'].shift(1)) *100"
      ],
      "metadata": {
        "id": "5cFYDSsfw8Ji"
      },
      "execution_count": null,
      "outputs": []
    },
    {
      "cell_type": "code",
      "source": [
        "papel2"
      ],
      "metadata": {
        "id": "0vBL2jvmxz2M"
      },
      "execution_count": null,
      "outputs": []
    },
    {
      "cell_type": "code",
      "source": [
        "papel2['Retorno_Log'].max()"
      ],
      "metadata": {
        "id": "Uc2e3NzJyBVC"
      },
      "execution_count": null,
      "outputs": []
    },
    {
      "cell_type": "code",
      "source": [
        "papel2[papel2['Retorno_Log']== papel2['Retorno_Log'].max()]"
      ],
      "metadata": {
        "id": "eHvv0k0HyRoA"
      },
      "execution_count": null,
      "outputs": []
    },
    {
      "cell_type": "code",
      "source": [
        "papel2['Retorno_Log'].min()"
      ],
      "metadata": {
        "id": "vFzaHeSkyf6x"
      },
      "execution_count": null,
      "outputs": []
    },
    {
      "cell_type": "code",
      "source": [
        "papel2[papel2['Retorno_Log']== papel2['Retorno_Log'].min()]"
      ],
      "metadata": {
        "id": "FcIIn-biykNb"
      },
      "execution_count": null,
      "outputs": []
    },
    {
      "cell_type": "code",
      "source": [
        "round(papel2['Retorno_Log'].mean() * 250, 2)"
      ],
      "metadata": {
        "id": "RmDSSZ_4ynnT"
      },
      "execution_count": null,
      "outputs": []
    },
    {
      "cell_type": "code",
      "source": [
        "papel2['Retorno_Log'].plot(figsize=(10,8))"
      ],
      "metadata": {
        "id": "FkaDRKQsyymx"
      },
      "execution_count": null,
      "outputs": []
    },
    {
      "cell_type": "code",
      "source": [
        "papeis = ['petr4.sa', 'VALE3.SA', 'ITUB4.SA', 'BPAC11.SA']"
      ],
      "metadata": {
        "id": "tOykRui-y9yh"
      },
      "execution_count": null,
      "outputs": []
    },
    {
      "cell_type": "code",
      "source": [
        "carteira = y.download(papeis, start, end)['Adj Close']"
      ],
      "metadata": {
        "id": "hqPmC0OXz9jZ"
      },
      "execution_count": null,
      "outputs": []
    },
    {
      "cell_type": "code",
      "source": [
        "carteira"
      ],
      "metadata": {
        "id": "lF4rL_xl0IXb"
      },
      "execution_count": null,
      "outputs": []
    },
    {
      "cell_type": "code",
      "source": [
        "carteira.plot(figsize=(10,8))"
      ],
      "metadata": {
        "id": "hxDuKV7G0KbA"
      },
      "execution_count": null,
      "outputs": []
    },
    {
      "cell_type": "code",
      "source": [
        "(carteira /carteira.iloc[0]).plot(figsize=(10,8))"
      ],
      "metadata": {
        "id": "cbNhosW80Zws"
      },
      "execution_count": null,
      "outputs": []
    },
    {
      "cell_type": "code",
      "source": [
        "rentabilidade = carteira.pct_change() * 100"
      ],
      "metadata": {
        "id": "Eee77JgV01K0"
      },
      "execution_count": null,
      "outputs": []
    },
    {
      "cell_type": "code",
      "source": [
        "rentabilidade_anual = rentabilidade.mean() * 250"
      ],
      "metadata": {
        "id": "Kw7qQaWH1QfB"
      },
      "execution_count": null,
      "outputs": []
    },
    {
      "cell_type": "code",
      "source": [
        "rentabilidade_anual"
      ],
      "metadata": {
        "id": "GhFLrNYB1aeq"
      },
      "execution_count": null,
      "outputs": []
    },
    {
      "cell_type": "code",
      "source": [
        "peso = np.array([0.25,0.25, 0.25, 0.25])"
      ],
      "metadata": {
        "id": "0ZId049W1d6k"
      },
      "execution_count": null,
      "outputs": []
    },
    {
      "cell_type": "code",
      "source": [
        "rentabilidade_carteira = np.dot(rentabilidade_anual, peso)"
      ],
      "metadata": {
        "id": "H3G1KRl01xrJ"
      },
      "execution_count": null,
      "outputs": []
    },
    {
      "cell_type": "code",
      "source": [
        "round(rentabilidade_carteira,2)"
      ],
      "metadata": {
        "id": "VDC3f88I2EIp"
      },
      "execution_count": null,
      "outputs": []
    },
    {
      "cell_type": "code",
      "source": [
        "peso = np.array([0.05,0.25, 0.25, 0.45])"
      ],
      "metadata": {
        "id": "QTWjQoAb2GTj"
      },
      "execution_count": null,
      "outputs": []
    },
    {
      "cell_type": "code",
      "source": [
        "rentabilidade_carteira = np.dot(rentabilidade_anual, peso)"
      ],
      "metadata": {
        "id": "EyzSoCDT2i8x"
      },
      "execution_count": null,
      "outputs": []
    },
    {
      "cell_type": "code",
      "source": [
        "round(rentabilidade_carteira,2)"
      ],
      "metadata": {
        "id": "gZWavXey2k24"
      },
      "execution_count": null,
      "outputs": []
    },
    {
      "cell_type": "code",
      "source": [
        "ibov = y.download('^bvsp',start, end)['Adj Close']"
      ],
      "metadata": {
        "id": "M70Q0vGo2mVx"
      },
      "execution_count": null,
      "outputs": []
    },
    {
      "cell_type": "code",
      "source": [
        "(carteira /carteira.iloc[0]).plot(figsize=(13,8))\n",
        "(ibov/ ibov.iloc[0]).plot(label = 'IBOV').legend()"
      ],
      "metadata": {
        "id": "MrDX6WIWwbvp"
      },
      "execution_count": null,
      "outputs": []
    },
    {
      "cell_type": "code",
      "source": [
        "retorno_carteira = (carteira.pct_change().mean() * 250)* 100"
      ],
      "metadata": {
        "id": "lXb4KSTsw3Gm"
      },
      "execution_count": null,
      "outputs": []
    },
    {
      "cell_type": "code",
      "source": [
        "retorno_carteira"
      ],
      "metadata": {
        "id": "X4VtrSjexUum"
      },
      "execution_count": null,
      "outputs": []
    },
    {
      "cell_type": "code",
      "source": [
        "retorno_ibov = (ibov.pct_change().mean() * 250) *100"
      ],
      "metadata": {
        "id": "NBGUj0UzxdMP"
      },
      "execution_count": null,
      "outputs": []
    },
    {
      "cell_type": "code",
      "source": [
        "retorno_ibov"
      ],
      "metadata": {
        "id": "E2T2EviBxsTb"
      },
      "execution_count": null,
      "outputs": []
    },
    {
      "cell_type": "code",
      "source": [
        "peso = np.array([0.25,0.25,0.25,0.25])"
      ],
      "metadata": {
        "id": "-dlsFnpnxwcA"
      },
      "execution_count": null,
      "outputs": []
    },
    {
      "cell_type": "code",
      "source": [
        "retorno_geral_carteira = np.dot(retorno_carteira, peso)\n",
        "retorno_geral_carteira"
      ],
      "metadata": {
        "id": "ikmkYDjax5lh"
      },
      "execution_count": null,
      "outputs": []
    },
    {
      "cell_type": "code",
      "source": [
        "dif = retorno_geral_carteira-retorno_ibov\n",
        "print(dif)"
      ],
      "metadata": {
        "id": "EQiXxOfkyEyw"
      },
      "execution_count": null,
      "outputs": []
    },
    {
      "cell_type": "code",
      "source": [
        "papeis4 = ['petr4.sa', 'VALE3.SA']"
      ],
      "metadata": {
        "id": "0ifjYiuEyeRu"
      },
      "execution_count": null,
      "outputs": []
    },
    {
      "cell_type": "code",
      "source": [
        "carteira = y.download(papeis4,start,end)['Adj Close']"
      ],
      "metadata": {
        "id": "CVMYnNioi8u7"
      },
      "execution_count": null,
      "outputs": []
    },
    {
      "cell_type": "code",
      "source": [
        "retorno = np.log(carteira/ carteira.shift(1)) * 100"
      ],
      "metadata": {
        "id": "7pSP5Nc7jITj"
      },
      "execution_count": null,
      "outputs": []
    },
    {
      "cell_type": "code",
      "source": [
        "retorno_a_petr = retorno ['PETR4.SA'].mean() * 250\n",
        "retorno_a_petr"
      ],
      "metadata": {
        "id": "4eG1PhQRjpbU"
      },
      "execution_count": null,
      "outputs": []
    },
    {
      "cell_type": "code",
      "source": [
        "retorno_a_vale = retorno ['VALE3.SA'].mean() * 250\n",
        "retorno_a_vale"
      ],
      "metadata": {
        "id": "RfwwREEvkTcH"
      },
      "execution_count": null,
      "outputs": []
    },
    {
      "cell_type": "code",
      "source": [
        "risco_petr = retorno['PETR4.SA'].std() * 250 ** 0.5\n",
        "risco_petr"
      ],
      "metadata": {
        "id": "sX2TtroxkgSi"
      },
      "execution_count": null,
      "outputs": []
    },
    {
      "cell_type": "code",
      "source": [
        "risco_vale = retorno['VALE3.SA'].std() * 250 ** 0.5\n",
        "risco_vale"
      ],
      "metadata": {
        "id": "YxVmMfzvlG80"
      },
      "execution_count": null,
      "outputs": []
    },
    {
      "cell_type": "code",
      "source": [
        "papeis5 = ['PETR4.SA','AZUL4.SA']"
      ],
      "metadata": {
        "id": "7gQtSNsmlU6i"
      },
      "execution_count": null,
      "outputs": []
    },
    {
      "cell_type": "code",
      "source": [
        "carteira = y.download(papeis5, start,end)['Adj Close']"
      ],
      "metadata": {
        "id": "aQYBWFhLpTGQ"
      },
      "execution_count": null,
      "outputs": []
    },
    {
      "cell_type": "code",
      "source": [
        "carteira.corr()"
      ],
      "metadata": {
        "id": "NQD-DwO2pcOz"
      },
      "execution_count": null,
      "outputs": []
    },
    {
      "cell_type": "code",
      "source": [
        "carteira['AZUL4.SA'].rolling(30).corr(carteira['PETR4.SA']).plot(figsize = (13,5))"
      ],
      "metadata": {
        "id": "nuEUTeWjpgSb"
      },
      "execution_count": null,
      "outputs": []
    },
    {
      "cell_type": "code",
      "source": [
        "carteira = y.download(papeis4,start,end)['Adj Close']"
      ],
      "metadata": {
        "id": "MUNKYcVmqgMA"
      },
      "execution_count": null,
      "outputs": []
    },
    {
      "cell_type": "code",
      "source": [
        "carteira.info()"
      ],
      "metadata": {
        "id": "dgVr8WLEtd4w"
      },
      "execution_count": null,
      "outputs": []
    },
    {
      "cell_type": "code",
      "source": [
        "retorno = carteira.pct_change() * 100"
      ],
      "metadata": {
        "id": "cM7pZA4xtgSn"
      },
      "execution_count": null,
      "outputs": []
    },
    {
      "cell_type": "code",
      "source": [
        "peso = np.array([0.50,0.50])"
      ],
      "metadata": {
        "id": "U8NLjYG0txkU"
      },
      "execution_count": null,
      "outputs": []
    },
    {
      "cell_type": "code",
      "source": [
        "risco = (np.dot(peso.T,np.dot(retorno.cov()* 250, peso))) ** 0.5\n",
        "risco"
      ],
      "metadata": {
        "id": "17QOFjzDt9Yt"
      },
      "execution_count": null,
      "outputs": []
    },
    {
      "cell_type": "code",
      "source": [
        "start = datetime.datetime(2018,1,1)\n",
        "end = datetime.datetime(2021,1,1)"
      ],
      "metadata": {
        "id": "Bbk2XpqHuWRN"
      },
      "execution_count": null,
      "outputs": []
    },
    {
      "cell_type": "code",
      "source": [
        "petr = y.download('petr4.sa', start, end)\n",
        "vale = y.download('vale3.sa', start, end)\n",
        "itub = y.download('itub4.sa', start, end)\n",
        "wege = y.download('wege3.sa', start, end)\n",
        "ibov = y.download('^bvsp', start, end)"
      ],
      "metadata": {
        "id": "BDpYwofGl8Xz"
      },
      "execution_count": null,
      "outputs": []
    },
    {
      "cell_type": "code",
      "source": [
        "# retorno normalizado\n",
        "for papeis in (petr,vale,itub,wege):\n",
        "  papeis['Retorno Normalizado'] = papeis['Adj Close']/ papeis['Adj Close'].iloc[0]"
      ],
      "metadata": {
        "id": "CmdLFKrAmchF"
      },
      "execution_count": null,
      "outputs": []
    },
    {
      "cell_type": "code",
      "source": [
        "# Capital Inicial R$ 10.000,00,25% para cada ação\n",
        "for papeis, peso in zip((petr,vale,itub,wege), [0.25,0.25,0.25, 0.25]):\n",
        "  papeis['Alocacao'] = papeis['Retorno Normalizado'] * peso"
      ],
      "metadata": {
        "id": "_dbeAJrqnF-7"
      },
      "execution_count": null,
      "outputs": []
    },
    {
      "cell_type": "code",
      "source": [
        "# Valor de patrimonio por papel\n",
        "for papeis in (petr,vale,itub,wege):\n",
        "  papeis ['Valor Posição'] = papeis['Alocacao'] * 10000"
      ],
      "metadata": {
        "id": "QgAtrR2Wn7yQ"
      },
      "execution_count": null,
      "outputs": []
    },
    {
      "cell_type": "code",
      "source": [
        "petr"
      ],
      "metadata": {
        "id": "DpPo84Run9m7"
      },
      "execution_count": null,
      "outputs": []
    },
    {
      "cell_type": "code",
      "source": [
        "valor_posicoes = [petr[\"Valor Posição\"], vale['Valor Posição'],itub['Valor Posição'], wege['Valor Posição']]\n",
        "valor_carteira = pd.concat(valor_posicoes, axis = 1)"
      ],
      "metadata": {
        "id": "NlG9036bonKV"
      },
      "execution_count": null,
      "outputs": []
    },
    {
      "cell_type": "code",
      "source": [
        "valor_carteira"
      ],
      "metadata": {
        "id": "Qqj5akYPppa5"
      },
      "execution_count": null,
      "outputs": []
    },
    {
      "cell_type": "code",
      "source": [
        "#Renomear colunas\n",
        "valor_carteira.columns = ['Petr', 'Vale', 'Itau', 'Wege']\n",
        "valor_carteira\n"
      ],
      "metadata": {
        "id": "f0W9NUKNp3Nz"
      },
      "execution_count": null,
      "outputs": []
    },
    {
      "cell_type": "code",
      "source": [
        "valor_carteira[ 'Total Financeiro']  = valor_carteira.sum(axis = 1)\n",
        "valor_carteira"
      ],
      "metadata": {
        "id": "G2MK1N-tqIyD"
      },
      "execution_count": null,
      "outputs": []
    },
    {
      "cell_type": "code",
      "source": [
        "(valor_carteira['Total Financeiro']/ valor_carteira['Total Financeiro'].iloc[0]).plot(figsize = (13,8), label = 'Carteira')\n",
        "(ibov['Adj Close']/ ibov['Adj Close'].iloc[0]).plot(label = 'IBOV').legend()"
      ],
      "metadata": {
        "id": "-ZiaY40HqeXN"
      },
      "execution_count": null,
      "outputs": []
    },
    {
      "cell_type": "code",
      "source": [
        "(valor_carteira/valor_carteira.iloc[0]).plot(figsize = (13,8))"
      ],
      "metadata": {
        "id": "W0Rfn0VXrxO1"
      },
      "execution_count": null,
      "outputs": []
    },
    {
      "cell_type": "code",
      "source": [
        ""
      ],
      "metadata": {
        "id": "NvzLmMy9tKIX"
      },
      "execution_count": null,
      "outputs": []
    }
  ]
}