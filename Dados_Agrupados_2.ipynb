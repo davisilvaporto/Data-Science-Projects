{
  "nbformat": 4,
  "nbformat_minor": 0,
  "metadata": {
    "colab": {
      "name": "Dados Agrupados_2.ipynb",
      "provenance": [],
      "collapsed_sections": []
    },
    "kernelspec": {
      "name": "python3",
      "display_name": "Python 3"
    }
  },
  "cells": [
    {
      "cell_type": "markdown",
      "metadata": {
        "id": "AxGScXlpOd6x"
      },
      "source": [
        "# Distribuição de frequência"
      ]
    },
    {
      "cell_type": "markdown",
      "metadata": {
        "id": "VhdSvqcE8vNK"
      },
      "source": [
        "## Importação das bibliotecas e dados originais"
      ]
    },
    {
      "cell_type": "code",
      "metadata": {
        "id": "TJigF1mqyBDN"
      },
      "source": [
        "import numpy as np\n",
        "import matplotlib.pyplot as plt\n",
        "import pandas as pd\n",
        "import seaborn as sns"
      ],
      "execution_count": null,
      "outputs": []
    },
    {
      "cell_type": "code",
      "metadata": {
        "id": "R-6MeWTqyS7W"
      },
      "source": [
        "dados = np.array([2.01, 2.08, 1.96, 3.04, 2.01, 3.18, 1.94, 2.19, 2.24, 2.18, 2.59, 1.96, 2.29, 3.18, 2.09, 1.96, 2.06, 2.18, 2.05, 2.04, 2.43, 1.56, 1.94, 3.15, 2.35, 2.08, 2.56, 2.17, 1.96, 1.59, 2.22, 2.34, 2.24, 1.95, 2.01, 3.12, 3.03, 3.12, 2.04, 1.66, 1.87, 2.49, 3.12, 2.24, 1.76, 3.20, 2.38, 1.58, 1.89, 1.98, 1.89, 1.71, 2.42, 1.62, 1.97, 2.18, 1.69, 3.14, 2.18, 3.06, 2.40, 1.96, 3.01, 2.19, 2.25, 1.45, 1.93, 2.06, 1.83, 1.84, 1.91, 2.11, 1.78, 2.36, 2.33, 3.17, 2.03, 1.87, 3.11, 2.17, 1.72, 1.62, 1.99, 1.64, 1.54, 2.26, 1.86, 2.09, 1.74, 1.92, 2.36, 1.82, 2.02, 2.25, 1.75, 3.15, 3.18, 1.99, 1.76, 2.51])"
      ],
      "execution_count": null,
      "outputs": []
    },
    {
      "cell_type": "markdown",
      "metadata": {
        "id": "C5B5jbd9O7UR"
      },
      "source": [
        "## Ordenação"
      ]
    },
    {
      "cell_type": "code",
      "metadata": {
        "id": "VVdp28LfyewS"
      },
      "source": [
        "dados = np.sort(dados)"
      ],
      "execution_count": null,
      "outputs": []
    },
    {
      "cell_type": "code",
      "metadata": {
        "id": "ZKA8JTFPynby",
        "colab": {
          "base_uri": "https://localhost:8080/"
        },
        "outputId": "d7239cf2-4026-4aea-8836-033a251d3394"
      },
      "source": [
        "dados"
      ],
      "execution_count": null,
      "outputs": [
        {
          "output_type": "execute_result",
          "data": {
            "text/plain": [
              "array([1.45, 1.54, 1.56, 1.58, 1.59, 1.62, 1.62, 1.64, 1.66, 1.69, 1.71,\n",
              "       1.72, 1.74, 1.75, 1.76, 1.76, 1.78, 1.82, 1.83, 1.84, 1.86, 1.87,\n",
              "       1.87, 1.89, 1.89, 1.91, 1.92, 1.93, 1.94, 1.94, 1.95, 1.96, 1.96,\n",
              "       1.96, 1.96, 1.96, 1.97, 1.98, 1.99, 1.99, 2.01, 2.01, 2.01, 2.02,\n",
              "       2.03, 2.04, 2.04, 2.05, 2.06, 2.06, 2.08, 2.08, 2.09, 2.09, 2.11,\n",
              "       2.17, 2.17, 2.18, 2.18, 2.18, 2.18, 2.19, 2.19, 2.22, 2.24, 2.24,\n",
              "       2.24, 2.25, 2.25, 2.26, 2.29, 2.33, 2.34, 2.35, 2.36, 2.36, 2.38,\n",
              "       2.4 , 2.42, 2.43, 2.49, 2.51, 2.56, 2.59, 3.01, 3.03, 3.04, 3.06,\n",
              "       3.11, 3.12, 3.12, 3.12, 3.14, 3.15, 3.15, 3.17, 3.18, 3.18, 3.18,\n",
              "       3.2 ])"
            ]
          },
          "metadata": {},
          "execution_count": 4
        }
      ]
    },
    {
      "cell_type": "code",
      "metadata": {
        "id": "0IXxiAYMysqO",
        "colab": {
          "base_uri": "https://localhost:8080/"
        },
        "outputId": "4f05e7d0-89ba-4e26-8571-6331238c45bb"
      },
      "source": [
        "minimo = dados.min()\n",
        "minimo"
      ],
      "execution_count": null,
      "outputs": [
        {
          "output_type": "execute_result",
          "data": {
            "text/plain": [
              "1.45"
            ]
          },
          "metadata": {},
          "execution_count": 5
        }
      ]
    },
    {
      "cell_type": "code",
      "metadata": {
        "id": "9bv3fp0UyxEI",
        "colab": {
          "base_uri": "https://localhost:8080/"
        },
        "outputId": "9affdd81-5b25-459a-9592-9e7835ea64e9"
      },
      "source": [
        "maximo = dados.max()\n",
        "maximo"
      ],
      "execution_count": null,
      "outputs": [
        {
          "output_type": "execute_result",
          "data": {
            "text/plain": [
              "3.2"
            ]
          },
          "metadata": {},
          "execution_count": 6
        }
      ]
    },
    {
      "cell_type": "code",
      "metadata": {
        "id": "lCFNpLOLy0j9",
        "colab": {
          "base_uri": "https://localhost:8080/"
        },
        "outputId": "2257be4d-fc93-470b-f69e-0de116bb60e7"
      },
      "source": [
        "np.unique(dados, return_counts=True)"
      ],
      "execution_count": null,
      "outputs": [
        {
          "output_type": "execute_result",
          "data": {
            "text/plain": [
              "(array([1.45, 1.54, 1.56, 1.58, 1.59, 1.62, 1.64, 1.66, 1.69, 1.71, 1.72,\n",
              "        1.74, 1.75, 1.76, 1.78, 1.82, 1.83, 1.84, 1.86, 1.87, 1.89, 1.91,\n",
              "        1.92, 1.93, 1.94, 1.95, 1.96, 1.97, 1.98, 1.99, 2.01, 2.02, 2.03,\n",
              "        2.04, 2.05, 2.06, 2.08, 2.09, 2.11, 2.17, 2.18, 2.19, 2.22, 2.24,\n",
              "        2.25, 2.26, 2.29, 2.33, 2.34, 2.35, 2.36, 2.38, 2.4 , 2.42, 2.43,\n",
              "        2.49, 2.51, 2.56, 2.59, 3.01, 3.03, 3.04, 3.06, 3.11, 3.12, 3.14,\n",
              "        3.15, 3.17, 3.18, 3.2 ]),\n",
              " array([1, 1, 1, 1, 1, 2, 1, 1, 1, 1, 1, 1, 1, 2, 1, 1, 1, 1, 1, 2, 2, 1,\n",
              "        1, 1, 2, 1, 5, 1, 1, 2, 3, 1, 1, 2, 1, 2, 2, 2, 1, 2, 4, 2, 1, 3,\n",
              "        2, 1, 1, 1, 1, 1, 2, 1, 1, 1, 1, 1, 1, 1, 1, 1, 1, 1, 1, 1, 3, 1,\n",
              "        2, 1, 3, 1]))"
            ]
          },
          "metadata": {},
          "execution_count": 7
        }
      ]
    },
    {
      "cell_type": "code",
      "metadata": {
        "colab": {
          "base_uri": "https://localhost:8080/"
        },
        "id": "UY3-Tbq8lNx-",
        "outputId": "c1238f18-a3a0-4a50-cb01-3069a9c1217c"
      },
      "source": [
        "np.mean(dados)"
      ],
      "execution_count": null,
      "outputs": [
        {
          "output_type": "execute_result",
          "data": {
            "text/plain": [
              "2.2005"
            ]
          },
          "metadata": {},
          "execution_count": 6
        }
      ]
    },
    {
      "cell_type": "code",
      "metadata": {
        "colab": {
          "base_uri": "https://localhost:8080/"
        },
        "id": "W4gTHdePlTPR",
        "outputId": "a69f090d-716b-487a-d887-cd470af5394f"
      },
      "source": [
        "np.std(dados)"
      ],
      "execution_count": null,
      "outputs": [
        {
          "output_type": "execute_result",
          "data": {
            "text/plain": [
              "0.4666977073009895"
            ]
          },
          "metadata": {},
          "execution_count": 7
        }
      ]
    },
    {
      "cell_type": "code",
      "metadata": {
        "colab": {
          "base_uri": "https://localhost:8080/",
          "height": 282
        },
        "id": "Rs5CXkbjfX7x",
        "outputId": "dc165264-0213-4aca-8476-f75cb5b5e293"
      },
      "source": [
        "plt.plot([1.45, 1.54, 1.56, 1.58, 1.59, 1.62, 1.64, 1.66, 1.69, 1.71, 1.72,\n",
        "        1.74, 1.75, 1.76, 1.78, 1.82, 1.83, 1.84, 1.86, 1.87, 1.89, 1.91,\n",
        "        1.92, 1.93, 1.94, 1.95, 1.96, 1.97, 1.98, 1.99, 2.01, 2.02, 2.03,\n",
        "        2.04, 2.05, 2.06, 2.08, 2.09, 2.11, 2.17, 2.18, 2.19, 2.22, 2.24,\n",
        "        2.25, 2.26, 2.29, 2.33, 2.34, 2.35, 2.36, 2.38, 2.4 , 2.42, 2.43,\n",
        "        2.49, 2.51, 2.56, 2.59, 3.01, 3.03, 3.04, 3.06, 3.11, 3.12, 3.14,\n",
        "        3.15, 3.17, 3.18, 3.2 ],[1, 1, 1, 1, 1, 2, 1, 1, 1, 1, 1, 1, 1, 2, 1, 1, 1, 1, 1, 2, 2, 1,\n",
        "        1, 1, 2, 1, 5, 1, 1, 2, 3, 1, 1, 2, 1, 2, 2, 2, 1, 2, 4, 2, 1, 3,\n",
        "        2, 1, 1, 1, 1, 1, 2, 1, 1, 1, 1, 1, 1, 1, 1, 1, 1, 1, 1, 1, 3, 1,\n",
        "        2, 1, 3, 1] )"
      ],
      "execution_count": null,
      "outputs": [
        {
          "output_type": "execute_result",
          "data": {
            "text/plain": [
              "[<matplotlib.lines.Line2D at 0x7fe9b1010b10>]"
            ]
          },
          "metadata": {},
          "execution_count": 41
        },
        {
          "output_type": "display_data",
          "data": {
            "image/png": "[encoded data removed]",
            "text/plain": [
              "<Figure size 432x288 with 1 Axes>"
            ]
          },
          "metadata": {
            "needs_background": "light"
          }
        }
      ]
    },
    {
      "cell_type": "code",
      "metadata": {
        "id": "9N320CQhzF8e",
        "colab": {
          "base_uri": "https://localhost:8080/",
          "height": 282
        },
        "outputId": "2e6a061e-01c9-43dc-a1b3-7492de196859"
      },
      "source": [
        "plt.bar(dados, dados)"
      ],
      "execution_count": null,
      "outputs": [
        {
          "output_type": "execute_result",
          "data": {
            "text/plain": [
              "<BarContainer object of 100 artists>"
            ]
          },
          "metadata": {},
          "execution_count": 14
        },
        {
          "output_type": "display_data",
          "data": {
            "image/png": "[encoded data removed]",
            "text/plain": [
              "<Figure size 432x288 with 1 Axes>"
            ]
          },
          "metadata": {
            "needs_background": "light"
          }
        }
      ]
    },
    {
      "cell_type": "markdown",
      "metadata": {
        "id": "rvAzaKbFQyXV"
      },
      "source": [
        "## Número de classes\n",
        "\n",
        "- i = 1 + 3.3 log n"
      ]
    },
    {
      "cell_type": "code",
      "metadata": {
        "id": "5SweRT-FzpQD",
        "colab": {
          "base_uri": "https://localhost:8080/"
        },
        "outputId": "8b3c8e0f-3168-41f5-d3cf-1a1b0e7ee26a"
      },
      "source": [
        "n = len(dados)\n",
        "n"
      ],
      "execution_count": null,
      "outputs": [
        {
          "output_type": "execute_result",
          "data": {
            "text/plain": [
              "100"
            ]
          },
          "metadata": {},
          "execution_count": 49
        }
      ]
    },
    {
      "cell_type": "code",
      "metadata": {
        "id": "3sOtyOK8zvre",
        "colab": {
          "base_uri": "https://localhost:8080/"
        },
        "outputId": "a5074c4f-b413-40f1-ff55-dd87cbeb6ff0"
      },
      "source": [
        "i = 1 + 3.3 * np.log10(n)\n",
        "i"
      ],
      "execution_count": null,
      "outputs": [
        {
          "output_type": "execute_result",
          "data": {
            "text/plain": [
              "7.6"
            ]
          },
          "metadata": {},
          "execution_count": 50
        }
      ]
    },
    {
      "cell_type": "code",
      "metadata": {
        "id": "4TSnaiKnz5Ux",
        "colab": {
          "base_uri": "https://localhost:8080/"
        },
        "outputId": "d50b702c-5558-4887-8e53-5b00af33242d"
      },
      "source": [
        "i = round(i)\n",
        "i"
      ],
      "execution_count": null,
      "outputs": [
        {
          "output_type": "execute_result",
          "data": {
            "text/plain": [
              "8"
            ]
          },
          "metadata": {},
          "execution_count": 51
        }
      ]
    },
    {
      "cell_type": "markdown",
      "metadata": {
        "id": "a8oK6q7-RWru"
      },
      "source": [
        "## Amplitude do intervalo\n",
        "\n",
        "- h = AA / i\n",
        "- AA = Xmax - Xmin"
      ]
    },
    {
      "cell_type": "code",
      "metadata": {
        "id": "9QHPeIZu0B9m",
        "colab": {
          "base_uri": "https://localhost:8080/"
        },
        "outputId": "33e20d7e-63c9-41ab-85af-183535aedc03"
      },
      "source": [
        "AA = maximo - minimo\n",
        "AA"
      ],
      "execution_count": null,
      "outputs": [
        {
          "output_type": "execute_result",
          "data": {
            "text/plain": [
              "1.7500000000000002"
            ]
          },
          "metadata": {},
          "execution_count": 52
        }
      ]
    },
    {
      "cell_type": "code",
      "metadata": {
        "id": "OfaaKxsy0HpQ",
        "colab": {
          "base_uri": "https://localhost:8080/"
        },
        "outputId": "8028f72e-f721-4d37-fb2e-746d14f96327"
      },
      "source": [
        "h = AA / i\n",
        "h"
      ],
      "execution_count": null,
      "outputs": [
        {
          "output_type": "execute_result",
          "data": {
            "text/plain": [
              "0.21875000000000003"
            ]
          },
          "metadata": {},
          "execution_count": 53
        }
      ]
    },
    {
      "cell_type": "code",
      "metadata": {
        "id": "5lb_HUqs0L-5",
        "colab": {
          "base_uri": "https://localhost:8080/"
        },
        "outputId": "62cbfc62-badd-4cdb-9057-a8ba45b37719"
      },
      "source": [
        "import math\n",
        "h = math.ceil(h)\n",
        "h"
      ],
      "execution_count": null,
      "outputs": [
        {
          "output_type": "execute_result",
          "data": {
            "text/plain": [
              "1"
            ]
          },
          "metadata": {},
          "execution_count": 13
        }
      ]
    },
    {
      "cell_type": "markdown",
      "metadata": {
        "id": "gQYgJxLTU762"
      },
      "source": [
        "## Construção da distribuição de frequência"
      ]
    },
    {
      "cell_type": "code",
      "metadata": {
        "id": "bjZN7uwm0Wkg",
        "colab": {
          "base_uri": "https://localhost:8080/"
        },
        "outputId": "fe0fcd07-30af-41ff-eba6-aba544273001"
      },
      "source": [
        "intervalos = np.arange(minimo, maximo+1.75, step = h)\n",
        "intervalos"
      ],
      "execution_count": null,
      "outputs": [
        {
          "output_type": "execute_result",
          "data": {
            "text/plain": [
              "array([1.45   , 1.66875, 1.8875 , 2.10625, 2.325  , 2.54375, 2.7625 ,\n",
              "       2.98125, 3.2    , 3.41875, 3.6375 , 3.85625, 4.075  , 4.29375,\n",
              "       4.5125 , 4.73125])"
            ]
          },
          "metadata": {},
          "execution_count": 80
        }
      ]
    },
    {
      "cell_type": "code",
      "metadata": {
        "id": "uT70Ko-a2V1H"
      },
      "source": [
        "intervalo1, intervalo2, intervalo3, intervalo4, intervalo5, intervalo6,intervalo7, intervalo8  = 0,0,0,0,0,0,0,0\n",
        "for i in range(n):\n",
        "  if dados[i] >= intervalos[0] and dados[i] < intervalos[1]:\n",
        "    intervalo1 += 1\n",
        "  elif dados[i] >= intervalos[1] and dados[i] < intervalos[2]:\n",
        "    intervalo2 += 1\n",
        "  elif dados[i] >= intervalos[2] and dados[i] < intervalos[3]:\n",
        "    intervalo3 += 1\n",
        "  elif dados[i] >= intervalos[3] and dados[i] < intervalos[4]:\n",
        "    intervalo4 += 1\n",
        "  elif dados[i] >= intervalos[3] and dados[i] < intervalos[5]:\n",
        "     intervalo5 += 1\n",
        "  elif dados[i] >= intervalos[3] and dados[i] < intervalos[6]:\n",
        "     intervalo6 += 1\n",
        "  elif dados[i] >= intervalos[3] and dados[i] < intervalos[7]:\n",
        "     intervalo7 += 1\n",
        "  elif dados[i] >= intervalos[3] and dados[i] < intervalos[8]:\n",
        "     intervalo8 += 1\n",
        "  \n",
        "  \n"
      ],
      "execution_count": null,
      "outputs": []
    },
    {
      "cell_type": "code",
      "metadata": {
        "id": "R4iFhY7Z3uPe",
        "colab": {
          "base_uri": "https://localhost:8080/"
        },
        "outputId": "f8d9cc49-692c-462a-8775-a182d5040fe5"
      },
      "source": [
        "lista_intervalos = []\n",
        "lista_intervalos.append(intervalo1)\n",
        "lista_intervalos.append(intervalo2)\n",
        "lista_intervalos.append(intervalo3)\n",
        "lista_intervalos.append(intervalo4)\n",
        "lista_intervalos.append(intervalo5)\n",
        "lista_intervalos.append(intervalo6)\n",
        "lista_intervalos.append(intervalo7)\n",
        "lista_intervalos.append(intervalo8)\n",
        "lista_intervalos"
      ],
      "execution_count": null,
      "outputs": [
        {
          "output_type": "execute_result",
          "data": {
            "text/plain": [
              "[9, 14, 31, 17, 11, 2, 0, 15]"
            ]
          },
          "metadata": {},
          "execution_count": 82
        }
      ]
    },
    {
      "cell_type": "code",
      "metadata": {
        "id": "s3SlTbHw4aS3"
      },
      "source": [
        "lista_classes = []\n",
        "for i in range(len(lista_intervalos)):\n",
        "  lista_classes.append(str(intervalos[i]) + '-' + str(intervalos[i + 1]))"
      ],
      "execution_count": null,
      "outputs": []
    },
    {
      "cell_type": "code",
      "metadata": {
        "id": "9blEQMOo4z8z",
        "colab": {
          "base_uri": "https://localhost:8080/"
        },
        "outputId": "364f5464-0afa-490e-d5d8-68fec4fec770"
      },
      "source": [
        "lista_classes"
      ],
      "execution_count": null,
      "outputs": [
        {
          "output_type": "execute_result",
          "data": {
            "text/plain": [
              "['1.45-1.66875',\n",
              " '1.66875-1.8875',\n",
              " '1.8875-2.10625',\n",
              " '2.10625-2.325',\n",
              " '2.325-2.54375',\n",
              " '2.54375-2.7625',\n",
              " '2.7625-2.98125',\n",
              " '2.98125-3.2']"
            ]
          },
          "metadata": {},
          "execution_count": 84
        }
      ]
    },
    {
      "cell_type": "code",
      "metadata": {
        "id": "dEq9DbCEktTj"
      },
      "source": [
        "freqs = dict(zip(lista_classes,lista_intervalos))"
      ],
      "execution_count": null,
      "outputs": []
    },
    {
      "cell_type": "code",
      "metadata": {
        "colab": {
          "base_uri": "https://localhost:8080/"
        },
        "id": "-42KpPKYk14K",
        "outputId": "497cfe23-12ae-4fb3-a91d-3b64ffae8b4c"
      },
      "source": [
        "print(freqs)"
      ],
      "execution_count": null,
      "outputs": [
        {
          "output_type": "stream",
          "name": "stdout",
          "text": [
            "{'1.45-1.66875': 9, '1.66875-1.8875': 14, '1.8875-2.10625': 31, '2.10625-2.325': 17, '2.325-2.54375': 11, '2.54375-2.7625': 2, '2.7625-2.98125': 0, '2.98125-3.2': 15}\n"
          ]
        }
      ]
    },
    {
      "cell_type": "code",
      "metadata": {
        "id": "dUogkxhYZgTt"
      },
      "source": [
        "df = pd.DataFrame({'Frequências Absolutas': freqs})"
      ],
      "execution_count": null,
      "outputs": []
    },
    {
      "cell_type": "code",
      "metadata": {
        "id": "pvjuk20zbg1q",
        "colab": {
          "base_uri": "https://localhost:8080/",
          "height": 294
        },
        "outputId": "3b75c7f2-5453-4aed-b24f-6d3f4868e0d0"
      },
      "source": [
        "df"
      ],
      "execution_count": null,
      "outputs": [
        {
          "output_type": "execute_result",
          "data": {
            "text/html": [
              "<div>\n",
              "<style scoped>\n",
              "    .dataframe tbody tr th:only-of-type {\n",
              "        vertical-align: middle;\n",
              "    }\n",
              "\n",
              "    .dataframe tbody tr th {\n",
              "        vertical-align: top;\n",
              "    }\n",
              "\n",
              "    .dataframe thead th {\n",
              "        text-align: right;\n",
              "    }\n",
              "</style>\n",
              "<table border=\"1\" class=\"dataframe\">\n",
              "  <thead>\n",
              "    <tr style=\"text-align: right;\">\n",
              "      <th></th>\n",
              "      <th>Frequências Absolutas</th>\n",
              "    </tr>\n",
              "  </thead>\n",
              "  <tbody>\n",
              "    <tr>\n",
              "      <th>1.45-1.66875</th>\n",
              "      <td>9</td>\n",
              "    </tr>\n",
              "    <tr>\n",
              "      <th>1.66875-1.8875</th>\n",
              "      <td>14</td>\n",
              "    </tr>\n",
              "    <tr>\n",
              "      <th>1.8875-2.10625</th>\n",
              "      <td>31</td>\n",
              "    </tr>\n",
              "    <tr>\n",
              "      <th>2.10625-2.325</th>\n",
              "      <td>17</td>\n",
              "    </tr>\n",
              "    <tr>\n",
              "      <th>2.325-2.54375</th>\n",
              "      <td>11</td>\n",
              "    </tr>\n",
              "    <tr>\n",
              "      <th>2.54375-2.7625</th>\n",
              "      <td>2</td>\n",
              "    </tr>\n",
              "    <tr>\n",
              "      <th>2.7625-2.98125</th>\n",
              "      <td>0</td>\n",
              "    </tr>\n",
              "    <tr>\n",
              "      <th>2.98125-3.2</th>\n",
              "      <td>15</td>\n",
              "    </tr>\n",
              "  </tbody>\n",
              "</table>\n",
              "</div>"
            ],
            "text/plain": [
              "                Frequências Absolutas\n",
              "1.45-1.66875                        9\n",
              "1.66875-1.8875                     14\n",
              "1.8875-2.10625                     31\n",
              "2.10625-2.325                      17\n",
              "2.325-2.54375                      11\n",
              "2.54375-2.7625                      2\n",
              "2.7625-2.98125                      0\n",
              "2.98125-3.2                        15"
            ]
          },
          "metadata": {},
          "execution_count": 74
        }
      ]
    },
    {
      "cell_type": "code",
      "metadata": {
        "colab": {
          "base_uri": "https://localhost:8080/",
          "height": 294
        },
        "id": "XKHG29NUk6Gx",
        "outputId": "e5921993-0ccc-427c-906e-87b4611c5351"
      },
      "source": [
        "df.describe()"
      ],
      "execution_count": null,
      "outputs": [
        {
          "output_type": "execute_result",
          "data": {
            "text/html": [
              "<div>\n",
              "<style scoped>\n",
              "    .dataframe tbody tr th:only-of-type {\n",
              "        vertical-align: middle;\n",
              "    }\n",
              "\n",
              "    .dataframe tbody tr th {\n",
              "        vertical-align: top;\n",
              "    }\n",
              "\n",
              "    .dataframe thead th {\n",
              "        text-align: right;\n",
              "    }\n",
              "</style>\n",
              "<table border=\"1\" class=\"dataframe\">\n",
              "  <thead>\n",
              "    <tr style=\"text-align: right;\">\n",
              "      <th></th>\n",
              "      <th>Frequências Absolutas</th>\n",
              "    </tr>\n",
              "  </thead>\n",
              "  <tbody>\n",
              "    <tr>\n",
              "      <th>count</th>\n",
              "      <td>8.00000</td>\n",
              "    </tr>\n",
              "    <tr>\n",
              "      <th>mean</th>\n",
              "      <td>12.37500</td>\n",
              "    </tr>\n",
              "    <tr>\n",
              "      <th>std</th>\n",
              "      <td>9.65013</td>\n",
              "    </tr>\n",
              "    <tr>\n",
              "      <th>min</th>\n",
              "      <td>0.00000</td>\n",
              "    </tr>\n",
              "    <tr>\n",
              "      <th>25%</th>\n",
              "      <td>7.25000</td>\n",
              "    </tr>\n",
              "    <tr>\n",
              "      <th>50%</th>\n",
              "      <td>12.50000</td>\n",
              "    </tr>\n",
              "    <tr>\n",
              "      <th>75%</th>\n",
              "      <td>15.50000</td>\n",
              "    </tr>\n",
              "    <tr>\n",
              "      <th>max</th>\n",
              "      <td>31.00000</td>\n",
              "    </tr>\n",
              "  </tbody>\n",
              "</table>\n",
              "</div>"
            ],
            "text/plain": [
              "       Frequências Absolutas\n",
              "count                8.00000\n",
              "mean                12.37500\n",
              "std                  9.65013\n",
              "min                  0.00000\n",
              "25%                  7.25000\n",
              "50%                 12.50000\n",
              "75%                 15.50000\n",
              "max                 31.00000"
            ]
          },
          "metadata": {},
          "execution_count": 75
        }
      ]
    },
    {
      "cell_type": "code",
      "metadata": {
        "id": "UwJ99hrjsPne"
      },
      "source": [
        "df.loc['Total'] =[9+14+31+17+11+2+15]"
      ],
      "execution_count": null,
      "outputs": []
    },
    {
      "cell_type": "code",
      "metadata": {
        "colab": {
          "base_uri": "https://localhost:8080/",
          "height": 324
        },
        "id": "J58u2RkEsgDG",
        "outputId": "f768901a-0de9-4bb1-c146-405d1c8efaac"
      },
      "source": [
        "df"
      ],
      "execution_count": null,
      "outputs": [
        {
          "output_type": "execute_result",
          "data": {
            "text/html": [
              "<div>\n",
              "<style scoped>\n",
              "    .dataframe tbody tr th:only-of-type {\n",
              "        vertical-align: middle;\n",
              "    }\n",
              "\n",
              "    .dataframe tbody tr th {\n",
              "        vertical-align: top;\n",
              "    }\n",
              "\n",
              "    .dataframe thead th {\n",
              "        text-align: right;\n",
              "    }\n",
              "</style>\n",
              "<table border=\"1\" class=\"dataframe\">\n",
              "  <thead>\n",
              "    <tr style=\"text-align: right;\">\n",
              "      <th></th>\n",
              "      <th>Frequências Absolutas</th>\n",
              "    </tr>\n",
              "  </thead>\n",
              "  <tbody>\n",
              "    <tr>\n",
              "      <th>1.45-1.66875</th>\n",
              "      <td>9</td>\n",
              "    </tr>\n",
              "    <tr>\n",
              "      <th>1.66875-1.8875</th>\n",
              "      <td>14</td>\n",
              "    </tr>\n",
              "    <tr>\n",
              "      <th>1.8875-2.10625</th>\n",
              "      <td>31</td>\n",
              "    </tr>\n",
              "    <tr>\n",
              "      <th>2.10625-2.325</th>\n",
              "      <td>17</td>\n",
              "    </tr>\n",
              "    <tr>\n",
              "      <th>2.325-2.54375</th>\n",
              "      <td>11</td>\n",
              "    </tr>\n",
              "    <tr>\n",
              "      <th>2.54375-2.7625</th>\n",
              "      <td>2</td>\n",
              "    </tr>\n",
              "    <tr>\n",
              "      <th>2.7625-2.98125</th>\n",
              "      <td>0</td>\n",
              "    </tr>\n",
              "    <tr>\n",
              "      <th>2.98125-3.2</th>\n",
              "      <td>15</td>\n",
              "    </tr>\n",
              "    <tr>\n",
              "      <th>Total</th>\n",
              "      <td>99</td>\n",
              "    </tr>\n",
              "  </tbody>\n",
              "</table>\n",
              "</div>"
            ],
            "text/plain": [
              "                Frequências Absolutas\n",
              "1.45-1.66875                        9\n",
              "1.66875-1.8875                     14\n",
              "1.8875-2.10625                     31\n",
              "2.10625-2.325                      17\n",
              "2.325-2.54375                      11\n",
              "2.54375-2.7625                      2\n",
              "2.7625-2.98125                      0\n",
              "2.98125-3.2                        15\n",
              "Total                              99"
            ]
          },
          "metadata": {},
          "execution_count": 79
        }
      ]
    },
    {
      "cell_type": "code",
      "metadata": {
        "id": "yULXMbmN2GpH"
      },
      "source": [
        "df['Fr'] =df['Frequências Absolutas'] / 100"
      ],
      "execution_count": null,
      "outputs": []
    },
    {
      "cell_type": "code",
      "metadata": {
        "colab": {
          "base_uri": "https://localhost:8080/",
          "height": 202
        },
        "id": "sa0a_ApI9XMc",
        "outputId": "2be33b75-cb2d-4910-fa24-d5b7040f47da"
      },
      "source": [
        "df"
      ],
      "execution_count": null,
      "outputs": [
        {
          "output_type": "execute_result",
          "data": {
            "text/html": [
              "<div>\n",
              "<style scoped>\n",
              "    .dataframe tbody tr th:only-of-type {\n",
              "        vertical-align: middle;\n",
              "    }\n",
              "\n",
              "    .dataframe tbody tr th {\n",
              "        vertical-align: top;\n",
              "    }\n",
              "\n",
              "    .dataframe thead th {\n",
              "        text-align: right;\n",
              "    }\n",
              "</style>\n",
              "<table border=\"1\" class=\"dataframe\">\n",
              "  <thead>\n",
              "    <tr style=\"text-align: right;\">\n",
              "      <th></th>\n",
              "      <th>Frequências Absolutas</th>\n",
              "      <th>Fr</th>\n",
              "    </tr>\n",
              "  </thead>\n",
              "  <tbody>\n",
              "    <tr>\n",
              "      <th>1.45-1.66875</th>\n",
              "      <td>9</td>\n",
              "      <td>0.09</td>\n",
              "    </tr>\n",
              "    <tr>\n",
              "      <th>1.66875-1.8875</th>\n",
              "      <td>14</td>\n",
              "      <td>0.14</td>\n",
              "    </tr>\n",
              "    <tr>\n",
              "      <th>1.8875-2.10625</th>\n",
              "      <td>31</td>\n",
              "      <td>0.31</td>\n",
              "    </tr>\n",
              "    <tr>\n",
              "      <th>2.10625-2.325</th>\n",
              "      <td>17</td>\n",
              "      <td>0.17</td>\n",
              "    </tr>\n",
              "    <tr>\n",
              "      <th>Total</th>\n",
              "      <td>100</td>\n",
              "      <td>1.00</td>\n",
              "    </tr>\n",
              "  </tbody>\n",
              "</table>\n",
              "</div>"
            ],
            "text/plain": [
              "                Frequências Absolutas    Fr\n",
              "1.45-1.66875                        9  0.09\n",
              "1.66875-1.8875                     14  0.14\n",
              "1.8875-2.10625                     31  0.31\n",
              "2.10625-2.325                      17  0.17\n",
              "Total                             100  1.00"
            ]
          },
          "metadata": {},
          "execution_count": 30
        }
      ]
    },
    {
      "cell_type": "code",
      "metadata": {
        "id": "aCoIx6jCNabB"
      },
      "source": [
        "df['Ponto Médio'] = [(151+156)/2, (156+161)/2,(161+166)/2,(166+171)/2, (171+176)/2, (176+181)/2,(181+186)/2, (186+191)/2,'' ]"
      ],
      "execution_count": null,
      "outputs": []
    },
    {
      "cell_type": "code",
      "metadata": {
        "colab": {
          "base_uri": "https://localhost:8080/",
          "height": 324
        },
        "id": "dWwtO3rmOvbZ",
        "outputId": "6f7e5d95-bf48-42d9-a1a8-366820a75cd4"
      },
      "source": [
        "df"
      ],
      "execution_count": null,
      "outputs": [
        {
          "output_type": "execute_result",
          "data": {
            "text/html": [
              "<div>\n",
              "<style scoped>\n",
              "    .dataframe tbody tr th:only-of-type {\n",
              "        vertical-align: middle;\n",
              "    }\n",
              "\n",
              "    .dataframe tbody tr th {\n",
              "        vertical-align: top;\n",
              "    }\n",
              "\n",
              "    .dataframe thead th {\n",
              "        text-align: right;\n",
              "    }\n",
              "</style>\n",
              "<table border=\"1\" class=\"dataframe\">\n",
              "  <thead>\n",
              "    <tr style=\"text-align: right;\">\n",
              "      <th></th>\n",
              "      <th>Frequências Absolutas</th>\n",
              "      <th>Fr</th>\n",
              "      <th>Ponto Médio</th>\n",
              "    </tr>\n",
              "  </thead>\n",
              "  <tbody>\n",
              "    <tr>\n",
              "      <th>151-156</th>\n",
              "      <td>4</td>\n",
              "      <td>0.04</td>\n",
              "      <td>153.5</td>\n",
              "    </tr>\n",
              "    <tr>\n",
              "      <th>156-161</th>\n",
              "      <td>4</td>\n",
              "      <td>0.04</td>\n",
              "      <td>158.5</td>\n",
              "    </tr>\n",
              "    <tr>\n",
              "      <th>161-166</th>\n",
              "      <td>11</td>\n",
              "      <td>0.11</td>\n",
              "      <td>163.5</td>\n",
              "    </tr>\n",
              "    <tr>\n",
              "      <th>166-171</th>\n",
              "      <td>33</td>\n",
              "      <td>0.33</td>\n",
              "      <td>168.5</td>\n",
              "    </tr>\n",
              "    <tr>\n",
              "      <th>171-176</th>\n",
              "      <td>17</td>\n",
              "      <td>0.17</td>\n",
              "      <td>173.5</td>\n",
              "    </tr>\n",
              "    <tr>\n",
              "      <th>176-181</th>\n",
              "      <td>17</td>\n",
              "      <td>0.17</td>\n",
              "      <td>178.5</td>\n",
              "    </tr>\n",
              "    <tr>\n",
              "      <th>181-186</th>\n",
              "      <td>9</td>\n",
              "      <td>0.09</td>\n",
              "      <td>183.5</td>\n",
              "    </tr>\n",
              "    <tr>\n",
              "      <th>186-191</th>\n",
              "      <td>5</td>\n",
              "      <td>0.05</td>\n",
              "      <td>188.5</td>\n",
              "    </tr>\n",
              "    <tr>\n",
              "      <th>Total</th>\n",
              "      <td>100</td>\n",
              "      <td>1.00</td>\n",
              "      <td></td>\n",
              "    </tr>\n",
              "  </tbody>\n",
              "</table>\n",
              "</div>"
            ],
            "text/plain": [
              "         Frequências Absolutas    Fr Ponto Médio\n",
              "151-156                      4  0.04       153.5\n",
              "156-161                      4  0.04       158.5\n",
              "161-166                     11  0.11       163.5\n",
              "166-171                     33  0.33       168.5\n",
              "171-176                     17  0.17       173.5\n",
              "176-181                     17  0.17       178.5\n",
              "181-186                      9  0.09       183.5\n",
              "186-191                      5  0.05       188.5\n",
              "Total                      100  1.00            "
            ]
          },
          "metadata": {},
          "execution_count": 29
        }
      ]
    },
    {
      "cell_type": "code",
      "metadata": {
        "colab": {
          "base_uri": "https://localhost:8080/"
        },
        "id": "O1LHLUhDPPSA",
        "outputId": "27ca6bc7-2ee1-4668-e5db-0bc073c6b116"
      },
      "source": [
        "df['Freq Acumulada'] = [0,0,0,0,0,0,0,0,0]\n",
        "df['Freq Acumulada'][0] = df['Frequências Absolutas'][0]\n",
        "df['Freq Acumulada'][1] = df['Freq Acumulada'][0] + df['Frequências Absolutas'][1]\n",
        "df['Freq Acumulada'][2] = df['Freq Acumulada'][1] + df['Frequências Absolutas'][2]\n",
        "df['Freq Acumulada'][3] = df['Freq Acumulada'][2] + df['Frequências Absolutas'][3]\n",
        "df['Freq Acumulada'][4] = df['Freq Acumulada'][3] + df['Frequências Absolutas'][4]\n",
        "df['Freq Acumulada'][5] = df['Freq Acumulada'][4] + df['Frequências Absolutas'][5]\n",
        "df['Freq Acumulada'][6] = df['Freq Acumulada'][5] + df['Frequências Absolutas'][6]\n",
        "df['Freq Acumulada'][7] = df['Freq Acumulada'][6] + df['Frequências Absolutas'][7]\n",
        "df['Freq Acumulada'][8] = df['Freq Acumulada'][6] + df['Frequências Absolutas'][7]"
      ],
      "execution_count": null,
      "outputs": [
        {
          "output_type": "stream",
          "name": "stderr",
          "text": [
            "/usr/local/lib/python3.7/dist-packages/ipykernel_launcher.py:2: SettingWithCopyWarning: \n",
            "A value is trying to be set on a copy of a slice from a DataFrame\n",
            "\n",
            "See the caveats in the documentation: https://pandas.pydata.org/pandas-docs/stable/user_guide/indexing.html#returning-a-view-versus-a-copy\n",
            "  \n",
            "/usr/local/lib/python3.7/dist-packages/ipykernel_launcher.py:3: SettingWithCopyWarning: \n",
            "A value is trying to be set on a copy of a slice from a DataFrame\n",
            "\n",
            "See the caveats in the documentation: https://pandas.pydata.org/pandas-docs/stable/user_guide/indexing.html#returning-a-view-versus-a-copy\n",
            "  This is separate from the ipykernel package so we can avoid doing imports until\n",
            "/usr/local/lib/python3.7/dist-packages/ipykernel_launcher.py:4: SettingWithCopyWarning: \n",
            "A value is trying to be set on a copy of a slice from a DataFrame\n",
            "\n",
            "See the caveats in the documentation: https://pandas.pydata.org/pandas-docs/stable/user_guide/indexing.html#returning-a-view-versus-a-copy\n",
            "  after removing the cwd from sys.path.\n",
            "/usr/local/lib/python3.7/dist-packages/ipykernel_launcher.py:5: SettingWithCopyWarning: \n",
            "A value is trying to be set on a copy of a slice from a DataFrame\n",
            "\n",
            "See the caveats in the documentation: https://pandas.pydata.org/pandas-docs/stable/user_guide/indexing.html#returning-a-view-versus-a-copy\n",
            "  \"\"\"\n",
            "/usr/local/lib/python3.7/dist-packages/ipykernel_launcher.py:6: SettingWithCopyWarning: \n",
            "A value is trying to be set on a copy of a slice from a DataFrame\n",
            "\n",
            "See the caveats in the documentation: https://pandas.pydata.org/pandas-docs/stable/user_guide/indexing.html#returning-a-view-versus-a-copy\n",
            "  \n",
            "/usr/local/lib/python3.7/dist-packages/ipykernel_launcher.py:7: SettingWithCopyWarning: \n",
            "A value is trying to be set on a copy of a slice from a DataFrame\n",
            "\n",
            "See the caveats in the documentation: https://pandas.pydata.org/pandas-docs/stable/user_guide/indexing.html#returning-a-view-versus-a-copy\n",
            "  import sys\n",
            "/usr/local/lib/python3.7/dist-packages/ipykernel_launcher.py:8: SettingWithCopyWarning: \n",
            "A value is trying to be set on a copy of a slice from a DataFrame\n",
            "\n",
            "See the caveats in the documentation: https://pandas.pydata.org/pandas-docs/stable/user_guide/indexing.html#returning-a-view-versus-a-copy\n",
            "  \n",
            "/usr/local/lib/python3.7/dist-packages/ipykernel_launcher.py:9: SettingWithCopyWarning: \n",
            "A value is trying to be set on a copy of a slice from a DataFrame\n",
            "\n",
            "See the caveats in the documentation: https://pandas.pydata.org/pandas-docs/stable/user_guide/indexing.html#returning-a-view-versus-a-copy\n",
            "  if __name__ == '__main__':\n",
            "/usr/local/lib/python3.7/dist-packages/ipykernel_launcher.py:10: SettingWithCopyWarning: \n",
            "A value is trying to be set on a copy of a slice from a DataFrame\n",
            "\n",
            "See the caveats in the documentation: https://pandas.pydata.org/pandas-docs/stable/user_guide/indexing.html#returning-a-view-versus-a-copy\n",
            "  # Remove the CWD from sys.path while we load stuff.\n"
          ]
        }
      ]
    },
    {
      "cell_type": "code",
      "metadata": {
        "colab": {
          "base_uri": "https://localhost:8080/",
          "height": 324
        },
        "id": "sBuBtV0LP0qh",
        "outputId": "286ec530-d4a0-4099-b451-02b24d8a5722"
      },
      "source": [
        "df"
      ],
      "execution_count": null,
      "outputs": [
        {
          "output_type": "execute_result",
          "data": {
            "text/html": [
              "<div>\n",
              "<style scoped>\n",
              "    .dataframe tbody tr th:only-of-type {\n",
              "        vertical-align: middle;\n",
              "    }\n",
              "\n",
              "    .dataframe tbody tr th {\n",
              "        vertical-align: top;\n",
              "    }\n",
              "\n",
              "    .dataframe thead th {\n",
              "        text-align: right;\n",
              "    }\n",
              "</style>\n",
              "<table border=\"1\" class=\"dataframe\">\n",
              "  <thead>\n",
              "    <tr style=\"text-align: right;\">\n",
              "      <th></th>\n",
              "      <th>Frequências Absolutas</th>\n",
              "      <th>Fr</th>\n",
              "      <th>Ponto Médio</th>\n",
              "      <th>Freq Acumulada</th>\n",
              "    </tr>\n",
              "  </thead>\n",
              "  <tbody>\n",
              "    <tr>\n",
              "      <th>151-156</th>\n",
              "      <td>4</td>\n",
              "      <td>0.04</td>\n",
              "      <td>153.5</td>\n",
              "      <td>4</td>\n",
              "    </tr>\n",
              "    <tr>\n",
              "      <th>156-161</th>\n",
              "      <td>4</td>\n",
              "      <td>0.04</td>\n",
              "      <td>158.5</td>\n",
              "      <td>8</td>\n",
              "    </tr>\n",
              "    <tr>\n",
              "      <th>161-166</th>\n",
              "      <td>11</td>\n",
              "      <td>0.11</td>\n",
              "      <td>163.5</td>\n",
              "      <td>19</td>\n",
              "    </tr>\n",
              "    <tr>\n",
              "      <th>166-171</th>\n",
              "      <td>33</td>\n",
              "      <td>0.33</td>\n",
              "      <td>168.5</td>\n",
              "      <td>52</td>\n",
              "    </tr>\n",
              "    <tr>\n",
              "      <th>171-176</th>\n",
              "      <td>17</td>\n",
              "      <td>0.17</td>\n",
              "      <td>173.5</td>\n",
              "      <td>69</td>\n",
              "    </tr>\n",
              "    <tr>\n",
              "      <th>176-181</th>\n",
              "      <td>17</td>\n",
              "      <td>0.17</td>\n",
              "      <td>178.5</td>\n",
              "      <td>86</td>\n",
              "    </tr>\n",
              "    <tr>\n",
              "      <th>181-186</th>\n",
              "      <td>9</td>\n",
              "      <td>0.09</td>\n",
              "      <td>183.5</td>\n",
              "      <td>95</td>\n",
              "    </tr>\n",
              "    <tr>\n",
              "      <th>186-191</th>\n",
              "      <td>5</td>\n",
              "      <td>0.05</td>\n",
              "      <td>188.5</td>\n",
              "      <td>100</td>\n",
              "    </tr>\n",
              "    <tr>\n",
              "      <th>Total</th>\n",
              "      <td>100</td>\n",
              "      <td>1.00</td>\n",
              "      <td></td>\n",
              "      <td>100</td>\n",
              "    </tr>\n",
              "  </tbody>\n",
              "</table>\n",
              "</div>"
            ],
            "text/plain": [
              "         Frequências Absolutas    Fr Ponto Médio  Freq Acumulada\n",
              "151-156                      4  0.04       153.5               4\n",
              "156-161                      4  0.04       158.5               8\n",
              "161-166                     11  0.11       163.5              19\n",
              "166-171                     33  0.33       168.5              52\n",
              "171-176                     17  0.17       173.5              69\n",
              "176-181                     17  0.17       178.5              86\n",
              "181-186                      9  0.09       183.5              95\n",
              "186-191                      5  0.05       188.5             100\n",
              "Total                      100  1.00                         100"
            ]
          },
          "metadata": {},
          "execution_count": 67
        }
      ]
    },
    {
      "cell_type": "code",
      "metadata": {
        "id": "FUFXCOFI4_eq",
        "colab": {
          "base_uri": "https://localhost:8080/",
          "height": 294
        },
        "outputId": "48a77e50-0b55-400b-8f1a-9e42a4d7375b"
      },
      "source": [
        "plt.bar(lista_classes, lista_intervalos)\n",
        "plt.title('Distribuição de frequência - histograma')\n",
        "plt.xlabel('intervalos')\n",
        "plt.ylabel('valores');"
      ],
      "execution_count": null,
      "outputs": [
        {
          "output_type": "display_data",
          "data": {
            "image/png": "[encoded data removed]",
            "text/plain": [
              "<Figure size 432x288 with 1 Axes>"
            ]
          },
          "metadata": {
            "needs_background": "light"
          }
        }
      ]
    },
    {
      "cell_type": "markdown",
      "metadata": {
        "id": "vWrQIlPNdGN0"
      },
      "source": [
        "## Distribuição de frequência e histograma com numpy e matplotlib\n",
        "\n",
        "- https://numpy.org/doc/stable/reference/generated/numpy.histogram.html\n",
        "- https://numpy.org/doc/stable/reference/generated/numpy.histogram_bin_edges.html#numpy.histogram_bin_edges"
      ]
    },
    {
      "cell_type": "code",
      "metadata": {
        "id": "OfSOj3O_5o1b"
      },
      "source": [
        "#dados = np.array([151,152,154,155,158,159,159,160,161,161,\n",
        "                  161,162,163,163,163,164,165,165,165,166,\n",
        "                  166,166,166,167,167,167,167,167,168,168,\n",
        "                  168,168,168,168,168,168,168,168,169,169,\n",
        "                  169,169,169,169,169,170,170,170,170,170,\n",
        "                  170,170,171,171,171,171,172,172,172,173,\n",
        "                  173,173,174,174,174,175,175,175,175,176,\n",
        "                  176,176,176,177,177,177,177,178,178,178,\n",
        "                  179,179,180,180,180,180,181,181,181,182,\n",
        "                  182,182,183,184,185,186,187,188,190,190])"
      ],
      "execution_count": null,
      "outputs": []
    },
    {
      "cell_type": "code",
      "metadata": {
        "id": "-UeJ-dmx6FeF"
      },
      "source": [
        "frequencia, classes = np.histogram(dados)"
      ],
      "execution_count": null,
      "outputs": []
    },
    {
      "cell_type": "code",
      "metadata": {
        "id": "lhNtgOlw6R8j",
        "colab": {
          "base_uri": "https://localhost:8080/"
        },
        "outputId": "af184806-4d5e-4438-f4d0-baaf6c5caa2f"
      },
      "source": [
        "frequencia, classes, len(classes)"
      ],
      "execution_count": null,
      "outputs": [
        {
          "output_type": "execute_result",
          "data": {
            "text/plain": [
              "(array([ 7, 10, 20, 18, 16, 10,  3,  0,  1, 15]),\n",
              " array([1.45 , 1.625, 1.8  , 1.975, 2.15 , 2.325, 2.5  , 2.675, 2.85 ,\n",
              "        3.025, 3.2  ]),\n",
              " 11)"
            ]
          },
          "metadata": {},
          "execution_count": 32
        }
      ]
    },
    {
      "cell_type": "code",
      "metadata": {
        "id": "4wwCwUFP63nt",
        "colab": {
          "base_uri": "https://localhost:8080/",
          "height": 294
        },
        "outputId": "8b62ce5b-8b88-496f-86fa-76520633f2af"
      },
      "source": [
        "plt.hist(dados, bins = classes)\n",
        "plt.title('Distribuição de frequência - histograma')\n",
        "plt.xlabel('intervalos')\n",
        "plt.ylabel('valores');"
      ],
      "execution_count": null,
      "outputs": [
        {
          "output_type": "display_data",
          "data": {
            "image/png": "[encoded data removed]",
            "text/plain": [
              "<Figure size 432x288 with 1 Axes>"
            ]
          },
          "metadata": {
            "needs_background": "light"
          }
        }
      ]
    },
    {
      "cell_type": "code",
      "metadata": {
        "id": "-pM2hrxu7Khk",
        "colab": {
          "base_uri": "https://localhost:8080/"
        },
        "outputId": "9665fa24-7664-48ea-eb4b-2d6a2d89b155"
      },
      "source": [
        "frequencia, classes = np.histogram(dados, bins=8)\n",
        "frequencia, classes"
      ],
      "execution_count": null,
      "outputs": [
        {
          "output_type": "execute_result",
          "data": {
            "text/plain": [
              "(array([ 9, 14, 31, 17, 11,  2,  0, 16]),\n",
              " array([1.45   , 1.66875, 1.8875 , 2.10625, 2.325  , 2.54375, 2.7625 ,\n",
              "        2.98125, 3.2    ]))"
            ]
          },
          "metadata": {},
          "execution_count": 34
        }
      ]
    },
    {
      "cell_type": "code",
      "metadata": {
        "id": "cXEw8W6G7aUX",
        "colab": {
          "base_uri": "https://localhost:8080/",
          "height": 264
        },
        "outputId": "13e91fa8-4105-47a5-db79-abdb3cea4ed8"
      },
      "source": [
        "plt.hist(dados, classes);"
      ],
      "execution_count": null,
      "outputs": [
        {
          "output_type": "display_data",
          "data": {
            "image/png": "[encoded data removed]",
            "text/plain": [
              "<Figure size 432x288 with 1 Axes>"
            ]
          },
          "metadata": {
            "needs_background": "light"
          }
        }
      ]
    },
    {
      "cell_type": "code",
      "metadata": {
        "id": "EEbrWx0R7h3n",
        "colab": {
          "base_uri": "https://localhost:8080/"
        },
        "outputId": "26ee47e4-c849-45b2-d5ca-baf75ad2de6d"
      },
      "source": [
        "frequencia, classes = np.histogram(dados, bins = 'sturges')\n",
        "frequencia, classes"
      ],
      "execution_count": null,
      "outputs": [
        {
          "output_type": "execute_result",
          "data": {
            "text/plain": [
              "(array([ 9, 14, 31, 17, 11,  2,  0, 16]),\n",
              " array([1.45   , 1.66875, 1.8875 , 2.10625, 2.325  , 2.54375, 2.7625 ,\n",
              "        2.98125, 3.2    ]))"
            ]
          },
          "metadata": {},
          "execution_count": 59
        }
      ]
    },
    {
      "cell_type": "code",
      "metadata": {
        "id": "ihMqImc9OwAw"
      },
      "source": [
        "freqs2 = dict(zip(lista_classes,frequencia))"
      ],
      "execution_count": null,
      "outputs": []
    },
    {
      "cell_type": "code",
      "metadata": {
        "id": "AsSkmAXtOqWz"
      },
      "source": [
        "df2 = pd.DataFrame({'Frequências Absolutas': freqs2})"
      ],
      "execution_count": null,
      "outputs": []
    },
    {
      "cell_type": "code",
      "metadata": {
        "colab": {
          "base_uri": "https://localhost:8080/",
          "height": 294
        },
        "id": "PcdGah3VPQHT",
        "outputId": "f74cdb2b-225e-4ca2-b1a1-2386752b59ba"
      },
      "source": [
        "df2"
      ],
      "execution_count": null,
      "outputs": [
        {
          "output_type": "execute_result",
          "data": {
            "text/html": [
              "<div>\n",
              "<style scoped>\n",
              "    .dataframe tbody tr th:only-of-type {\n",
              "        vertical-align: middle;\n",
              "    }\n",
              "\n",
              "    .dataframe tbody tr th {\n",
              "        vertical-align: top;\n",
              "    }\n",
              "\n",
              "    .dataframe thead th {\n",
              "        text-align: right;\n",
              "    }\n",
              "</style>\n",
              "<table border=\"1\" class=\"dataframe\">\n",
              "  <thead>\n",
              "    <tr style=\"text-align: right;\">\n",
              "      <th></th>\n",
              "      <th>Frequências Absolutas</th>\n",
              "    </tr>\n",
              "  </thead>\n",
              "  <tbody>\n",
              "    <tr>\n",
              "      <th>1.45-1.66875</th>\n",
              "      <td>9</td>\n",
              "    </tr>\n",
              "    <tr>\n",
              "      <th>1.66875-1.8875</th>\n",
              "      <td>14</td>\n",
              "    </tr>\n",
              "    <tr>\n",
              "      <th>1.8875-2.10625</th>\n",
              "      <td>31</td>\n",
              "    </tr>\n",
              "    <tr>\n",
              "      <th>2.10625-2.325</th>\n",
              "      <td>17</td>\n",
              "    </tr>\n",
              "    <tr>\n",
              "      <th>2.325-2.54375</th>\n",
              "      <td>11</td>\n",
              "    </tr>\n",
              "    <tr>\n",
              "      <th>2.54375-2.7625</th>\n",
              "      <td>2</td>\n",
              "    </tr>\n",
              "    <tr>\n",
              "      <th>2.7625-2.98125</th>\n",
              "      <td>0</td>\n",
              "    </tr>\n",
              "    <tr>\n",
              "      <th>2.98125-3.2</th>\n",
              "      <td>16</td>\n",
              "    </tr>\n",
              "  </tbody>\n",
              "</table>\n",
              "</div>"
            ],
            "text/plain": [
              "                Frequências Absolutas\n",
              "1.45-1.66875                        9\n",
              "1.66875-1.8875                     14\n",
              "1.8875-2.10625                     31\n",
              "2.10625-2.325                      17\n",
              "2.325-2.54375                      11\n",
              "2.54375-2.7625                      2\n",
              "2.7625-2.98125                      0\n",
              "2.98125-3.2                        16"
            ]
          },
          "metadata": {},
          "execution_count": 88
        }
      ]
    },
    {
      "cell_type": "code",
      "metadata": {
        "id": "LXzo7SVjUL8x"
      },
      "source": [
        "df2['Fr'] =df['Frequências Absolutas'] / 100"
      ],
      "execution_count": null,
      "outputs": []
    },
    {
      "cell_type": "code",
      "metadata": {
        "colab": {
          "base_uri": "https://localhost:8080/",
          "height": 294
        },
        "id": "J0Uyts6RUPVR",
        "outputId": "e76c252b-b519-406b-c59a-7650375d04db"
      },
      "source": [
        "df2"
      ],
      "execution_count": null,
      "outputs": [
        {
          "output_type": "execute_result",
          "data": {
            "text/html": [
              "<div>\n",
              "<style scoped>\n",
              "    .dataframe tbody tr th:only-of-type {\n",
              "        vertical-align: middle;\n",
              "    }\n",
              "\n",
              "    .dataframe tbody tr th {\n",
              "        vertical-align: top;\n",
              "    }\n",
              "\n",
              "    .dataframe thead th {\n",
              "        text-align: right;\n",
              "    }\n",
              "</style>\n",
              "<table border=\"1\" class=\"dataframe\">\n",
              "  <thead>\n",
              "    <tr style=\"text-align: right;\">\n",
              "      <th></th>\n",
              "      <th>Frequências Absolutas</th>\n",
              "      <th>Fr</th>\n",
              "    </tr>\n",
              "  </thead>\n",
              "  <tbody>\n",
              "    <tr>\n",
              "      <th>1.45-1.66875</th>\n",
              "      <td>9</td>\n",
              "      <td>0.09</td>\n",
              "    </tr>\n",
              "    <tr>\n",
              "      <th>1.66875-1.8875</th>\n",
              "      <td>14</td>\n",
              "      <td>0.14</td>\n",
              "    </tr>\n",
              "    <tr>\n",
              "      <th>1.8875-2.10625</th>\n",
              "      <td>31</td>\n",
              "      <td>0.31</td>\n",
              "    </tr>\n",
              "    <tr>\n",
              "      <th>2.10625-2.325</th>\n",
              "      <td>17</td>\n",
              "      <td>0.17</td>\n",
              "    </tr>\n",
              "    <tr>\n",
              "      <th>2.325-2.54375</th>\n",
              "      <td>11</td>\n",
              "      <td>0.11</td>\n",
              "    </tr>\n",
              "    <tr>\n",
              "      <th>2.54375-2.7625</th>\n",
              "      <td>2</td>\n",
              "      <td>0.02</td>\n",
              "    </tr>\n",
              "    <tr>\n",
              "      <th>2.7625-2.98125</th>\n",
              "      <td>0</td>\n",
              "      <td>0.00</td>\n",
              "    </tr>\n",
              "    <tr>\n",
              "      <th>2.98125-3.2</th>\n",
              "      <td>16</td>\n",
              "      <td>0.15</td>\n",
              "    </tr>\n",
              "  </tbody>\n",
              "</table>\n",
              "</div>"
            ],
            "text/plain": [
              "                Frequências Absolutas    Fr\n",
              "1.45-1.66875                        9  0.09\n",
              "1.66875-1.8875                     14  0.14\n",
              "1.8875-2.10625                     31  0.31\n",
              "2.10625-2.325                      17  0.17\n",
              "2.325-2.54375                      11  0.11\n",
              "2.54375-2.7625                      2  0.02\n",
              "2.7625-2.98125                      0  0.00\n",
              "2.98125-3.2                        16  0.15"
            ]
          },
          "metadata": {},
          "execution_count": 92
        }
      ]
    },
    {
      "cell_type": "code",
      "metadata": {
        "id": "HNEGRDTAUc97"
      },
      "source": [
        "df2['Freq Acumulada'] = [0,0,0,0,0,0,0,0]\n",
        "df2['Freq Acumulada'][0] = df2['Frequências Absolutas'][0]\n",
        "df2['Freq Acumulada'][1] = df2['Freq Acumulada'][0] + df2['Frequências Absolutas'][1]\n",
        "df2['Freq Acumulada'][2] = df2['Freq Acumulada'][1] + df2['Frequências Absolutas'][2]\n",
        "df2['Freq Acumulada'][3] = df2['Freq Acumulada'][2] + df2['Frequências Absolutas'][3]\n",
        "df2['Freq Acumulada'][4] = df2['Freq Acumulada'][3] + df2['Frequências Absolutas'][4]\n",
        "df2['Freq Acumulada'][5] = df2['Freq Acumulada'][4] + df2['Frequências Absolutas'][5]\n",
        "df2['Freq Acumulada'][6] = df2['Freq Acumulada'][5] + df2['Frequências Absolutas'][6]\n",
        "df2['Freq Acumulada'][7] = df2['Freq Acumulada'][6] + df2['Frequências Absolutas'][7]\n",
        "df2['Freq Acumulada'][8] = df2['Freq Acumulada'][7] + df2['Frequências Absolutas'][8]"
      ],
      "execution_count": null,
      "outputs": []
    },
    {
      "cell_type": "code",
      "metadata": {
        "colab": {
          "base_uri": "https://localhost:8080/",
          "height": 294
        },
        "id": "INv_0HUYUzeg",
        "outputId": "f82ada0c-5509-4492-b7eb-624c6d9a5c87"
      },
      "source": [
        "df2"
      ],
      "execution_count": null,
      "outputs": [
        {
          "output_type": "execute_result",
          "data": {
            "text/html": [
              "<div>\n",
              "<style scoped>\n",
              "    .dataframe tbody tr th:only-of-type {\n",
              "        vertical-align: middle;\n",
              "    }\n",
              "\n",
              "    .dataframe tbody tr th {\n",
              "        vertical-align: top;\n",
              "    }\n",
              "\n",
              "    .dataframe thead th {\n",
              "        text-align: right;\n",
              "    }\n",
              "</style>\n",
              "<table border=\"1\" class=\"dataframe\">\n",
              "  <thead>\n",
              "    <tr style=\"text-align: right;\">\n",
              "      <th></th>\n",
              "      <th>Frequências Absolutas</th>\n",
              "      <th>Fr</th>\n",
              "      <th>Freq Acumulada</th>\n",
              "    </tr>\n",
              "  </thead>\n",
              "  <tbody>\n",
              "    <tr>\n",
              "      <th>1.45-1.66875</th>\n",
              "      <td>9</td>\n",
              "      <td>0.09</td>\n",
              "      <td>9</td>\n",
              "    </tr>\n",
              "    <tr>\n",
              "      <th>1.66875-1.8875</th>\n",
              "      <td>14</td>\n",
              "      <td>0.14</td>\n",
              "      <td>23</td>\n",
              "    </tr>\n",
              "    <tr>\n",
              "      <th>1.8875-2.10625</th>\n",
              "      <td>31</td>\n",
              "      <td>0.31</td>\n",
              "      <td>54</td>\n",
              "    </tr>\n",
              "    <tr>\n",
              "      <th>2.10625-2.325</th>\n",
              "      <td>17</td>\n",
              "      <td>0.17</td>\n",
              "      <td>71</td>\n",
              "    </tr>\n",
              "    <tr>\n",
              "      <th>2.325-2.54375</th>\n",
              "      <td>11</td>\n",
              "      <td>0.11</td>\n",
              "      <td>82</td>\n",
              "    </tr>\n",
              "    <tr>\n",
              "      <th>2.54375-2.7625</th>\n",
              "      <td>2</td>\n",
              "      <td>0.02</td>\n",
              "      <td>84</td>\n",
              "    </tr>\n",
              "    <tr>\n",
              "      <th>2.7625-2.98125</th>\n",
              "      <td>0</td>\n",
              "      <td>0.00</td>\n",
              "      <td>84</td>\n",
              "    </tr>\n",
              "    <tr>\n",
              "      <th>2.98125-3.2</th>\n",
              "      <td>16</td>\n",
              "      <td>0.15</td>\n",
              "      <td>100</td>\n",
              "    </tr>\n",
              "  </tbody>\n",
              "</table>\n",
              "</div>"
            ],
            "text/plain": [
              "                Frequências Absolutas    Fr  Freq Acumulada\n",
              "1.45-1.66875                        9  0.09               9\n",
              "1.66875-1.8875                     14  0.14              23\n",
              "1.8875-2.10625                     31  0.31              54\n",
              "2.10625-2.325                      17  0.17              71\n",
              "2.325-2.54375                      11  0.11              82\n",
              "2.54375-2.7625                      2  0.02              84\n",
              "2.7625-2.98125                      0  0.00              84\n",
              "2.98125-3.2                        16  0.15             100"
            ]
          },
          "metadata": {},
          "execution_count": 95
        }
      ]
    },
    {
      "cell_type": "code",
      "metadata": {
        "id": "m6Q0B6sv8ZoU",
        "colab": {
          "base_uri": "https://localhost:8080/",
          "height": 264
        },
        "outputId": "cb3ec413-85ed-4dcb-d2cb-963b54b60f02"
      },
      "source": [
        "plt.hist(dados, classes);"
      ],
      "execution_count": null,
      "outputs": [
        {
          "output_type": "display_data",
          "data": {
            "image/png": "[encoded data removed]",
            "text/plain": [
              "<Figure size 432x288 with 1 Axes>"
            ]
          },
          "metadata": {
            "needs_background": "light"
          }
        }
      ]
    },
    {
      "cell_type": "code",
      "metadata": {
        "colab": {
          "base_uri": "https://localhost:8080/",
          "height": 295
        },
        "id": "bTEz1FMIcVAO",
        "outputId": "aa09094f-7031-461f-90ec-9280e2580a9e"
      },
      "source": [
        "plt.plot(dados)\n",
        "plt.title('Frequência Acumulada')\n",
        "plt.xlabel('Frequências')\n",
        "plt.ylabel('valores');"
      ],
      "execution_count": null,
      "outputs": [
        {
          "output_type": "display_data",
          "data": {
            "image/png": "[encoded data removed]",
            "text/plain": [
              "<Figure size 432x288 with 1 Axes>"
            ]
          },
          "metadata": {
            "needs_background": "light"
          }
        }
      ]
    },
    {
      "cell_type": "code",
      "metadata": {
        "colab": {
          "base_uri": "https://localhost:8080/",
          "height": 324
        },
        "id": "a2bJV51rUBIb",
        "outputId": "1c9ab32a-6941-48f2-e173-2cf310ed9e79"
      },
      "source": [
        "sns.distplot(dados, hist = True, kde = True);"
      ],
      "execution_count": null,
      "outputs": [
        {
          "output_type": "stream",
          "name": "stderr",
          "text": [
            "/usr/local/lib/python3.7/dist-packages/seaborn/distributions.py:2619: FutureWarning: `distplot` is a deprecated function and will be removed in a future version. Please adapt your code to use either `displot` (a figure-level function with similar flexibility) or `histplot` (an axes-level function for histograms).\n",
            "  warnings.warn(msg, FutureWarning)\n"
          ]
        },
        {
          "output_type": "display_data",
          "data": {
            "image/png": "[encoded data removed]",
            "text/plain": [
              "<Figure size 432x288 with 1 Axes>"
            ]
          },
          "metadata": {
            "needs_background": "light"
          }
        }
      ]
    },
    {
      "cell_type": "markdown",
      "metadata": {
        "id": "Dg4L8OxjdIEv"
      },
      "source": [
        "## Distribuição de frequência e histograma com pandas e seaborn"
      ]
    },
    {
      "cell_type": "code",
      "metadata": {
        "id": "fGA_ttEn9Hzy",
        "colab": {
          "base_uri": "https://localhost:8080/"
        },
        "outputId": "893b6cb4-eca8-48d5-9e04-0613111fe7c9"
      },
      "source": [
        "type(dados)"
      ],
      "execution_count": null,
      "outputs": [
        {
          "output_type": "execute_result",
          "data": {
            "text/plain": [
              "numpy.ndarray"
            ]
          },
          "metadata": {},
          "execution_count": 99
        }
      ]
    },
    {
      "cell_type": "code",
      "metadata": {
        "id": "JWdvR7gC9FTC"
      },
      "source": [
        "dataset = pd.DataFrame({'dados': dados})"
      ],
      "execution_count": null,
      "outputs": []
    },
    {
      "cell_type": "code",
      "metadata": {
        "id": "h6jbwLJv9O-T",
        "colab": {
          "base_uri": "https://localhost:8080/",
          "height": 414
        },
        "outputId": "7b46d2f0-f224-4e0f-ad9b-4807b30829c2"
      },
      "source": [
        "dataset"
      ],
      "execution_count": null,
      "outputs": [
        {
          "output_type": "execute_result",
          "data": {
            "text/html": [
              "<div>\n",
              "<style scoped>\n",
              "    .dataframe tbody tr th:only-of-type {\n",
              "        vertical-align: middle;\n",
              "    }\n",
              "\n",
              "    .dataframe tbody tr th {\n",
              "        vertical-align: top;\n",
              "    }\n",
              "\n",
              "    .dataframe thead th {\n",
              "        text-align: right;\n",
              "    }\n",
              "</style>\n",
              "<table border=\"1\" class=\"dataframe\">\n",
              "  <thead>\n",
              "    <tr style=\"text-align: right;\">\n",
              "      <th></th>\n",
              "      <th>dados</th>\n",
              "    </tr>\n",
              "  </thead>\n",
              "  <tbody>\n",
              "    <tr>\n",
              "      <th>0</th>\n",
              "      <td>1.45</td>\n",
              "    </tr>\n",
              "    <tr>\n",
              "      <th>1</th>\n",
              "      <td>1.54</td>\n",
              "    </tr>\n",
              "    <tr>\n",
              "      <th>2</th>\n",
              "      <td>1.56</td>\n",
              "    </tr>\n",
              "    <tr>\n",
              "      <th>3</th>\n",
              "      <td>1.58</td>\n",
              "    </tr>\n",
              "    <tr>\n",
              "      <th>4</th>\n",
              "      <td>1.59</td>\n",
              "    </tr>\n",
              "    <tr>\n",
              "      <th>...</th>\n",
              "      <td>...</td>\n",
              "    </tr>\n",
              "    <tr>\n",
              "      <th>95</th>\n",
              "      <td>3.17</td>\n",
              "    </tr>\n",
              "    <tr>\n",
              "      <th>96</th>\n",
              "      <td>3.18</td>\n",
              "    </tr>\n",
              "    <tr>\n",
              "      <th>97</th>\n",
              "      <td>3.18</td>\n",
              "    </tr>\n",
              "    <tr>\n",
              "      <th>98</th>\n",
              "      <td>3.18</td>\n",
              "    </tr>\n",
              "    <tr>\n",
              "      <th>99</th>\n",
              "      <td>3.20</td>\n",
              "    </tr>\n",
              "  </tbody>\n",
              "</table>\n",
              "<p>100 rows × 1 columns</p>\n",
              "</div>"
            ],
            "text/plain": [
              "    dados\n",
              "0    1.45\n",
              "1    1.54\n",
              "2    1.56\n",
              "3    1.58\n",
              "4    1.59\n",
              "..    ...\n",
              "95   3.17\n",
              "96   3.18\n",
              "97   3.18\n",
              "98   3.18\n",
              "99   3.20\n",
              "\n",
              "[100 rows x 1 columns]"
            ]
          },
          "metadata": {},
          "execution_count": 101
        }
      ]
    },
    {
      "cell_type": "code",
      "metadata": {
        "id": "6szSIhcA9T90",
        "colab": {
          "base_uri": "https://localhost:8080/",
          "height": 264
        },
        "outputId": "7b1bc2c7-d894-41b9-9366-47c40df1a8f5"
      },
      "source": [
        "dataset.plot.hist();"
      ],
      "execution_count": null,
      "outputs": [
        {
          "output_type": "display_data",
          "data": {
            "image/png": "[encoded data removed]",
            "text/plain": [
              "<Figure size 432x288 with 1 Axes>"
            ]
          },
          "metadata": {
            "needs_background": "light"
          }
        }
      ]
    },
    {
      "cell_type": "code",
      "metadata": {
        "id": "t-Y6hhw29d7t",
        "colab": {
          "base_uri": "https://localhost:8080/",
          "height": 324
        },
        "outputId": "fe414a90-66aa-4718-8f88-cc284c19c20a"
      },
      "source": [
        "sns.distplot(dados, hist = True, kde = True);"
      ],
      "execution_count": null,
      "outputs": [
        {
          "output_type": "stream",
          "name": "stderr",
          "text": [
            "/usr/local/lib/python3.7/dist-packages/seaborn/distributions.py:2619: FutureWarning: `distplot` is a deprecated function and will be removed in a future version. Please adapt your code to use either `displot` (a figure-level function with similar flexibility) or `histplot` (an axes-level function for histograms).\n",
            "  warnings.warn(msg, FutureWarning)\n"
          ]
        },
        {
          "output_type": "display_data",
          "data": {
            "image/png": "[encoded data removed]",
            "text/plain": [
              "<Figure size 432x288 with 1 Axes>"
            ]
          },
          "metadata": {
            "needs_background": "light"
          }
        }
      ]
    },
    {
      "cell_type": "code",
      "metadata": {
        "colab": {
          "base_uri": "https://localhost:8080/",
          "height": 320
        },
        "id": "w8tBpkypcz_l",
        "outputId": "41f05ca3-5b2b-47a5-eb91-c4d7ae0cb2e3"
      },
      "source": [
        "sns.distplot(dados, hist = False, kde = True);"
      ],
      "execution_count": null,
      "outputs": [
        {
          "output_type": "stream",
          "name": "stderr",
          "text": [
            "/usr/local/lib/python3.7/dist-packages/seaborn/distributions.py:2619: FutureWarning: `distplot` is a deprecated function and will be removed in a future version. Please adapt your code to use either `displot` (a figure-level function with similar flexibility) or `kdeplot` (an axes-level function for kernel density plots).\n",
            "  warnings.warn(msg, FutureWarning)\n"
          ]
        },
        {
          "output_type": "display_data",
          "data": {
            "image/png": "[encoded data removed]",
            "text/plain": [
              "<Figure size 432x288 with 1 Axes>"
            ]
          },
          "metadata": {
            "needs_background": "light"
          }
        }
      ]
    },
    {
      "cell_type": "code",
      "metadata": {
        "id": "s1WwJp81gyl2"
      },
      "source": [
        "px = np.linspace(0., 1., len(dados))"
      ],
      "execution_count": null,
      "outputs": []
    },
    {
      "cell_type": "code",
      "metadata": {
        "colab": {
          "base_uri": "https://localhost:8080/",
          "height": 264
        },
        "id": "yOB2UrPIhVn1",
        "outputId": "0d50c654-b9dd-4e46-e7f5-d23509e3c58c"
      },
      "source": [
        "plt.plot(dados, px, drawstyle = 'steps')\n",
        "plt.show()"
      ],
      "execution_count": null,
      "outputs": [
        {
          "output_type": "display_data",
          "data": {
            "image/png": "[encoded data removed]",
            "text/plain": [
              "<Figure size 432x288 with 1 Axes>"
            ]
          },
          "metadata": {
            "needs_background": "light"
          }
        }
      ]
    },
    {
      "cell_type": "code",
      "metadata": {
        "colab": {
          "base_uri": "https://localhost:8080/",
          "height": 324
        },
        "id": "gc7Z0g17mlqh",
        "outputId": "71032887-c9a3-434d-9317-a14a62ce4bba"
      },
      "source": [
        "sns.distplot(dados);"
      ],
      "execution_count": null,
      "outputs": [
        {
          "output_type": "stream",
          "name": "stderr",
          "text": [
            "/usr/local/lib/python3.7/dist-packages/seaborn/distributions.py:2619: FutureWarning: `distplot` is a deprecated function and will be removed in a future version. Please adapt your code to use either `displot` (a figure-level function with similar flexibility) or `histplot` (an axes-level function for histograms).\n",
            "  warnings.warn(msg, FutureWarning)\n"
          ]
        },
        {
          "output_type": "display_data",
          "data": {
            "image/png": "[encoded data removed]",
            "text/plain": [
              "<Figure size 432x288 with 1 Axes>"
            ]
          },
          "metadata": {
            "needs_background": "light"
          }
        }
      ]
    },
    {
      "cell_type": "code",
      "metadata": {
        "colab": {
          "base_uri": "https://localhost:8080/",
          "height": 368
        },
        "id": "H2Wu2JvhnEhY",
        "outputId": "7af8effb-e59d-401e-c128-0c69c3398970"
      },
      "source": [
        "sns.displot(dados, kde=True);"
      ],
      "execution_count": null,
      "outputs": [
        {
          "output_type": "display_data",
          "data": {
            "image/png": "[encoded data removed]",
            "text/plain": [
              "<Figure size 360x360 with 1 Axes>"
            ]
          },
          "metadata": {
            "needs_background": "light"
          }
        }
      ]
    },
    {
      "cell_type": "code",
      "metadata": {
        "colab": {
          "base_uri": "https://localhost:8080/",
          "height": 264
        },
        "id": "pSlaAsBtxIDx",
        "outputId": "dd501f49-535b-438a-9ebc-1330e9e16fb5"
      },
      "source": [
        "plt.plot(dados, px, drawstyle = 'steps-mid')\n",
        "plt.show()"
      ],
      "execution_count": null,
      "outputs": [
        {
          "output_type": "display_data",
          "data": {
            "image/png": "[encoded data removed]",
            "text/plain": [
              "<Figure size 432x288 with 1 Axes>"
            ]
          },
          "metadata": {
            "needs_background": "light"
          }
        }
      ]
    },
    {
      "cell_type": "code",
      "metadata": {
        "colab": {
          "base_uri": "https://localhost:8080/",
          "height": 264
        },
        "id": "unnboN7Vd_pQ",
        "outputId": "7eb0c784-083c-4c78-e46e-925f5fded2fd"
      },
      "source": [
        "plt.plot(dados, px)\n",
        "plt.show()"
      ],
      "execution_count": null,
      "outputs": [
        {
          "output_type": "display_data",
          "data": {
            "image/png": "[encoded data removed]",
            "text/plain": [
              "<Figure size 432x288 with 1 Axes>"
            ]
          },
          "metadata": {
            "needs_background": "light"
          }
        }
      ]
    },
    {
      "cell_type": "code",
      "metadata": {
        "id": "FjuqZtMYq0TF"
      },
      "source": [
        "defeitos = np.array([300,550,480,980,1050,350,450,870])"
      ],
      "execution_count": null,
      "outputs": []
    },
    {
      "cell_type": "code",
      "metadata": {
        "colab": {
          "base_uri": "https://localhost:8080/"
        },
        "id": "hZo-3m1SrGMW",
        "outputId": "a19bdc7b-d2c2-447f-fe1b-47bc6bca8df1"
      },
      "source": [
        "np.mean(defeitos)"
      ],
      "execution_count": null,
      "outputs": [
        {
          "output_type": "execute_result",
          "data": {
            "text/plain": [
              "628.75"
            ]
          },
          "metadata": {},
          "execution_count": 112
        }
      ]
    },
    {
      "cell_type": "code",
      "metadata": {
        "id": "zhe-G0nPrKXD"
      },
      "source": [
        "aluno_A = np.array ([9.5,9.0,2.0,6.0,6.5,3,7,2 ])\n",
        "aluno_B = np.array ([5.0,5.5,4.5,6,6.0,5.5,5,4.5,4])"
      ],
      "execution_count": null,
      "outputs": []
    },
    {
      "cell_type": "code",
      "metadata": {
        "colab": {
          "base_uri": "https://localhost:8080/"
        },
        "id": "qxy5-nnQAGTO",
        "outputId": "468ade7c-8dc1-4576-a557-d697b61eb681"
      },
      "source": [
        "np.mean(aluno_A)\n"
      ],
      "execution_count": null,
      "outputs": [
        {
          "output_type": "execute_result",
          "data": {
            "text/plain": [
              "5.625"
            ]
          },
          "metadata": {},
          "execution_count": 114
        }
      ]
    },
    {
      "cell_type": "code",
      "metadata": {
        "colab": {
          "base_uri": "https://localhost:8080/"
        },
        "id": "Li9HL2geAOO1",
        "outputId": "d5de963a-3c96-41b7-c07b-ecf1ff830989"
      },
      "source": [
        "np.mean(aluno_B)"
      ],
      "execution_count": null,
      "outputs": [
        {
          "output_type": "execute_result",
          "data": {
            "text/plain": [
              "5.111111111111111"
            ]
          },
          "metadata": {},
          "execution_count": 115
        }
      ]
    },
    {
      "cell_type": "code",
      "metadata": {
        "colab": {
          "base_uri": "https://localhost:8080/"
        },
        "id": "YZA8fhOlAguf",
        "outputId": "e16b8f1c-5ba2-4730-c6ac-9a6c4422804b"
      },
      "source": [
        "np.std(aluno_A)"
      ],
      "execution_count": null,
      "outputs": [
        {
          "output_type": "execute_result",
          "data": {
            "text/plain": [
              "2.7922884879610845"
            ]
          },
          "metadata": {},
          "execution_count": 116
        }
      ]
    },
    {
      "cell_type": "code",
      "metadata": {
        "colab": {
          "base_uri": "https://localhost:8080/"
        },
        "id": "Ubd1HBWAAjTl",
        "outputId": "df42b46a-d1e5-4ee3-b50d-83883fa5fe54"
      },
      "source": [
        "np.std(aluno_B)"
      ],
      "execution_count": null,
      "outputs": [
        {
          "output_type": "execute_result",
          "data": {
            "text/plain": [
              "0.6573421981221795"
            ]
          },
          "metadata": {},
          "execution_count": 117
        }
      ]
    },
    {
      "cell_type": "code",
      "metadata": {
        "id": "IdBMj1CUAmyl"
      },
      "source": [
        "x = np.array([1,8,7,5,6,10,12,1,9])"
      ],
      "execution_count": null,
      "outputs": []
    },
    {
      "cell_type": "code",
      "metadata": {
        "colab": {
          "base_uri": "https://localhost:8080/"
        },
        "id": "byxCaRIoBFtO",
        "outputId": "85c59126-c6cd-492f-bc40-5c63891c7e84"
      },
      "source": [
        "np.percentile(x, 60)"
      ],
      "execution_count": null,
      "outputs": [
        {
          "output_type": "execute_result",
          "data": {
            "text/plain": [
              "7.8"
            ]
          },
          "metadata": {},
          "execution_count": 119
        }
      ]
    },
    {
      "cell_type": "code",
      "metadata": {
        "id": "1AlVCGUzBMru"
      },
      "source": [
        "Y = np.array([3,5,8,10,6])"
      ],
      "execution_count": null,
      "outputs": []
    },
    {
      "cell_type": "code",
      "metadata": {
        "colab": {
          "base_uri": "https://localhost:8080/"
        },
        "id": "61CB3Ni1BvT3",
        "outputId": "623236ba-a0b7-4e8e-f38b-35c7ab86ff7b"
      },
      "source": [
        "np.median(Y)"
      ],
      "execution_count": null,
      "outputs": [
        {
          "output_type": "execute_result",
          "data": {
            "text/plain": [
              "6.0"
            ]
          },
          "metadata": {},
          "execution_count": 121
        }
      ]
    },
    {
      "cell_type": "code",
      "metadata": {
        "colab": {
          "base_uri": "https://localhost:8080/"
        },
        "id": "mVK4F-RNBy92",
        "outputId": "0358bcc7-2f74-499d-9f5f-950757b9b6c5"
      },
      "source": [
        "np.sum(Y)"
      ],
      "execution_count": null,
      "outputs": [
        {
          "output_type": "execute_result",
          "data": {
            "text/plain": [
              "32"
            ]
          },
          "metadata": {},
          "execution_count": 122
        }
      ]
    },
    {
      "cell_type": "code",
      "metadata": {
        "id": "_o7-IgJjCcXu"
      },
      "source": [
        "vendas = np.array([10000,13000,18000,20000])"
      ],
      "execution_count": null,
      "outputs": []
    },
    {
      "cell_type": "code",
      "metadata": {
        "colab": {
          "base_uri": "https://localhost:8080/"
        },
        "id": "Q8IA8TnoDwsL",
        "outputId": "e65f9ebe-7675-49a6-dd70-fe6b0f4526fd"
      },
      "source": [
        "vendas.mean"
      ],
      "execution_count": null,
      "outputs": [
        {
          "output_type": "execute_result",
          "data": {
            "text/plain": [
              "<function ndarray.mean>"
            ]
          },
          "metadata": {},
          "execution_count": 124
        }
      ]
    },
    {
      "cell_type": "code",
      "metadata": {
        "colab": {
          "base_uri": "https://localhost:8080/"
        },
        "id": "DFC5-mPOD0Nu",
        "outputId": "3c3befd0-0031-4624-e594-e898aae7d91d"
      },
      "source": [
        "media_vendas =np.mean(vendas)\n",
        "print(media_vendas)"
      ],
      "execution_count": null,
      "outputs": [
        {
          "output_type": "stream",
          "name": "stdout",
          "text": [
            "15250.0\n"
          ]
        }
      ]
    },
    {
      "cell_type": "code",
      "metadata": {
        "colab": {
          "base_uri": "https://localhost:8080/"
        },
        "id": "1sVJxwRZEABH",
        "outputId": "6564f013-c4e2-44f1-ecca-1312e40fa7c3"
      },
      "source": [
        "cv = 2400/15250\n",
        "print(cv)"
      ],
      "execution_count": null,
      "outputs": [
        {
          "output_type": "stream",
          "name": "stdout",
          "text": [
            "0.15737704918032788\n"
          ]
        }
      ]
    },
    {
      "cell_type": "code",
      "metadata": {
        "id": "xQTZd65Rxrux"
      },
      "source": [
        "import numpy as np\n"
      ],
      "execution_count": null,
      "outputs": []
    },
    {
      "cell_type": "code",
      "metadata": {
        "id": "f8_3Iwh3EJLW"
      },
      "source": [
        "v = np.array([200,220,240])\n",
        "w = np.array([200,230,200])\n",
        "x = np.array([250,210,215])\n",
        "y = np.array([230,230,230])\n",
        "z = np.array([160,210,245])"
      ],
      "execution_count": null,
      "outputs": []
    },
    {
      "cell_type": "code",
      "metadata": {
        "colab": {
          "base_uri": "https://localhost:8080/"
        },
        "id": "_ZwVyCqMyBZn",
        "outputId": "ad60d79c-8684-4bf4-abaa-51addb6395ee"
      },
      "source": [
        "print(np.mean(v),np.mean(w), np.mean(x), np.mean(y), np.mean(z))"
      ],
      "execution_count": null,
      "outputs": [
        {
          "output_type": "stream",
          "name": "stdout",
          "text": [
            "220.0 210.0 225.0 230.0 205.0\n"
          ]
        }
      ]
    },
    {
      "cell_type": "code",
      "metadata": {
        "id": "jQlDGxliy9np"
      },
      "source": [
        "caged = np.array([181419,209425,266415,305068,298041,212952,181796,299415,246875,204804])"
      ],
      "execution_count": null,
      "outputs": []
    },
    {
      "cell_type": "code",
      "metadata": {
        "colab": {
          "base_uri": "https://localhost:8080/"
        },
        "id": "xVtbFuyrzkJ_",
        "outputId": "077d3d3c-f0ee-4bf3-bf6d-b3932c6e0789"
      },
      "source": [
        "print(np.median(caged))"
      ],
      "execution_count": null,
      "outputs": [
        {
          "output_type": "stream",
          "name": "stdout",
          "text": [
            "229913.5\n"
          ]
        }
      ]
    },
    {
      "cell_type": "code",
      "metadata": {
        "id": "q2sJbiXBzqAn"
      },
      "source": [
        "sala = np.array([8,5,9,6,7])"
      ],
      "execution_count": null,
      "outputs": []
    },
    {
      "cell_type": "code",
      "metadata": {
        "colab": {
          "base_uri": "https://localhost:8080/"
        },
        "id": "NBCuKElG2G3w",
        "outputId": "bafec140-d7ba-4069-9ee9-07a35c11c53a"
      },
      "source": [
        "print(np.std(sala))"
      ],
      "execution_count": null,
      "outputs": [
        {
          "output_type": "stream",
          "name": "stdout",
          "text": [
            "1.4142135623730951\n"
          ]
        }
      ]
    },
    {
      "cell_type": "code",
      "metadata": {
        "id": "uW2KJa2m2LCu"
      },
      "source": [
        "sala_std = np.std(sala)"
      ],
      "execution_count": null,
      "outputs": []
    },
    {
      "cell_type": "code",
      "metadata": {
        "colab": {
          "base_uri": "https://localhost:8080/"
        },
        "id": "uqpAecpm2Zzi",
        "outputId": "b4f1e686-080e-4065-ebd5-42817e5e1b05"
      },
      "source": [
        "print(round(sala_std,2))"
      ],
      "execution_count": null,
      "outputs": [
        {
          "output_type": "stream",
          "name": "stdout",
          "text": [
            "1.41\n"
          ]
        }
      ]
    },
    {
      "cell_type": "code",
      "metadata": {
        "colab": {
          "base_uri": "https://localhost:8080/"
        },
        "id": "H7QtILlb2gRK",
        "outputId": "3bc1be05-30b6-4be3-b29b-11162351f780"
      },
      "source": [
        "print(sala_std **2)"
      ],
      "execution_count": null,
      "outputs": [
        {
          "output_type": "stream",
          "name": "stdout",
          "text": [
            "2.0000000000000004\n"
          ]
        }
      ]
    },
    {
      "cell_type": "code",
      "metadata": {
        "id": "gdn0P2Zt3nqa"
      },
      "source": [
        "aluno1 = np.array([10,9,5,4])\n",
        "aluno2 = np.array([6,6.5,7.5,8])"
      ],
      "execution_count": null,
      "outputs": []
    },
    {
      "cell_type": "code",
      "metadata": {
        "colab": {
          "base_uri": "https://localhost:8080/"
        },
        "id": "lw98X-hF32A4",
        "outputId": "ab86a1d6-fff8-4866-c0d1-8b5c56c3acc8"
      },
      "source": [
        "print(np.mean(aluno1), np.mean(aluno2))"
      ],
      "execution_count": null,
      "outputs": [
        {
          "output_type": "stream",
          "name": "stdout",
          "text": [
            "7.0 7.0\n"
          ]
        }
      ]
    },
    {
      "cell_type": "code",
      "metadata": {
        "id": "IA32qT7Q44w7"
      },
      "source": [
        "valores = np.array([133,425,244,385,236,236,328,1000,299,325])"
      ],
      "execution_count": null,
      "outputs": []
    },
    {
      "cell_type": "code",
      "metadata": {
        "colab": {
          "base_uri": "https://localhost:8080/"
        },
        "id": "9p3Hhl0M6wOB",
        "outputId": "56e17110-03fd-48d8-ce9a-15cc93b86a79"
      },
      "source": [
        "print(np.mean(valores))"
      ],
      "execution_count": null,
      "outputs": [
        {
          "output_type": "stream",
          "name": "stdout",
          "text": [
            "361.1\n"
          ]
        }
      ]
    },
    {
      "cell_type": "code",
      "metadata": {
        "colab": {
          "base_uri": "https://localhost:8080/"
        },
        "id": "ctQ1Tf8d7GzI",
        "outputId": "7170c7ff-92ae-4d26-e9a2-558d5ba72b86"
      },
      "source": [
        "print(np.median(valores))"
      ],
      "execution_count": null,
      "outputs": [
        {
          "output_type": "stream",
          "name": "stdout",
          "text": [
            "312.0\n"
          ]
        }
      ]
    },
    {
      "cell_type": "code",
      "metadata": {
        "id": "ASStQFJG7KNI"
      },
      "source": [
        "X=np.array([4, 5, 5, 6, 6, 6, 7, 7, 8, 8])"
      ],
      "execution_count": null,
      "outputs": []
    },
    {
      "cell_type": "code",
      "metadata": {
        "colab": {
          "base_uri": "https://localhost:8080/"
        },
        "id": "ExhtmbOCZpbT",
        "outputId": "67257fa1-e7a3-4a95-f433-86baf006b35a"
      },
      "source": [
        "print(np.median(X))"
      ],
      "execution_count": null,
      "outputs": [
        {
          "output_type": "stream",
          "name": "stdout",
          "text": [
            "6.0\n"
          ]
        }
      ]
    },
    {
      "cell_type": "code",
      "metadata": {
        "id": "1uNOVkHAaU1E"
      },
      "source": [
        "import statistics\n",
        "import math\n",
        "from scipy import stats\n",
        "from collections import Counter"
      ],
      "execution_count": null,
      "outputs": []
    },
    {
      "cell_type": "code",
      "metadata": {
        "id": "7a-Oaphcat7v"
      },
      "source": [
        "x = [4, 5, 5, 6, 6, 6, 7, 7, 8, 8]"
      ],
      "execution_count": null,
      "outputs": []
    },
    {
      "cell_type": "code",
      "metadata": {
        "colab": {
          "base_uri": "https://localhost:8080/"
        },
        "id": "i8nkpx9IaYnK",
        "outputId": "71e76665-e749-4e93-902c-fb8db32db416"
      },
      "source": [
        "moda = statistics.mode(x)\n",
        "print(moda)"
      ],
      "execution_count": null,
      "outputs": [
        {
          "output_type": "stream",
          "name": "stdout",
          "text": [
            "6\n"
          ]
        }
      ]
    },
    {
      "cell_type": "code",
      "metadata": {
        "id": "RVVOCO2ra4gK"
      },
      "source": [
        "y = [3, 6, 9, 12, 14, 15, 17, 20]"
      ],
      "execution_count": null,
      "outputs": []
    },
    {
      "cell_type": "code",
      "metadata": {
        "colab": {
          "base_uri": "https://localhost:8080/"
        },
        "id": "P6YKJbh1a9na",
        "outputId": "08ce2805-6b04-4b3e-f343-9e4705b954de"
      },
      "source": [
        "print(statistics.median(y))"
      ],
      "execution_count": null,
      "outputs": [
        {
          "output_type": "stream",
          "name": "stdout",
          "text": [
            "13.0\n"
          ]
        }
      ]
    },
    {
      "cell_type": "code",
      "metadata": {
        "id": "wjFv9VX8bBji"
      },
      "source": [
        ""
      ],
      "execution_count": null,
      "outputs": []
    }
  ]
}