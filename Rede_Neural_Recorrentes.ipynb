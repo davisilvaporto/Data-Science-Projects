{
  "nbformat": 4,
  "nbformat_minor": 0,
  "metadata": {
    "colab": {
      "name": "Rede_Neural_Recorrentes.ipynb",
      "provenance": [],
      "collapsed_sections": []
    },
    "kernelspec": {
      "name": "python3",
      "display_name": "Python 3"
    }
  },
  "cells": [
    {
      "cell_type": "markdown",
      "metadata": {
        "id": "UhFVwRKhAumz"
      },
      "source": [
        "## Exemplo Redes Recorrentes\n",
        "### Coletando a base de dados\n",
        "Bike Sharing Dataset\n",
        "\n",
        "https://archive.ics.uci.edu/ml/datasets/Bike+Sharing+Dataset"
      ]
    },
    {
      "cell_type": "code",
      "metadata": {
        "id": "LgG0fD3MAtAC",
        "colab": {
          "base_uri": "https://localhost:8080/",
          "height": 217
        },
        "outputId": "554e5e05-c17a-41b5-bbc2-3e3786025ae3"
      },
      "source": [
        "!wget https://archive.ics.uci.edu/ml/machine-learning-databases/00275/Bike-Sharing-Dataset.zip"
      ],
      "execution_count": null,
      "outputs": [
        {
          "output_type": "stream",
          "text": [
            "--2020-10-27 16:56:15--  https://archive.ics.uci.edu/ml/machine-learning-databases/00275/Bike-Sharing-Dataset.zip\n",
            "Resolving archive.ics.uci.edu (archive.ics.uci.edu)... 128.195.10.252\n",
            "Connecting to archive.ics.uci.edu (archive.ics.uci.edu)|128.195.10.252|:443... connected.\n",
            "HTTP request sent, awaiting response... 200 OK\n",
            "Length: 279992 (273K) [application/x-httpd-php]\n",
            "Saving to: ‘Bike-Sharing-Dataset.zip’\n",
            "\n",
            "Bike-Sharing-Datase 100%[===================>] 273.43K  1.03MB/s    in 0.3s    \n",
            "\n",
            "2020-10-27 16:56:15 (1.03 MB/s) - ‘Bike-Sharing-Dataset.zip’ saved [279992/279992]\n",
            "\n"
          ],
          "name": "stdout"
        }
      ]
    },
    {
      "cell_type": "code",
      "metadata": {
        "id": "_IkK5G9Epdg1",
        "colab": {
          "base_uri": "https://localhost:8080/",
          "height": 35
        },
        "outputId": "8e1d2125-dcdc-4342-8bee-f733edaf27ed"
      },
      "source": [
        "!ls"
      ],
      "execution_count": null,
      "outputs": [
        {
          "output_type": "stream",
          "text": [
            "Bike-Sharing-Dataset.zip  sample_data\n"
          ],
          "name": "stdout"
        }
      ]
    },
    {
      "cell_type": "code",
      "metadata": {
        "id": "7YriBnl2ZteY",
        "colab": {
          "base_uri": "https://localhost:8080/",
          "height": 90
        },
        "outputId": "a7547bbe-ef51-411d-85e9-7798d8bf99dc"
      },
      "source": [
        "!unzip Bike-Sharing-Dataset.zip"
      ],
      "execution_count": null,
      "outputs": [
        {
          "output_type": "stream",
          "text": [
            "Archive:  Bike-Sharing-Dataset.zip\n",
            "  inflating: Readme.txt              \n",
            "  inflating: day.csv                 \n",
            "  inflating: hour.csv                \n"
          ],
          "name": "stdout"
        }
      ]
    },
    {
      "cell_type": "code",
      "metadata": {
        "id": "ayF1c6rwZzzW",
        "colab": {
          "base_uri": "https://localhost:8080/",
          "height": 35
        },
        "outputId": "f89f08be-9938-40fe-d4d1-0e6a58a348b6"
      },
      "source": [
        "!ls"
      ],
      "execution_count": null,
      "outputs": [
        {
          "output_type": "stream",
          "text": [
            "Bike-Sharing-Dataset.zip  day.csv  hour.csv  Readme.txt  sample_data\n"
          ],
          "name": "stdout"
        }
      ]
    },
    {
      "cell_type": "code",
      "metadata": {
        "id": "qLE5gEApBECq"
      },
      "source": [
        "import pandas as pd"
      ],
      "execution_count": null,
      "outputs": []
    },
    {
      "cell_type": "code",
      "metadata": {
        "id": "D7bWOjkwBGSE"
      },
      "source": [
        "import numpy as np"
      ],
      "execution_count": null,
      "outputs": []
    },
    {
      "cell_type": "code",
      "metadata": {
        "id": "aklenW3DBckV"
      },
      "source": [
        "data = pd.read_csv('hour.csv')"
      ],
      "execution_count": null,
      "outputs": []
    },
    {
      "cell_type": "code",
      "metadata": {
        "id": "dQS328B1aBuj",
        "colab": {
          "base_uri": "https://localhost:8080/",
          "height": 424
        },
        "outputId": "e8b0c34c-623e-4315-a79a-3943c3a5be58"
      },
      "source": [
        "data"
      ],
      "execution_count": null,
      "outputs": [
        {
          "output_type": "execute_result",
          "data": {
            "text/html": [
              "<div>\n",
              "<style scoped>\n",
              "    .dataframe tbody tr th:only-of-type {\n",
              "        vertical-align: middle;\n",
              "    }\n",
              "\n",
              "    .dataframe tbody tr th {\n",
              "        vertical-align: top;\n",
              "    }\n",
              "\n",
              "    .dataframe thead th {\n",
              "        text-align: right;\n",
              "    }\n",
              "</style>\n",
              "<table border=\"1\" class=\"dataframe\">\n",
              "  <thead>\n",
              "    <tr style=\"text-align: right;\">\n",
              "      <th></th>\n",
              "      <th>instant</th>\n",
              "      <th>dteday</th>\n",
              "      <th>season</th>\n",
              "      <th>yr</th>\n",
              "      <th>mnth</th>\n",
              "      <th>hr</th>\n",
              "      <th>holiday</th>\n",
              "      <th>weekday</th>\n",
              "      <th>workingday</th>\n",
              "      <th>weathersit</th>\n",
              "      <th>temp</th>\n",
              "      <th>atemp</th>\n",
              "      <th>hum</th>\n",
              "      <th>windspeed</th>\n",
              "      <th>casual</th>\n",
              "      <th>registered</th>\n",
              "      <th>cnt</th>\n",
              "    </tr>\n",
              "  </thead>\n",
              "  <tbody>\n",
              "    <tr>\n",
              "      <th>0</th>\n",
              "      <td>1</td>\n",
              "      <td>2011-01-01</td>\n",
              "      <td>1</td>\n",
              "      <td>0</td>\n",
              "      <td>1</td>\n",
              "      <td>0</td>\n",
              "      <td>0</td>\n",
              "      <td>6</td>\n",
              "      <td>0</td>\n",
              "      <td>1</td>\n",
              "      <td>0.24</td>\n",
              "      <td>0.2879</td>\n",
              "      <td>0.81</td>\n",
              "      <td>0.0000</td>\n",
              "      <td>3</td>\n",
              "      <td>13</td>\n",
              "      <td>16</td>\n",
              "    </tr>\n",
              "    <tr>\n",
              "      <th>1</th>\n",
              "      <td>2</td>\n",
              "      <td>2011-01-01</td>\n",
              "      <td>1</td>\n",
              "      <td>0</td>\n",
              "      <td>1</td>\n",
              "      <td>1</td>\n",
              "      <td>0</td>\n",
              "      <td>6</td>\n",
              "      <td>0</td>\n",
              "      <td>1</td>\n",
              "      <td>0.22</td>\n",
              "      <td>0.2727</td>\n",
              "      <td>0.80</td>\n",
              "      <td>0.0000</td>\n",
              "      <td>8</td>\n",
              "      <td>32</td>\n",
              "      <td>40</td>\n",
              "    </tr>\n",
              "    <tr>\n",
              "      <th>2</th>\n",
              "      <td>3</td>\n",
              "      <td>2011-01-01</td>\n",
              "      <td>1</td>\n",
              "      <td>0</td>\n",
              "      <td>1</td>\n",
              "      <td>2</td>\n",
              "      <td>0</td>\n",
              "      <td>6</td>\n",
              "      <td>0</td>\n",
              "      <td>1</td>\n",
              "      <td>0.22</td>\n",
              "      <td>0.2727</td>\n",
              "      <td>0.80</td>\n",
              "      <td>0.0000</td>\n",
              "      <td>5</td>\n",
              "      <td>27</td>\n",
              "      <td>32</td>\n",
              "    </tr>\n",
              "    <tr>\n",
              "      <th>3</th>\n",
              "      <td>4</td>\n",
              "      <td>2011-01-01</td>\n",
              "      <td>1</td>\n",
              "      <td>0</td>\n",
              "      <td>1</td>\n",
              "      <td>3</td>\n",
              "      <td>0</td>\n",
              "      <td>6</td>\n",
              "      <td>0</td>\n",
              "      <td>1</td>\n",
              "      <td>0.24</td>\n",
              "      <td>0.2879</td>\n",
              "      <td>0.75</td>\n",
              "      <td>0.0000</td>\n",
              "      <td>3</td>\n",
              "      <td>10</td>\n",
              "      <td>13</td>\n",
              "    </tr>\n",
              "    <tr>\n",
              "      <th>4</th>\n",
              "      <td>5</td>\n",
              "      <td>2011-01-01</td>\n",
              "      <td>1</td>\n",
              "      <td>0</td>\n",
              "      <td>1</td>\n",
              "      <td>4</td>\n",
              "      <td>0</td>\n",
              "      <td>6</td>\n",
              "      <td>0</td>\n",
              "      <td>1</td>\n",
              "      <td>0.24</td>\n",
              "      <td>0.2879</td>\n",
              "      <td>0.75</td>\n",
              "      <td>0.0000</td>\n",
              "      <td>0</td>\n",
              "      <td>1</td>\n",
              "      <td>1</td>\n",
              "    </tr>\n",
              "    <tr>\n",
              "      <th>...</th>\n",
              "      <td>...</td>\n",
              "      <td>...</td>\n",
              "      <td>...</td>\n",
              "      <td>...</td>\n",
              "      <td>...</td>\n",
              "      <td>...</td>\n",
              "      <td>...</td>\n",
              "      <td>...</td>\n",
              "      <td>...</td>\n",
              "      <td>...</td>\n",
              "      <td>...</td>\n",
              "      <td>...</td>\n",
              "      <td>...</td>\n",
              "      <td>...</td>\n",
              "      <td>...</td>\n",
              "      <td>...</td>\n",
              "      <td>...</td>\n",
              "    </tr>\n",
              "    <tr>\n",
              "      <th>17374</th>\n",
              "      <td>17375</td>\n",
              "      <td>2012-12-31</td>\n",
              "      <td>1</td>\n",
              "      <td>1</td>\n",
              "      <td>12</td>\n",
              "      <td>19</td>\n",
              "      <td>0</td>\n",
              "      <td>1</td>\n",
              "      <td>1</td>\n",
              "      <td>2</td>\n",
              "      <td>0.26</td>\n",
              "      <td>0.2576</td>\n",
              "      <td>0.60</td>\n",
              "      <td>0.1642</td>\n",
              "      <td>11</td>\n",
              "      <td>108</td>\n",
              "      <td>119</td>\n",
              "    </tr>\n",
              "    <tr>\n",
              "      <th>17375</th>\n",
              "      <td>17376</td>\n",
              "      <td>2012-12-31</td>\n",
              "      <td>1</td>\n",
              "      <td>1</td>\n",
              "      <td>12</td>\n",
              "      <td>20</td>\n",
              "      <td>0</td>\n",
              "      <td>1</td>\n",
              "      <td>1</td>\n",
              "      <td>2</td>\n",
              "      <td>0.26</td>\n",
              "      <td>0.2576</td>\n",
              "      <td>0.60</td>\n",
              "      <td>0.1642</td>\n",
              "      <td>8</td>\n",
              "      <td>81</td>\n",
              "      <td>89</td>\n",
              "    </tr>\n",
              "    <tr>\n",
              "      <th>17376</th>\n",
              "      <td>17377</td>\n",
              "      <td>2012-12-31</td>\n",
              "      <td>1</td>\n",
              "      <td>1</td>\n",
              "      <td>12</td>\n",
              "      <td>21</td>\n",
              "      <td>0</td>\n",
              "      <td>1</td>\n",
              "      <td>1</td>\n",
              "      <td>1</td>\n",
              "      <td>0.26</td>\n",
              "      <td>0.2576</td>\n",
              "      <td>0.60</td>\n",
              "      <td>0.1642</td>\n",
              "      <td>7</td>\n",
              "      <td>83</td>\n",
              "      <td>90</td>\n",
              "    </tr>\n",
              "    <tr>\n",
              "      <th>17377</th>\n",
              "      <td>17378</td>\n",
              "      <td>2012-12-31</td>\n",
              "      <td>1</td>\n",
              "      <td>1</td>\n",
              "      <td>12</td>\n",
              "      <td>22</td>\n",
              "      <td>0</td>\n",
              "      <td>1</td>\n",
              "      <td>1</td>\n",
              "      <td>1</td>\n",
              "      <td>0.26</td>\n",
              "      <td>0.2727</td>\n",
              "      <td>0.56</td>\n",
              "      <td>0.1343</td>\n",
              "      <td>13</td>\n",
              "      <td>48</td>\n",
              "      <td>61</td>\n",
              "    </tr>\n",
              "    <tr>\n",
              "      <th>17378</th>\n",
              "      <td>17379</td>\n",
              "      <td>2012-12-31</td>\n",
              "      <td>1</td>\n",
              "      <td>1</td>\n",
              "      <td>12</td>\n",
              "      <td>23</td>\n",
              "      <td>0</td>\n",
              "      <td>1</td>\n",
              "      <td>1</td>\n",
              "      <td>1</td>\n",
              "      <td>0.26</td>\n",
              "      <td>0.2727</td>\n",
              "      <td>0.65</td>\n",
              "      <td>0.1343</td>\n",
              "      <td>12</td>\n",
              "      <td>37</td>\n",
              "      <td>49</td>\n",
              "    </tr>\n",
              "  </tbody>\n",
              "</table>\n",
              "<p>17379 rows × 17 columns</p>\n",
              "</div>"
            ],
            "text/plain": [
              "       instant      dteday  season  yr  ...  windspeed  casual  registered  cnt\n",
              "0            1  2011-01-01       1   0  ...     0.0000       3          13   16\n",
              "1            2  2011-01-01       1   0  ...     0.0000       8          32   40\n",
              "2            3  2011-01-01       1   0  ...     0.0000       5          27   32\n",
              "3            4  2011-01-01       1   0  ...     0.0000       3          10   13\n",
              "4            5  2011-01-01       1   0  ...     0.0000       0           1    1\n",
              "...        ...         ...     ...  ..  ...        ...     ...         ...  ...\n",
              "17374    17375  2012-12-31       1   1  ...     0.1642      11         108  119\n",
              "17375    17376  2012-12-31       1   1  ...     0.1642       8          81   89\n",
              "17376    17377  2012-12-31       1   1  ...     0.1642       7          83   90\n",
              "17377    17378  2012-12-31       1   1  ...     0.1343      13          48   61\n",
              "17378    17379  2012-12-31       1   1  ...     0.1343      12          37   49\n",
              "\n",
              "[17379 rows x 17 columns]"
            ]
          },
          "metadata": {
            "tags": []
          },
          "execution_count": 9
        }
      ]
    },
    {
      "cell_type": "code",
      "metadata": {
        "id": "NDFPGc2kBm_S",
        "colab": {
          "base_uri": "https://localhost:8080/",
          "height": 35
        },
        "outputId": "e0a4595d-0793-4c8b-ddbc-2238c0979f8f"
      },
      "source": [
        "data.shape"
      ],
      "execution_count": null,
      "outputs": [
        {
          "output_type": "execute_result",
          "data": {
            "text/plain": [
              "(17379, 17)"
            ]
          },
          "metadata": {
            "tags": []
          },
          "execution_count": 10
        }
      ]
    },
    {
      "cell_type": "code",
      "metadata": {
        "id": "QkoYBOiioioq"
      },
      "source": [
        "data = data[['dteday','cnt']]"
      ],
      "execution_count": null,
      "outputs": []
    },
    {
      "cell_type": "code",
      "metadata": {
        "id": "TKZYD6ILa7RP",
        "colab": {
          "base_uri": "https://localhost:8080/",
          "height": 72
        },
        "outputId": "38704846-6962-4582-bbbd-f9cebb2ed2f3"
      },
      "source": [
        "data.dtypes"
      ],
      "execution_count": null,
      "outputs": [
        {
          "output_type": "execute_result",
          "data": {
            "text/plain": [
              "dteday    object\n",
              "cnt        int64\n",
              "dtype: object"
            ]
          },
          "metadata": {
            "tags": []
          },
          "execution_count": 12
        }
      ]
    },
    {
      "cell_type": "code",
      "metadata": {
        "id": "XFFxX2zQbSA8"
      },
      "source": [
        "import matplotlib.pyplot as plt"
      ],
      "execution_count": null,
      "outputs": []
    },
    {
      "cell_type": "code",
      "metadata": {
        "id": "4a7SvI5ObTZz",
        "colab": {
          "base_uri": "https://localhost:8080/",
          "height": 385
        },
        "outputId": "2b2f4295-fe52-453d-c783-77f28c0b15a4"
      },
      "source": [
        "data[:24].plot(figsize=(12,5))\n",
        "plt.ylabel('Quantidade de bikes alugadas')\n",
        "plt.xlabel('Horas')\n",
        "plt.tight_layout()\n",
        "plt.title('Total de aluguel de bikes')\n",
        "plt.show()"
      ],
      "execution_count": null,
      "outputs": [
        {
          "output_type": "display_data",
          "data": {
            "image/png": "[encoded data removed]",
            "text/plain": [
              "<Figure size 864x360 with 1 Axes>"
            ]
          },
          "metadata": {
            "tags": [],
            "needs_background": "light"
          }
        }
      ]
    },
    {
      "cell_type": "markdown",
      "metadata": {
        "id": "N8xPFdKYGaQn"
      },
      "source": [
        "### Conjuntos de treino e teste\n",
        "\n",
        "Gerar dados para treinar o regressor da série temporal"
      ]
    },
    {
      "cell_type": "code",
      "metadata": {
        "id": "55NKWvvXeUVE"
      },
      "source": [
        "from sklearn.preprocessing import MinMaxScaler"
      ],
      "execution_count": null,
      "outputs": []
    },
    {
      "cell_type": "code",
      "metadata": {
        "id": "4DhbtTImeUGA"
      },
      "source": [
        "ts = data['cnt'].values #numpy.ndarray\n",
        "ts = np.reshape(ts, (-1, 1))"
      ],
      "execution_count": null,
      "outputs": []
    },
    {
      "cell_type": "code",
      "metadata": {
        "id": "88DhoKEWAggT",
        "colab": {
          "base_uri": "https://localhost:8080/",
          "height": 35
        },
        "outputId": "078ee2d3-91c4-4f96-ffb8-f35026375168"
      },
      "source": [
        "ts[0]"
      ],
      "execution_count": null,
      "outputs": [
        {
          "output_type": "execute_result",
          "data": {
            "text/plain": [
              "array([16])"
            ]
          },
          "metadata": {
            "tags": []
          },
          "execution_count": 21
        }
      ]
    },
    {
      "cell_type": "code",
      "metadata": {
        "id": "CDninCxmfGb0"
      },
      "source": [
        "scaler = MinMaxScaler(feature_range=(0, 1))\n",
        "ts = scaler.fit_transform(ts)"
      ],
      "execution_count": null,
      "outputs": []
    },
    {
      "cell_type": "code",
      "metadata": {
        "id": "ekF_B27bfgiX",
        "colab": {
          "base_uri": "https://localhost:8080/",
          "height": 563
        },
        "outputId": "3ea4c178-43a4-4d15-dd59-26f27ecbccf5"
      },
      "source": [
        "ts[:30]"
      ],
      "execution_count": null,
      "outputs": [
        {
          "output_type": "execute_result",
          "data": {
            "text/plain": [
              "array([[0.01536885],\n",
              "       [0.03995902],\n",
              "       [0.0317623 ],\n",
              "       [0.01229508],\n",
              "       [0.        ],\n",
              "       [0.        ],\n",
              "       [0.00102459],\n",
              "       [0.00204918],\n",
              "       [0.00717213],\n",
              "       [0.01331967],\n",
              "       [0.03586066],\n",
              "       [0.05635246],\n",
              "       [0.08504098],\n",
              "       [0.09528689],\n",
              "       [0.10758197],\n",
              "       [0.11168033],\n",
              "       [0.0942623 ],\n",
              "       [0.06762295],\n",
              "       [0.03483607],\n",
              "       [0.03688525],\n",
              "       [0.03586066],\n",
              "       [0.03381148],\n",
              "       [0.02766393],\n",
              "       [0.03893443],\n",
              "       [0.01639344],\n",
              "       [0.01639344],\n",
              "       [0.00819672],\n",
              "       [0.00512295],\n",
              "       [0.00204918],\n",
              "       [0.00102459]])"
            ]
          },
          "metadata": {
            "tags": []
          },
          "execution_count": 23
        }
      ]
    },
    {
      "cell_type": "code",
      "metadata": {
        "id": "oVuKblgLf4JH",
        "colab": {
          "base_uri": "https://localhost:8080/",
          "height": 53
        },
        "outputId": "b1ee4b52-0b02-44fc-e638-0afb4f56edef"
      },
      "source": [
        "train_size = int(len(ts) * 0.80)\n",
        "test_size = len(ts) - train_size\n",
        "print(train_size)\n",
        "print(test_size)"
      ],
      "execution_count": null,
      "outputs": [
        {
          "output_type": "stream",
          "text": [
            "13903\n",
            "3476\n"
          ],
          "name": "stdout"
        }
      ]
    },
    {
      "cell_type": "code",
      "metadata": {
        "id": "56akhq7vfJPj"
      },
      "source": [
        "train, test = ts[0:train_size,:], ts[train_size:len(ts),:]"
      ],
      "execution_count": null,
      "outputs": []
    },
    {
      "cell_type": "code",
      "metadata": {
        "id": "ZZT7G9dvi03w",
        "colab": {
          "base_uri": "https://localhost:8080/",
          "height": 53
        },
        "outputId": "560e8ef6-91b3-4138-9e0d-6bde1a65e924"
      },
      "source": [
        "print(train.shape)\n",
        "print(test.shape)"
      ],
      "execution_count": null,
      "outputs": [
        {
          "output_type": "stream",
          "text": [
            "(13903, 1)\n",
            "(3476, 1)\n"
          ],
          "name": "stdout"
        }
      ]
    },
    {
      "cell_type": "code",
      "metadata": {
        "id": "itsmlhCpgQPu"
      },
      "source": [
        "def create_dataset(dataset, look_back=1):\n",
        "    X, Y = [], []\n",
        "    for i in range(len(dataset)-look_back-1):\n",
        "        a = dataset[i:(i+look_back), 0]\n",
        "        X.append(a)\n",
        "        Y.append(dataset[i + look_back, 0])\n",
        "    return np.array(X), np.array(Y)"
      ],
      "execution_count": null,
      "outputs": []
    },
    {
      "cell_type": "code",
      "metadata": {
        "id": "0Ai8f_CcgV94"
      },
      "source": [
        "look_back = 24\n",
        "X_train, Y_train = create_dataset(train, look_back)\n",
        "X_test, Y_test = create_dataset(test, look_back)"
      ],
      "execution_count": null,
      "outputs": []
    },
    {
      "cell_type": "code",
      "metadata": {
        "id": "cVDxcKFjeUNc"
      },
      "source": [
        "# reshape input to be [samples, time steps, features]\n",
        "X_train = np.reshape(X_train, (X_train.shape[0], 1, X_train.shape[1]))\n",
        "X_test = np.reshape(X_test, (X_test.shape[0], 1, X_test.shape[1]))"
      ],
      "execution_count": null,
      "outputs": []
    },
    {
      "cell_type": "code",
      "metadata": {
        "id": "xnbIgOxVgZuN",
        "colab": {
          "base_uri": "https://localhost:8080/",
          "height": 53
        },
        "outputId": "7d627029-f0bb-4753-aac0-5e83fb41414b"
      },
      "source": [
        "print(X_train.shape)\n",
        "print(X_test.shape)"
      ],
      "execution_count": null,
      "outputs": [
        {
          "output_type": "stream",
          "text": [
            "(13878, 1, 24)\n",
            "(3451, 1, 24)\n"
          ],
          "name": "stdout"
        }
      ]
    },
    {
      "cell_type": "code",
      "metadata": {
        "id": "dcwPR7Nygm9f",
        "colab": {
          "base_uri": "https://localhost:8080/",
          "height": 108
        },
        "outputId": "267322fe-111b-4735-9934-8136ded06e71"
      },
      "source": [
        "X_train[0]"
      ],
      "execution_count": null,
      "outputs": [
        {
          "output_type": "execute_result",
          "data": {
            "text/plain": [
              "array([[0.01536885, 0.03995902, 0.0317623 , 0.01229508, 0.        ,\n",
              "        0.        , 0.00102459, 0.00204918, 0.00717213, 0.01331967,\n",
              "        0.03586066, 0.05635246, 0.08504098, 0.09528689, 0.10758197,\n",
              "        0.11168033, 0.0942623 , 0.06762295, 0.03483607, 0.03688525,\n",
              "        0.03586066, 0.03381148, 0.02766393, 0.03893443]])"
            ]
          },
          "metadata": {
            "tags": []
          },
          "execution_count": 31
        }
      ]
    },
    {
      "cell_type": "markdown",
      "metadata": {
        "id": "o3HK66a_g6fB"
      },
      "source": [
        "### Criando uma LSTM"
      ]
    },
    {
      "cell_type": "code",
      "metadata": {
        "id": "T_javfc7g-Pp"
      },
      "source": [
        "from tensorflow.keras.models import Sequential\n",
        "from tensorflow.keras.layers import Dense\n",
        "from tensorflow.keras.layers import LSTM\n",
        "from tensorflow.keras.layers import Dropout\n",
        "from tensorflow.keras.callbacks import EarlyStopping\n",
        "\n",
        "from sklearn.metrics import mean_squared_error\n",
        "from sklearn.metrics import mean_absolute_error\n"
      ],
      "execution_count": null,
      "outputs": []
    },
    {
      "cell_type": "code",
      "metadata": {
        "id": "pyTKsmEvhm2s"
      },
      "source": [
        "model = Sequential()\n",
        "model.add(LSTM(100, input_shape=(X_train.shape[1], X_train.shape[2], )))\n",
        "model.add(Dropout(0.2))\n",
        "model.add(Dense(1))"
      ],
      "execution_count": null,
      "outputs": []
    },
    {
      "cell_type": "code",
      "metadata": {
        "id": "jPnlzc2nhown",
        "colab": {
          "base_uri": "https://localhost:8080/",
          "height": 272
        },
        "outputId": "2cbb314d-8aa1-4f16-dcc3-8dee31f23301"
      },
      "source": [
        "model.summary()"
      ],
      "execution_count": null,
      "outputs": [
        {
          "output_type": "stream",
          "text": [
            "Model: \"sequential\"\n",
            "_________________________________________________________________\n",
            "Layer (type)                 Output Shape              Param #   \n",
            "=================================================================\n",
            "lstm (LSTM)                  (None, 100)               50000     \n",
            "_________________________________________________________________\n",
            "dropout (Dropout)            (None, 100)               0         \n",
            "_________________________________________________________________\n",
            "dense (Dense)                (None, 1)                 101       \n",
            "=================================================================\n",
            "Total params: 50,101\n",
            "Trainable params: 50,101\n",
            "Non-trainable params: 0\n",
            "_________________________________________________________________\n"
          ],
          "name": "stdout"
        }
      ]
    },
    {
      "cell_type": "code",
      "metadata": {
        "id": "dCOo0uKdhwo5"
      },
      "source": [
        "model.compile(loss='mean_squared_error', optimizer='sgd')"
      ],
      "execution_count": null,
      "outputs": []
    },
    {
      "cell_type": "code",
      "metadata": {
        "id": "FQps-8sNg-Mv",
        "colab": {
          "base_uri": "https://localhost:8080/",
          "height": 1000
        },
        "outputId": "20ee41c3-eac7-4e2f-ce42-d4638e0590af"
      },
      "source": [
        "history = model.fit(X_train, Y_train, epochs=200, batch_size=30, validation_split=0.2, \n",
        "                    callbacks=[EarlyStopping(monitor='val_loss', patience=5, min_delta=0.0003)], verbose=1, shuffle=False)"
      ],
      "execution_count": null,
      "outputs": [
        {
          "output_type": "stream",
          "text": [
            "Epoch 1/200\n",
            "371/371 [==============================] - 1s 3ms/step - loss: 0.0205 - val_loss: 0.0487\n",
            "Epoch 2/200\n",
            "371/371 [==============================] - 1s 2ms/step - loss: 0.0182 - val_loss: 0.0425\n",
            "Epoch 3/200\n",
            "371/371 [==============================] - 1s 2ms/step - loss: 0.0161 - val_loss: 0.0376\n",
            "Epoch 4/200\n",
            "371/371 [==============================] - 1s 2ms/step - loss: 0.0144 - val_loss: 0.0335\n",
            "Epoch 5/200\n",
            "371/371 [==============================] - 1s 2ms/step - loss: 0.0130 - val_loss: 0.0301\n",
            "Epoch 6/200\n",
            "371/371 [==============================] - 1s 2ms/step - loss: 0.0117 - val_loss: 0.0274\n",
            "Epoch 7/200\n",
            "371/371 [==============================] - 1s 2ms/step - loss: 0.0108 - val_loss: 0.0251\n",
            "Epoch 8/200\n",
            "371/371 [==============================] - 1s 3ms/step - loss: 0.0101 - val_loss: 0.0231\n",
            "Epoch 9/200\n",
            "371/371 [==============================] - 1s 4ms/step - loss: 0.0093 - val_loss: 0.0214\n",
            "Epoch 10/200\n",
            "371/371 [==============================] - 1s 4ms/step - loss: 0.0088 - val_loss: 0.0201\n",
            "Epoch 11/200\n",
            "371/371 [==============================] - 1s 4ms/step - loss: 0.0083 - val_loss: 0.0190\n",
            "Epoch 12/200\n",
            "371/371 [==============================] - 1s 4ms/step - loss: 0.0079 - val_loss: 0.0180\n",
            "Epoch 13/200\n",
            "371/371 [==============================] - 1s 4ms/step - loss: 0.0075 - val_loss: 0.0172\n",
            "Epoch 14/200\n",
            "371/371 [==============================] - 1s 4ms/step - loss: 0.0073 - val_loss: 0.0165\n",
            "Epoch 15/200\n",
            "371/371 [==============================] - 1s 4ms/step - loss: 0.0071 - val_loss: 0.0159\n",
            "Epoch 16/200\n",
            "371/371 [==============================] - 1s 2ms/step - loss: 0.0068 - val_loss: 0.0154\n",
            "Epoch 17/200\n",
            "371/371 [==============================] - 1s 2ms/step - loss: 0.0066 - val_loss: 0.0150\n",
            "Epoch 18/200\n",
            "371/371 [==============================] - 1s 3ms/step - loss: 0.0064 - val_loss: 0.0146\n",
            "Epoch 19/200\n",
            "371/371 [==============================] - 1s 2ms/step - loss: 0.0062 - val_loss: 0.0142\n",
            "Epoch 20/200\n",
            "371/371 [==============================] - 1s 2ms/step - loss: 0.0062 - val_loss: 0.0139\n",
            "Epoch 21/200\n",
            "371/371 [==============================] - 1s 2ms/step - loss: 0.0060 - val_loss: 0.0136\n",
            "Epoch 22/200\n",
            "371/371 [==============================] - 1s 2ms/step - loss: 0.0060 - val_loss: 0.0134\n",
            "Epoch 23/200\n",
            "371/371 [==============================] - 1s 2ms/step - loss: 0.0058 - val_loss: 0.0131\n",
            "Epoch 24/200\n",
            "371/371 [==============================] - 1s 3ms/step - loss: 0.0058 - val_loss: 0.0129\n",
            "Epoch 25/200\n",
            "371/371 [==============================] - 1s 3ms/step - loss: 0.0057 - val_loss: 0.0128\n",
            "Epoch 26/200\n",
            "371/371 [==============================] - 1s 2ms/step - loss: 0.0056 - val_loss: 0.0126\n",
            "Epoch 27/200\n",
            "371/371 [==============================] - 1s 2ms/step - loss: 0.0056 - val_loss: 0.0124\n",
            "Epoch 28/200\n",
            "371/371 [==============================] - 1s 2ms/step - loss: 0.0055 - val_loss: 0.0123\n",
            "Epoch 29/200\n",
            "371/371 [==============================] - 1s 2ms/step - loss: 0.0054 - val_loss: 0.0121\n",
            "Epoch 30/200\n",
            "371/371 [==============================] - 1s 2ms/step - loss: 0.0054 - val_loss: 0.0120\n",
            "Epoch 31/200\n",
            "371/371 [==============================] - 1s 2ms/step - loss: 0.0054 - val_loss: 0.0119\n",
            "Epoch 32/200\n",
            "371/371 [==============================] - 1s 3ms/step - loss: 0.0054 - val_loss: 0.0118\n",
            "Epoch 33/200\n",
            "371/371 [==============================] - 1s 2ms/step - loss: 0.0053 - val_loss: 0.0117\n",
            "Epoch 34/200\n",
            "371/371 [==============================] - 1s 2ms/step - loss: 0.0052 - val_loss: 0.0116\n",
            "Epoch 35/200\n",
            "371/371 [==============================] - 1s 3ms/step - loss: 0.0051 - val_loss: 0.0115\n",
            "Epoch 36/200\n",
            "371/371 [==============================] - 1s 2ms/step - loss: 0.0051 - val_loss: 0.0114\n",
            "Epoch 37/200\n",
            "371/371 [==============================] - 1s 2ms/step - loss: 0.0050 - val_loss: 0.0113\n",
            "Epoch 38/200\n",
            "371/371 [==============================] - 1s 2ms/step - loss: 0.0050 - val_loss: 0.0112\n",
            "Epoch 39/200\n",
            "371/371 [==============================] - 1s 2ms/step - loss: 0.0050 - val_loss: 0.0111\n",
            "Epoch 40/200\n",
            "371/371 [==============================] - 1s 2ms/step - loss: 0.0050 - val_loss: 0.0111\n",
            "Epoch 41/200\n",
            "371/371 [==============================] - 1s 2ms/step - loss: 0.0050 - val_loss: 0.0110\n",
            "Epoch 42/200\n",
            "371/371 [==============================] - 1s 2ms/step - loss: 0.0049 - val_loss: 0.0109\n",
            "Epoch 43/200\n",
            "371/371 [==============================] - 1s 2ms/step - loss: 0.0049 - val_loss: 0.0109\n",
            "Epoch 44/200\n",
            "371/371 [==============================] - 1s 2ms/step - loss: 0.0049 - val_loss: 0.0108\n",
            "Epoch 45/200\n",
            "371/371 [==============================] - 1s 3ms/step - loss: 0.0049 - val_loss: 0.0107\n",
            "Epoch 46/200\n",
            "371/371 [==============================] - 1s 2ms/step - loss: 0.0048 - val_loss: 0.0107\n",
            "Epoch 47/200\n",
            "371/371 [==============================] - 1s 2ms/step - loss: 0.0048 - val_loss: 0.0106\n",
            "Epoch 48/200\n",
            "371/371 [==============================] - 1s 2ms/step - loss: 0.0048 - val_loss: 0.0106\n",
            "Epoch 49/200\n",
            "371/371 [==============================] - 1s 2ms/step - loss: 0.0048 - val_loss: 0.0105\n",
            "Epoch 50/200\n",
            "371/371 [==============================] - 1s 2ms/step - loss: 0.0047 - val_loss: 0.0105\n",
            "Epoch 51/200\n",
            "371/371 [==============================] - 1s 2ms/step - loss: 0.0047 - val_loss: 0.0104\n"
          ],
          "name": "stdout"
        }
      ]
    },
    {
      "cell_type": "markdown",
      "metadata": {
        "id": "eb94ZwgNh_Pn"
      },
      "source": [
        "### Avaliando resultados do treino"
      ]
    },
    {
      "cell_type": "code",
      "metadata": {
        "id": "rwdI-JWMiHkb"
      },
      "source": [
        "#Gerar predições\n",
        "train_predict = model.predict(X_train)\n",
        "test_predict = model.predict(X_test)"
      ],
      "execution_count": null,
      "outputs": []
    },
    {
      "cell_type": "code",
      "metadata": {
        "id": "71X6shBig-J8",
        "colab": {
          "base_uri": "https://localhost:8080/",
          "height": 90
        },
        "outputId": "89f09a5c-ab7b-413b-e365-a556e09fb876"
      },
      "source": [
        "# inverter as predições (recuperar valor do MinMaxScaler)\n",
        "train_predict = scaler.inverse_transform(train_predict)\n",
        "Y_train = scaler.inverse_transform([Y_train])\n",
        "test_predict = scaler.inverse_transform(test_predict)\n",
        "Y_test = scaler.inverse_transform([Y_test])\n",
        "print('Treino Mean Absolute Error:', mean_absolute_error(Y_train[0], train_predict[:,0]))\n",
        "print('Treino Root Mean Squared Error:',np.sqrt(mean_squared_error(Y_train[0], train_predict[:,0])))\n",
        "print('Test Mean Absolute Error:', mean_absolute_error(Y_test[0], test_predict[:,0]))\n",
        "print('Test Root Mean Squared Error:',np.sqrt(mean_squared_error(Y_test[0], test_predict[:,0])))"
      ],
      "execution_count": null,
      "outputs": [
        {
          "output_type": "stream",
          "text": [
            "Treino Mean Absolute Error: 50.84410041830505\n",
            "Treino Root Mean Squared Error: 73.67122868447301\n",
            "Test Mean Absolute Error: 67.1974137463075\n",
            "Test Root Mean Squared Error: 98.37283587478407\n"
          ],
          "name": "stdout"
        }
      ]
    },
    {
      "cell_type": "markdown",
      "metadata": {
        "id": "NwA-CqrpkSD9"
      },
      "source": [
        "Plot do treino"
      ]
    },
    {
      "cell_type": "code",
      "metadata": {
        "id": "LI2QBEbFev2i",
        "colab": {
          "base_uri": "https://localhost:8080/",
          "height": 295
        },
        "outputId": "809f861b-c2dd-442d-9544-1ea503e8e2e5"
      },
      "source": [
        "plt.figure(figsize=(8,4))\n",
        "plt.plot(history.history['loss'], label='Train Loss')\n",
        "plt.plot(history.history['val_loss'], label='Test Loss')\n",
        "plt.title('model loss')\n",
        "plt.ylabel('loss')\n",
        "plt.xlabel('epochs')\n",
        "plt.legend(loc='upper right')\n",
        "plt.show()"
      ],
      "execution_count": null,
      "outputs": [
        {
          "output_type": "display_data",
          "data": {
            "image/png": "[encoded data removed]",
            "text/plain": [
              "<Figure size 576x288 with 1 Axes>"
            ]
          },
          "metadata": {
            "tags": [],
            "needs_background": "light"
          }
        }
      ]
    },
    {
      "cell_type": "markdown",
      "metadata": {
        "id": "TZg2Ebg1kaBc"
      },
      "source": [
        "Comparar real e predição:"
      ]
    },
    {
      "cell_type": "code",
      "metadata": {
        "id": "-6Y2_fmBkUZb",
        "colab": {
          "base_uri": "https://localhost:8080/",
          "height": 334
        },
        "outputId": "9281f86f-ac14-4f25-817c-e0596c959b21"
      },
      "source": [
        "interval = 48 #48 horas\n",
        "print('interval: ', interval)\n",
        "aa=[x for x in range(X_test[:interval].shape[0])]\n",
        "plt.figure(figsize=(8,4))\n",
        "plt.plot(aa, Y_test[0][:X_test[:interval].shape[0]], marker='.', label=\"real\")\n",
        "plt.plot(aa, test_predict[:,0][:X_test[:interval].shape[0]], 'r', label=\"predição\")\n",
        "# plt.tick_params(left=False, labelleft=True) #remove ticks\n",
        "plt.tight_layout()\n",
        "plt.subplots_adjust(left=0.07)\n",
        "plt.ylabel('quantidade de bikes alugadas', size=15)\n",
        "plt.xlabel('Horas', size=15)\n",
        "plt.legend(fontsize=15)\n",
        "plt.show()"
      ],
      "execution_count": null,
      "outputs": [
        {
          "output_type": "stream",
          "text": [
            "interval:  48\n"
          ],
          "name": "stdout"
        },
        {
          "output_type": "display_data",
          "data": {
            "image/png": "[encoded data removed]",
            "text/plain": [
              "<Figure size 576x288 with 1 Axes>"
            ]
          },
          "metadata": {
            "tags": [],
            "needs_background": "light"
          }
        }
      ]
    },
    {
      "cell_type": "code",
      "metadata": {
        "id": "Ic3nKi-qkfmr"
      },
      "source": [
        ""
      ],
      "execution_count": null,
      "outputs": []
    }
  ]
}