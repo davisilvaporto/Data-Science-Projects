{
  "nbformat": 4,
  "nbformat_minor": 0,
  "metadata": {
    "colab": {
      "name": "Coleta_de_Dados_e_Web_Scraping.ipynb",
      "provenance": []
    },
    "kernelspec": {
      "name": "python3",
      "display_name": "Python 3"
    }
  },
  "cells": [
    {
      "cell_type": "markdown",
      "metadata": {
        "id": "dY845N0ExXQG"
      },
      "source": [
        "**Coleta dos Dados e Web Scraping**"
      ]
    },
    {
      "cell_type": "markdown",
      "metadata": {
        "id": "Ca3szi9maded"
      },
      "source": [
        "### Instalar bibliotecas"
      ]
    },
    {
      "cell_type": "markdown",
      "metadata": {
        "id": "pGQoHludjpGs"
      },
      "source": [
        "Vamos instalar todos as bibliotecas que utilizaremos"
      ]
    },
    {
      "cell_type": "code",
      "metadata": {
        "id": "wxIOwuBqvToB"
      },
      "source": [
        "# Importação e estruturação da biblioteca Pandas (ler, manipular, agregar e plotar os dados)\n",
        "# Muito utilizado para Análise Exploratória de Dados (EDA)\n",
        "import pandas as pd\n",
        "# Configuração da exibição do Dataframe\n",
        "pd.set_option(\"display.max_colwidth\", 140) # Configura as colunas\n",
        "pd.set_option(\"display.min_rows\", 20) # Configura as linhas do meu dataframe."
      ],
      "execution_count": null,
      "outputs": []
    },
    {
      "cell_type": "markdown",
      "metadata": {
        "id": "_TqJEyUJj5TM"
      },
      "source": [
        "Vamos importar a biblioteca Numpy, responsável pelas funções matemáticas"
      ]
    },
    {
      "cell_type": "markdown",
      "metadata": {
        "id": "F_PxyiFzcjDK"
      },
      "source": [
        "Guarde todas as informações das bibliotecas Pandas e Numpy"
      ]
    },
    {
      "cell_type": "code",
      "metadata": {
        "id": "M08cunY5VYfM"
      },
      "source": [
        "# Importar a biblioteca Numpy: específica para funções matemáticas\n",
        "# Uma boa prática é sempre instalar com a sigla \"np\"\n",
        "import numpy as np"
      ],
      "execution_count": null,
      "outputs": []
    },
    {
      "cell_type": "markdown",
      "metadata": {
        "id": "SMTUFxUXaMG8"
      },
      "source": [
        "### Coletando dados com Web Scraping"
      ]
    },
    {
      "cell_type": "markdown",
      "metadata": {
        "id": "kHzaHwuBJijX"
      },
      "source": [
        "Vamos instalar o yfinance: https://pypi.org/project/yfinance/"
      ]
    },
    {
      "cell_type": "code",
      "metadata": {
        "id": "BZ7qYEvevZsX",
        "colab": {
          "base_uri": "https://localhost:8080/"
        },
        "outputId": "463ea069-c108-4db2-a31b-07f118d16677"
      },
      "source": [
        "# Instalar o Yahoo Finance\n",
        "# yfinance busca fazer o download dos dados do Yahoo! finance (https://pypi.org/project/yfinance/).\n",
        "!pip install yfinance\n",
        "import yfinance as yf # Sempre usar yf para esta biblioteca."
      ],
      "execution_count": null,
      "outputs": [
        {
          "output_type": "stream",
          "text": [
            "Collecting yfinance\n",
            "  Downloading https://files.pythonhosted.org/packages/7a/e8/b9d7104d3a4bf39924799067592d9e59119fcfc900a425a12e80a3123ec8/yfinance-0.1.55.tar.gz\n",
            "Requirement already satisfied: pandas>=0.24 in /usr/local/lib/python3.7/dist-packages (from yfinance) (1.1.5)\n",
            "Requirement already satisfied: numpy>=1.15 in /usr/local/lib/python3.7/dist-packages (from yfinance) (1.19.5)\n",
            "Requirement already satisfied: requests>=2.20 in /usr/local/lib/python3.7/dist-packages (from yfinance) (2.23.0)\n",
            "Requirement already satisfied: multitasking>=0.0.7 in /usr/local/lib/python3.7/dist-packages (from yfinance) (0.0.9)\n",
            "Collecting lxml>=4.5.1\n",
            "\u001b[?25l  Downloading https://files.pythonhosted.org/packages/d2/88/b25778f17e5320c1c58f8c5060fb5b037288e162bd7554c30799e9ea90db/lxml-4.6.2-cp37-cp37m-manylinux1_x86_64.whl (5.5MB)\n",
            "\u001b[K     |████████████████████████████████| 5.5MB 20.2MB/s \n",
            "\u001b[?25hRequirement already satisfied: pytz>=2017.2 in /usr/local/lib/python3.7/dist-packages (from pandas>=0.24->yfinance) (2018.9)\n",
            "Requirement already satisfied: python-dateutil>=2.7.3 in /usr/local/lib/python3.7/dist-packages (from pandas>=0.24->yfinance) (2.8.1)\n",
            "Requirement already satisfied: idna<3,>=2.5 in /usr/local/lib/python3.7/dist-packages (from requests>=2.20->yfinance) (2.10)\n",
            "Requirement already satisfied: chardet<4,>=3.0.2 in /usr/local/lib/python3.7/dist-packages (from requests>=2.20->yfinance) (3.0.4)\n",
            "Requirement already satisfied: certifi>=2017.4.17 in /usr/local/lib/python3.7/dist-packages (from requests>=2.20->yfinance) (2020.12.5)\n",
            "Requirement already satisfied: urllib3!=1.25.0,!=1.25.1,<1.26,>=1.21.1 in /usr/local/lib/python3.7/dist-packages (from requests>=2.20->yfinance) (1.24.3)\n",
            "Requirement already satisfied: six>=1.5 in /usr/local/lib/python3.7/dist-packages (from python-dateutil>=2.7.3->pandas>=0.24->yfinance) (1.15.0)\n",
            "Building wheels for collected packages: yfinance\n",
            "  Building wheel for yfinance (setup.py) ... \u001b[?25l\u001b[?25hdone\n",
            "  Created wheel for yfinance: filename=yfinance-0.1.55-py2.py3-none-any.whl size=22616 sha256=a3e0a71be1b138a2ef927e84a19d5eb9e333d2214218b6f25e6059846fea04e2\n",
            "  Stored in directory: /root/.cache/pip/wheels/04/98/cc/2702a4242d60bdc14f48b4557c427ded1fe92aedf257d4565c\n",
            "Successfully built yfinance\n",
            "Installing collected packages: lxml, yfinance\n",
            "  Found existing installation: lxml 4.2.6\n",
            "    Uninstalling lxml-4.2.6:\n",
            "      Successfully uninstalled lxml-4.2.6\n",
            "Successfully installed lxml-4.6.2 yfinance-0.1.55\n"
          ],
          "name": "stdout"
        }
      ]
    },
    {
      "cell_type": "code",
      "metadata": {
        "id": "vBooCO7Evg3S"
      },
      "source": [
        "# Programação específica apenas para o Google Colaboratory\n",
        "import ssl\n",
        "ssl._create_default_https_context = ssl._create_unverified_context"
      ],
      "execution_count": null,
      "outputs": []
    },
    {
      "cell_type": "code",
      "metadata": {
        "id": "8xdLcnwOvpch"
      },
      "source": [
        "# Vamos buscar os dados do Tesouro Direto.\n",
        "def busca_titulos_tesouro_direto():\n",
        "  url = 'https://www.tesourotransparente.gov.br/ckan/dataset/df56aa42-484a-4a59-8184-7676580c81e3/resource/796d2059-14e9-44e3-80c9-2d9e30b405c1/download/PrecoTaxaTesouroDireto.csv'\n",
        "  df  = pd.read_csv(url, sep=';', decimal=',')\n",
        "  df['Data Vencimento'] = pd.to_datetime(df['Data Vencimento'], dayfirst=True)\n",
        "  df['Data Base']       = pd.to_datetime(df['Data Base'], dayfirst=True)\n",
        "  multi_indice = pd.MultiIndex.from_frame(df.iloc[:, :3])\n",
        "  df = df.set_index(multi_indice).iloc[: , 3:]  \n",
        "  return df"
      ],
      "execution_count": null,
      "outputs": []
    },
    {
      "cell_type": "code",
      "metadata": {
        "id": "REB4BZQ6vu1I"
      },
      "source": [
        "titulos = busca_titulos_tesouro_direto() # Criamos os títulos e adicionamos \"busca_titulos_tesouro_direto()\" a este."
      ],
      "execution_count": null,
      "outputs": []
    },
    {
      "cell_type": "code",
      "metadata": {
        "id": "TLct9hZVvwng",
        "colab": {
          "base_uri": "https://localhost:8080/",
          "height": 390
        },
        "outputId": "f89860b9-5063-4486-cf92-29cff91720fb"
      },
      "source": [
        "# Ver os dados das 5 primeiras colunas e 5 primeiras linhas\n",
        "titulos.head(10)"
      ],
      "execution_count": null,
      "outputs": [
        {
          "output_type": "execute_result",
          "data": {
            "text/html": [
              "<div>\n",
              "<style scoped>\n",
              "    .dataframe tbody tr th:only-of-type {\n",
              "        vertical-align: middle;\n",
              "    }\n",
              "\n",
              "    .dataframe tbody tr th {\n",
              "        vertical-align: top;\n",
              "    }\n",
              "\n",
              "    .dataframe thead th {\n",
              "        text-align: right;\n",
              "    }\n",
              "</style>\n",
              "<table border=\"1\" class=\"dataframe\">\n",
              "  <thead>\n",
              "    <tr style=\"text-align: right;\">\n",
              "      <th></th>\n",
              "      <th></th>\n",
              "      <th></th>\n",
              "      <th>Taxa Compra Manha</th>\n",
              "      <th>Taxa Venda Manha</th>\n",
              "      <th>PU Compra Manha</th>\n",
              "      <th>PU Venda Manha</th>\n",
              "      <th>PU Base Manha</th>\n",
              "    </tr>\n",
              "    <tr>\n",
              "      <th>Tipo Titulo</th>\n",
              "      <th>Data Vencimento</th>\n",
              "      <th>Data Base</th>\n",
              "      <th></th>\n",
              "      <th></th>\n",
              "      <th></th>\n",
              "      <th></th>\n",
              "      <th></th>\n",
              "    </tr>\n",
              "  </thead>\n",
              "  <tbody>\n",
              "    <tr>\n",
              "      <th rowspan=\"10\" valign=\"top\">Tesouro IPCA+ com Juros Semestrais</th>\n",
              "      <th rowspan=\"10\" valign=\"top\">2015-05-15</th>\n",
              "      <th>2008-11-10</th>\n",
              "      <td>9.86</td>\n",
              "      <td>9.92</td>\n",
              "      <td>1519.01</td>\n",
              "      <td>1514.72</td>\n",
              "      <td>1513.94</td>\n",
              "    </tr>\n",
              "    <tr>\n",
              "      <th>2008-11-11</th>\n",
              "      <td>9.85</td>\n",
              "      <td>9.91</td>\n",
              "      <td>1520.51</td>\n",
              "      <td>1516.22</td>\n",
              "      <td>1515.44</td>\n",
              "    </tr>\n",
              "    <tr>\n",
              "      <th>2008-11-12</th>\n",
              "      <td>9.84</td>\n",
              "      <td>9.90</td>\n",
              "      <td>1522.01</td>\n",
              "      <td>1517.72</td>\n",
              "      <td>1516.94</td>\n",
              "    </tr>\n",
              "    <tr>\n",
              "      <th>2008-11-13</th>\n",
              "      <td>9.80</td>\n",
              "      <td>9.86</td>\n",
              "      <td>1525.66</td>\n",
              "      <td>1521.37</td>\n",
              "      <td>1520.58</td>\n",
              "    </tr>\n",
              "    <tr>\n",
              "      <th>2008-11-14</th>\n",
              "      <td>9.92</td>\n",
              "      <td>9.98</td>\n",
              "      <td>1465.75</td>\n",
              "      <td>1461.48</td>\n",
              "      <td>1512.79</td>\n",
              "    </tr>\n",
              "    <tr>\n",
              "      <th>2008-11-17</th>\n",
              "      <td>9.80</td>\n",
              "      <td>9.86</td>\n",
              "      <td>1475.12</td>\n",
              "      <td>1470.83</td>\n",
              "      <td>1470.03</td>\n",
              "    </tr>\n",
              "    <tr>\n",
              "      <th>2008-11-18</th>\n",
              "      <td>9.79</td>\n",
              "      <td>9.85</td>\n",
              "      <td>1476.63</td>\n",
              "      <td>1472.34</td>\n",
              "      <td>1472.09</td>\n",
              "    </tr>\n",
              "    <tr>\n",
              "      <th>2008-11-19</th>\n",
              "      <td>9.70</td>\n",
              "      <td>9.76</td>\n",
              "      <td>1483.91</td>\n",
              "      <td>1479.59</td>\n",
              "      <td>1478.79</td>\n",
              "    </tr>\n",
              "    <tr>\n",
              "      <th>2008-11-20</th>\n",
              "      <td>9.70</td>\n",
              "      <td>9.76</td>\n",
              "      <td>1484.71</td>\n",
              "      <td>1480.39</td>\n",
              "      <td>1479.59</td>\n",
              "    </tr>\n",
              "    <tr>\n",
              "      <th>2008-11-21</th>\n",
              "      <td>9.70</td>\n",
              "      <td>9.76</td>\n",
              "      <td>1486.01</td>\n",
              "      <td>1481.69</td>\n",
              "      <td>1480.39</td>\n",
              "    </tr>\n",
              "  </tbody>\n",
              "</table>\n",
              "</div>"
            ],
            "text/plain": [
              "                                                               Taxa Compra Manha  ...  PU Base Manha\n",
              "Tipo Titulo                        Data Vencimento Data Base                      ...               \n",
              "Tesouro IPCA+ com Juros Semestrais 2015-05-15      2008-11-10               9.86  ...        1513.94\n",
              "                                                   2008-11-11               9.85  ...        1515.44\n",
              "                                                   2008-11-12               9.84  ...        1516.94\n",
              "                                                   2008-11-13               9.80  ...        1520.58\n",
              "                                                   2008-11-14               9.92  ...        1512.79\n",
              "                                                   2008-11-17               9.80  ...        1470.03\n",
              "                                                   2008-11-18               9.79  ...        1472.09\n",
              "                                                   2008-11-19               9.70  ...        1478.79\n",
              "                                                   2008-11-20               9.70  ...        1479.59\n",
              "                                                   2008-11-21               9.70  ...        1480.39\n",
              "\n",
              "[10 rows x 5 columns]"
            ]
          },
          "metadata": {
            "tags": []
          },
          "execution_count": 7
        }
      ]
    },
    {
      "cell_type": "code",
      "metadata": {
        "id": "avuT8I1AMSxq",
        "colab": {
          "base_uri": "https://localhost:8080/",
          "height": 390
        },
        "outputId": "502ed3a2-498b-4664-eabe-4ea395899d5f"
      },
      "source": [
        "# Ver os dados das últimas 5 linhas\n",
        "titulos.tail(10)"
      ],
      "execution_count": null,
      "outputs": [
        {
          "output_type": "execute_result",
          "data": {
            "text/html": [
              "<div>\n",
              "<style scoped>\n",
              "    .dataframe tbody tr th:only-of-type {\n",
              "        vertical-align: middle;\n",
              "    }\n",
              "\n",
              "    .dataframe tbody tr th {\n",
              "        vertical-align: top;\n",
              "    }\n",
              "\n",
              "    .dataframe thead th {\n",
              "        text-align: right;\n",
              "    }\n",
              "</style>\n",
              "<table border=\"1\" class=\"dataframe\">\n",
              "  <thead>\n",
              "    <tr style=\"text-align: right;\">\n",
              "      <th></th>\n",
              "      <th></th>\n",
              "      <th></th>\n",
              "      <th>Taxa Compra Manha</th>\n",
              "      <th>Taxa Venda Manha</th>\n",
              "      <th>PU Compra Manha</th>\n",
              "      <th>PU Venda Manha</th>\n",
              "      <th>PU Base Manha</th>\n",
              "    </tr>\n",
              "    <tr>\n",
              "      <th>Tipo Titulo</th>\n",
              "      <th>Data Vencimento</th>\n",
              "      <th>Data Base</th>\n",
              "      <th></th>\n",
              "      <th></th>\n",
              "      <th></th>\n",
              "      <th></th>\n",
              "      <th></th>\n",
              "    </tr>\n",
              "  </thead>\n",
              "  <tbody>\n",
              "    <tr>\n",
              "      <th rowspan=\"10\" valign=\"top\">Tesouro Prefixado com Juros Semestrais</th>\n",
              "      <th rowspan=\"10\" valign=\"top\">2023-01-01</th>\n",
              "      <th>2014-09-04</th>\n",
              "      <td>11.09</td>\n",
              "      <td>11.15</td>\n",
              "      <td>963.47</td>\n",
              "      <td>960.52</td>\n",
              "      <td>960.12</td>\n",
              "    </tr>\n",
              "    <tr>\n",
              "      <th>2014-09-05</th>\n",
              "      <td>11.16</td>\n",
              "      <td>11.22</td>\n",
              "      <td>960.43</td>\n",
              "      <td>957.50</td>\n",
              "      <td>957.09</td>\n",
              "    </tr>\n",
              "    <tr>\n",
              "      <th>2014-09-08</th>\n",
              "      <td>11.11</td>\n",
              "      <td>11.17</td>\n",
              "      <td>963.29</td>\n",
              "      <td>960.35</td>\n",
              "      <td>959.94</td>\n",
              "    </tr>\n",
              "    <tr>\n",
              "      <th>2014-09-09</th>\n",
              "      <td>11.32</td>\n",
              "      <td>11.38</td>\n",
              "      <td>953.44</td>\n",
              "      <td>950.54</td>\n",
              "      <td>950.14</td>\n",
              "    </tr>\n",
              "    <tr>\n",
              "      <th>2014-09-10</th>\n",
              "      <td>11.49</td>\n",
              "      <td>11.55</td>\n",
              "      <td>945.67</td>\n",
              "      <td>942.81</td>\n",
              "      <td>942.40</td>\n",
              "    </tr>\n",
              "    <tr>\n",
              "      <th>2014-09-11</th>\n",
              "      <td>11.51</td>\n",
              "      <td>11.57</td>\n",
              "      <td>945.12</td>\n",
              "      <td>942.27</td>\n",
              "      <td>941.86</td>\n",
              "    </tr>\n",
              "    <tr>\n",
              "      <th>2014-09-12</th>\n",
              "      <td>11.35</td>\n",
              "      <td>11.41</td>\n",
              "      <td>953.21</td>\n",
              "      <td>950.32</td>\n",
              "      <td>949.91</td>\n",
              "    </tr>\n",
              "    <tr>\n",
              "      <th>2014-09-15</th>\n",
              "      <td>11.71</td>\n",
              "      <td>11.77</td>\n",
              "      <td>936.47</td>\n",
              "      <td>933.65</td>\n",
              "      <td>933.24</td>\n",
              "    </tr>\n",
              "    <tr>\n",
              "      <th>2014-09-16</th>\n",
              "      <td>11.62</td>\n",
              "      <td>11.68</td>\n",
              "      <td>941.12</td>\n",
              "      <td>938.29</td>\n",
              "      <td>937.88</td>\n",
              "    </tr>\n",
              "    <tr>\n",
              "      <th>2014-09-17</th>\n",
              "      <td>11.47</td>\n",
              "      <td>11.53</td>\n",
              "      <td>948.67</td>\n",
              "      <td>945.81</td>\n",
              "      <td>945.40</td>\n",
              "    </tr>\n",
              "  </tbody>\n",
              "</table>\n",
              "</div>"
            ],
            "text/plain": [
              "                                                                   Taxa Compra Manha  ...  PU Base Manha\n",
              "Tipo Titulo                            Data Vencimento Data Base                      ...               \n",
              "Tesouro Prefixado com Juros Semestrais 2023-01-01      2014-09-04              11.09  ...         960.12\n",
              "                                                       2014-09-05              11.16  ...         957.09\n",
              "                                                       2014-09-08              11.11  ...         959.94\n",
              "                                                       2014-09-09              11.32  ...         950.14\n",
              "                                                       2014-09-10              11.49  ...         942.40\n",
              "                                                       2014-09-11              11.51  ...         941.86\n",
              "                                                       2014-09-12              11.35  ...         949.91\n",
              "                                                       2014-09-15              11.71  ...         933.24\n",
              "                                                       2014-09-16              11.62  ...         937.88\n",
              "                                                       2014-09-17              11.47  ...         945.40\n",
              "\n",
              "[10 rows x 5 columns]"
            ]
          },
          "metadata": {
            "tags": []
          },
          "execution_count": 8
        }
      ]
    },
    {
      "cell_type": "code",
      "metadata": {
        "id": "yqgXPe0bv2dT",
        "colab": {
          "base_uri": "https://localhost:8080/",
          "height": 111
        },
        "outputId": "8274b8b8-13ac-459f-db18-ebe43801b535"
      },
      "source": [
        "titulos.sort_index(inplace=True)\n",
        "titulos.head(1)"
      ],
      "execution_count": null,
      "outputs": [
        {
          "output_type": "execute_result",
          "data": {
            "text/html": [
              "<div>\n",
              "<style scoped>\n",
              "    .dataframe tbody tr th:only-of-type {\n",
              "        vertical-align: middle;\n",
              "    }\n",
              "\n",
              "    .dataframe tbody tr th {\n",
              "        vertical-align: top;\n",
              "    }\n",
              "\n",
              "    .dataframe thead th {\n",
              "        text-align: right;\n",
              "    }\n",
              "</style>\n",
              "<table border=\"1\" class=\"dataframe\">\n",
              "  <thead>\n",
              "    <tr style=\"text-align: right;\">\n",
              "      <th></th>\n",
              "      <th></th>\n",
              "      <th></th>\n",
              "      <th>Taxa Compra Manha</th>\n",
              "      <th>Taxa Venda Manha</th>\n",
              "      <th>PU Compra Manha</th>\n",
              "      <th>PU Venda Manha</th>\n",
              "      <th>PU Base Manha</th>\n",
              "    </tr>\n",
              "    <tr>\n",
              "      <th>Tipo Titulo</th>\n",
              "      <th>Data Vencimento</th>\n",
              "      <th>Data Base</th>\n",
              "      <th></th>\n",
              "      <th></th>\n",
              "      <th></th>\n",
              "      <th></th>\n",
              "      <th></th>\n",
              "    </tr>\n",
              "  </thead>\n",
              "  <tbody>\n",
              "    <tr>\n",
              "      <th>Tesouro IGPM+ com Juros Semestrais</th>\n",
              "      <th>2005-07-01</th>\n",
              "      <th>2004-12-31</th>\n",
              "      <td>9.23</td>\n",
              "      <td>9.25</td>\n",
              "      <td>1776.67</td>\n",
              "      <td>1776.51</td>\n",
              "      <td>1827.87</td>\n",
              "    </tr>\n",
              "  </tbody>\n",
              "</table>\n",
              "</div>"
            ],
            "text/plain": [
              "                                                               Taxa Compra Manha  ...  PU Base Manha\n",
              "Tipo Titulo                        Data Vencimento Data Base                      ...               \n",
              "Tesouro IGPM+ com Juros Semestrais 2005-07-01      2004-12-31               9.23  ...        1827.87\n",
              "\n",
              "[1 rows x 5 columns]"
            ]
          },
          "metadata": {
            "tags": []
          },
          "execution_count": 9
        }
      ]
    },
    {
      "cell_type": "code",
      "metadata": {
        "id": "IIWx2hxcv8QJ",
        "colab": {
          "base_uri": "https://localhost:8080/"
        },
        "outputId": "a93feb5e-a9e7-48f8-973c-d2804a36782d"
      },
      "source": [
        "titulos.head()"
      ],
      "execution_count": null,
      "outputs": [
        {
          "output_type": "execute_result",
          "data": {
            "text/html": [
              "<div>\n",
              "<style scoped>\n",
              "    .dataframe tbody tr th:only-of-type {\n",
              "        vertical-align: middle;\n",
              "    }\n",
              "\n",
              "    .dataframe tbody tr th {\n",
              "        vertical-align: top;\n",
              "    }\n",
              "\n",
              "    .dataframe thead th {\n",
              "        text-align: right;\n",
              "    }\n",
              "</style>\n",
              "<table border=\"1\" class=\"dataframe\">\n",
              "  <thead>\n",
              "    <tr style=\"text-align: right;\">\n",
              "      <th></th>\n",
              "      <th></th>\n",
              "      <th></th>\n",
              "      <th>Taxa Compra Manha</th>\n",
              "      <th>Taxa Venda Manha</th>\n",
              "      <th>PU Compra Manha</th>\n",
              "      <th>PU Venda Manha</th>\n",
              "      <th>PU Base Manha</th>\n",
              "    </tr>\n",
              "    <tr>\n",
              "      <th>Tipo Titulo</th>\n",
              "      <th>Data Vencimento</th>\n",
              "      <th>Data Base</th>\n",
              "      <th></th>\n",
              "      <th></th>\n",
              "      <th></th>\n",
              "      <th></th>\n",
              "      <th></th>\n",
              "    </tr>\n",
              "  </thead>\n",
              "  <tbody>\n",
              "    <tr>\n",
              "      <th rowspan=\"5\" valign=\"top\">Tesouro IGPM+ com Juros Semestrais</th>\n",
              "      <th rowspan=\"5\" valign=\"top\">2005-07-01</th>\n",
              "      <th>2004-12-31</th>\n",
              "      <td>9.23</td>\n",
              "      <td>9.25</td>\n",
              "      <td>1776.67</td>\n",
              "      <td>1776.51</td>\n",
              "      <td>1827.87</td>\n",
              "    </tr>\n",
              "    <tr>\n",
              "      <th>2005-01-03</th>\n",
              "      <td>9.23</td>\n",
              "      <td>9.25</td>\n",
              "      <td>1777.71</td>\n",
              "      <td>1777.55</td>\n",
              "      <td>1776.51</td>\n",
              "    </tr>\n",
              "    <tr>\n",
              "      <th>2005-01-04</th>\n",
              "      <td>9.26</td>\n",
              "      <td>9.28</td>\n",
              "      <td>1778.52</td>\n",
              "      <td>1778.36</td>\n",
              "      <td>1777.32</td>\n",
              "    </tr>\n",
              "    <tr>\n",
              "      <th>2005-01-05</th>\n",
              "      <td>9.28</td>\n",
              "      <td>9.30</td>\n",
              "      <td>1779.40</td>\n",
              "      <td>1779.25</td>\n",
              "      <td>1778.20</td>\n",
              "    </tr>\n",
              "    <tr>\n",
              "      <th>2005-01-06</th>\n",
              "      <td>9.31</td>\n",
              "      <td>9.33</td>\n",
              "      <td>1780.21</td>\n",
              "      <td>1780.06</td>\n",
              "      <td>1779.01</td>\n",
              "    </tr>\n",
              "  </tbody>\n",
              "</table>\n",
              "</div>"
            ],
            "text/plain": [
              "                                                               Taxa Compra Manha  ...  PU Base Manha\n",
              "Tipo Titulo                        Data Vencimento Data Base                      ...               \n",
              "Tesouro IGPM+ com Juros Semestrais 2005-07-01      2004-12-31               9.23  ...        1827.87\n",
              "                                                   2005-01-03               9.23  ...        1776.51\n",
              "                                                   2005-01-04               9.26  ...        1777.32\n",
              "                                                   2005-01-05               9.28  ...        1778.20\n",
              "                                                   2005-01-06               9.31  ...        1779.01\n",
              "\n",
              "[5 rows x 5 columns]"
            ]
          },
          "metadata": {
            "tags": []
          },
          "execution_count": 12
        }
      ]
    },
    {
      "cell_type": "code",
      "metadata": {
        "id": "i6dtJ7SpwDlR",
        "colab": {
          "base_uri": "https://localhost:8080/"
        },
        "outputId": "ac8aed22-b34d-4542-8a9d-c2e9ff20128a"
      },
      "source": [
        "tipos_titulos = titulos.index.droplevel(level=1).droplevel(level=1).drop_duplicates().to_list()\n",
        "tipos_titulos"
      ],
      "execution_count": null,
      "outputs": [
        {
          "output_type": "execute_result",
          "data": {
            "text/plain": [
              "['Tesouro IGPM+ com Juros Semestrais',\n",
              " 'Tesouro IPCA+',\n",
              " 'Tesouro IPCA+ com Juros Semestrais',\n",
              " 'Tesouro Prefixado',\n",
              " 'Tesouro Prefixado com Juros Semestrais',\n",
              " 'Tesouro Selic']"
            ]
          },
          "metadata": {
            "tags": []
          },
          "execution_count": 13
        }
      ]
    },
    {
      "cell_type": "code",
      "metadata": {
        "id": "aocspQpswJYD",
        "colab": {
          "base_uri": "https://localhost:8080/"
        },
        "outputId": "f30c02aa-6f47-41fc-f88e-bdd47caa9c26"
      },
      "source": [
        "pre2023 = titulos.loc[('Tesouro Prefixado', '2023-01-01')]\n",
        "pre2023.head(2)"
      ],
      "execution_count": null,
      "outputs": [
        {
          "output_type": "execute_result",
          "data": {
            "text/html": [
              "<div>\n",
              "<style scoped>\n",
              "    .dataframe tbody tr th:only-of-type {\n",
              "        vertical-align: middle;\n",
              "    }\n",
              "\n",
              "    .dataframe tbody tr th {\n",
              "        vertical-align: top;\n",
              "    }\n",
              "\n",
              "    .dataframe thead th {\n",
              "        text-align: right;\n",
              "    }\n",
              "</style>\n",
              "<table border=\"1\" class=\"dataframe\">\n",
              "  <thead>\n",
              "    <tr style=\"text-align: right;\">\n",
              "      <th></th>\n",
              "      <th>Taxa Compra Manha</th>\n",
              "      <th>Taxa Venda Manha</th>\n",
              "      <th>PU Compra Manha</th>\n",
              "      <th>PU Venda Manha</th>\n",
              "      <th>PU Base Manha</th>\n",
              "    </tr>\n",
              "    <tr>\n",
              "      <th>Data Base</th>\n",
              "      <th></th>\n",
              "      <th></th>\n",
              "      <th></th>\n",
              "      <th></th>\n",
              "      <th></th>\n",
              "    </tr>\n",
              "  </thead>\n",
              "  <tbody>\n",
              "    <tr>\n",
              "      <th>2016-01-26</th>\n",
              "      <td>16.59</td>\n",
              "      <td>16.65</td>\n",
              "      <td>346.72</td>\n",
              "      <td>345.49</td>\n",
              "      <td>345.28</td>\n",
              "    </tr>\n",
              "    <tr>\n",
              "      <th>2016-01-27</th>\n",
              "      <td>16.32</td>\n",
              "      <td>16.38</td>\n",
              "      <td>352.52</td>\n",
              "      <td>351.27</td>\n",
              "      <td>351.06</td>\n",
              "    </tr>\n",
              "  </tbody>\n",
              "</table>\n",
              "</div>"
            ],
            "text/plain": [
              "            Taxa Compra Manha  Taxa Venda Manha  ...  PU Venda Manha  PU Base Manha\n",
              "Data Base                                        ...                               \n",
              "2016-01-26              16.59             16.65  ...          345.49         345.28\n",
              "2016-01-27              16.32             16.38  ...          351.27         351.06\n",
              "\n",
              "[2 rows x 5 columns]"
            ]
          },
          "metadata": {
            "tags": []
          },
          "execution_count": 14
        }
      ]
    },
    {
      "cell_type": "code",
      "metadata": {
        "id": "NI_6rfjI6GTX",
        "colab": {
          "base_uri": "https://localhost:8080/"
        },
        "outputId": "3d43ff8c-09cf-4fe1-f67d-dc57356d4215"
      },
      "source": [
        "pre2023.head(2)"
      ],
      "execution_count": null,
      "outputs": [
        {
          "output_type": "execute_result",
          "data": {
            "text/html": [
              "<div>\n",
              "<style scoped>\n",
              "    .dataframe tbody tr th:only-of-type {\n",
              "        vertical-align: middle;\n",
              "    }\n",
              "\n",
              "    .dataframe tbody tr th {\n",
              "        vertical-align: top;\n",
              "    }\n",
              "\n",
              "    .dataframe thead th {\n",
              "        text-align: right;\n",
              "    }\n",
              "</style>\n",
              "<table border=\"1\" class=\"dataframe\">\n",
              "  <thead>\n",
              "    <tr style=\"text-align: right;\">\n",
              "      <th></th>\n",
              "      <th>Taxa Compra Manha</th>\n",
              "      <th>Taxa Venda Manha</th>\n",
              "      <th>PU Compra Manha</th>\n",
              "      <th>PU Venda Manha</th>\n",
              "      <th>PU Base Manha</th>\n",
              "    </tr>\n",
              "    <tr>\n",
              "      <th>Data Base</th>\n",
              "      <th></th>\n",
              "      <th></th>\n",
              "      <th></th>\n",
              "      <th></th>\n",
              "      <th></th>\n",
              "    </tr>\n",
              "  </thead>\n",
              "  <tbody>\n",
              "    <tr>\n",
              "      <th>2016-01-26</th>\n",
              "      <td>16.59</td>\n",
              "      <td>16.65</td>\n",
              "      <td>346.72</td>\n",
              "      <td>345.49</td>\n",
              "      <td>345.28</td>\n",
              "    </tr>\n",
              "    <tr>\n",
              "      <th>2016-01-27</th>\n",
              "      <td>16.32</td>\n",
              "      <td>16.38</td>\n",
              "      <td>352.52</td>\n",
              "      <td>351.27</td>\n",
              "      <td>351.06</td>\n",
              "    </tr>\n",
              "  </tbody>\n",
              "</table>\n",
              "</div>"
            ],
            "text/plain": [
              "            Taxa Compra Manha  Taxa Venda Manha  ...  PU Venda Manha  PU Base Manha\n",
              "Data Base                                        ...                               \n",
              "2016-01-26              16.59             16.65  ...          345.49         345.28\n",
              "2016-01-27              16.32             16.38  ...          351.27         351.06\n",
              "\n",
              "[2 rows x 5 columns]"
            ]
          },
          "metadata": {
            "tags": []
          },
          "execution_count": 15
        }
      ]
    },
    {
      "cell_type": "code",
      "metadata": {
        "id": "Is-CofyuGDHM",
        "colab": {
          "base_uri": "https://localhost:8080/"
        },
        "outputId": "bf657b02-978e-42b7-d789-cf496c105a9a"
      },
      "source": [
        "pre2023.columns"
      ],
      "execution_count": null,
      "outputs": [
        {
          "output_type": "execute_result",
          "data": {
            "text/plain": [
              "Index(['Taxa Compra Manha', 'Taxa Venda Manha', 'PU Compra Manha',\n",
              "       'PU Venda Manha', 'PU Base Manha'],\n",
              "      dtype='object')"
            ]
          },
          "metadata": {
            "tags": []
          },
          "execution_count": 16
        }
      ]
    },
    {
      "cell_type": "code",
      "metadata": {
        "id": "bM6XpPDZDvIA",
        "colab": {
          "base_uri": "https://localhost:8080/"
        },
        "outputId": "5ac25172-528f-4a6c-8ed9-d2dc004b23cf"
      },
      "source": [
        "pre2023.index"
      ],
      "execution_count": null,
      "outputs": [
        {
          "output_type": "execute_result",
          "data": {
            "text/plain": [
              "DatetimeIndex(['2016-01-26', '2016-01-27', '2016-01-28', '2016-01-29',\n",
              "               '2016-02-01', '2016-02-02', '2016-02-03', '2016-02-04',\n",
              "               '2016-02-05', '2016-02-10',\n",
              "               ...\n",
              "               '2021-01-28', '2021-01-29', '2021-02-01', '2021-02-02',\n",
              "               '2021-02-03', '2021-02-04', '2021-02-05', '2021-02-08',\n",
              "               '2021-02-09', '2021-02-10'],\n",
              "              dtype='datetime64[ns]', name='Data Base', length=1254, freq=None)"
            ]
          },
          "metadata": {
            "tags": []
          },
          "execution_count": 17
        }
      ]
    },
    {
      "cell_type": "code",
      "metadata": {
        "id": "XAcHoPqyHjwH",
        "colab": {
          "base_uri": "https://localhost:8080/"
        },
        "outputId": "96c56ae0-859d-4d78-953f-09c13ea5ef4f"
      },
      "source": [
        "pre2023.shape\n"
      ],
      "execution_count": null,
      "outputs": [
        {
          "output_type": "execute_result",
          "data": {
            "text/plain": [
              "(1254, 5)"
            ]
          },
          "metadata": {
            "tags": []
          },
          "execution_count": 18
        }
      ]
    }
  ]
}