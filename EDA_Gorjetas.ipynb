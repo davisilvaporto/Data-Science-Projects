{
  "nbformat": 4,
  "nbformat_minor": 0,
  "metadata": {
    "colab": {
      "name": "EDA-Gorjetas.ipynb",
      "private_outputs": true,
      "provenance": [],
      "collapsed_sections": []
    },
    "kernelspec": {
      "name": "python3",
      "display_name": "Python 3"
    },
    "language_info": {
      "name": "python"
    }
  },
  "cells": [
    {
      "cell_type": "markdown",
      "metadata": {
        "id": "sioX74__Nm8e"
      },
      "source": [
        "# Importanto base de dados"
      ]
    },
    {
      "cell_type": "code",
      "metadata": {
        "id": "rrURYG6kNrjL"
      },
      "source": [
        "import pandas as pd"
      ],
      "execution_count": null,
      "outputs": []
    },
    {
      "cell_type": "code",
      "metadata": {
        "id": "xHjFsDWyNw-O"
      },
      "source": [
        "df =pd.read_csv('tips.csv')\n",
        "df"
      ],
      "execution_count": null,
      "outputs": []
    },
    {
      "cell_type": "code",
      "metadata": {
        "id": "_h6YDcd5N4Xc"
      },
      "source": [
        "df.head(10)"
      ],
      "execution_count": null,
      "outputs": []
    },
    {
      "cell_type": "code",
      "metadata": {
        "id": "o9W40yScOMu0"
      },
      "source": [
        "renomar = {'total_bill' : 'valor_da_conta',\n",
        "    'tip' : 'gorjeta',\n",
        "    'dessert' : 'sobremesa',\n",
        "    'day' : 'dia_da_semana',\n",
        "    'time' : 'hora_do_dia',\n",
        "    'size' : 'total_de_pessoas'}"
      ],
      "execution_count": null,
      "outputs": []
    },
    {
      "cell_type": "code",
      "metadata": {
        "id": "IE5ru44_O_qk"
      },
      "source": [
        "gorjetas = df.rename(columns= renomar)"
      ],
      "execution_count": null,
      "outputs": []
    },
    {
      "cell_type": "code",
      "metadata": {
        "id": "4XPLUKc3PGZl"
      },
      "source": [
        "gorjetas.head()"
      ],
      "execution_count": null,
      "outputs": []
    },
    {
      "cell_type": "code",
      "metadata": {
        "id": "Mpkg6B7XPkqj"
      },
      "source": [
        "gorjetas.sobremesa.unique()"
      ],
      "execution_count": null,
      "outputs": []
    },
    {
      "cell_type": "code",
      "metadata": {
        "id": "8AfPpRF4PqAV"
      },
      "source": [
        "sim_nao = {\n",
        "    'No' : 'Não',\n",
        "    'Yes' : 'Sim'\n",
        "}"
      ],
      "execution_count": null,
      "outputs": []
    },
    {
      "cell_type": "code",
      "metadata": {
        "id": "D4qndzL-PuWE"
      },
      "source": [
        "gorjetas.sobremesa.map(sim_nao)"
      ],
      "execution_count": null,
      "outputs": []
    },
    {
      "cell_type": "code",
      "metadata": {
        "id": "e9cbulBuP3X0"
      },
      "source": [
        "gorjetas.head()"
      ],
      "execution_count": null,
      "outputs": []
    },
    {
      "cell_type": "code",
      "metadata": {
        "id": "K46nbIYnP-N7"
      },
      "source": [
        "gorjetas.sobremesa = gorjetas.sobremesa.map(sim_nao)"
      ],
      "execution_count": null,
      "outputs": []
    },
    {
      "cell_type": "code",
      "metadata": {
        "id": "1BFUEw3RQJBH"
      },
      "source": [
        "gorjetas.head()"
      ],
      "execution_count": null,
      "outputs": []
    },
    {
      "cell_type": "code",
      "metadata": {
        "id": "WuI5o7LwQMCc"
      },
      "source": [
        "dias = {\n",
        "    'Sun' : 'Domingo',\n",
        "    'Sat' : 'Sábado',\n",
        "    'Thur' : 'Quinta',\n",
        "    'Fri' : 'Sexta'\n",
        "}"
      ],
      "execution_count": null,
      "outputs": []
    },
    {
      "cell_type": "code",
      "metadata": {
        "id": "IA_jgbVDQrqz"
      },
      "source": [
        "gorjetas.dia_da_semana = gorjetas.dia_da_semana.map(dias)"
      ],
      "execution_count": null,
      "outputs": []
    },
    {
      "cell_type": "code",
      "metadata": {
        "id": "eHuesa7DQ1KL"
      },
      "source": [
        "gorjetas.dia_da_semana.unique()"
      ],
      "execution_count": null,
      "outputs": []
    },
    {
      "cell_type": "code",
      "metadata": {
        "id": "9C2crzJ_Q9-i"
      },
      "source": [
        "hora = {\n",
        "    'Dinner' : 'Jantar',\n",
        "    'Lunch' : 'Almoço'\n",
        "}"
      ],
      "execution_count": null,
      "outputs": []
    },
    {
      "cell_type": "code",
      "metadata": {
        "id": "hfV_r9J-RFHq"
      },
      "source": [
        "gorjetas.hora_do_dia = gorjetas.hora_do_dia.map(hora)"
      ],
      "execution_count": null,
      "outputs": []
    },
    {
      "cell_type": "code",
      "metadata": {
        "id": "3KumpAhaRNLS"
      },
      "source": [
        "gorjetas.head(244)"
      ],
      "execution_count": null,
      "outputs": []
    },
    {
      "cell_type": "code",
      "metadata": {
        "id": "MRiV6v91RPiC"
      },
      "source": [
        "!pip install seaborn==0.9.0"
      ],
      "execution_count": null,
      "outputs": []
    },
    {
      "cell_type": "code",
      "metadata": {
        "id": "KHSt82Q5Sfoy"
      },
      "source": [
        "import seaborn as sns"
      ],
      "execution_count": null,
      "outputs": []
    },
    {
      "cell_type": "markdown",
      "metadata": {
        "id": "qlqSdxaQSoet"
      },
      "source": [
        "Análise 1 - Valor da conta e gorjeta"
      ]
    },
    {
      "cell_type": "code",
      "metadata": {
        "id": "ykr-HgqiSr2K"
      },
      "source": [
        "sns.scatterplot(x= 'valor_da_conta', y = 'gorjeta', data=gorjetas)"
      ],
      "execution_count": null,
      "outputs": []
    },
    {
      "cell_type": "code",
      "metadata": {
        "id": "AIBK-wa8TJAq"
      },
      "source": [
        "valor_gorjeta = sns.scatterplot(x= 'valor_da_conta', y = 'gorjeta', data=gorjetas)"
      ],
      "execution_count": null,
      "outputs": []
    },
    {
      "cell_type": "code",
      "metadata": {
        "id": "XCWecXZwTu2K"
      },
      "source": [
        "print('A base de dados contém {} registros'.format(gorjetas.shape[0]))"
      ],
      "execution_count": null,
      "outputs": []
    },
    {
      "cell_type": "code",
      "metadata": {
        "id": "g0nWmha2T7Da"
      },
      "source": [
        "print('A base de dados contém {} registros \\n'.format(gorjetas.shape[0]))\n",
        "print('Registros não nulos')\n",
        "gorjetas.count()"
      ],
      "execution_count": null,
      "outputs": []
    },
    {
      "cell_type": "markdown",
      "metadata": {
        "id": "piU8_nJWU21-"
      },
      "source": [
        "## Criando o campo porcetagem"
      ]
    },
    {
      "cell_type": "code",
      "metadata": {
        "id": "_8Z7wST-U-cY"
      },
      "source": [
        "gorjetas['porcentagem'] = gorjetas['gorjeta'] / gorjetas['valor_da_conta']"
      ],
      "execution_count": null,
      "outputs": []
    },
    {
      "cell_type": "code",
      "metadata": {
        "id": "UziZUj-TVpJ5"
      },
      "source": [
        "gorjetas.porcentagem = gorjetas.porcentagem.round(2)"
      ],
      "execution_count": null,
      "outputs": []
    },
    {
      "cell_type": "code",
      "metadata": {
        "id": "I0qbqByvVz6J"
      },
      "source": [
        "gorjetas.head()"
      ],
      "execution_count": null,
      "outputs": []
    },
    {
      "cell_type": "code",
      "metadata": {
        "id": "5KBdtyN4V4ki"
      },
      "source": [
        "porcentagem_conta = sns.scatterplot(x='valor_da_conta', y='porcentagem', data=gorjetas)"
      ],
      "execution_count": null,
      "outputs": []
    },
    {
      "cell_type": "code",
      "metadata": {
        "id": "w4ctxGnGV_v6"
      },
      "source": [
        "porcentagem_conta_linha = sns.relplot(x='valor_da_conta', y='porcentagem', data=gorjetas)"
      ],
      "execution_count": null,
      "outputs": []
    },
    {
      "cell_type": "code",
      "metadata": {
        "id": "1rzNoMLgWbso"
      },
      "source": [
        "porcentagem_conta_linha = sns.relplot(x='valor_da_conta', y='porcentagem', kind='line', data=gorjetas)"
      ],
      "execution_count": null,
      "outputs": []
    },
    {
      "cell_type": "code",
      "metadata": {
        "id": "ih19JmnXWj4R"
      },
      "source": [
        "sns.lmplot(x='valor_da_conta', y='porcentagem', data=gorjetas)"
      ],
      "execution_count": null,
      "outputs": []
    },
    {
      "cell_type": "code",
      "metadata": {
        "id": "Bnvj43MjWw18"
      },
      "source": [
        "primeiro_plot = sns.scatterplot(x='total_bill', y='tip', data=df)"
      ],
      "execution_count": null,
      "outputs": []
    },
    {
      "cell_type": "code",
      "metadata": {
        "id": "iC3xOMIuYSKH"
      },
      "source": [
        "primeiro_plot.get_figure()"
      ],
      "execution_count": null,
      "outputs": []
    },
    {
      "cell_type": "code",
      "metadata": {
        "id": "G049doTHYUx_"
      },
      "source": [
        "primeiro_plot.figure.suptitle('Valor da conta x Gorjeta')"
      ],
      "execution_count": null,
      "outputs": []
    },
    {
      "cell_type": "code",
      "metadata": {
        "id": "p5TrVOtgYYeX"
      },
      "source": [
        "primeiro_plot.get_figure()"
      ],
      "execution_count": null,
      "outputs": []
    },
    {
      "cell_type": "code",
      "metadata": {
        "id": "9FwJnKgNYbWn"
      },
      "source": [
        "primeiro_plot.set_title('Análise do valor da gorjeta em função do valor da conta')"
      ],
      "execution_count": null,
      "outputs": []
    },
    {
      "cell_type": "code",
      "metadata": {
        "id": "fgEat03vYeNP"
      },
      "source": [
        "primeiro_plot.get_figure()"
      ],
      "execution_count": null,
      "outputs": []
    },
    {
      "cell_type": "code",
      "metadata": {
        "id": "PWozm9t6YgPf"
      },
      "source": [
        "primeiro_plot.set(xlabel='Valor da conta', ylabel='Valor da gorjeta')"
      ],
      "execution_count": null,
      "outputs": []
    },
    {
      "cell_type": "code",
      "metadata": {
        "id": "QVsRN9m1Yit3"
      },
      "source": [
        "imagem = primeiro_plot.get_figure()"
      ],
      "execution_count": null,
      "outputs": []
    },
    {
      "cell_type": "code",
      "metadata": {
        "id": "EzBW6UB6Yl_f"
      },
      "source": [
        "imagem.savefig('imagem.png')"
      ],
      "execution_count": null,
      "outputs": []
    },
    {
      "cell_type": "markdown",
      "metadata": {
        "id": "js_OpnubxgLu"
      },
      "source": [
        "#Análise 2 - Sobrmesa"
      ]
    },
    {
      "cell_type": "code",
      "metadata": {
        "id": "SOrl6Vt6xzjC"
      },
      "source": [
        "gorjetas[gorjetas.sobremesa =='Sim']"
      ],
      "execution_count": null,
      "outputs": []
    },
    {
      "cell_type": "code",
      "metadata": {
        "id": "IFmmSXkbx6Gd"
      },
      "source": [
        "gorjetas[gorjetas.sobremesa =='Sim'].describe()"
      ],
      "execution_count": null,
      "outputs": []
    },
    {
      "cell_type": "code",
      "metadata": {
        "id": "CWSBCpY5yBJl"
      },
      "source": [
        "gorjetas[gorjetas.sobremesa =='Não'].describe()"
      ],
      "execution_count": null,
      "outputs": []
    },
    {
      "cell_type": "code",
      "metadata": {
        "id": "pMLFtt5PyTF0"
      },
      "source": [
        "sns.catplot(x ='sobremesa', y= 'gorjeta', data = gorjetas)"
      ],
      "execution_count": null,
      "outputs": []
    },
    {
      "cell_type": "code",
      "metadata": {
        "id": "8qOedNnGyv-F"
      },
      "source": [
        "sns.relplot(x ='valor_da_conta', y= 'gorjeta',hue='sobremesa', data = gorjetas)"
      ],
      "execution_count": null,
      "outputs": []
    },
    {
      "cell_type": "code",
      "metadata": {
        "id": "2Q9guaNBzPZ2"
      },
      "source": [
        "sns.relplot(x ='valor_da_conta', y= 'gorjeta',hue='sobremesa', col = 'sobremesa', data = gorjetas)"
      ],
      "execution_count": null,
      "outputs": []
    },
    {
      "cell_type": "code",
      "metadata": {
        "id": "Hslhd_jXzhHr"
      },
      "source": [
        "sns.relplot(x ='valor_da_conta', y= 'gorjeta', col = 'sobremesa', data = gorjetas)"
      ],
      "execution_count": null,
      "outputs": []
    },
    {
      "cell_type": "code",
      "metadata": {
        "id": "CYMcLf-kzyGj"
      },
      "source": [
        "sns.lmplot(x ='valor_da_conta', y= 'gorjeta',hue='sobremesa', col = 'sobremesa', data = gorjetas)"
      ],
      "execution_count": null,
      "outputs": []
    },
    {
      "cell_type": "code",
      "metadata": {
        "id": "px3AGRhSz-Yr"
      },
      "source": [
        "sns.lmplot(x ='valor_da_conta', y= 'porcentagem',hue='sobremesa', col = 'sobremesa', data = gorjetas)"
      ],
      "execution_count": null,
      "outputs": []
    },
    {
      "cell_type": "code",
      "metadata": {
        "id": "Jt2EBXaS0W-z"
      },
      "source": [
        "sns.relplot(x ='valor_da_conta', y= 'gorjeta', col = 'sobremesa', hue = 'sobremesa', kind = 'line', data = gorjetas)"
      ],
      "execution_count": null,
      "outputs": []
    },
    {
      "cell_type": "markdown",
      "metadata": {
        "id": "9f85pNxN1LxS"
      },
      "source": [
        "##Teste de Hipótese"
      ]
    },
    {
      "cell_type": "markdown",
      "metadata": {
        "id": "CCBAhiWM1Zqj"
      },
      "source": [
        "**H<sup>null</sup?**"
      ]
    },
    {
      "cell_type": "code",
      "metadata": {
        "id": "rCxNxFmr1SVv"
      },
      "source": [
        "from scipy.stats import ranksums"
      ],
      "execution_count": null,
      "outputs": []
    },
    {
      "cell_type": "code",
      "metadata": {
        "id": "1x_47p3z12t9"
      },
      "source": [
        "gorjetas.query('sobremesa==\"Sim\"').porcentagem"
      ],
      "execution_count": null,
      "outputs": []
    },
    {
      "cell_type": "code",
      "metadata": {
        "id": "SY6Kh94eMbmM"
      },
      "source": [
        "sobremesa = gorjetas.query('sobremesa==\"Sim\"').porcentagem"
      ],
      "execution_count": null,
      "outputs": []
    },
    {
      "cell_type": "code",
      "metadata": {
        "id": "CqXRjfe1MkOx"
      },
      "source": [
        "sem_sobremesa = gorjetas.query('sobremesa==\"Não\"').porcentagem"
      ],
      "execution_count": null,
      "outputs": []
    },
    {
      "cell_type": "code",
      "metadata": {
        "id": "VAxKM4PFMs3g"
      },
      "source": [
        "ranksums(sobremesa,sem_sobremesa)"
      ],
      "execution_count": null,
      "outputs": []
    },
    {
      "cell_type": "code",
      "metadata": {
        "id": "BYxE_zB8M2US"
      },
      "source": [
        "r = ranksums(sobremesa, sem_sobremesa)\n",
        "print('O valor do p-value é {}'.format(r.pvalue))"
      ],
      "execution_count": null,
      "outputs": []
    },
    {
      "cell_type": "code",
      "metadata": {
        "id": "K6Ufmki8Nt4q"
      },
      "source": [
        "gorjetas.dia_da_semana.unique()"
      ],
      "execution_count": null,
      "outputs": []
    },
    {
      "cell_type": "code",
      "metadata": {
        "id": "pIx9paSsN2p4"
      },
      "source": [
        "sns.catplot(x = 'dia_da_semana', y='valor_da_conta', data =gorjetas )"
      ],
      "execution_count": null,
      "outputs": []
    },
    {
      "cell_type": "code",
      "metadata": {
        "id": "9MVZaU0fOC_4"
      },
      "source": [
        "sns.relplot(x = 'valor_da_conta', y = 'gorjeta', hue= 'dia_da_semana', data = gorjetas)"
      ],
      "execution_count": null,
      "outputs": []
    },
    {
      "cell_type": "code",
      "metadata": {
        "id": "NYpwqJSQObwf"
      },
      "source": [
        "sns.relplot(x='valor_da_conta', y='porcentagem', hue='dia_da_semana', data=gorjetas)"
      ],
      "execution_count": null,
      "outputs": []
    },
    {
      "cell_type": "code",
      "metadata": {
        "id": "-O1up330Oi1H"
      },
      "source": [
        "sns.relplot(x='valor_da_conta', y='gorjeta', hue='dia_da_semana', col='dia_da_semana', data=gorjetas)"
      ],
      "execution_count": null,
      "outputs": []
    },
    {
      "cell_type": "code",
      "metadata": {
        "id": "KUknQvIXOqWf"
      },
      "source": [
        "sns.relplot(x='valor_da_conta', y='porcentagem', hue='dia_da_semana', col='dia_da_semana', data=gorjetas)"
      ],
      "execution_count": null,
      "outputs": []
    },
    {
      "cell_type": "code",
      "metadata": {
        "id": "oKX4LLsoO-KH"
      },
      "source": [
        "sns.lmplot(x='valor_da_conta', y='porcentagem', hue='dia_da_semana', col='dia_da_semana', data=gorjetas)"
      ],
      "execution_count": null,
      "outputs": []
    },
    {
      "cell_type": "code",
      "metadata": {
        "id": "Wmf7PC4WPEhn"
      },
      "source": [
        "media_geral_gorjetas = gorjetas.gorjeta.mean()"
      ],
      "execution_count": null,
      "outputs": []
    },
    {
      "cell_type": "code",
      "metadata": {
        "id": "huVPwWsUPYFP"
      },
      "source": [
        "media_geral_gorjetas"
      ],
      "execution_count": null,
      "outputs": []
    },
    {
      "cell_type": "code",
      "metadata": {
        "id": "POM4xD7kPaBn"
      },
      "source": [
        "print('A média geral das gorjetas é de {}'.format(media_geral_gorjetas))"
      ],
      "execution_count": null,
      "outputs": []
    },
    {
      "cell_type": "code",
      "metadata": {
        "id": "cyaI3V6QPbtn"
      },
      "source": [
        "gorjetas.groupby(['dia_da_semana']).mean()"
      ],
      "execution_count": null,
      "outputs": []
    },
    {
      "cell_type": "code",
      "metadata": {
        "id": "BQ4DyYg6PpVC"
      },
      "source": [
        "gorjetas.groupby(['dia_da_semana']).mean()[['valor_da_conta', 'gorjeta', 'porcentagem']]"
      ],
      "execution_count": null,
      "outputs": []
    },
    {
      "cell_type": "code",
      "metadata": {
        "id": "zv_Afyf8P5PA"
      },
      "source": [
        "print('Frequencia dos dias')\n",
        "gorjetas.dia_da_semana.value_counts()"
      ],
      "execution_count": null,
      "outputs": []
    },
    {
      "cell_type": "code",
      "metadata": {
        "id": "pndGJVdVQDWO"
      },
      "source": [
        "valor_conta_domingo = gorjetas.query('dia_da_semana == \"Domingo\"').valor_da_conta"
      ],
      "execution_count": null,
      "outputs": []
    },
    {
      "cell_type": "code",
      "metadata": {
        "id": "WrFV_rbqQ1u2"
      },
      "source": [
        "valor_conta_sabado = gorjetas.query('dia_da_semana == \"Sabado\"').valor_da_conta"
      ],
      "execution_count": null,
      "outputs": []
    },
    {
      "cell_type": "code",
      "metadata": {
        "id": "3pYDvyLKQ79X"
      },
      "source": [
        "ranksums(valor_conta_domingo, valor_conta_sabado)"
      ],
      "execution_count": null,
      "outputs": []
    },
    {
      "cell_type": "code",
      "metadata": {
        "id": "6X-ZA4TmQ_Zn"
      },
      "source": [
        "r2 = ranksums(valor_conta_domingo, valor_conta_sabado)\n",
        "print('O valor do p-value é {}'.format(r2.pvalue))"
      ],
      "execution_count": null,
      "outputs": []
    },
    {
      "cell_type": "code",
      "metadata": {
        "id": "Mi5pu1MlRT09"
      },
      "source": [
        "sns.catplot(x='hora_do_dia', y='valor_da_conta', data=gorjetas)"
      ],
      "execution_count": null,
      "outputs": []
    },
    {
      "cell_type": "code",
      "metadata": {
        "id": "vwxLuxxOSYgV"
      },
      "source": [
        "sns.catplot(x='hora_do_dia', y='valor_da_conta', kind='swarm', data=gorjetas)"
      ],
      "execution_count": null,
      "outputs": []
    },
    {
      "cell_type": "code",
      "metadata": {
        "id": "m_9hFDIUSdvd"
      },
      "source": [
        "sns.violinplot(x='hora_do_dia', y='valor_da_conta', data=gorjetas)"
      ],
      "execution_count": null,
      "outputs": []
    },
    {
      "cell_type": "code",
      "metadata": {
        "id": "HbmduUuYSjxF"
      },
      "source": [
        "sns.boxplot(x='hora_do_dia', y='valor_da_conta', data=gorjetas)"
      ],
      "execution_count": null,
      "outputs": []
    },
    {
      "cell_type": "code",
      "metadata": {
        "id": "leqcomyASsZF"
      },
      "source": [
        "almoco = gorjetas.query(\"hora_do_dia == 'Almoço'\").valor_da_conta"
      ],
      "execution_count": null,
      "outputs": []
    },
    {
      "cell_type": "code",
      "metadata": {
        "id": "STaF7d9aS0LN"
      },
      "source": [
        "sns.distplot(almoco)"
      ],
      "execution_count": null,
      "outputs": []
    },
    {
      "cell_type": "code",
      "metadata": {
        "id": "tvqqLxSVS18t"
      },
      "source": [
        "sns.distplot(almoco, kde=False)"
      ],
      "execution_count": null,
      "outputs": []
    },
    {
      "cell_type": "code",
      "metadata": {
        "id": "zp9EdrV4S85l"
      },
      "source": [
        "jantar = gorjetas.query(\"hora_do_dia == 'Jantar'\").valor_da_conta"
      ],
      "execution_count": null,
      "outputs": []
    },
    {
      "cell_type": "code",
      "metadata": {
        "id": "5WWTDKtVTBBN"
      },
      "source": [
        "sns.distplot(jantar)"
      ],
      "execution_count": null,
      "outputs": []
    },
    {
      "cell_type": "code",
      "metadata": {
        "id": "VQz1wh8aTCNF"
      },
      "source": [
        "sns.distplot(jantar, kde=False)"
      ],
      "execution_count": null,
      "outputs": []
    },
    {
      "cell_type": "code",
      "metadata": {
        "id": "RU33xekFTEbV"
      },
      "source": [
        "gorjetas.groupby(['hora_do_dia']).mean()[['valor_da_conta', 'gorjeta', 'porcentagem']]"
      ],
      "execution_count": null,
      "outputs": []
    },
    {
      "cell_type": "code",
      "metadata": {
        "id": "MVj--XjHTQU9"
      },
      "source": [
        "r2 = ranksums(jantar, almoco)"
      ],
      "execution_count": null,
      "outputs": []
    },
    {
      "cell_type": "code",
      "metadata": {
        "id": "hjNJYlvPTYUl"
      },
      "source": [
        "r2"
      ],
      "execution_count": null,
      "outputs": []
    },
    {
      "cell_type": "code",
      "metadata": {
        "id": "yLV5Mh-9TbP9"
      },
      "source": [
        "porcentagem_almoco = gorjetas.query(\"hora_do_dia == 'Almoço'\").porcentagem"
      ],
      "execution_count": null,
      "outputs": []
    },
    {
      "cell_type": "code",
      "metadata": {
        "id": "ayn-wBwLTlKl"
      },
      "source": [
        "porcentagem_jantar = gorjetas.query(\"hora_do_dia == 'Jantar'\").porcentagem"
      ],
      "execution_count": null,
      "outputs": []
    },
    {
      "cell_type": "code",
      "metadata": {
        "id": "enFLuYOxTnml"
      },
      "source": [
        "ranksums(porcentagem_almoco, porcentagem_jantar)"
      ],
      "execution_count": null,
      "outputs": []
    },
    {
      "cell_type": "code",
      "metadata": {
        "id": "iljvJQ71Tp_N"
      },
      "source": [
        "r3 = ranksums(porcentagem_almoco, porcentagem_jantar)\n"
      ],
      "execution_count": null,
      "outputs": []
    },
    {
      "cell_type": "code",
      "metadata": {
        "id": "S9FvBaiaTs5s"
      },
      "source": [
        "print('O valor do p-value é de {}'.format(r3.pvalue))"
      ],
      "execution_count": null,
      "outputs": []
    },
    {
      "cell_type": "code",
      "metadata": {
        "id": "S763yQFgUCWH"
      },
      "source": [
        "almoco = gorjetas.query(\"hora_do_dia == 'Almoço'\").valor_da_conta\n",
        "sns.distplot(almoco)"
      ],
      "execution_count": null,
      "outputs": []
    }
  ]
}