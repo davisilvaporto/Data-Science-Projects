{
  "nbformat": 4,
  "nbformat_minor": 0,
  "metadata": {
    "colab": {
      "name": "Gym_Envs_3_spinup_ExperimentGrid (1).ipynb",
      "provenance": [],
      "collapsed_sections": []
    },
    "kernelspec": {
      "name": "python3",
      "display_name": "Python 3"
    }
  },
  "cells": [
    {
      "cell_type": "markdown",
      "metadata": {
        "id": "O6qNz6g_NMFc"
      },
      "source": [
        "Notebook baseado nas pesquisas e trabalhos do Google CoLab utilizando Gym e Ambientes Gym.\n",
        "\n",
        "Links para notebooks originais:\n",
        " * [link1](https://colab.research.google.com/drive/1C5iArMcVaiIwGatAj2utZAMHVtEmLLfw)\n",
        "\n",
        " * [link2](https://colab.research.google.com/drive/18LdlDDT87eb8cCTHZsXyS9ksQPzL3i6H#scrollTo=3U99_zgNCk3t)"
      ]
    },
    {
      "cell_type": "markdown",
      "metadata": {
        "id": "prYhQX_dTzVC"
      },
      "source": [
        "> Este notebook treina uma política ótima usando a função PPO () da `spinup` para a tarefa LunarLander.\n",
        "\n",
        "\n",
        "\n",
        "> Links para a trilha original de tutoriais: \n",
        "\n",
        ">> Primeiro notebook Python da série. Ele apresenta os preâmbulos necessários para trabalhar com o Gym no Google CoLab e explora os ambientes do Gym e políticas simples. [link](https://colab.research.google.com/drive/18LdlDDT87eb8cCTHZsXyS9ksQPzL3i6H).\n",
        "\n",
        ">> Segundo notebook Python nesta série. Mostra como resolver algumas tarefas com ação aleatória, ação determinística atribuída ou ação heurística e como renderizar o processo de tarefas em vídeo. [link](https://colab.research.google.com/drive/1tug_bpg8RwrFOI8C6Ed-zo0OgD3yfnWy)."
      ]
    },
    {
      "cell_type": "markdown",
      "metadata": {
        "id": "Oow0rc2iaDZ4"
      },
      "source": [
        "# CoLab Preambles\n",
        "\n",
        "A maioria dos requisitos dos pacotes python já são atendidos no CoLab. Para executar o Gym, você deve instalar pré-requisitos como xvbf, opengl e outros pacotes python-dev usando os seguintes códigos."
      ]
    },
    {
      "cell_type": "code",
      "metadata": {
        "id": "acRAoifbwiMk",
        "outputId": "16200e28-d592-4c8f-8250-aab512afec87",
        "colab": {
          "base_uri": "https://localhost:8080/",
          "height": 697
        }
      },
      "source": [
        "!pip install gym\n",
        "!apt-get install python-opengl -y\n",
        "!apt install xvfb -y\n",
        "\n",
        "# Special gym environment\n",
        "!pip install gym[atari]\n",
        "\n",
        "# For rendering environment, you can use pyvirtualdisplay.\n",
        "!pip install pyvirtualdisplay\n",
        "!pip install piglet\n",
        "\n",
        "# To activate virtual display \n",
        "# need to run a script once for training an agent as follows\n",
        "from pyvirtualdisplay import Display\n",
        "display = Display(visible=0, size=(1400, 900))\n",
        "display.start()\n",
        "\n",
        "# This code creates a virtual display to draw game images on. \n",
        "# If you are running locally, just ignore it\n",
        "import os\n",
        "if type(os.environ.get(\"DISPLAY\")) is not str or len(os.environ.get(\"DISPLAY\"))==0:\n",
        "    !bash ../xvfb start\n",
        "    %env DISPLAY=:1\n",
        "\n",
        "#\n",
        "# Import libraries\n",
        "#\n",
        "import gym\n",
        "from gym import logger as gymlogger\n",
        "from gym.wrappers import Monitor\n",
        "gymlogger.set_level(40) # error only\n",
        "import tensorflow as tf\n",
        "import numpy as np\n",
        "import random\n",
        "import matplotlib\n",
        "import matplotlib.pyplot as plt\n",
        "%matplotlib inline\n",
        "import math\n",
        "import glob\n",
        "import io\n",
        "import base64\n",
        "from IPython.display import HTML\n",
        "\n",
        "from IPython import display as ipythondisplay\n",
        "\n",
        "\"\"\"\n",
        "Utility functions to enable video recording of gym environment and displaying it\n",
        "To enable video, just do \"env = wrap_env(env)\"\"\n",
        "\"\"\"\n",
        "\n",
        "def show_video():\n",
        "  mp4list = glob.glob('video/*.mp4')\n",
        "  if len(mp4list) > 0:\n",
        "    mp4 = mp4list[0]\n",
        "    video = io.open(mp4, 'r+b').read()\n",
        "    encoded = base64.b64encode(video)\n",
        "    ipythondisplay.display(HTML(data='''<video alt=\"test\" autoplay \n",
        "                loop controls style=\"height: 400px;\">\n",
        "                <source src=\"data:video/mp4;base64,{0}\" type=\"video/mp4\" />\n",
        "             </video>'''.format(encoded.decode('ascii'))))\n",
        "  else: \n",
        "    print(\"Could not find video\")\n",
        "    \n",
        "\n",
        "def wrap_env(env):\n",
        "  env = Monitor(env, './video', force=True)\n",
        "  return env"
      ],
      "execution_count": null,
      "outputs": [
        {
          "output_type": "stream",
          "text": [
            "Requirement already satisfied: gym in /usr/local/lib/python3.6/dist-packages (0.15.7)\n",
            "Requirement already satisfied: cloudpickle~=1.2.0 in /usr/local/lib/python3.6/dist-packages (from gym) (1.2.1)\n",
            "Requirement already satisfied: six in /usr/local/lib/python3.6/dist-packages (from gym) (1.15.0)\n",
            "Requirement already satisfied: scipy in /usr/local/lib/python3.6/dist-packages (from gym) (1.4.1)\n",
            "Requirement already satisfied: numpy>=1.10.4 in /usr/local/lib/python3.6/dist-packages (from gym) (1.18.5)\n",
            "Requirement already satisfied: pyglet<=1.5.0,>=1.4.0 in /usr/local/lib/python3.6/dist-packages (from gym) (1.5.0)\n",
            "Requirement already satisfied: future in /usr/local/lib/python3.6/dist-packages (from pyglet<=1.5.0,>=1.4.0->gym) (0.16.0)\n",
            "Reading package lists... Done\n",
            "Building dependency tree       \n",
            "Reading state information... Done\n",
            "python-opengl is already the newest version (3.1.0+dfsg-1).\n",
            "0 upgraded, 0 newly installed, 0 to remove and 21 not upgraded.\n",
            "Reading package lists... Done\n",
            "Building dependency tree       \n",
            "Reading state information... Done\n",
            "xvfb is already the newest version (2:1.19.6-1ubuntu4.6).\n",
            "0 upgraded, 0 newly installed, 0 to remove and 21 not upgraded.\n",
            "Requirement already satisfied: gym[atari] in /usr/local/lib/python3.6/dist-packages (0.15.7)\n",
            "Requirement already satisfied: numpy>=1.10.4 in /usr/local/lib/python3.6/dist-packages (from gym[atari]) (1.18.5)\n",
            "Requirement already satisfied: scipy in /usr/local/lib/python3.6/dist-packages (from gym[atari]) (1.4.1)\n",
            "Requirement already satisfied: pyglet<=1.5.0,>=1.4.0 in /usr/local/lib/python3.6/dist-packages (from gym[atari]) (1.5.0)\n",
            "Requirement already satisfied: cloudpickle~=1.2.0 in /usr/local/lib/python3.6/dist-packages (from gym[atari]) (1.2.1)\n",
            "Requirement already satisfied: six in /usr/local/lib/python3.6/dist-packages (from gym[atari]) (1.15.0)\n",
            "Requirement already satisfied: atari-py~=0.2.0; extra == \"atari\" in /usr/local/lib/python3.6/dist-packages (from gym[atari]) (0.2.6)\n",
            "Requirement already satisfied: opencv-python; extra == \"atari\" in /usr/local/lib/python3.6/dist-packages (from gym[atari]) (4.1.2.30)\n",
            "Requirement already satisfied: Pillow; extra == \"atari\" in /usr/local/lib/python3.6/dist-packages (from gym[atari]) (7.0.0)\n",
            "Requirement already satisfied: future in /usr/local/lib/python3.6/dist-packages (from pyglet<=1.5.0,>=1.4.0->gym[atari]) (0.16.0)\n",
            "Requirement already satisfied: pyvirtualdisplay in /usr/local/lib/python3.6/dist-packages (1.3.2)\n",
            "Requirement already satisfied: EasyProcess in /usr/local/lib/python3.6/dist-packages (from pyvirtualdisplay) (0.3)\n",
            "Requirement already satisfied: piglet in /usr/local/lib/python3.6/dist-packages (1.0.0)\n",
            "Requirement already satisfied: piglet-templates in /usr/local/lib/python3.6/dist-packages (from piglet) (1.0.0)\n",
            "Requirement already satisfied: astunparse in /usr/local/lib/python3.6/dist-packages (from piglet-templates->piglet) (1.6.3)\n",
            "Requirement already satisfied: attrs in /usr/local/lib/python3.6/dist-packages (from piglet-templates->piglet) (20.2.0)\n",
            "Requirement already satisfied: Parsley in /usr/local/lib/python3.6/dist-packages (from piglet-templates->piglet) (1.3)\n",
            "Requirement already satisfied: markupsafe in /usr/local/lib/python3.6/dist-packages (from piglet-templates->piglet) (1.1.1)\n",
            "Requirement already satisfied: six<2.0,>=1.6.1 in /usr/local/lib/python3.6/dist-packages (from astunparse->piglet-templates->piglet) (1.15.0)\n",
            "Requirement already satisfied: wheel<1.0,>=0.23.0 in /usr/local/lib/python3.6/dist-packages (from astunparse->piglet-templates->piglet) (0.35.1)\n"
          ],
          "name": "stdout"
        }
      ]
    },
    {
      "cell_type": "markdown",
      "metadata": {
        "id": "lJISAPkg5vzJ"
      },
      "source": [
        "### Instalando o spinningup no ambiente do CoLab."
      ]
    },
    {
      "cell_type": "code",
      "metadata": {
        "id": "cS6F5fQ62X2O",
        "outputId": "551dc7ce-ed0b-483c-acc9-50193bf6dc6b",
        "colab": {
          "base_uri": "https://localhost:8080/",
          "height": 1000
        }
      },
      "source": [
        "# Install spinningup on CoLab\n",
        "!git clone https://github.com/openai/spinningup.git\n",
        "!cd spinningup\n",
        "#!pip install -e . # this will incur error: File \"setup.py\" not found. Directory cannot be installed in editable mode: /content\n",
        "!pip install -e spinningup"
      ],
      "execution_count": null,
      "outputs": [
        {
          "output_type": "stream",
          "text": [
            "Cloning into 'spinningup'...\n",
            "remote: Enumerating objects: 1263, done.\u001b[K\n",
            "remote: Total 1263 (delta 0), reused 0 (delta 0), pack-reused 1263\u001b[K\n",
            "Receiving objects: 100% (1263/1263), 31.02 MiB | 32.64 MiB/s, done.\n",
            "Resolving deltas: 100% (590/590), done.\n",
            "Obtaining file:///content/spinningup\n",
            "Collecting cloudpickle==1.2.1\n",
            "  Downloading https://files.pythonhosted.org/packages/09/f4/4a080c349c1680a2086196fcf0286a65931708156f39568ed7051e42ff6a/cloudpickle-1.2.1-py2.py3-none-any.whl\n",
            "Collecting gym[atari,box2d,classic_control]~=0.15.3\n",
            "\u001b[?25l  Downloading https://files.pythonhosted.org/packages/e0/01/8771e8f914a627022296dab694092a11a7d417b6c8364f0a44a8debca734/gym-0.15.7.tar.gz (1.6MB)\n",
            "\u001b[K     |████████████████████████████████| 1.6MB 4.0MB/s \n",
            "\u001b[?25hRequirement already satisfied: ipython in /usr/local/lib/python3.6/dist-packages (from spinup==0.2.0) (5.5.0)\n",
            "Requirement already satisfied: joblib in /usr/local/lib/python3.6/dist-packages (from spinup==0.2.0) (0.16.0)\n",
            "Collecting matplotlib==3.1.1\n",
            "\u001b[?25l  Downloading https://files.pythonhosted.org/packages/57/4f/dd381ecf6c6ab9bcdaa8ea912e866dedc6e696756156d8ecc087e20817e2/matplotlib-3.1.1-cp36-cp36m-manylinux1_x86_64.whl (13.1MB)\n",
            "\u001b[K     |████████████████████████████████| 13.1MB 313kB/s \n",
            "\u001b[?25hCollecting mpi4py\n",
            "\u001b[?25l  Downloading https://files.pythonhosted.org/packages/ec/8f/bbd8de5ba566dd77e408d8136e2bab7fdf2b97ce06cab830ba8b50a2f588/mpi4py-3.0.3.tar.gz (1.4MB)\n",
            "\u001b[K     |████████████████████████████████| 1.4MB 44.5MB/s \n",
            "\u001b[?25hRequirement already satisfied: numpy in /usr/local/lib/python3.6/dist-packages (from spinup==0.2.0) (1.18.5)\n",
            "Requirement already satisfied: pandas in /usr/local/lib/python3.6/dist-packages (from spinup==0.2.0) (1.1.2)\n",
            "Requirement already satisfied: pytest in /usr/local/lib/python3.6/dist-packages (from spinup==0.2.0) (3.6.4)\n",
            "Requirement already satisfied: psutil in /usr/local/lib/python3.6/dist-packages (from spinup==0.2.0) (5.4.8)\n",
            "Requirement already satisfied: scipy in /usr/local/lib/python3.6/dist-packages (from spinup==0.2.0) (1.4.1)\n",
            "Collecting seaborn==0.8.1\n",
            "\u001b[?25l  Downloading https://files.pythonhosted.org/packages/10/01/dd1c7838cde3b69b247aaeb61016e238cafd8188a276e366d36aa6bcdab4/seaborn-0.8.1.tar.gz (178kB)\n",
            "\u001b[K     |████████████████████████████████| 184kB 41.5MB/s \n",
            "\u001b[?25hCollecting tensorflow<2.0,>=1.8.0\n",
            "\u001b[?25l  Downloading https://files.pythonhosted.org/packages/8e/64/7a19837dd54d3f53b1ce5ae346ab401dde9678e8f233220317000bfdb3e2/tensorflow-1.15.4-cp36-cp36m-manylinux2010_x86_64.whl (110.5MB)\n",
            "\u001b[K     |████████████████████████████████| 110.5MB 50kB/s \n",
            "\u001b[?25hCollecting torch==1.3.1\n",
            "\u001b[?25l  Downloading https://files.pythonhosted.org/packages/88/95/90e8c4c31cfc67248bf944ba42029295b77159982f532c5689bcfe4e9108/torch-1.3.1-cp36-cp36m-manylinux1_x86_64.whl (734.6MB)\n",
            "\u001b[K     |████████████████████████████████| 734.6MB 20kB/s \n",
            "\u001b[?25hRequirement already satisfied: tqdm in /usr/local/lib/python3.6/dist-packages (from spinup==0.2.0) (4.41.1)\n",
            "Requirement already satisfied: six in /usr/local/lib/python3.6/dist-packages (from gym[atari,box2d,classic_control]~=0.15.3->spinup==0.2.0) (1.15.0)\n",
            "Requirement already satisfied: pyglet<=1.5.0,>=1.4.0 in /usr/local/lib/python3.6/dist-packages (from gym[atari,box2d,classic_control]~=0.15.3->spinup==0.2.0) (1.5.0)\n",
            "Requirement already satisfied: atari_py~=0.2.0 in /usr/local/lib/python3.6/dist-packages (from gym[atari,box2d,classic_control]~=0.15.3->spinup==0.2.0) (0.2.6)\n",
            "Requirement already satisfied: Pillow in /usr/local/lib/python3.6/dist-packages (from gym[atari,box2d,classic_control]~=0.15.3->spinup==0.2.0) (7.0.0)\n",
            "Requirement already satisfied: opencv-python in /usr/local/lib/python3.6/dist-packages (from gym[atari,box2d,classic_control]~=0.15.3->spinup==0.2.0) (4.1.2.30)\n",
            "Collecting box2d-py~=2.3.5\n",
            "\u001b[?25l  Downloading https://files.pythonhosted.org/packages/06/bd/6cdc3fd994b0649dcf5d9bad85bd9e26172308bbe9a421bfc6fdbf5081a6/box2d_py-2.3.8-cp36-cp36m-manylinux1_x86_64.whl (448kB)\n",
            "\u001b[K     |████████████████████████████████| 450kB 33.0MB/s \n",
            "\u001b[?25hRequirement already satisfied: traitlets>=4.2 in /usr/local/lib/python3.6/dist-packages (from ipython->spinup==0.2.0) (4.3.3)\n",
            "Requirement already satisfied: setuptools>=18.5 in /usr/local/lib/python3.6/dist-packages (from ipython->spinup==0.2.0) (50.3.0)\n",
            "Requirement already satisfied: pexpect; sys_platform != \"win32\" in /usr/local/lib/python3.6/dist-packages (from ipython->spinup==0.2.0) (4.8.0)\n",
            "Requirement already satisfied: simplegeneric>0.8 in /usr/local/lib/python3.6/dist-packages (from ipython->spinup==0.2.0) (0.8.1)\n",
            "Requirement already satisfied: pygments in /usr/local/lib/python3.6/dist-packages (from ipython->spinup==0.2.0) (2.6.1)\n",
            "Requirement already satisfied: pickleshare in /usr/local/lib/python3.6/dist-packages (from ipython->spinup==0.2.0) (0.7.5)\n",
            "Requirement already satisfied: prompt-toolkit<2.0.0,>=1.0.4 in /usr/local/lib/python3.6/dist-packages (from ipython->spinup==0.2.0) (1.0.18)\n",
            "Requirement already satisfied: decorator in /usr/local/lib/python3.6/dist-packages (from ipython->spinup==0.2.0) (4.4.2)\n",
            "Requirement already satisfied: python-dateutil>=2.1 in /usr/local/lib/python3.6/dist-packages (from matplotlib==3.1.1->spinup==0.2.0) (2.8.1)\n",
            "Requirement already satisfied: pyparsing!=2.0.4,!=2.1.2,!=2.1.6,>=2.0.1 in /usr/local/lib/python3.6/dist-packages (from matplotlib==3.1.1->spinup==0.2.0) (2.4.7)\n",
            "Requirement already satisfied: kiwisolver>=1.0.1 in /usr/local/lib/python3.6/dist-packages (from matplotlib==3.1.1->spinup==0.2.0) (1.2.0)\n",
            "Requirement already satisfied: cycler>=0.10 in /usr/local/lib/python3.6/dist-packages (from matplotlib==3.1.1->spinup==0.2.0) (0.10.0)\n",
            "Requirement already satisfied: pytz>=2017.2 in /usr/local/lib/python3.6/dist-packages (from pandas->spinup==0.2.0) (2018.9)\n",
            "Requirement already satisfied: py>=1.5.0 in /usr/local/lib/python3.6/dist-packages (from pytest->spinup==0.2.0) (1.9.0)\n",
            "Requirement already satisfied: pluggy<0.8,>=0.5 in /usr/local/lib/python3.6/dist-packages (from pytest->spinup==0.2.0) (0.7.1)\n",
            "Requirement already satisfied: more-itertools>=4.0.0 in /usr/local/lib/python3.6/dist-packages (from pytest->spinup==0.2.0) (8.5.0)\n",
            "Requirement already satisfied: atomicwrites>=1.0 in /usr/local/lib/python3.6/dist-packages (from pytest->spinup==0.2.0) (1.4.0)\n",
            "Requirement already satisfied: attrs>=17.4.0 in /usr/local/lib/python3.6/dist-packages (from pytest->spinup==0.2.0) (20.2.0)\n",
            "Requirement already satisfied: astor>=0.6.0 in /usr/local/lib/python3.6/dist-packages (from tensorflow<2.0,>=1.8.0->spinup==0.2.0) (0.8.1)\n",
            "Requirement already satisfied: wrapt>=1.11.1 in /usr/local/lib/python3.6/dist-packages (from tensorflow<2.0,>=1.8.0->spinup==0.2.0) (1.12.1)\n",
            "Collecting tensorboard<1.16.0,>=1.15.0\n",
            "\u001b[?25l  Downloading https://files.pythonhosted.org/packages/1e/e9/d3d747a97f7188f48aa5eda486907f3b345cd409f0a0850468ba867db246/tensorboard-1.15.0-py3-none-any.whl (3.8MB)\n",
            "\u001b[K     |████████████████████████████████| 3.8MB 34.4MB/s \n",
            "\u001b[?25hRequirement already satisfied: wheel>=0.26; python_version >= \"3\" in /usr/local/lib/python3.6/dist-packages (from tensorflow<2.0,>=1.8.0->spinup==0.2.0) (0.35.1)\n",
            "Requirement already satisfied: grpcio>=1.8.6 in /usr/local/lib/python3.6/dist-packages (from tensorflow<2.0,>=1.8.0->spinup==0.2.0) (1.32.0)\n",
            "Requirement already satisfied: google-pasta>=0.1.6 in /usr/local/lib/python3.6/dist-packages (from tensorflow<2.0,>=1.8.0->spinup==0.2.0) (0.2.0)\n",
            "Requirement already satisfied: opt-einsum>=2.3.2 in /usr/local/lib/python3.6/dist-packages (from tensorflow<2.0,>=1.8.0->spinup==0.2.0) (3.3.0)\n",
            "Requirement already satisfied: termcolor>=1.1.0 in /usr/local/lib/python3.6/dist-packages (from tensorflow<2.0,>=1.8.0->spinup==0.2.0) (1.1.0)\n",
            "Requirement already satisfied: keras-preprocessing>=1.0.5 in /usr/local/lib/python3.6/dist-packages (from tensorflow<2.0,>=1.8.0->spinup==0.2.0) (1.1.2)\n",
            "Collecting gast==0.2.2\n",
            "  Downloading https://files.pythonhosted.org/packages/4e/35/11749bf99b2d4e3cceb4d55ca22590b0d7c2c62b9de38ac4a4a7f4687421/gast-0.2.2.tar.gz\n",
            "Collecting keras-applications>=1.0.8\n",
            "\u001b[?25l  Downloading https://files.pythonhosted.org/packages/71/e3/19762fdfc62877ae9102edf6342d71b28fbfd9dea3d2f96a882ce099b03f/Keras_Applications-1.0.8-py3-none-any.whl (50kB)\n",
            "\u001b[K     |████████████████████████████████| 51kB 4.2MB/s \n",
            "\u001b[?25hRequirement already satisfied: protobuf>=3.6.1 in /usr/local/lib/python3.6/dist-packages (from tensorflow<2.0,>=1.8.0->spinup==0.2.0) (3.12.4)\n",
            "Collecting tensorflow-estimator==1.15.1\n",
            "\u001b[?25l  Downloading https://files.pythonhosted.org/packages/de/62/2ee9cd74c9fa2fa450877847ba560b260f5d0fb70ee0595203082dafcc9d/tensorflow_estimator-1.15.1-py2.py3-none-any.whl (503kB)\n",
            "\u001b[K     |████████████████████████████████| 512kB 32.2MB/s \n",
            "\u001b[?25hRequirement already satisfied: absl-py>=0.7.0 in /usr/local/lib/python3.6/dist-packages (from tensorflow<2.0,>=1.8.0->spinup==0.2.0) (0.10.0)\n",
            "Requirement already satisfied: future in /usr/local/lib/python3.6/dist-packages (from pyglet<=1.5.0,>=1.4.0->gym[atari,box2d,classic_control]~=0.15.3->spinup==0.2.0) (0.16.0)\n",
            "Requirement already satisfied: ipython-genutils in /usr/local/lib/python3.6/dist-packages (from traitlets>=4.2->ipython->spinup==0.2.0) (0.2.0)\n",
            "Requirement already satisfied: ptyprocess>=0.5 in /usr/local/lib/python3.6/dist-packages (from pexpect; sys_platform != \"win32\"->ipython->spinup==0.2.0) (0.6.0)\n",
            "Requirement already satisfied: wcwidth in /usr/local/lib/python3.6/dist-packages (from prompt-toolkit<2.0.0,>=1.0.4->ipython->spinup==0.2.0) (0.2.5)\n",
            "Requirement already satisfied: werkzeug>=0.11.15 in /usr/local/lib/python3.6/dist-packages (from tensorboard<1.16.0,>=1.15.0->tensorflow<2.0,>=1.8.0->spinup==0.2.0) (1.0.1)\n",
            "Requirement already satisfied: markdown>=2.6.8 in /usr/local/lib/python3.6/dist-packages (from tensorboard<1.16.0,>=1.15.0->tensorflow<2.0,>=1.8.0->spinup==0.2.0) (3.2.2)\n",
            "Requirement already satisfied: h5py in /usr/local/lib/python3.6/dist-packages (from keras-applications>=1.0.8->tensorflow<2.0,>=1.8.0->spinup==0.2.0) (2.10.0)\n",
            "Requirement already satisfied: importlib-metadata; python_version < \"3.8\" in /usr/local/lib/python3.6/dist-packages (from markdown>=2.6.8->tensorboard<1.16.0,>=1.15.0->tensorflow<2.0,>=1.8.0->spinup==0.2.0) (2.0.0)\n",
            "Requirement already satisfied: zipp>=0.5 in /usr/local/lib/python3.6/dist-packages (from importlib-metadata; python_version < \"3.8\"->markdown>=2.6.8->tensorboard<1.16.0,>=1.15.0->tensorflow<2.0,>=1.8.0->spinup==0.2.0) (3.2.0)\n",
            "Building wheels for collected packages: gym, mpi4py, seaborn, gast\n",
            "  Building wheel for gym (setup.py) ... \u001b[?25l\u001b[?25hdone\n",
            "  Created wheel for gym: filename=gym-0.15.7-cp36-none-any.whl size=1648843 sha256=c9e6398705b6771cc106c990ca7c4a5a49677486cbb54c60fb5d985b3f56b452\n",
            "  Stored in directory: /root/.cache/pip/wheels/35/60/6a/f9c27ae133abaf5a5687ed2fa8ed19627d7fac5d843a27572b\n",
            "  Building wheel for mpi4py (setup.py) ... \u001b[?25l\u001b[?25hdone\n",
            "  Created wheel for mpi4py: filename=mpi4py-3.0.3-cp36-cp36m-linux_x86_64.whl size=2074444 sha256=2c0edde79cdfa7ae6ad6f1f533d87cbc6014dcb2d9e428b4deac42d7d9160e9e\n",
            "  Stored in directory: /root/.cache/pip/wheels/18/e0/86/2b713dd512199096012ceca61429e12b960888de59818871d6\n",
            "  Building wheel for seaborn (setup.py) ... \u001b[?25l\u001b[?25hdone\n",
            "  Created wheel for seaborn: filename=seaborn-0.8.1-cp36-none-any.whl size=184834 sha256=61c25315d37510033d0f2f45052c464a23d4eb65efcd647991f27460d9e2b6bb\n",
            "  Stored in directory: /root/.cache/pip/wheels/26/0a/44/53ddd89769e62f7c6691976375b86c6492e7dd20a2d3970e32\n",
            "  Building wheel for gast (setup.py) ... \u001b[?25l\u001b[?25hdone\n",
            "  Created wheel for gast: filename=gast-0.2.2-cp36-none-any.whl size=7542 sha256=fa32832e9d0a9cd4ded859666b678fddd460150746ce6e81c74fdbaf16e879e0\n",
            "  Stored in directory: /root/.cache/pip/wheels/5c/2e/7e/a1d4d4fcebe6c381f378ce7743a3ced3699feb89bcfbdadadd\n",
            "Successfully built gym mpi4py seaborn gast\n",
            "\u001b[31mERROR: torchvision 0.7.0+cu101 has requirement torch==1.6.0, but you'll have torch 1.3.1 which is incompatible.\u001b[0m\n",
            "\u001b[31mERROR: tensorflow-probability 0.11.0 has requirement cloudpickle==1.3, but you'll have cloudpickle 1.2.1 which is incompatible.\u001b[0m\n",
            "\u001b[31mERROR: tensorflow-probability 0.11.0 has requirement gast>=0.3.2, but you'll have gast 0.2.2 which is incompatible.\u001b[0m\n",
            "\u001b[31mERROR: albumentations 0.1.12 has requirement imgaug<0.2.7,>=0.2.5, but you'll have imgaug 0.2.9 which is incompatible.\u001b[0m\n",
            "Installing collected packages: cloudpickle, box2d-py, gym, matplotlib, mpi4py, seaborn, tensorboard, gast, keras-applications, tensorflow-estimator, tensorflow, torch, spinup\n",
            "  Found existing installation: cloudpickle 1.3.0\n",
            "    Uninstalling cloudpickle-1.3.0:\n",
            "      Successfully uninstalled cloudpickle-1.3.0\n",
            "  Found existing installation: gym 0.17.2\n",
            "    Uninstalling gym-0.17.2:\n",
            "      Successfully uninstalled gym-0.17.2\n",
            "  Found existing installation: matplotlib 3.2.2\n",
            "    Uninstalling matplotlib-3.2.2:\n",
            "      Successfully uninstalled matplotlib-3.2.2\n",
            "  Found existing installation: seaborn 0.11.0\n",
            "    Uninstalling seaborn-0.11.0:\n",
            "      Successfully uninstalled seaborn-0.11.0\n",
            "  Found existing installation: tensorboard 2.3.0\n",
            "    Uninstalling tensorboard-2.3.0:\n",
            "      Successfully uninstalled tensorboard-2.3.0\n",
            "  Found existing installation: gast 0.3.3\n",
            "    Uninstalling gast-0.3.3:\n",
            "      Successfully uninstalled gast-0.3.3\n",
            "  Found existing installation: tensorflow-estimator 2.3.0\n",
            "    Uninstalling tensorflow-estimator-2.3.0:\n",
            "      Successfully uninstalled tensorflow-estimator-2.3.0\n",
            "  Found existing installation: tensorflow 2.3.0\n",
            "    Uninstalling tensorflow-2.3.0:\n",
            "      Successfully uninstalled tensorflow-2.3.0\n",
            "  Found existing installation: torch 1.6.0+cu101\n",
            "    Uninstalling torch-1.6.0+cu101:\n",
            "      Successfully uninstalled torch-1.6.0+cu101\n",
            "  Running setup.py develop for spinup\n",
            "Successfully installed box2d-py-2.3.8 cloudpickle-1.2.1 gast-0.2.2 gym-0.15.7 keras-applications-1.0.8 matplotlib-3.1.1 mpi4py-3.0.3 seaborn-0.8.1 spinup tensorboard-1.15.0 tensorflow-1.15.4 tensorflow-estimator-1.15.1 torch-1.3.1\n"
          ],
          "name": "stdout"
        },
        {
          "output_type": "display_data",
          "data": {
            "application/vnd.colab-display-data+json": {
              "pip_warning": {
                "packages": [
                  "gast",
                  "gym",
                  "matplotlib",
                  "mpl_toolkits",
                  "tensorboard",
                  "tensorflow"
                ]
              }
            }
          },
          "metadata": {
            "tags": []
          }
        }
      ]
    },
    {
      "cell_type": "code",
      "metadata": {
        "id": "ubtx0tKUWI7T"
      },
      "source": [
        "import spinup"
      ],
      "execution_count": null,
      "outputs": []
    },
    {
      "cell_type": "markdown",
      "metadata": {
        "id": "3-ATQfrfYkM7"
      },
      "source": [
        "# OpenAI Gym\n",
        "\n",
        "OpenAI gym é uma biblioteca python que envolve muitos problemas de decisão clássicos, incluindo controle de robôs, videogames e jogos de tabuleiro. Usaremos os ambientes que ele fornece para testar nossos algoritmos de aprendizagem por reforço."
      ]
    },
    {
      "cell_type": "markdown",
      "metadata": {
        "id": "RvFDvAsvH70n"
      },
      "source": [
        "## Examplo: LunarLander-v2\n",
        "\n",
        "Treina um agente usando o algoritmo PPO (Proximal Policy\n",
        "Optimization) em spinup e apresenta o resultado da política aprendida em um vídeo. \n",
        "\n",
        "Ref.: https://openai.com/blog/openai-baselines-ppo/ "
      ]
    },
    {
      "cell_type": "markdown",
      "metadata": {
        "id": "P8qCS9zX1Wo5"
      },
      "source": [
        "### Treinar PPO com spinup"
      ]
    },
    {
      "cell_type": "code",
      "metadata": {
        "id": "h10GA8WQ1VOB"
      },
      "source": [
        "# load packages\n",
        "import gym\n",
        "from spinup import ppo_tf1 as ppo\n",
        "import tensorflow as tf\n",
        "\n",
        "# after training, load policy and show results in video\n",
        "from spinup.utils.test_policy import load_tf_policy, run_policy\n",
        "\n",
        "# train policy\n",
        "env_fn = lambda : gym.make('LunarLander-v2')\n",
        "\n",
        "ac_kwargs = dict(hidden_sizes=[64,64], activation=tf.nn.relu)\n",
        "\n",
        "logger_kwargs = dict(output_dir='output_dir', exp_name='experiment_name')\n",
        "\n",
        "\n"
      ],
      "execution_count": null,
      "outputs": []
    },
    {
      "cell_type": "code",
      "metadata": {
        "id": "fWB5d5I79yDG",
        "outputId": "6bf7982d-7ef1-4c45-ffdb-55cab0e2d671",
        "colab": {
          "base_uri": "https://localhost:8080/",
          "height": 1000
        }
      },
      "source": [
        "ppo(env_fn=env_fn, ac_kwargs=ac_kwargs, steps_per_epoch=5000, epochs=250, logger_kwargs=logger_kwargs)"
      ],
      "execution_count": null,
      "outputs": [
        {
          "output_type": "stream",
          "text": [
            "Warning: Log dir output_dir already exists! Storing info there anyway.\n",
            "\u001b[32;1mLogging data to output_dir/progress.txt\u001b[0m\n",
            "\u001b[36;1mSaving config:\n",
            "\u001b[0m\n",
            "{\n",
            "    \"ac_kwargs\":\t{\n",
            "        \"activation\":\t\"relu\",\n",
            "        \"hidden_sizes\":\t[\n",
            "            64,\n",
            "            64\n",
            "        ]\n",
            "    },\n",
            "    \"actor_critic\":\t\"mlp_actor_critic\",\n",
            "    \"clip_ratio\":\t0.2,\n",
            "    \"env_fn\":\t\"<function <lambda> at 0x7f4255f5d1e0>\",\n",
            "    \"epochs\":\t5,\n",
            "    \"exp_name\":\t\"experiment_name\",\n",
            "    \"gamma\":\t0.99,\n",
            "    \"lam\":\t0.97,\n",
            "    \"logger\":\t{\n",
            "        \"<spinup.utils.logx.EpochLogger object at 0x7f4255f55cf8>\":\t{\n",
            "            \"epoch_dict\":\t{},\n",
            "            \"exp_name\":\t\"experiment_name\",\n",
            "            \"first_row\":\ttrue,\n",
            "            \"log_current_row\":\t{},\n",
            "            \"log_headers\":\t[],\n",
            "            \"output_dir\":\t\"output_dir\",\n",
            "            \"output_file\":\t{\n",
            "                \"<_io.TextIOWrapper name='output_dir/progress.txt' mode='w' encoding='UTF-8'>\":\t{\n",
            "                    \"mode\":\t\"w\"\n",
            "                }\n",
            "            }\n",
            "        }\n",
            "    },\n",
            "    \"logger_kwargs\":\t{\n",
            "        \"exp_name\":\t\"experiment_name\",\n",
            "        \"output_dir\":\t\"output_dir\"\n",
            "    },\n",
            "    \"max_ep_len\":\t1000,\n",
            "    \"pi_lr\":\t0.0003,\n",
            "    \"save_freq\":\t10,\n",
            "    \"seed\":\t0,\n",
            "    \"steps_per_epoch\":\t5000,\n",
            "    \"target_kl\":\t0.01,\n",
            "    \"train_pi_iters\":\t80,\n",
            "    \"train_v_iters\":\t80,\n",
            "    \"vf_lr\":\t0.001\n",
            "}\n",
            "\u001b[32;1m\n",
            "Number of parameters: \t pi: 4996, \t v: 4801\n",
            "\u001b[0m\n"
          ],
          "name": "stdout"
        },
        {
          "output_type": "stream",
          "text": [
            "/usr/local/lib/python3.6/dist-packages/gym/logger.py:30: UserWarning: \u001b[33mWARN: Box bound precision lowered by casting to float32\u001b[0m\n",
            "  warnings.warn(colorize('%s: %s'%('WARN', msg % args), 'yellow'))\n"
          ],
          "name": "stderr"
        },
        {
          "output_type": "stream",
          "text": [
            "Warning: trajectory cut off by epoch at 908 steps.\n",
            "---------------------------------------\n",
            "|             Epoch |               0 |\n",
            "|      AverageEpRet |            -212 |\n",
            "|          StdEpRet |             131 |\n",
            "|          MaxEpRet |           -31.3 |\n",
            "|          MinEpRet |            -556 |\n",
            "|             EpLen |            99.8 |\n",
            "|      AverageVVals |         0.00749 |\n",
            "|          StdVVals |           0.117 |\n",
            "|          MaxVVals |           0.322 |\n",
            "|          MinVVals |          -0.585 |\n",
            "| TotalEnvInteracts |           5e+03 |\n",
            "|            LossPi |         7.3e-09 |\n",
            "|             LossV |        1.41e+04 |\n",
            "|       DeltaLossPi |         -0.0161 |\n",
            "|        DeltaLossV |       -2.98e+03 |\n",
            "|           Entropy |            1.36 |\n",
            "|                KL |          0.0129 |\n",
            "|          ClipFrac |           0.132 |\n",
            "|          StopIter |              79 |\n",
            "|              Time |             7.6 |\n",
            "---------------------------------------\n",
            "Warning: trajectory cut off by epoch at 15 steps.\n",
            "---------------------------------------\n",
            "|             Epoch |               1 |\n",
            "|      AverageEpRet |            -182 |\n",
            "|          StdEpRet |             111 |\n",
            "|          MaxEpRet |            4.85 |\n",
            "|          MinEpRet |            -420 |\n",
            "|             EpLen |             113 |\n",
            "|      AverageVVals |           -16.3 |\n",
            "|          StdVVals |            4.03 |\n",
            "|          MaxVVals |           -9.84 |\n",
            "|          MinVVals |             -43 |\n",
            "| TotalEnvInteracts |           1e+04 |\n",
            "|            LossPi |        1.13e-07 |\n",
            "|             LossV |        9.19e+03 |\n",
            "|       DeltaLossPi |         -0.0178 |\n",
            "|        DeltaLossV |       -5.76e+03 |\n",
            "|           Entropy |            1.35 |\n",
            "|                KL |           0.011 |\n",
            "|          ClipFrac |           0.108 |\n",
            "|          StopIter |              79 |\n",
            "|              Time |            13.8 |\n",
            "---------------------------------------\n",
            "Warning: trajectory cut off by epoch at 55 steps.\n",
            "---------------------------------------\n",
            "|             Epoch |               2 |\n",
            "|      AverageEpRet |            -125 |\n",
            "|          StdEpRet |            94.4 |\n",
            "|          MaxEpRet |            2.26 |\n",
            "|          MinEpRet |            -446 |\n",
            "|             EpLen |             118 |\n",
            "|      AverageVVals |           -83.8 |\n",
            "|          StdVVals |            9.19 |\n",
            "|          MaxVVals |           -38.7 |\n",
            "|          MinVVals |            -191 |\n",
            "| TotalEnvInteracts |         1.5e+04 |\n",
            "|            LossPi |       -4.54e-08 |\n",
            "|             LossV |        3.09e+03 |\n",
            "|       DeltaLossPi |         -0.0186 |\n",
            "|        DeltaLossV |            -754 |\n",
            "|           Entropy |            1.33 |\n",
            "|                KL |          0.0128 |\n",
            "|          ClipFrac |           0.138 |\n",
            "|          StopIter |              79 |\n",
            "|              Time |            21.2 |\n",
            "---------------------------------------\n",
            "Warning: trajectory cut off by epoch at 67 steps.\n",
            "\u001b[32;1mEarly stopping at step 12 due to reaching max kl.\u001b[0m\n",
            "---------------------------------------\n",
            "|             Epoch |               3 |\n",
            "|      AverageEpRet |           -88.8 |\n",
            "|          StdEpRet |            44.4 |\n",
            "|          MaxEpRet |             1.9 |\n",
            "|          MinEpRet |            -212 |\n",
            "|             EpLen |             123 |\n",
            "|      AverageVVals |           -59.3 |\n",
            "|          StdVVals |            7.44 |\n",
            "|          MaxVVals |           -32.3 |\n",
            "|          MinVVals |            -117 |\n",
            "| TotalEnvInteracts |           2e+04 |\n",
            "|            LossPi |        -1.5e-08 |\n",
            "|             LossV |        1.27e+03 |\n",
            "|       DeltaLossPi |        -0.00767 |\n",
            "|        DeltaLossV |            -332 |\n",
            "|           Entropy |            1.31 |\n",
            "|                KL |          0.0173 |\n",
            "|          ClipFrac |           0.359 |\n",
            "|          StopIter |              12 |\n",
            "|              Time |            27.7 |\n",
            "---------------------------------------\n",
            "Warning: trajectory cut off by epoch at 75 steps.\n",
            "---------------------------------------\n",
            "|             Epoch |               4 |\n",
            "|      AverageEpRet |            -133 |\n",
            "|          StdEpRet |            72.3 |\n",
            "|          MaxEpRet |           -24.7 |\n",
            "|          MinEpRet |            -320 |\n",
            "|             EpLen |             159 |\n",
            "|      AverageVVals |           -43.4 |\n",
            "|          StdVVals |            8.31 |\n",
            "|          MaxVVals |           -28.6 |\n",
            "|          MinVVals |            -121 |\n",
            "| TotalEnvInteracts |         2.5e+04 |\n",
            "|            LossPi |       -1.45e-08 |\n",
            "|             LossV |        1.47e+03 |\n",
            "|       DeltaLossPi |         -0.0162 |\n",
            "|        DeltaLossV |            -299 |\n",
            "|           Entropy |            1.27 |\n",
            "|                KL |         0.00944 |\n",
            "|          ClipFrac |            0.14 |\n",
            "|          StopIter |              79 |\n",
            "|              Time |            34.7 |\n",
            "---------------------------------------\n"
          ],
          "name": "stdout"
        }
      ]
    },
    {
      "cell_type": "code",
      "metadata": {
        "id": "IgEQJn9PnJkn"
      },
      "source": [
        "from spinup.utils.test_policy import load_policy_and_env"
      ],
      "execution_count": null,
      "outputs": []
    },
    {
      "cell_type": "code",
      "metadata": {
        "id": "RiA7D2yoA3Xu",
        "outputId": "8190e2cd-d884-4faa-a9be-1fb21d1cb81f",
        "colab": {
          "base_uri": "https://localhost:8080/",
          "height": 751
        }
      },
      "source": [
        "# Show policy\n",
        "_, get_action = load_policy_and_env('output_dir')\n",
        "env2 = gym.make('LunarLander-v2')\n",
        "env3 = wrap_env(env2)\n",
        "run_policy(env3, get_action, max_ep_len=1000, num_episodes=50)\n",
        "env3.close()\n",
        "show_video() "
      ],
      "execution_count": null,
      "outputs": [
        {
          "output_type": "stream",
          "text": [
            "\n",
            "\n",
            "Loading from output_dir/tf1_save.\n",
            "\n",
            "\n",
            "Using default action op.\n",
            "\u001b[32;1mLogging data to /tmp/experiments/1601485098/progress.txt\u001b[0m\n",
            "Episode 0 \t EpRet -128.853 \t EpLen 76\n",
            "Episode 1 \t EpRet -82.507 \t EpLen 108\n",
            "Episode 2 \t EpRet -82.847 \t EpLen 162\n",
            "Episode 3 \t EpRet -97.729 \t EpLen 133\n",
            "-------------------------------------\n",
            "|    AverageEpRet |             -98 |\n",
            "|        StdEpRet |            18.9 |\n",
            "|        MaxEpRet |           -82.5 |\n",
            "|        MinEpRet |            -129 |\n",
            "|           EpLen |             120 |\n",
            "-------------------------------------\n"
          ],
          "name": "stdout"
        },
        {
          "output_type": "display_data",
          "data": {
            "text/html": [
              "<video alt=\"test\" autoplay \n",
              "                loop controls style=\"height: 400px;\">\n",
              "                <source src=\"data:video/mp4;base64,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\" type=\"video/mp4\" />\n",
              "             </video>"
            ],
            "text/plain": [
              "<IPython.core.display.HTML object>"
            ]
          },
          "metadata": {
            "tags": []
          }
        }
      ]
    },
    {
      "cell_type": "code",
      "metadata": {
        "id": "ohgfxhDQkQpt"
      },
      "source": [
        ""
      ],
      "execution_count": null,
      "outputs": []
    }
  ]
}