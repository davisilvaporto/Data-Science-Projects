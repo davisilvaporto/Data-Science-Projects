{
  "nbformat": 4,
  "nbformat_minor": 0,
  "metadata": {
    "colab": {
      "name": "R- EDA.ipynb",
      "provenance": [],
      "collapsed_sections": []
    },
    "kernelspec": {
      "name": "ir",
      "display_name": "R"
    },
    "language_info": {
      "name": "R"
    }
  },
  "cells": [
    {
      "cell_type": "code",
      "metadata": {
        "id": "Sqtb9hDou9J2"
      },
      "source": [
        "dados_ec<-data.frame(pais=c(\"Albania\",\"Brasil\",\"Belgica\",\"argentina\",\"Colombia\",\n",
        "                             \"Italia\",\"Alemanhaa\",\"Finlandia\",\"França\",\"Grecia\"),\n",
        "                      regiao=c(\"Europa\",\"America do Sul\",\"Europa\",\"America do Sul\",\n",
        "                               \"America do Sul\",\"Europa\",\"Europa\",\"Europa\",\n",
        "                              \"Europa\",\"Europa\"),\n",
        "                      carne_verm=c(10.1,8.9,13.5,7.8,9.7,10.6,8.4,9.5,18,1020),\n",
        "                      carne_branca=c(1.4,14,9.3,6,11.4,10.8,11.6,4.9,9.9,3))"
      ],
      "execution_count": null,
      "outputs": []
    },
    {
      "cell_type": "code",
      "metadata": {
        "colab": {
          "base_uri": "https://localhost:8080/",
          "height": 411
        },
        "id": "yLo-8b79vF1r",
        "outputId": "06a9fd32-f5e4-45d3-c09b-8b1dfc1f63b4"
      },
      "source": [
        "dados_ec"
      ],
      "execution_count": null,
      "outputs": [
        {
          "output_type": "display_data",
          "data": {
            "text/plain": [
              "   pais      regiao         carne_verm carne_branca\n",
              "1  Albania   Europa           10.1      1.4        \n",
              "2  Brasil    America do Sul    8.9     14.0        \n",
              "3  Belgica   Europa           13.5      9.3        \n",
              "4  argentina America do Sul    7.8      6.0        \n",
              "5  Colombia  America do Sul    9.7     11.4        \n",
              "6  Italia    Europa           10.6     10.8        \n",
              "7  Alemanhaa Europa            8.4     11.6        \n",
              "8  Finlandia Europa            9.5      4.9        \n",
              "9  França    Europa           18.0      9.9        \n",
              "10 Grecia    Europa         1020.0      3.0        "
            ],
            "text/latex": "A data.frame: 10 × 4\n\\begin{tabular}{llll}\n pais & regiao & carne\\_verm & carne\\_branca\\\\\n <chr> & <chr> & <dbl> & <dbl>\\\\\n\\hline\n\t Albania   & Europa         &   10.1 &  1.4\\\\\n\t Brasil    & America do Sul &    8.9 & 14.0\\\\\n\t Belgica   & Europa         &   13.5 &  9.3\\\\\n\t argentina & America do Sul &    7.8 &  6.0\\\\\n\t Colombia  & America do Sul &    9.7 & 11.4\\\\\n\t Italia    & Europa         &   10.6 & 10.8\\\\\n\t Alemanhaa & Europa         &    8.4 & 11.6\\\\\n\t Finlandia & Europa         &    9.5 &  4.9\\\\\n\t França    & Europa         &   18.0 &  9.9\\\\\n\t Grecia    & Europa         & 1020.0 &  3.0\\\\\n\\end{tabular}\n",
            "text/markdown": "\nA data.frame: 10 × 4\n\n| pais &lt;chr&gt; | regiao &lt;chr&gt; | carne_verm &lt;dbl&gt; | carne_branca &lt;dbl&gt; |\n|---|---|---|---|\n| Albania   | Europa         |   10.1 |  1.4 |\n| Brasil    | America do Sul |    8.9 | 14.0 |\n| Belgica   | Europa         |   13.5 |  9.3 |\n| argentina | America do Sul |    7.8 |  6.0 |\n| Colombia  | America do Sul |    9.7 | 11.4 |\n| Italia    | Europa         |   10.6 | 10.8 |\n| Alemanhaa | Europa         |    8.4 | 11.6 |\n| Finlandia | Europa         |    9.5 |  4.9 |\n| França    | Europa         |   18.0 |  9.9 |\n| Grecia    | Europa         | 1020.0 |  3.0 |\n\n",
            "text/html": [
              "<table class=\"dataframe\">\n",
              "<caption>A data.frame: 10 × 4</caption>\n",
              "<thead>\n",
              "\t<tr><th scope=col>pais</th><th scope=col>regiao</th><th scope=col>carne_verm</th><th scope=col>carne_branca</th></tr>\n",
              "\t<tr><th scope=col>&lt;chr&gt;</th><th scope=col>&lt;chr&gt;</th><th scope=col>&lt;dbl&gt;</th><th scope=col>&lt;dbl&gt;</th></tr>\n",
              "</thead>\n",
              "<tbody>\n",
              "\t<tr><td>Albania  </td><td>Europa        </td><td>  10.1</td><td> 1.4</td></tr>\n",
              "\t<tr><td>Brasil   </td><td>America do Sul</td><td>   8.9</td><td>14.0</td></tr>\n",
              "\t<tr><td>Belgica  </td><td>Europa        </td><td>  13.5</td><td> 9.3</td></tr>\n",
              "\t<tr><td>argentina</td><td>America do Sul</td><td>   7.8</td><td> 6.0</td></tr>\n",
              "\t<tr><td>Colombia </td><td>America do Sul</td><td>   9.7</td><td>11.4</td></tr>\n",
              "\t<tr><td>Italia   </td><td>Europa        </td><td>  10.6</td><td>10.8</td></tr>\n",
              "\t<tr><td>Alemanhaa</td><td>Europa        </td><td>   8.4</td><td>11.6</td></tr>\n",
              "\t<tr><td>Finlandia</td><td>Europa        </td><td>   9.5</td><td> 4.9</td></tr>\n",
              "\t<tr><td>França   </td><td>Europa        </td><td>  18.0</td><td> 9.9</td></tr>\n",
              "\t<tr><td>Grecia   </td><td>Europa        </td><td>1020.0</td><td> 3.0</td></tr>\n",
              "</tbody>\n",
              "</table>\n"
            ]
          },
          "metadata": {}
        }
      ]
    },
    {
      "cell_type": "code",
      "metadata": {
        "id": "0vAHW-VX0kd0",
        "colab": {
          "base_uri": "https://localhost:8080/"
        },
        "outputId": "b350520d-1803-45db-c84f-3498493c7fd9"
      },
      "source": [
        "str(dados_ec)\n"
      ],
      "execution_count": null,
      "outputs": [
        {
          "output_type": "stream",
          "name": "stdout",
          "text": [
            "'data.frame':\t10 obs. of  4 variables:\n",
            " $ pais        : chr  \"Albania\" \"Brasil\" \"Belgica\" \"argentina\" ...\n",
            " $ regiao      : chr  \"Europa\" \"America do Sul\" \"Europa\" \"America do Sul\" ...\n",
            " $ carne_verm  : num  10.1 8.9 13.5 7.8 9.7 10.6 8.4 9.5 18 1020\n",
            " $ carne_branca: num  1.4 14 9.3 6 11.4 10.8 11.6 4.9 9.9 3\n"
          ]
        }
      ]
    },
    {
      "cell_type": "code",
      "metadata": {
        "colab": {
          "base_uri": "https://localhost:8080/",
          "height": 52
        },
        "id": "noKTUceA4lCY",
        "outputId": "ee385c40-3056-4657-c36c-2202e6cb63ee"
      },
      "source": [
        "levels(as.factor(dados_ec$pais))\n",
        "levels(as.factor(dados_ec$regiao))"
      ],
      "execution_count": null,
      "outputs": [
        {
          "output_type": "display_data",
          "data": {
            "text/plain": [
              " [1] \"Albania\"   \"Alemanhaa\" \"argentina\" \"Belgica\"   \"Brasil\"    \"Colombia\" \n",
              " [7] \"Finlandia\" \"França\"    \"Grecia\"    \"Italia\"   "
            ],
            "text/latex": "\\begin{enumerate*}\n\\item 'Albania'\n\\item 'Alemanhaa'\n\\item 'argentina'\n\\item 'Belgica'\n\\item 'Brasil'\n\\item 'Colombia'\n\\item 'Finlandia'\n\\item 'França'\n\\item 'Grecia'\n\\item 'Italia'\n\\end{enumerate*}\n",
            "text/markdown": "1. 'Albania'\n2. 'Alemanhaa'\n3. 'argentina'\n4. 'Belgica'\n5. 'Brasil'\n6. 'Colombia'\n7. 'Finlandia'\n8. 'França'\n9. 'Grecia'\n10. 'Italia'\n\n\n",
            "text/html": [
              "<style>\n",
              ".list-inline {list-style: none; margin:0; padding: 0}\n",
              ".list-inline>li {display: inline-block}\n",
              ".list-inline>li:not(:last-child)::after {content: \"\\00b7\"; padding: 0 .5ex}\n",
              "</style>\n",
              "<ol class=list-inline><li>'Albania'</li><li>'Alemanhaa'</li><li>'argentina'</li><li>'Belgica'</li><li>'Brasil'</li><li>'Colombia'</li><li>'Finlandia'</li><li>'França'</li><li>'Grecia'</li><li>'Italia'</li></ol>\n"
            ]
          },
          "metadata": {}
        },
        {
          "output_type": "display_data",
          "data": {
            "text/plain": [
              "[1] \"America do Sul\" \"Europa\"        "
            ],
            "text/latex": "\\begin{enumerate*}\n\\item 'America do Sul'\n\\item 'Europa'\n\\end{enumerate*}\n",
            "text/markdown": "1. 'America do Sul'\n2. 'Europa'\n\n\n",
            "text/html": [
              "<style>\n",
              ".list-inline {list-style: none; margin:0; padding: 0}\n",
              ".list-inline>li {display: inline-block}\n",
              ".list-inline>li:not(:last-child)::after {content: \"\\00b7\"; padding: 0 .5ex}\n",
              "</style>\n",
              "<ol class=list-inline><li>'America do Sul'</li><li>'Europa'</li></ol>\n"
            ]
          },
          "metadata": {}
        }
      ]
    },
    {
      "cell_type": "code",
      "metadata": {
        "colab": {
          "base_uri": "https://localhost:8080/",
          "height": 34
        },
        "id": "DlsyNcKv4mkP",
        "outputId": "ed99ec9e-1de0-40c3-d1b1-059d70ff6ccf"
      },
      "source": [
        "dados_ec[\"pais\"][dados_ec['pais']== \"Alemanhaa\"]<-\"Alemanha\"\n",
        "dados_ec[\"pais\"][dados_ec['pais']== \"argentina\"]<-\"Argentina\"\n",
        "levels(as.factor(dados_ec$pais))"
      ],
      "execution_count": null,
      "outputs": [
        {
          "output_type": "display_data",
          "data": {
            "text/plain": [
              " [1] \"Albania\"   \"Alemanha\"  \"Argentina\" \"Belgica\"   \"Brasil\"    \"Colombia\" \n",
              " [7] \"Finlandia\" \"França\"    \"Grecia\"    \"Italia\"   "
            ],
            "text/latex": "\\begin{enumerate*}\n\\item 'Albania'\n\\item 'Alemanha'\n\\item 'Argentina'\n\\item 'Belgica'\n\\item 'Brasil'\n\\item 'Colombia'\n\\item 'Finlandia'\n\\item 'França'\n\\item 'Grecia'\n\\item 'Italia'\n\\end{enumerate*}\n",
            "text/markdown": "1. 'Albania'\n2. 'Alemanha'\n3. 'Argentina'\n4. 'Belgica'\n5. 'Brasil'\n6. 'Colombia'\n7. 'Finlandia'\n8. 'França'\n9. 'Grecia'\n10. 'Italia'\n\n\n",
            "text/html": [
              "<style>\n",
              ".list-inline {list-style: none; margin:0; padding: 0}\n",
              ".list-inline>li {display: inline-block}\n",
              ".list-inline>li:not(:last-child)::after {content: \"\\00b7\"; padding: 0 .5ex}\n",
              "</style>\n",
              "<ol class=list-inline><li>'Albania'</li><li>'Alemanha'</li><li>'Argentina'</li><li>'Belgica'</li><li>'Brasil'</li><li>'Colombia'</li><li>'Finlandia'</li><li>'França'</li><li>'Grecia'</li><li>'Italia'</li></ol>\n"
            ]
          },
          "metadata": {}
        }
      ]
    },
    {
      "cell_type": "code",
      "metadata": {
        "colab": {
          "base_uri": "https://localhost:8080/",
          "height": 34
        },
        "id": "HlkxHGJX6Dw7",
        "outputId": "181b2ea2-5ef5-46e6-e34d-111739779452"
      },
      "source": [
        "levels(as.factor(dados_ec$pais))"
      ],
      "execution_count": null,
      "outputs": [
        {
          "output_type": "display_data",
          "data": {
            "text/plain": [
              " [1] \"Albania\"   \"Alemanha\"  \"Argentina\" \"Belgica\"   \"Brasil\"    \"Colombia\" \n",
              " [7] \"Finlandia\" \"França\"    \"Grecia\"    \"Italia\"   "
            ],
            "text/latex": "\\begin{enumerate*}\n\\item 'Albania'\n\\item 'Alemanha'\n\\item 'Argentina'\n\\item 'Belgica'\n\\item 'Brasil'\n\\item 'Colombia'\n\\item 'Finlandia'\n\\item 'França'\n\\item 'Grecia'\n\\item 'Italia'\n\\end{enumerate*}\n",
            "text/markdown": "1. 'Albania'\n2. 'Alemanha'\n3. 'Argentina'\n4. 'Belgica'\n5. 'Brasil'\n6. 'Colombia'\n7. 'Finlandia'\n8. 'França'\n9. 'Grecia'\n10. 'Italia'\n\n\n",
            "text/html": [
              "<style>\n",
              ".list-inline {list-style: none; margin:0; padding: 0}\n",
              ".list-inline>li {display: inline-block}\n",
              ".list-inline>li:not(:last-child)::after {content: \"\\00b7\"; padding: 0 .5ex}\n",
              "</style>\n",
              "<ol class=list-inline><li>'Albania'</li><li>'Alemanha'</li><li>'Argentina'</li><li>'Belgica'</li><li>'Brasil'</li><li>'Colombia'</li><li>'Finlandia'</li><li>'França'</li><li>'Grecia'</li><li>'Italia'</li></ol>\n"
            ]
          },
          "metadata": {}
        }
      ]
    },
    {
      "cell_type": "code",
      "metadata": {
        "colab": {
          "base_uri": "https://localhost:8080/",
          "height": 146
        },
        "id": "Wb83XKHp6If8",
        "outputId": "4ab868b2-165d-40e7-a6cc-45b322214ccf"
      },
      "source": [
        "summary(dados_ec)"
      ],
      "execution_count": null,
      "outputs": [
        {
          "output_type": "display_data",
          "data": {
            "text/plain": [
              "     pais              regiao            carne_verm       carne_branca   \n",
              " Length:10          Length:10          Min.   :   7.80   Min.   : 1.400  \n",
              " Class :character   Class :character   1st Qu.:   9.05   1st Qu.: 5.175  \n",
              " Mode  :character   Mode  :character   Median :   9.90   Median : 9.600  \n",
              "                                       Mean   : 111.65   Mean   : 8.230  \n",
              "                                       3rd Qu.:  12.78   3rd Qu.:11.250  \n",
              "                                       Max.   :1020.00   Max.   :14.000  "
            ]
          },
          "metadata": {}
        }
      ]
    },
    {
      "cell_type": "code",
      "metadata": {
        "id": "LMS5qpcA6iS4"
      },
      "source": [
        "dados_ec[\"carne_verm\"][dados_ec[\"carne_verm\"] == 1020] <-10.2"
      ],
      "execution_count": null,
      "outputs": []
    },
    {
      "cell_type": "code",
      "metadata": {
        "colab": {
          "base_uri": "https://localhost:8080/",
          "height": 146
        },
        "id": "Qd3ZbV_k9JJS",
        "outputId": "6f0ff89d-2278-4e07-abf4-cf0851ea2a79"
      },
      "source": [
        "summary(dados_ec)"
      ],
      "execution_count": null,
      "outputs": [
        {
          "output_type": "display_data",
          "data": {
            "text/plain": [
              "     pais              regiao            carne_verm     carne_branca   \n",
              " Length:10          Length:10          Min.   : 7.80   Min.   : 1.400  \n",
              " Class :character   Class :character   1st Qu.: 9.05   1st Qu.: 5.175  \n",
              " Mode  :character   Mode  :character   Median : 9.90   Median : 9.600  \n",
              "                                       Mean   :10.67   Mean   : 8.230  \n",
              "                                       3rd Qu.:10.50   3rd Qu.:11.250  \n",
              "                                       Max.   :18.00   Max.   :14.000  "
            ]
          },
          "metadata": {}
        }
      ]
    },
    {
      "cell_type": "code",
      "metadata": {
        "colab": {
          "base_uri": "https://localhost:8080/",
          "height": 72
        },
        "id": "agl2JqFS9TEe",
        "outputId": "d79341f0-d6a5-4e2e-ee1d-14a6eabf014d"
      },
      "source": [
        "table(dados_ec$regiao)"
      ],
      "execution_count": null,
      "outputs": [
        {
          "output_type": "display_data",
          "data": {
            "text/plain": [
              "\n",
              "America do Sul         Europa \n",
              "             3              7 "
            ]
          },
          "metadata": {}
        }
      ]
    },
    {
      "cell_type": "code",
      "metadata": {
        "id": "xRs5_Lhn-Pvs",
        "colab": {
          "base_uri": "https://localhost:8080/",
          "height": 72
        },
        "outputId": "32eb5925-8513-41e2-fda2-fd9ec35d756d"
      },
      "source": [
        "prop.table(table(dados_ec$regiao)) *100"
      ],
      "execution_count": null,
      "outputs": [
        {
          "output_type": "display_data",
          "data": {
            "text/plain": [
              "\n",
              "America do Sul         Europa \n",
              "            30             70 "
            ]
          },
          "metadata": {}
        }
      ]
    },
    {
      "cell_type": "code",
      "metadata": {
        "id": "7bp0ZzydZuwT",
        "colab": {
          "base_uri": "https://localhost:8080/",
          "height": 161
        },
        "outputId": "00958b14-8dbc-4081-e219-67f51a42c606"
      },
      "source": [
        "aggregate(x = dados_ec$carne_verm, by = list(dados_ec$regiao), FUN = mean )"
      ],
      "execution_count": null,
      "outputs": [
        {
          "output_type": "display_data",
          "data": {
            "text/plain": [
              "  Group.1        x       \n",
              "1 America do Sul  8.80000\n",
              "2 Europa         11.47143"
            ],
            "text/latex": "A data.frame: 2 × 2\n\\begin{tabular}{ll}\n Group.1 & x\\\\\n <chr> & <dbl>\\\\\n\\hline\n\t America do Sul &  8.80000\\\\\n\t Europa         & 11.47143\\\\\n\\end{tabular}\n",
            "text/markdown": "\nA data.frame: 2 × 2\n\n| Group.1 &lt;chr&gt; | x &lt;dbl&gt; |\n|---|---|\n| America do Sul |  8.80000 |\n| Europa         | 11.47143 |\n\n",
            "text/html": [
              "<table class=\"dataframe\">\n",
              "<caption>A data.frame: 2 × 2</caption>\n",
              "<thead>\n",
              "\t<tr><th scope=col>Group.1</th><th scope=col>x</th></tr>\n",
              "\t<tr><th scope=col>&lt;chr&gt;</th><th scope=col>&lt;dbl&gt;</th></tr>\n",
              "</thead>\n",
              "<tbody>\n",
              "\t<tr><td>America do Sul</td><td> 8.80000</td></tr>\n",
              "\t<tr><td>Europa        </td><td>11.47143</td></tr>\n",
              "</tbody>\n",
              "</table>\n"
            ]
          },
          "metadata": {}
        }
      ]
    },
    {
      "cell_type": "code",
      "metadata": {
        "colab": {
          "base_uri": "https://localhost:8080/",
          "height": 161
        },
        "id": "lD0qpSkqZ1Dq",
        "outputId": "6b4a6291-8f10-4aad-a3da-ccd50c392dc0"
      },
      "source": [
        "aggregate(x = dados_ec$carne_branca ,by = list(dados_ec$regiao), FUN = mean )"
      ],
      "execution_count": null,
      "outputs": [
        {
          "output_type": "display_data",
          "data": {
            "text/plain": [
              "  Group.1        x        \n",
              "1 America do Sul 10.466667\n",
              "2 Europa          7.271429"
            ],
            "text/latex": "A data.frame: 2 × 2\n\\begin{tabular}{ll}\n Group.1 & x\\\\\n <chr> & <dbl>\\\\\n\\hline\n\t America do Sul & 10.466667\\\\\n\t Europa         &  7.271429\\\\\n\\end{tabular}\n",
            "text/markdown": "\nA data.frame: 2 × 2\n\n| Group.1 &lt;chr&gt; | x &lt;dbl&gt; |\n|---|---|\n| America do Sul | 10.466667 |\n| Europa         |  7.271429 |\n\n",
            "text/html": [
              "<table class=\"dataframe\">\n",
              "<caption>A data.frame: 2 × 2</caption>\n",
              "<thead>\n",
              "\t<tr><th scope=col>Group.1</th><th scope=col>x</th></tr>\n",
              "\t<tr><th scope=col>&lt;chr&gt;</th><th scope=col>&lt;dbl&gt;</th></tr>\n",
              "</thead>\n",
              "<tbody>\n",
              "\t<tr><td>America do Sul</td><td>10.466667</td></tr>\n",
              "\t<tr><td>Europa        </td><td> 7.271429</td></tr>\n",
              "</tbody>\n",
              "</table>\n"
            ]
          },
          "metadata": {}
        }
      ]
    },
    {
      "cell_type": "code",
      "source": [
        "data <-read.csv(\"imoveis.csv\", h =T, sep=\";\")"
      ],
      "metadata": {
        "id": "7XQP2rozLN_1"
      },
      "execution_count": null,
      "outputs": []
    },
    {
      "cell_type": "code",
      "source": [
        "data"
      ],
      "metadata": {
        "colab": {
          "base_uri": "https://localhost:8080/",
          "height": 756
        },
        "id": "LNUpd-C7Lo6l",
        "outputId": "ec82cd22-c150-45cd-aebe-76e1fbc58a45"
      },
      "execution_count": null,
      "outputs": [
        {
          "output_type": "display_data",
          "data": {
            "text/plain": [
              "   cod_imovel area quartos banheiros animal     valor \n",
              "1   0         240   3      3         aceita       8000\n",
              "2   1          64   2      1         aceita        820\n",
              "3   2         443   5      5         aceita       7000\n",
              "4   3          73   1      2         aceita       1250\n",
              "5   4          19   1      1         não aceita   1200\n",
              "6   5          55   1      1         aceita       2200\n",
              "7   6          82   2      1         aceita       5000\n",
              "8   7          32   3      2         aceita       1300\n",
              "9   8          64   1      1         aceita     200000\n",
              "10  9          20   1      1         aceita       2900\n",
              "11 10         375   1      1         aceita        720\n",
              "12 11          92   2      2         aceita       1550\n",
              "13 12          56   2      1         aceita       1800\n",
              "14 13         188   3      5         não aceita  15000\n",
              "15 14         100   3      1         não aceita   3950\n",
              "16 15         192   3      1         aceita        950\n",
              "17 16         155  NA      3         aceita       3010\n",
              "18 17          NA  NA      2         aceita       3500\n",
              "19 18          NA  NA      3         aceita       7800\n",
              "20 19          NA  NA      2         aceita       3500\n",
              "21 20          NA  NA      3         aceita       2650"
            ],
            "text/latex": "A data.frame: 21 × 6\n\\begin{tabular}{llllll}\n cod\\_imovel & area & quartos & banheiros & animal & valor\\\\\n <int> & <int> & <int> & <int> & <chr> & <int>\\\\\n\\hline\n\t  0 & 240 &  3 & 3 & aceita     &   8000\\\\\n\t  1 &  64 &  2 & 1 & aceita     &    820\\\\\n\t  2 & 443 &  5 & 5 & aceita     &   7000\\\\\n\t  3 &  73 &  1 & 2 & aceita     &   1250\\\\\n\t  4 &  19 &  1 & 1 & não aceita &   1200\\\\\n\t  5 &  55 &  1 & 1 & aceita     &   2200\\\\\n\t  6 &  82 &  2 & 1 & aceita     &   5000\\\\\n\t  7 &  32 &  3 & 2 & aceita     &   1300\\\\\n\t  8 &  64 &  1 & 1 & aceita     & 200000\\\\\n\t  9 &  20 &  1 & 1 & aceita     &   2900\\\\\n\t 10 & 375 &  1 & 1 & aceita     &    720\\\\\n\t 11 &  92 &  2 & 2 & aceita     &   1550\\\\\n\t 12 &  56 &  2 & 1 & aceita     &   1800\\\\\n\t 13 & 188 &  3 & 5 & não aceita &  15000\\\\\n\t 14 & 100 &  3 & 1 & não aceita &   3950\\\\\n\t 15 & 192 &  3 & 1 & aceita     &    950\\\\\n\t 16 & 155 & NA & 3 & aceita     &   3010\\\\\n\t 17 &  NA & NA & 2 & aceita     &   3500\\\\\n\t 18 &  NA & NA & 3 & aceita     &   7800\\\\\n\t 19 &  NA & NA & 2 & aceita     &   3500\\\\\n\t 20 &  NA & NA & 3 & aceita     &   2650\\\\\n\\end{tabular}\n",
            "text/markdown": "\nA data.frame: 21 × 6\n\n| cod_imovel &lt;int&gt; | area &lt;int&gt; | quartos &lt;int&gt; | banheiros &lt;int&gt; | animal &lt;chr&gt; | valor &lt;int&gt; |\n|---|---|---|---|---|---|\n|  0 | 240 |  3 | 3 | aceita     |   8000 |\n|  1 |  64 |  2 | 1 | aceita     |    820 |\n|  2 | 443 |  5 | 5 | aceita     |   7000 |\n|  3 |  73 |  1 | 2 | aceita     |   1250 |\n|  4 |  19 |  1 | 1 | não aceita |   1200 |\n|  5 |  55 |  1 | 1 | aceita     |   2200 |\n|  6 |  82 |  2 | 1 | aceita     |   5000 |\n|  7 |  32 |  3 | 2 | aceita     |   1300 |\n|  8 |  64 |  1 | 1 | aceita     | 200000 |\n|  9 |  20 |  1 | 1 | aceita     |   2900 |\n| 10 | 375 |  1 | 1 | aceita     |    720 |\n| 11 |  92 |  2 | 2 | aceita     |   1550 |\n| 12 |  56 |  2 | 1 | aceita     |   1800 |\n| 13 | 188 |  3 | 5 | não aceita |  15000 |\n| 14 | 100 |  3 | 1 | não aceita |   3950 |\n| 15 | 192 |  3 | 1 | aceita     |    950 |\n| 16 | 155 | NA | 3 | aceita     |   3010 |\n| 17 |  NA | NA | 2 | aceita     |   3500 |\n| 18 |  NA | NA | 3 | aceita     |   7800 |\n| 19 |  NA | NA | 2 | aceita     |   3500 |\n| 20 |  NA | NA | 3 | aceita     |   2650 |\n\n",
            "text/html": [
              "<table class=\"dataframe\">\n",
              "<caption>A data.frame: 21 × 6</caption>\n",
              "<thead>\n",
              "\t<tr><th scope=col>cod_imovel</th><th scope=col>area</th><th scope=col>quartos</th><th scope=col>banheiros</th><th scope=col>animal</th><th scope=col>valor</th></tr>\n",
              "\t<tr><th scope=col>&lt;int&gt;</th><th scope=col>&lt;int&gt;</th><th scope=col>&lt;int&gt;</th><th scope=col>&lt;int&gt;</th><th scope=col>&lt;chr&gt;</th><th scope=col>&lt;int&gt;</th></tr>\n",
              "</thead>\n",
              "<tbody>\n",
              "\t<tr><td> 0</td><td>240</td><td> 3</td><td>3</td><td>aceita    </td><td>  8000</td></tr>\n",
              "\t<tr><td> 1</td><td> 64</td><td> 2</td><td>1</td><td>aceita    </td><td>   820</td></tr>\n",
              "\t<tr><td> 2</td><td>443</td><td> 5</td><td>5</td><td>aceita    </td><td>  7000</td></tr>\n",
              "\t<tr><td> 3</td><td> 73</td><td> 1</td><td>2</td><td>aceita    </td><td>  1250</td></tr>\n",
              "\t<tr><td> 4</td><td> 19</td><td> 1</td><td>1</td><td>não aceita</td><td>  1200</td></tr>\n",
              "\t<tr><td> 5</td><td> 55</td><td> 1</td><td>1</td><td>aceita    </td><td>  2200</td></tr>\n",
              "\t<tr><td> 6</td><td> 82</td><td> 2</td><td>1</td><td>aceita    </td><td>  5000</td></tr>\n",
              "\t<tr><td> 7</td><td> 32</td><td> 3</td><td>2</td><td>aceita    </td><td>  1300</td></tr>\n",
              "\t<tr><td> 8</td><td> 64</td><td> 1</td><td>1</td><td>aceita    </td><td>200000</td></tr>\n",
              "\t<tr><td> 9</td><td> 20</td><td> 1</td><td>1</td><td>aceita    </td><td>  2900</td></tr>\n",
              "\t<tr><td>10</td><td>375</td><td> 1</td><td>1</td><td>aceita    </td><td>   720</td></tr>\n",
              "\t<tr><td>11</td><td> 92</td><td> 2</td><td>2</td><td>aceita    </td><td>  1550</td></tr>\n",
              "\t<tr><td>12</td><td> 56</td><td> 2</td><td>1</td><td>aceita    </td><td>  1800</td></tr>\n",
              "\t<tr><td>13</td><td>188</td><td> 3</td><td>5</td><td>não aceita</td><td> 15000</td></tr>\n",
              "\t<tr><td>14</td><td>100</td><td> 3</td><td>1</td><td>não aceita</td><td>  3950</td></tr>\n",
              "\t<tr><td>15</td><td>192</td><td> 3</td><td>1</td><td>aceita    </td><td>   950</td></tr>\n",
              "\t<tr><td>16</td><td>155</td><td>NA</td><td>3</td><td>aceita    </td><td>  3010</td></tr>\n",
              "\t<tr><td>17</td><td> NA</td><td>NA</td><td>2</td><td>aceita    </td><td>  3500</td></tr>\n",
              "\t<tr><td>18</td><td> NA</td><td>NA</td><td>3</td><td>aceita    </td><td>  7800</td></tr>\n",
              "\t<tr><td>19</td><td> NA</td><td>NA</td><td>2</td><td>aceita    </td><td>  3500</td></tr>\n",
              "\t<tr><td>20</td><td> NA</td><td>NA</td><td>3</td><td>aceita    </td><td>  2650</td></tr>\n",
              "</tbody>\n",
              "</table>\n"
            ]
          },
          "metadata": {}
        }
      ]
    },
    {
      "cell_type": "code",
      "source": [
        "data.frame(comletude = 100-colSums(is.na(data))/nrow(data)* 100)"
      ],
      "metadata": {
        "colab": {
          "base_uri": "https://localhost:8080/",
          "height": 286
        },
        "id": "Ie5v59u-LqrL",
        "outputId": "1bf50afa-d524-4325-cf06-4dfb99ab8f9a"
      },
      "execution_count": null,
      "outputs": [
        {
          "output_type": "display_data",
          "data": {
            "text/plain": [
              "           comletude\n",
              "cod_imovel 100.00000\n",
              "area        80.95238\n",
              "quartos     76.19048\n",
              "banheiros  100.00000\n",
              "animal     100.00000\n",
              "valor      100.00000"
            ],
            "text/latex": "A data.frame: 6 × 1\n\\begin{tabular}{r|l}\n  & comletude\\\\\n  & <dbl>\\\\\n\\hline\n\tcod\\_imovel & 100.00000\\\\\n\tarea &  80.95238\\\\\n\tquartos &  76.19048\\\\\n\tbanheiros & 100.00000\\\\\n\tanimal & 100.00000\\\\\n\tvalor & 100.00000\\\\\n\\end{tabular}\n",
            "text/markdown": "\nA data.frame: 6 × 1\n\n| <!--/--> | comletude &lt;dbl&gt; |\n|---|---|\n| cod_imovel | 100.00000 |\n| area |  80.95238 |\n| quartos |  76.19048 |\n| banheiros | 100.00000 |\n| animal | 100.00000 |\n| valor | 100.00000 |\n\n",
            "text/html": [
              "<table class=\"dataframe\">\n",
              "<caption>A data.frame: 6 × 1</caption>\n",
              "<thead>\n",
              "\t<tr><th></th><th scope=col>comletude</th></tr>\n",
              "\t<tr><th></th><th scope=col>&lt;dbl&gt;</th></tr>\n",
              "</thead>\n",
              "<tbody>\n",
              "\t<tr><th scope=row>cod_imovel</th><td>100.00000</td></tr>\n",
              "\t<tr><th scope=row>area</th><td> 80.95238</td></tr>\n",
              "\t<tr><th scope=row>quartos</th><td> 76.19048</td></tr>\n",
              "\t<tr><th scope=row>banheiros</th><td>100.00000</td></tr>\n",
              "\t<tr><th scope=row>animal</th><td>100.00000</td></tr>\n",
              "\t<tr><th scope=row>valor</th><td>100.00000</td></tr>\n",
              "</tbody>\n",
              "</table>\n"
            ]
          },
          "metadata": {}
        }
      ]
    },
    {
      "cell_type": "code",
      "source": [
        "par(mfrow= c(2,2))\n",
        "boxplot(data$area, main = \"Area\")\n",
        "boxplot(data$quartos, main = \"quartos\")\n",
        "boxplot(data$banheiros, main = \"banheiros\")\n",
        "boxplot(data$valor, main = \"valor\")"
      ],
      "metadata": {
        "colab": {
          "base_uri": "https://localhost:8080/",
          "height": 436
        },
        "id": "DFXPRajeNEMO",
        "outputId": "e53824fe-42cf-4ae7-8617-0a55d66b761c"
      },
      "execution_count": null,
      "outputs": [
        {
          "output_type": "display_data",
          "data": {
            "image/png": "[encoded data removed]",
            "text/plain": [
              "Plot with title “valor”"
            ]
          },
          "metadata": {
            "image/png": {
              "width": 420,
              "height": 420
            }
          }
        }
      ]
    },
    {
      "cell_type": "code",
      "source": [
        "plot(data$area, data$valor, xlab = \"Àrea (m2)\", ylab = \"Valor do imóvel\")"
      ],
      "metadata": {
        "colab": {
          "base_uri": "https://localhost:8080/",
          "height": 436
        },
        "id": "o4gW1P7fNzM9",
        "outputId": "0c2f51f6-f5aa-4b18-f965-37cecbe91c9f"
      },
      "execution_count": null,
      "outputs": [
        {
          "output_type": "display_data",
          "data": {
            "image/png": "[encoded data removed]",
            "text/plain": [
              "plot without title"
            ]
          },
          "metadata": {
            "image/png": {
              "width": 420,
              "height": 420
            }
          }
        }
      ]
    },
    {
      "cell_type": "code",
      "source": [
        "library(tidyverse)\n",
        "slice_max(data,valor, n=5)"
      ],
      "metadata": {
        "colab": {
          "base_uri": "https://localhost:8080/",
          "height": 494
        },
        "id": "_wfpbrZAOI7b",
        "outputId": "e2c2e797-8811-4c67-e1a4-91b69e895e70"
      },
      "execution_count": null,
      "outputs": [
        {
          "output_type": "stream",
          "name": "stderr",
          "text": [
            "Warning message in system(\"timedatectl\", intern = TRUE):\n",
            "“running command 'timedatectl' had status 1”\n",
            "── \u001b[1mAttaching packages\u001b[22m ─────────────────────────────────────── tidyverse 1.3.1 ──\n",
            "\n",
            "\u001b[32m✔\u001b[39m \u001b[34mggplot2\u001b[39m 3.3.5     \u001b[32m✔\u001b[39m \u001b[34mpurrr  \u001b[39m 0.3.4\n",
            "\u001b[32m✔\u001b[39m \u001b[34mtibble \u001b[39m 3.1.6     \u001b[32m✔\u001b[39m \u001b[34mdplyr  \u001b[39m 1.0.7\n",
            "\u001b[32m✔\u001b[39m \u001b[34mtidyr  \u001b[39m 1.1.4     \u001b[32m✔\u001b[39m \u001b[34mstringr\u001b[39m 1.4.0\n",
            "\u001b[32m✔\u001b[39m \u001b[34mreadr  \u001b[39m 2.1.1     \u001b[32m✔\u001b[39m \u001b[34mforcats\u001b[39m 0.5.1\n",
            "\n",
            "── \u001b[1mConflicts\u001b[22m ────────────────────────────────────────── tidyverse_conflicts() ──\n",
            "\u001b[31m✖\u001b[39m \u001b[34mdplyr\u001b[39m::\u001b[32mfilter()\u001b[39m masks \u001b[34mstats\u001b[39m::filter()\n",
            "\u001b[31m✖\u001b[39m \u001b[34mdplyr\u001b[39m::\u001b[32mlag()\u001b[39m    masks \u001b[34mstats\u001b[39m::lag()\n",
            "\n"
          ]
        },
        {
          "output_type": "display_data",
          "data": {
            "text/plain": [
              "  cod_imovel area quartos banheiros animal     valor \n",
              "1  8          64   1      1         aceita     200000\n",
              "2 13         188   3      5         não aceita  15000\n",
              "3  0         240   3      3         aceita       8000\n",
              "4 18          NA  NA      3         aceita       7800\n",
              "5  2         443   5      5         aceita       7000"
            ],
            "text/latex": "A data.frame: 5 × 6\n\\begin{tabular}{llllll}\n cod\\_imovel & area & quartos & banheiros & animal & valor\\\\\n <int> & <int> & <int> & <int> & <chr> & <int>\\\\\n\\hline\n\t  8 &  64 &  1 & 1 & aceita     & 200000\\\\\n\t 13 & 188 &  3 & 5 & não aceita &  15000\\\\\n\t  0 & 240 &  3 & 3 & aceita     &   8000\\\\\n\t 18 &  NA & NA & 3 & aceita     &   7800\\\\\n\t  2 & 443 &  5 & 5 & aceita     &   7000\\\\\n\\end{tabular}\n",
            "text/markdown": "\nA data.frame: 5 × 6\n\n| cod_imovel &lt;int&gt; | area &lt;int&gt; | quartos &lt;int&gt; | banheiros &lt;int&gt; | animal &lt;chr&gt; | valor &lt;int&gt; |\n|---|---|---|---|---|---|\n|  8 |  64 |  1 | 1 | aceita     | 200000 |\n| 13 | 188 |  3 | 5 | não aceita |  15000 |\n|  0 | 240 |  3 | 3 | aceita     |   8000 |\n| 18 |  NA | NA | 3 | aceita     |   7800 |\n|  2 | 443 |  5 | 5 | aceita     |   7000 |\n\n",
            "text/html": [
              "<table class=\"dataframe\">\n",
              "<caption>A data.frame: 5 × 6</caption>\n",
              "<thead>\n",
              "\t<tr><th scope=col>cod_imovel</th><th scope=col>area</th><th scope=col>quartos</th><th scope=col>banheiros</th><th scope=col>animal</th><th scope=col>valor</th></tr>\n",
              "\t<tr><th scope=col>&lt;int&gt;</th><th scope=col>&lt;int&gt;</th><th scope=col>&lt;int&gt;</th><th scope=col>&lt;int&gt;</th><th scope=col>&lt;chr&gt;</th><th scope=col>&lt;int&gt;</th></tr>\n",
              "</thead>\n",
              "<tbody>\n",
              "\t<tr><td> 8</td><td> 64</td><td> 1</td><td>1</td><td>aceita    </td><td>200000</td></tr>\n",
              "\t<tr><td>13</td><td>188</td><td> 3</td><td>5</td><td>não aceita</td><td> 15000</td></tr>\n",
              "\t<tr><td> 0</td><td>240</td><td> 3</td><td>3</td><td>aceita    </td><td>  8000</td></tr>\n",
              "\t<tr><td>18</td><td> NA</td><td>NA</td><td>3</td><td>aceita    </td><td>  7800</td></tr>\n",
              "\t<tr><td> 2</td><td>443</td><td> 5</td><td>5</td><td>aceita    </td><td>  7000</td></tr>\n",
              "</tbody>\n",
              "</table>\n"
            ]
          },
          "metadata": {}
        }
      ]
    },
    {
      "cell_type": "code",
      "source": [
        ""
      ],
      "metadata": {
        "id": "mUyI9DalOUvs"
      },
      "execution_count": null,
      "outputs": []
    }
  ]
}